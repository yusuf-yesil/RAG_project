{
  "cells": [
    {
      "cell_type": "markdown",
      "metadata": {
        "id": "view-in-github",
        "colab_type": "text"
      },
      "source": [
        "<a href=\"https://colab.research.google.com/github/yusuf-yesil/RAG_project/blob/main/Main.ipynb\" target=\"_parent\"><img src=\"https://colab.research.google.com/assets/colab-badge.svg\" alt=\"Open In Colab\"/></a>"
      ]
    },
    {
      "cell_type": "code",
      "execution_count": 1,
      "metadata": {
        "id": "lad3CfIYMxSe"
      },
      "outputs": [],
      "source": [
        "%pip install chromadb --quiet\n",
        "%pip install sentence_transformers --quiet\n",
        "%pip install langchain --quiet\n",
        "%pip install tqdm --quiet\n",
        "\n",
        "import langchain\n",
        "from langchain.text_splitter import RecursiveCharacterTextSplitter\n",
        "from langchain.text_splitter import SentenceTransformersTokenTextSplitter\n",
        "\n",
        "\n",
        "from chromadb.config import DEFAULT_TENANT, DEFAULT_DATABASE, Settings\n",
        "from chromadb import Client, PersistentClient\n",
        "from chromadb.utils import embedding_functions\n",
        "\n",
        "import textwrap\n",
        "from IPython.display import display\n",
        "from IPython.display import Markdown\n",
        "def to_markdown(text):\n",
        "  text = text.replace('•', '  *')\n",
        "  return Markdown(textwrap.indent(text, '> ', predicate=lambda _: True))"
      ]
    },
    {
      "cell_type": "code",
      "execution_count": 19,
      "metadata": {
        "id": "fh3FOajgM8vt"
      },
      "outputs": [],
      "source": [
        "def create_chroma_client(collection_name, embedding_function):\n",
        "  chroma_client = Client()\n",
        "  chroma_collection = chroma_client.get_or_create_collection(collection_name, embedding_function=embedding_function)\n",
        "  return chroma_client, chroma_collection"
      ]
    },
    {
      "cell_type": "code",
      "source": [
        "import tqdm"
      ],
      "metadata": {
        "id": "IZPasevk-e9S"
      },
      "execution_count": 20,
      "outputs": []
    },
    {
      "cell_type": "code",
      "execution_count": 18,
      "metadata": {
        "id": "qBNul_3-M8o7",
        "colab": {
          "base_uri": "https://localhost:8080/",
          "height": 369,
          "referenced_widgets": [
            "a6d97d026ca642df9603e5db6c978760",
            "80f17e2fc64349a18899069a80b8206e",
            "52a9967ae03940bbb895951bfe445822",
            "c61c9cb616a1481faa7a08f3b199f135",
            "00f42d97a5e940ecb25d7d0b59f60699",
            "9b47e77fc08841edbf9da06acfadac49",
            "8a560085e3a94be68e8465a39d3e1e98",
            "9a530de97be942e58a0a375222479fe2",
            "7c7920c906454fa28265d3ca0d2618ff",
            "df537ce8bde0461f9a1cb4fe06cbea5a",
            "ec6402c3f79e4887a715fbe5ec5d4f5e",
            "2fd454d3433e4f368fcefa95f8b9a3e7",
            "af706d6ea3144147a1d3fddd865879a7",
            "ca67f8cda49d476193c0a73e9ec256a8",
            "5d0ad6ecf0d4406db61292b987f20c64",
            "c19c70bd5ef4498085e927b0bdabd6c6",
            "5434842ac302432faaa300b7e13e9e5d",
            "36a0eb0916984cceb9ba9f3f6b513854",
            "9eb1e22b7862421ca5b2a962a945b39c",
            "798a2c6efbdf46f196a842c02618789a",
            "e3d1ea4b580e41ddb43b69c0d4ca4257",
            "9b86218dcf5f41c7a02c749fcc5eb32b",
            "2f8b01d60ebe4a2caaee6a3d9b416ff6",
            "749995e6228240528666f62e6144b9e2",
            "75fa0b36bf1845c4aa6c0d799625f952",
            "4a04319c9e8d4cccbf015c342f7f3d4f",
            "8b46b3e481b6499a8e7322f86bb5f00b",
            "36f0a313af43482ba936e57e5fa0c10e",
            "16f0c17f5a7a44dc945ba7dfaaeff816",
            "c51d27440f6a4081b6b37aa074f4686f",
            "e9c6f3d59e87460dbaabad3c2b104630",
            "e2dddf551dfc465586f6e5c671f0c90f",
            "b127222c7df24ec18c97d3067eae6d32",
            "5f9e2707d8c3403c8d8e0ca5b7d2cf98",
            "6c112b7ef94e4adc8547b1f38565d7c1",
            "e519b58aa9ce41c9a5ecd3263fdab928",
            "92857779bff04395b1515ed7be572768",
            "564861f222254f228ac5909b3ed8e376",
            "697ecd5e1a7a4c3ea8cab8da5ca25985",
            "43a307c2a3064c88ae353766aaabaf71",
            "bbcb042925014b7ea8a63203e31078f5",
            "149baf4749ff414c9c4723f4db2ecdf4",
            "218aca6147304b95b6753e7535dcb0d0",
            "e0054bced9274193a824f7b7d48e85f4",
            "1eead6ed79244862a03f29ce715ec5e6",
            "19c62f9019df4115a287fdc9df11c776",
            "67c9fe7379f44137ba9716717a8b91a4",
            "91b99c83c45c4ae7ba959e98e462cb4d",
            "67994f99a9ca4c8f99c37e2889a56633",
            "9c2a84f3f92e41a78fb07467a72057cb",
            "ac880159ab0541fab071487d6ccf76e4",
            "522c9bfb55f644509d75c8b073ecf35f",
            "1ad49971aab14cb69b556a66919173f5",
            "58dc7873212145f987187d72dac0c551",
            "cd3188c12d99446490a63277a7386edd",
            "fa7b71f17d7f4c7cbbe09c47aee10b0d",
            "8113568850234e05aa1409e171a974e5",
            "c4b78ca3a7fa4d1a979014b3fdaa5cce",
            "420b78f8a1c84c7e8fbb564d8c3d503c",
            "b95cf324b2874f6994666cea58ae12f9",
            "32bfecbdb9ca483fb2b1113a22168928",
            "6c46d34a8ce345e39caeb9a0d739f47a",
            "c32030ebe00c4c828bee876b5031d60d",
            "cdd47f38ab9842a684d9fae5738d22a0",
            "f03b0211b8f846b78235f6cd99374047",
            "ffebadadc25a40619c15802584ff7fec",
            "aec47efc80e04f56b14b010fc1e45722",
            "41d92b79c8114382857b7a9cff4d3103",
            "f4dd41e3aaf94ecf9a5db68b01fdc0b7",
            "047eb448f2d74e908711232749eaea96",
            "a113e1443c9b4a1da8633071f83a8f2b",
            "a9ef9b6f7c164717960b80eeb5e3e3ab",
            "188e7adcfa384ff7ae05f4c8e8e90825",
            "11f18c91028e414daa15cc2a0c4959c4",
            "ec78e1bf28a34b45808ef76e8af69059",
            "1b0786a9fced41daae8829d2dc7253a5",
            "e9c93b8a917745e2b2c615d7e847ab41",
            "7dd8c33e01c146ecba4944129d038ef3",
            "a50f8eaeee3a46afbae1c85e4eafd426",
            "70dad802cbed4130bab27f997125a501",
            "244d078e37974ac28bcd4cee8db9eba8",
            "44469cac30254ecbafbc758b92be01fe",
            "1b22a3d0604144afb2cb8c1c2ebf7a5f",
            "7cbafae353a447bd95252a61a361d85e",
            "8608a82bebec4a42bfe84c59cff44eea",
            "a2b8c20521c94a529a4b47ea337535a6",
            "a041c87b0bdc429786767ad1d01d516c",
            "3ccd9e960bcc47cc886e56ce8204401d",
            "23ab6a85efcf4c8ea856c7f9cc1421fe",
            "581669f5acaf45f3916ed33ca11bbb67",
            "772adc607ed44945b72e584d7c7b633a",
            "66ca3f59009f406daa1f55338214ce06",
            "054c2bebd6cd40b493dfea31932765c5",
            "be7678489458411d80b73687ff4b9bab",
            "9fafa3855e30433b9305c03b5a698dae",
            "42b5c079b9a94804919d0bbd064b1dd1",
            "6e4015a3e1bd4f1c84458a6bc452da32",
            "896b0ce598df42d891c9c20e78c67ec2",
            "4b8f8956ef624e798023498422950307",
            "3455c7718b6046bfa6c71b5bf866ed85",
            "095f60c4a2364be7b2690b681e1b6fd0",
            "70cc2d568d4642cf941de6c19fbf162c",
            "0bf71e8c136647169e5a697d11212eef",
            "979b433bcc764deca290e82a1cb64959",
            "ee5051f757fd462b88601c26e4be8e0a",
            "bb5df720f30041a4ac54100c19e44f64",
            "aac747a254924fdea3954ec5bdf27a4f",
            "30bb94d7ccbe49e78074149bfb730e3e",
            "a56f650ded3a4ab8931b6f81a405417b",
            "aaf5d18d77d644d2bacafdd6d67b08ae",
            "fc99f4ee9aeb473f8aa188f6c62a76ce",
            "2d5451ba08df4495bbdab5e7d94134cb",
            "82314d26b2e04bd2924750a43ebaf0d3",
            "e60dfa1c62f14ae7bbbd11582ef1bc07",
            "add97c90226f4ca882f7bd7479e052c0",
            "883094d10a1443c086a0231e51b397e5",
            "6a7111ff63554a489d6ce6e35d97b7c4",
            "aa033b293260406a94f25cedbd5f5964",
            "b52c8f6281eb40728e378261e7a9faa0",
            "13d79ce39eb44cb8afbcbbe821e42114",
            "9e385b13edef4c68ab6802717f5c9aa8"
          ]
        },
        "outputId": "3a349e17-8a9c-4a47-c0d2-a1dcdc0fff10"
      },
      "outputs": [
        {
          "output_type": "display_data",
          "data": {
            "text/plain": [
              "modules.json:   0%|          | 0.00/349 [00:00<?, ?B/s]"
            ],
            "application/vnd.jupyter.widget-view+json": {
              "version_major": 2,
              "version_minor": 0,
              "model_id": "a6d97d026ca642df9603e5db6c978760"
            }
          },
          "metadata": {}
        },
        {
          "output_type": "display_data",
          "data": {
            "text/plain": [
              "config_sentence_transformers.json:   0%|          | 0.00/116 [00:00<?, ?B/s]"
            ],
            "application/vnd.jupyter.widget-view+json": {
              "version_major": 2,
              "version_minor": 0,
              "model_id": "2fd454d3433e4f368fcefa95f8b9a3e7"
            }
          },
          "metadata": {}
        },
        {
          "output_type": "display_data",
          "data": {
            "text/plain": [
              "README.md:   0%|          | 0.00/9.52k [00:00<?, ?B/s]"
            ],
            "application/vnd.jupyter.widget-view+json": {
              "version_major": 2,
              "version_minor": 0,
              "model_id": "2f8b01d60ebe4a2caaee6a3d9b416ff6"
            }
          },
          "metadata": {}
        },
        {
          "output_type": "display_data",
          "data": {
            "text/plain": [
              "sentence_bert_config.json:   0%|          | 0.00/53.0 [00:00<?, ?B/s]"
            ],
            "application/vnd.jupyter.widget-view+json": {
              "version_major": 2,
              "version_minor": 0,
              "model_id": "5f9e2707d8c3403c8d8e0ca5b7d2cf98"
            }
          },
          "metadata": {}
        },
        {
          "output_type": "display_data",
          "data": {
            "text/plain": [
              "config.json:   0%|          | 0.00/523 [00:00<?, ?B/s]"
            ],
            "application/vnd.jupyter.widget-view+json": {
              "version_major": 2,
              "version_minor": 0,
              "model_id": "1eead6ed79244862a03f29ce715ec5e6"
            }
          },
          "metadata": {}
        },
        {
          "output_type": "display_data",
          "data": {
            "text/plain": [
              "model.safetensors:   0%|          | 0.00/265M [00:00<?, ?B/s]"
            ],
            "application/vnd.jupyter.widget-view+json": {
              "version_major": 2,
              "version_minor": 0,
              "model_id": "fa7b71f17d7f4c7cbbe09c47aee10b0d"
            }
          },
          "metadata": {}
        },
        {
          "output_type": "display_data",
          "data": {
            "text/plain": [
              "tokenizer_config.json:   0%|          | 0.00/333 [00:00<?, ?B/s]"
            ],
            "application/vnd.jupyter.widget-view+json": {
              "version_major": 2,
              "version_minor": 0,
              "model_id": "aec47efc80e04f56b14b010fc1e45722"
            }
          },
          "metadata": {}
        },
        {
          "output_type": "display_data",
          "data": {
            "text/plain": [
              "vocab.txt:   0%|          | 0.00/232k [00:00<?, ?B/s]"
            ],
            "application/vnd.jupyter.widget-view+json": {
              "version_major": 2,
              "version_minor": 0,
              "model_id": "7dd8c33e01c146ecba4944129d038ef3"
            }
          },
          "metadata": {}
        },
        {
          "output_type": "display_data",
          "data": {
            "text/plain": [
              "tokenizer.json:   0%|          | 0.00/466k [00:00<?, ?B/s]"
            ],
            "application/vnd.jupyter.widget-view+json": {
              "version_major": 2,
              "version_minor": 0,
              "model_id": "23ab6a85efcf4c8ea856c7f9cc1421fe"
            }
          },
          "metadata": {}
        },
        {
          "output_type": "display_data",
          "data": {
            "text/plain": [
              "special_tokens_map.json:   0%|          | 0.00/112 [00:00<?, ?B/s]"
            ],
            "application/vnd.jupyter.widget-view+json": {
              "version_major": 2,
              "version_minor": 0,
              "model_id": "3455c7718b6046bfa6c71b5bf866ed85"
            }
          },
          "metadata": {}
        },
        {
          "output_type": "display_data",
          "data": {
            "text/plain": [
              "1_Pooling/config.json:   0%|          | 0.00/190 [00:00<?, ?B/s]"
            ],
            "application/vnd.jupyter.widget-view+json": {
              "version_major": 2,
              "version_minor": 0,
              "model_id": "fc99f4ee9aeb473f8aa188f6c62a76ce"
            }
          },
          "metadata": {}
        }
      ],
      "source": [
        "collection_name = \"Lines\"\n",
        "sentence_transformer_model=\"sentence-transformers/multi-qa-distilbert-cos-v1\" #\"distiluse-base-multilingual-cased-v1\"\n",
        "embedding_function= embedding_functions.SentenceTransformerEmbeddingFunction(\n",
        "    model_name=sentence_transformer_model)\n"
      ]
    },
    {
      "cell_type": "code",
      "execution_count": 21,
      "metadata": {
        "id": "EpZB5LiIM8hs"
      },
      "outputs": [],
      "source": [
        "chroma_client, chroma_collection = create_chroma_client(collection_name,\n",
        "                                                        embedding_function)"
      ]
    },
    {
      "cell_type": "code",
      "execution_count": 22,
      "metadata": {
        "colab": {
          "base_uri": "https://localhost:8080/"
        },
        "id": "lKALK7hQNG1d",
        "outputId": "51649a9c-4c85-4d72-c837-6575d49eef0c"
      },
      "outputs": [
        {
          "output_type": "stream",
          "name": "stdout",
          "text": [
            "Collection name: Lines\n",
            "Number of documents in collection: 0\n",
            "All collections in ChromaDB client:\n",
            "Lines\n"
          ]
        }
      ],
      "source": [
        "# Verify collection properties\n",
        "print(f\"Collection name: {chroma_collection.name}\")\n",
        "print(f\"Number of documents in collection: {chroma_collection.count()}\")\n",
        "\n",
        "# List all collections in the client\n",
        "print(\"All collections in ChromaDB client:\")\n",
        "for collection in chroma_client.list_collections():\n",
        "    print(collection.name)"
      ]
    },
    {
      "cell_type": "code",
      "execution_count": 23,
      "metadata": {
        "id": "1iLEVo4TUACW"
      },
      "outputs": [],
      "source": [
        "from google.colab import files\n",
        "def upload_multiple_files():\n",
        "  uploaded = files.upload()\n",
        "  file_names = list()\n",
        "  for fn in uploaded.keys():\n",
        "    #print('User uploaded file \"{name}\" with length {length} bytes'.format(name=fn, length=len(uploaded[fn])))\n",
        "    file_names.append(fn)\n",
        "  return file_names"
      ]
    },
    {
      "cell_type": "code",
      "execution_count": 24,
      "metadata": {
        "id": "B9aaZtQBNGuG"
      },
      "outputs": [],
      "source": [
        "import pandas as pd\n",
        "from textwrap import wrap\n"
      ]
    },
    {
      "cell_type": "code",
      "source": [
        "def extract_log_rows(csv_path):\n",
        "    # CSV dosyasını oku\n",
        "    log_data = pd.read_csv(csv_path)\n",
        "    # Her bir log satırını işle ve listeye ekle\n",
        "    log_rows = []\n",
        "    for index, row in log_data.iterrows():\n",
        "        # Log satırını birleştir\n",
        "        log_row = f\"IP: {row['IP Address']}, Timestamp: {row['Timestamp']}, Request: {row['Request']}, Status Code: {row['Status Code']}, Response Size: {row['Response Size']}, Referer: {row['Referer']}, User Agent: {row['User Agent']}\"\n",
        "        log_rows.append(log_row)\n",
        "    return log_rows\n"
      ],
      "metadata": {
        "id": "wze7UEgBwp3Y"
      },
      "execution_count": 44,
      "outputs": []
    },
    {
      "cell_type": "code",
      "execution_count": 45,
      "metadata": {
        "id": "G13s8zRNiw5I"
      },
      "outputs": [],
      "source": [
        "def chunk_log_data(log_rows, chunk_size=2000):\n",
        "    \"\"\"\n",
        "    Log satırlarını belirli büyüklüklerdeki parçalara böler.\n",
        "\n",
        "    Parameters:\n",
        "    - log_rows: List of log rows as strings.\n",
        "    - chunk_size: Maksimum karakter sayısı olan chunk büyüklüğü.\n",
        "\n",
        "    Returns:\n",
        "    - List of chunks with the specified maximum character size.\n",
        "    \"\"\"\n",
        "    # Birleştirilmiş log metnini oluştur\n",
        "    combined_text = \"\\n\".join(log_rows)\n",
        "\n",
        "    # Karakter limitine göre parçaları oluştur\n",
        "    chunks = wrap(combined_text, chunk_size)\n",
        "\n",
        "    return chunks\n"
      ]
    },
    {
      "cell_type": "code",
      "source": [
        "def convert_Chunk_Token(text_chunksinChar, sentence_transformer_model, chunk_overlap=0, tokens_per_chunk=256):\n",
        "    token_splitter = SentenceTransformersTokenTextSplitter(\n",
        "        chunk_overlap=chunk_overlap,\n",
        "        model_name=sentence_transformer_model,\n",
        "        tokens_per_chunk=tokens_per_chunk\n",
        "    )\n",
        "\n",
        "    text_chunksinTokens = []\n",
        "    for text in text_chunksinChar:\n",
        "        text_chunksinTokens += token_splitter.split_text(text)\n",
        "\n",
        "    print(f\"\\nTotal number of chunks (document split by {tokens_per_chunk} tokens per chunk): {len(text_chunksinTokens)}\")\n",
        "    return text_chunksinTokens"
      ],
      "metadata": {
        "id": "Nm0BcNKDuwKV"
      },
      "execution_count": 46,
      "outputs": []
    },
    {
      "cell_type": "code",
      "execution_count": 47,
      "metadata": {
        "id": "45DIXHSANokg"
      },
      "outputs": [],
      "source": [
        "def add_meta_data(log_chunksinTokens, title, category, initial_id):\n",
        "  ids = [str(i+initial_id) for i in range(len(log_chunksinTokens))]\n",
        "  metadata = {\n",
        "      'document': title,\n",
        "      'category': category\n",
        "  }\n",
        "  metadatas = [ metadata for i in range(len(log_chunksinTokens))]\n",
        "  return ids, metadatas"
      ]
    },
    {
      "cell_type": "code",
      "execution_count": 48,
      "metadata": {
        "colab": {
          "base_uri": "https://localhost:8080/",
          "height": 54
        },
        "id": "Jp4-i-jeNobF",
        "outputId": "5507a90c-5bd4-488b-e630-e266216d0b34"
      },
      "outputs": [
        {
          "output_type": "execute_result",
          "data": {
            "text/plain": [
              "'def add_document_to_collection(ids, metadatas, log_chunksinTokens, chroma_collection):\\n  print(\"Before inserting, the size of the collection: \", chroma_collection.count())\\n  chroma_collection.add(ids=ids, metadatas= metadatas, documents=log_chunksinTokens)\\n  print(\"After inserting, the size of the collection: \", chroma_collection.count())\\n  return chroma_collection'"
            ],
            "application/vnd.google.colaboratory.intrinsic+json": {
              "type": "string"
            }
          },
          "metadata": {},
          "execution_count": 48
        }
      ],
      "source": [
        "\"\"\"def add_document_to_collection(ids, metadatas, log_chunksinTokens, chroma_collection):\n",
        "  print(\"Before inserting, the size of the collection: \", chroma_collection.count())\n",
        "  chroma_collection.add(ids=ids, metadatas= metadatas, documents=log_chunksinTokens)\n",
        "  print(\"After inserting, the size of the collection: \", chroma_collection.count())\n",
        "  return chroma_collection\"\"\""
      ]
    },
    {
      "cell_type": "code",
      "execution_count": 49,
      "metadata": {
        "id": "mwu4uofZSvvK"
      },
      "outputs": [],
      "source": [
        "def add_document_to_collection(ids, metadatas, log_chunksinTokens, chroma_collection):\n",
        "    try:\n",
        "        # Mevcut koleksiyon boyutunu yazdır\n",
        "        print(\"Before inserting, the size of the collection: \", chroma_collection.count())\n",
        "        # Veri ekleme işlemini gerçekleştir\n",
        "        chroma_collection.add(ids=ids, metadatas=metadatas, documents=log_chunksinTokens)\n",
        "        print(ids[10],metadatas[10],log_chunksinTokens[10])\n",
        "        # Ekleme işlemi sonrasında koleksiyon boyutunu yazdır\n",
        "        print(\"After inserting, the size of the collection: \", chroma_collection.count())\n",
        "    except Exception as e:\n",
        "        # Hata oluşursa bu blok çalışır\n",
        "        print(f\"An error occurred while adding documents to the collection: {str(e)}\")\n",
        "    return chroma_collection"
      ]
    },
    {
      "cell_type": "code",
      "execution_count": 32,
      "metadata": {
        "id": "bJ2Gzj3zNwu8"
      },
      "outputs": [],
      "source": [
        "def retrieveDocs(chroma_collection, query, n_results=5, return_only_docs=False):\n",
        "    results = chroma_collection.query(query_texts=[query],\n",
        "                                      include= [ \"documents\",\"metadatas\",'distances' ],\n",
        "                                      n_results=n_results)\n",
        "\n",
        "    if return_only_docs:\n",
        "        return results['documents'][0]\n",
        "    else:\n",
        "        return results"
      ]
    },
    {
      "cell_type": "code",
      "execution_count": 33,
      "metadata": {
        "id": "6g_B9-TMNwsM"
      },
      "outputs": [],
      "source": [
        "def show_results(results, return_only_docs=False):\n",
        "\n",
        "  if return_only_docs:\n",
        "    retrieved_documents = results\n",
        "    if len(retrieved_documents) == 0:\n",
        "      print(\"No results found.\")\n",
        "      return\n",
        "    for i, doc in enumerate(retrieved_documents):\n",
        "      print(f\"Document {i+1}:\")\n",
        "      print(\"\\tDocument Text: \")\n",
        "      display(to_markdown(doc));\n",
        "  else:\n",
        "\n",
        "      retrieved_documents = results['documents'][0]\n",
        "      if len(retrieved_documents) == 0:\n",
        "          print(\"No results found.\")\n",
        "          return\n",
        "      retrieved_documents_metadata = results['metadatas'][0]\n",
        "      retrieved_documents_distances = results['distances'][0]\n",
        "      print(\"------- retreived documents -------\\n\")\n",
        "\n",
        "      for i, doc in enumerate(retrieved_documents):\n",
        "          print(f\"Document {i+1}:\")\n",
        "          print(\"\\tDocument Text: \")\n",
        "          display(to_markdown(doc));\n",
        "          print(f\"\\tDocument Source: {retrieved_documents_metadata[i]['document']}\")\n",
        "          print(f\"\\tDocument Source Type: {retrieved_documents_metadata[i]['category']}\")\n",
        "          print(f\"\\tDocument Distance: {retrieved_documents_distances[i]}\")\n"
      ]
    },
    {
      "cell_type": "code",
      "execution_count": 50,
      "metadata": {
        "id": "kfhH9dSiNwpT"
      },
      "outputs": [],
      "source": [
        "def load_multiple_csvs_to_ChromaDB(collection_name,sentence_transformer_model):\n",
        "\n",
        "  collection_name= collection_name\n",
        "  category= \"Journal Paper\"\n",
        "  sentence_transformer_model=sentence_transformer_model\n",
        "  embedding_function= embedding_functions.SentenceTransformerEmbeddingFunction(model_name=sentence_transformer_model)\n",
        "  chroma_client, chroma_collection = create_chroma_client(collection_name, embedding_function)\n",
        "  current_id = chroma_collection.count()\n",
        "  file_names = upload_multiple_files()\n",
        "  for file_name in file_names:\n",
        "    print(f\"Document: {file_name} is being processed to be added to the {chroma_collection.name} {chroma_collection.count()}\")\n",
        "    print(f\"current_id: {current_id} \")\n",
        "    #pdf_texts = convert_PDF_Text(file_name)\n",
        "    #text_chunksinChar = convert_Page_ChunkinChar(pdf_texts)\n",
        "    log_rows = extract_log_rows(file_name)\n",
        "    print(f\"log satırları:{len(log_rows)}\")\n",
        "    print(f\"2.nci log satırı:{log_rows[2]}\")\n",
        "    for i in range(10):\n",
        "        print(log_rows[i+1])\n",
        "    #chunks = chunk_log_data(log_rows)\n",
        "    #print(f\"chunk sayısı:{len(chunks)}\")\n",
        "    tokens = convert_Chunk_Token(log_rows, sentence_transformer_model)\n",
        "    #text_chunksinTokens = tokenize_log_data(chunk_logs,sentence_transformer_model)\n",
        "    ids,metadatas = add_meta_data(tokens,file_name,category, current_id)\n",
        "    current_id = current_id + len(tokens)\n",
        "    chroma_collection = add_document_to_collection(ids, metadatas, tokens, chroma_collection)\n",
        "    print(f\"Document: {file_name} added to the collection: {chroma_collection.count()}\")\n",
        "  return  chroma_client, chroma_collection"
      ]
    },
    {
      "cell_type": "code",
      "execution_count": 51,
      "metadata": {
        "colab": {
          "base_uri": "https://localhost:8080/",
          "height": 458
        },
        "id": "403Ag-_hNwmW",
        "outputId": "1410d6dd-6389-43c7-99f2-5ab94841b349"
      },
      "outputs": [
        {
          "output_type": "display_data",
          "data": {
            "text/plain": [
              "<IPython.core.display.HTML object>"
            ],
            "text/html": [
              "\n",
              "     <input type=\"file\" id=\"files-e2157fd7-9027-4cb6-bd78-62299d895bb0\" name=\"files[]\" multiple disabled\n",
              "        style=\"border:none\" />\n",
              "     <output id=\"result-e2157fd7-9027-4cb6-bd78-62299d895bb0\">\n",
              "      Upload widget is only available when the cell has been executed in the\n",
              "      current browser session. Please rerun this cell to enable.\n",
              "      </output>\n",
              "      <script>// Copyright 2017 Google LLC\n",
              "//\n",
              "// Licensed under the Apache License, Version 2.0 (the \"License\");\n",
              "// you may not use this file except in compliance with the License.\n",
              "// You may obtain a copy of the License at\n",
              "//\n",
              "//      http://www.apache.org/licenses/LICENSE-2.0\n",
              "//\n",
              "// Unless required by applicable law or agreed to in writing, software\n",
              "// distributed under the License is distributed on an \"AS IS\" BASIS,\n",
              "// WITHOUT WARRANTIES OR CONDITIONS OF ANY KIND, either express or implied.\n",
              "// See the License for the specific language governing permissions and\n",
              "// limitations under the License.\n",
              "\n",
              "/**\n",
              " * @fileoverview Helpers for google.colab Python module.\n",
              " */\n",
              "(function(scope) {\n",
              "function span(text, styleAttributes = {}) {\n",
              "  const element = document.createElement('span');\n",
              "  element.textContent = text;\n",
              "  for (const key of Object.keys(styleAttributes)) {\n",
              "    element.style[key] = styleAttributes[key];\n",
              "  }\n",
              "  return element;\n",
              "}\n",
              "\n",
              "// Max number of bytes which will be uploaded at a time.\n",
              "const MAX_PAYLOAD_SIZE = 100 * 1024;\n",
              "\n",
              "function _uploadFiles(inputId, outputId) {\n",
              "  const steps = uploadFilesStep(inputId, outputId);\n",
              "  const outputElement = document.getElementById(outputId);\n",
              "  // Cache steps on the outputElement to make it available for the next call\n",
              "  // to uploadFilesContinue from Python.\n",
              "  outputElement.steps = steps;\n",
              "\n",
              "  return _uploadFilesContinue(outputId);\n",
              "}\n",
              "\n",
              "// This is roughly an async generator (not supported in the browser yet),\n",
              "// where there are multiple asynchronous steps and the Python side is going\n",
              "// to poll for completion of each step.\n",
              "// This uses a Promise to block the python side on completion of each step,\n",
              "// then passes the result of the previous step as the input to the next step.\n",
              "function _uploadFilesContinue(outputId) {\n",
              "  const outputElement = document.getElementById(outputId);\n",
              "  const steps = outputElement.steps;\n",
              "\n",
              "  const next = steps.next(outputElement.lastPromiseValue);\n",
              "  return Promise.resolve(next.value.promise).then((value) => {\n",
              "    // Cache the last promise value to make it available to the next\n",
              "    // step of the generator.\n",
              "    outputElement.lastPromiseValue = value;\n",
              "    return next.value.response;\n",
              "  });\n",
              "}\n",
              "\n",
              "/**\n",
              " * Generator function which is called between each async step of the upload\n",
              " * process.\n",
              " * @param {string} inputId Element ID of the input file picker element.\n",
              " * @param {string} outputId Element ID of the output display.\n",
              " * @return {!Iterable<!Object>} Iterable of next steps.\n",
              " */\n",
              "function* uploadFilesStep(inputId, outputId) {\n",
              "  const inputElement = document.getElementById(inputId);\n",
              "  inputElement.disabled = false;\n",
              "\n",
              "  const outputElement = document.getElementById(outputId);\n",
              "  outputElement.innerHTML = '';\n",
              "\n",
              "  const pickedPromise = new Promise((resolve) => {\n",
              "    inputElement.addEventListener('change', (e) => {\n",
              "      resolve(e.target.files);\n",
              "    });\n",
              "  });\n",
              "\n",
              "  const cancel = document.createElement('button');\n",
              "  inputElement.parentElement.appendChild(cancel);\n",
              "  cancel.textContent = 'Cancel upload';\n",
              "  const cancelPromise = new Promise((resolve) => {\n",
              "    cancel.onclick = () => {\n",
              "      resolve(null);\n",
              "    };\n",
              "  });\n",
              "\n",
              "  // Wait for the user to pick the files.\n",
              "  const files = yield {\n",
              "    promise: Promise.race([pickedPromise, cancelPromise]),\n",
              "    response: {\n",
              "      action: 'starting',\n",
              "    }\n",
              "  };\n",
              "\n",
              "  cancel.remove();\n",
              "\n",
              "  // Disable the input element since further picks are not allowed.\n",
              "  inputElement.disabled = true;\n",
              "\n",
              "  if (!files) {\n",
              "    return {\n",
              "      response: {\n",
              "        action: 'complete',\n",
              "      }\n",
              "    };\n",
              "  }\n",
              "\n",
              "  for (const file of files) {\n",
              "    const li = document.createElement('li');\n",
              "    li.append(span(file.name, {fontWeight: 'bold'}));\n",
              "    li.append(span(\n",
              "        `(${file.type || 'n/a'}) - ${file.size} bytes, ` +\n",
              "        `last modified: ${\n",
              "            file.lastModifiedDate ? file.lastModifiedDate.toLocaleDateString() :\n",
              "                                    'n/a'} - `));\n",
              "    const percent = span('0% done');\n",
              "    li.appendChild(percent);\n",
              "\n",
              "    outputElement.appendChild(li);\n",
              "\n",
              "    const fileDataPromise = new Promise((resolve) => {\n",
              "      const reader = new FileReader();\n",
              "      reader.onload = (e) => {\n",
              "        resolve(e.target.result);\n",
              "      };\n",
              "      reader.readAsArrayBuffer(file);\n",
              "    });\n",
              "    // Wait for the data to be ready.\n",
              "    let fileData = yield {\n",
              "      promise: fileDataPromise,\n",
              "      response: {\n",
              "        action: 'continue',\n",
              "      }\n",
              "    };\n",
              "\n",
              "    // Use a chunked sending to avoid message size limits. See b/62115660.\n",
              "    let position = 0;\n",
              "    do {\n",
              "      const length = Math.min(fileData.byteLength - position, MAX_PAYLOAD_SIZE);\n",
              "      const chunk = new Uint8Array(fileData, position, length);\n",
              "      position += length;\n",
              "\n",
              "      const base64 = btoa(String.fromCharCode.apply(null, chunk));\n",
              "      yield {\n",
              "        response: {\n",
              "          action: 'append',\n",
              "          file: file.name,\n",
              "          data: base64,\n",
              "        },\n",
              "      };\n",
              "\n",
              "      let percentDone = fileData.byteLength === 0 ?\n",
              "          100 :\n",
              "          Math.round((position / fileData.byteLength) * 100);\n",
              "      percent.textContent = `${percentDone}% done`;\n",
              "\n",
              "    } while (position < fileData.byteLength);\n",
              "  }\n",
              "\n",
              "  // All done.\n",
              "  yield {\n",
              "    response: {\n",
              "      action: 'complete',\n",
              "    }\n",
              "  };\n",
              "}\n",
              "\n",
              "scope.google = scope.google || {};\n",
              "scope.google.colab = scope.google.colab || {};\n",
              "scope.google.colab._files = {\n",
              "  _uploadFiles,\n",
              "  _uploadFilesContinue,\n",
              "};\n",
              "})(self);\n",
              "</script> "
            ]
          },
          "metadata": {}
        },
        {
          "output_type": "stream",
          "name": "stdout",
          "text": [
            "Saving duzenli_log_dosyasi_400.csv to duzenli_log_dosyasi_400.csv\n",
            "Document: duzenli_log_dosyasi_400.csv is being processed to be added to the Lines 0\n",
            "current_id: 0 \n",
            "log satırları:380\n",
            "2.nci log satırı:IP: 14.49.42.25, Timestamp: 12/May/2022:01:24:06 +0000, Request: GET /articles/dynamic-dns-with-dhcp/ HTTP/1.1, Status Code: 200, Response Size: 18848, Referer: -, User Agent: Mozilla/5.0 (Windows; U; Windows NT 6.1; en-US; rv:1.9.2b1) Gecko/20091014 Firefox/3.6b1 GTB5\n",
            "IP: 14.49.42.25, Timestamp: 12/May/2022:01:24:15 +0000, Request: GET /articles/openldap-with-saslauthd/ HTTP/1.1, Status Code: 200, Response Size: 12700, Referer: -, User Agent: Mozilla/5.0 (Windows; U; Windows NT 6.1; en-US; rv:1.9.2b1) Gecko/20091014 Firefox/3.6b1 GTB5\n",
            "IP: 14.49.42.25, Timestamp: 12/May/2022:01:24:06 +0000, Request: GET /articles/dynamic-dns-with-dhcp/ HTTP/1.1, Status Code: 200, Response Size: 18848, Referer: -, User Agent: Mozilla/5.0 (Windows; U; Windows NT 6.1; en-US; rv:1.9.2b1) Gecko/20091014 Firefox/3.6b1 GTB5\n",
            "IP: 14.49.42.25, Timestamp: 12/May/2022:01:24:54 +0000, Request: GET /articles/ssh-security/ HTTP/1.1, Status Code: 200, Response Size: 16543, Referer: -, User Agent: Mozilla/5.0 (Windows; U; Windows NT 6.1; en-US; rv:1.9.2b1) Gecko/20091014 Firefox/3.6b1 GTB5\n",
            "IP: 14.49.42.25, Timestamp: 12/May/2022:01:25:25 +0000, Request: GET /articles/week-of-unix-tools/ HTTP/1.1, Status Code: 200, Response Size: 9313, Referer: -, User Agent: Mozilla/5.0 (Windows; U; Windows NT 6.1; en-US; rv:1.9.2b1) Gecko/20091014 Firefox/3.6b1 GTB5\n",
            "IP: 14.49.42.25, Timestamp: 12/May/2022:01:25:33 +0000, Request: GET /blog/geekery/headless-wrapper-for-ephemeral-xservers.html HTTP/1.1, Status Code: 200, Response Size: 11902, Referer: -, User Agent: Mozilla/5.0 (Windows; U; Windows NT 6.1; en-US; rv:1.9.2b1) Gecko/20091014 Firefox/3.6b1 GTB5\n",
            "IP: 66.249.73.135, Timestamp: 12/May/2022:01:25:58 +0000, Request: GET /misc/nmh/replcomps HTTP/1.1, Status Code: 200, Response Size: 891, Referer: -, User Agent: Mozilla/5.0 (compatible; Googlebot/2.1; +http://www.google.com/bot.html)\n",
            "IP: 114.80.81.51, Timestamp: 12/May/2022:01:26:10 +0000, Request: GET /blog/geekery/xvfb-firefox.html HTTP/1.1, Status Code: 200, Response Size: 10975, Referer: -, User Agent: Mozilla/5.0 (Windows; U; Windows NT 6.1; en-US; rv:1.9.2b1) Gecko/20091014 Firefox/3.6b1 GTB5\n",
            "IP: 46.105.14.53, Timestamp: 12/May/2022:01:26:18 +0000, Request: GET /blog/tags/puppet?flav=rss20 HTTP/1.1, Status Code: 200, Response Size: 14872, Referer: -, User Agent: UniversalFeedParser/4.2-pre-314-svn +http://feedparser.org/\n",
            "IP: 61.55.141.10, Timestamp: 12/May/2022:01:26:17 +0000, Request: GET /blog/tags/boredom-induced-research HTTP/1.0, Status Code: 200, Response Size: 17808, Referer: -, User Agent: Mozilla/5.0 (Windows; U; Windows NT 6.1; en-US; rv:1.9.2b1) Gecko/20091014 Firefox/3.6b1 GTB5\n",
            "IP: 61.55.141.10, Timestamp: 12/May/2022:01:26:11 +0000, Request: GET /blog/geekery/xvfb-firefox.html HTTP/1.0, Status Code: 200, Response Size: 10975, Referer: -, User Agent: Mozilla/5.0 (Windows; U; Windows NT 6.1; en-US; rv:1.9.2b1) Gecko/20091014 Firefox/3.6b1 GTB5\n",
            "\n",
            "Total number of chunks (document split by 256 tokens per chunk): 390\n",
            "Before inserting, the size of the collection:  0\n",
            "10 {'document': 'duzenli_log_dosyasi_400.csv', 'category': 'Journal Paper'} ip : 61. 55. 141. 10, timestamp : 12 / may / 2022 : 01 : 26 : 11 + 0000, request : get / blog / geekery / xvfb - firefox. html http / 1. 0, status code : 200, response size : 10975, referer : -, user agent : mozilla / 5. 0 ( windows ; u ; windows nt 6. 1 ; en - us ; rv : 1. 9. 2b1 ) gecko / 20091014 firefox / 3. 6b1 gtb5\n",
            "After inserting, the size of the collection:  390\n",
            "Document: duzenli_log_dosyasi_400.csv added to the collection: 390\n"
          ]
        }
      ],
      "source": [
        "chroma_client, chroma_collection= load_multiple_csvs_to_ChromaDB(collection_name,sentence_transformer_model)"
      ]
    },
    {
      "cell_type": "code",
      "execution_count": 52,
      "metadata": {
        "colab": {
          "base_uri": "https://localhost:8080/",
          "height": 36
        },
        "id": "AoF8NpVgNwe_",
        "outputId": "0991c1c8-fac8-4e79-963a-3738acfb36cc"
      },
      "outputs": [
        {
          "output_type": "execute_result",
          "data": {
            "text/plain": [
              "'\\n14.49.42.25,12/May/2022:01:24:44 +0000,GET /articles/ppp-over-ssh/ HTTP/1.1,200,18586,-,Mozilla/5.0 (Windows; U; Windows NT 6.1; en-US; rv:1.9.2b1) Gecko/20091014 Firefox/3.6b1 GTB5\\n\\n'"
            ],
            "application/vnd.google.colaboratory.intrinsic+json": {
              "type": "string"
            }
          },
          "metadata": {},
          "execution_count": 52
        }
      ],
      "source": [
        "query = \"14.49.42.25,12/May/2022:01:24:44 +0000,GET /articles\"\n",
        "\n",
        "'''\n",
        "14.49.42.25,12/May/2022:01:24:44 +0000,GET /articles/ppp-over-ssh/ HTTP/1.1,200,18586,-,Mozilla/5.0 (Windows; U; Windows NT 6.1; en-US; rv:1.9.2b1) Gecko/20091014 Firefox/3.6b1 GTB5\n",
        "\n",
        "'''"
      ]
    },
    {
      "cell_type": "code",
      "execution_count": 54,
      "metadata": {
        "colab": {
          "base_uri": "https://localhost:8080/",
          "height": 1000
        },
        "id": "u4G0ODRGN-yn",
        "outputId": "49a48a01-3d72-44a2-d148-bdb13c880639"
      },
      "outputs": [
        {
          "output_type": "stream",
          "name": "stdout",
          "text": [
            "------- retreived documents -------\n",
            "\n",
            "Document 1:\n",
            "\tDocument Text: \n"
          ]
        },
        {
          "output_type": "display_data",
          "data": {
            "text/plain": [
              "<IPython.core.display.Markdown object>"
            ],
            "text/markdown": "> ip : 14. 49. 42. 25, timestamp : 12 / may / 2022 : 01 : 25 : 25 + 0000, request : get / articles / week - of - unix - tools / http / 1. 1, status code : 200, response size : 9313, referer : -, user agent : mozilla / 5. 0 ( windows ; u ; windows nt 6. 1 ; en - us ; rv : 1. 9. 2b1 ) gecko / 20091014 firefox / 3. 6b1 gtb5"
          },
          "metadata": {}
        },
        {
          "output_type": "stream",
          "name": "stdout",
          "text": [
            "\tDocument Source: duzenli_log_dosyasi_400.csv\n",
            "\tDocument Source Type: Journal Paper\n",
            "\tDocument Distance: 0.9381861686706543\n",
            "Document 2:\n",
            "\tDocument Text: \n"
          ]
        },
        {
          "output_type": "display_data",
          "data": {
            "text/plain": [
              "<IPython.core.display.Markdown object>"
            ],
            "text/markdown": "> ip : 31. 133. 11. 222, timestamp : 11 / may / 2022 : 21 : 55 : 21 + 0000, request : get / blog / articles / week - of - unix - tools / day - 3 - awk. html http / 1. 0, status code : 200, response size : 15457, referer : http : / / www. semicomplete. com / blog / articles / week - of - unix - tools / day - 3 - awk. html, user agent : mozilla / 5. 0 ( windows nt 6. 1 ; wow64 ) applewebkit / 536. 5 ( khtml, like gecko ) yabrowser / 1. 1. 1084. 5409 chrome / 19. 1. 1084. 5409 safari / 536. 5"
          },
          "metadata": {}
        },
        {
          "output_type": "stream",
          "name": "stdout",
          "text": [
            "\tDocument Source: duzenli_log_dosyasi_400.csv\n",
            "\tDocument Source Type: Journal Paper\n",
            "\tDocument Distance: 0.9581603407859802\n",
            "Document 3:\n",
            "\tDocument Text: \n"
          ]
        },
        {
          "output_type": "display_data",
          "data": {
            "text/plain": [
              "<IPython.core.display.Markdown object>"
            ],
            "text/markdown": "> ip : 68. 180. 224. 225, timestamp : 12 / may / 2022 : 01 : 34 : 26 + 0000, request : get / blog / geekery / year - in - review - 2011. html http / 1. 1, status code : 200, response size : 11118, referer : -, user agent : mozilla / 5. 0 ( compatible ; yahoo! slurp ; http : / / help. yahoo. com / help / us / ysearch / slurp )"
          },
          "metadata": {}
        },
        {
          "output_type": "stream",
          "name": "stdout",
          "text": [
            "\tDocument Source: duzenli_log_dosyasi_400.csv\n",
            "\tDocument Source Type: Journal Paper\n",
            "\tDocument Distance: 0.9834531545639038\n",
            "Document 4:\n",
            "\tDocument Text: \n"
          ]
        },
        {
          "output_type": "display_data",
          "data": {
            "text/plain": [
              "<IPython.core.display.Markdown object>"
            ],
            "text/markdown": "> ip : 61. 55. 141. 10, timestamp : 12 / may / 2022 : 01 : 26 : 17 + 0000, request : get / blog / tags / boredom - induced - research http / 1. 0, status code : 200, response size : 17808, referer : -, user agent : mozilla / 5. 0 ( windows ; u ; windows nt 6. 1 ; en - us ; rv : 1. 9. 2b1 ) gecko / 20091014 firefox / 3. 6b1 gtb5"
          },
          "metadata": {}
        },
        {
          "output_type": "stream",
          "name": "stdout",
          "text": [
            "\tDocument Source: duzenli_log_dosyasi_400.csv\n",
            "\tDocument Source Type: Journal Paper\n",
            "\tDocument Distance: 1.1025760173797607\n",
            "Document 5:\n",
            "\tDocument Text: \n"
          ]
        },
        {
          "output_type": "display_data",
          "data": {
            "text/plain": [
              "<IPython.core.display.Markdown object>"
            ],
            "text/markdown": "> ip : 183. 60. 215. 50, timestamp : 11 / may / 2022 : 21 : 54 : 47 + 0000, request : get / blog / geekery / field - extraction - tool. html http / 1. 1, status code : 200, response size : 10056, referer : -, user agent : mozilla / 5. 0 ( compatible ; easouspider ; + http : / / www. easou. com / search / spider. html )"
          },
          "metadata": {}
        },
        {
          "output_type": "stream",
          "name": "stdout",
          "text": [
            "\tDocument Source: duzenli_log_dosyasi_400.csv\n",
            "\tDocument Source Type: Journal Paper\n",
            "\tDocument Distance: 1.126798391342163\n",
            "Document 6:\n",
            "\tDocument Text: \n"
          ]
        },
        {
          "output_type": "display_data",
          "data": {
            "text/plain": [
              "<IPython.core.display.Markdown object>"
            ],
            "text/markdown": "> ip : 186. 231. 123. 210, timestamp : 11 / may / 2022 : 21 : 24 : 20 + 0000, request : get / presentations / logstash - scale11x / images / alarm - clock. jpg http / 1. 1, status code : 200, response size : 10645, referer : http : / / semicomplete. com / presentations / logstash - scale11x /, user agent : mozilla / 5. 0 ( macintosh ; intel mac os x 10 _ 9 _ 0 ) applewebkit / 537. 36 ( khtml, like gecko ) chrome / 32. 0. 1700. 102 safari / 537. 36"
          },
          "metadata": {}
        },
        {
          "output_type": "stream",
          "name": "stdout",
          "text": [
            "\tDocument Source: duzenli_log_dosyasi_400.csv\n",
            "\tDocument Source Type: Journal Paper\n",
            "\tDocument Distance: 1.130385160446167\n",
            "Document 7:\n",
            "\tDocument Text: \n"
          ]
        },
        {
          "output_type": "display_data",
          "data": {
            "text/plain": [
              "<IPython.core.display.Markdown object>"
            ],
            "text/markdown": "> ip : 78. 230. 246. 16, timestamp : 12 / may / 2022 : 01 : 50 : 38 + 0000, request : get / presentations / logstash - monitorama - 2013 / css / print / paper. css http / 1. 1, status code : 200, response size : 4254, referer : http : / / semicomplete. com / presentations / logstash - monitorama - 2013 /, user agent : mozilla / 5. 0 ( x11 ; linux x86 _ 64 ; rv : 17. 0 ) gecko / 20100101 firefox / 17. 0"
          },
          "metadata": {}
        },
        {
          "output_type": "stream",
          "name": "stdout",
          "text": [
            "\tDocument Source: duzenli_log_dosyasi_400.csv\n",
            "\tDocument Source Type: Journal Paper\n",
            "\tDocument Distance: 1.1336003541946411\n",
            "Document 8:\n",
            "\tDocument Text: \n"
          ]
        },
        {
          "output_type": "display_data",
          "data": {
            "text/plain": [
              "<IPython.core.display.Markdown object>"
            ],
            "text/markdown": "> ip : 68. 180. 224. 225, timestamp : 11 / may / 2022 : 22 : 21 : 10 + 0000, request : get / blog / tags / web http / 1. 1, status code : 200, response size : 44019, referer : -, user agent : mozilla / 5. 0 ( compatible ; yahoo! slurp ; http : / / help. yahoo. com / help / us / ysearch / slurp )"
          },
          "metadata": {}
        },
        {
          "output_type": "stream",
          "name": "stdout",
          "text": [
            "\tDocument Source: duzenli_log_dosyasi_400.csv\n",
            "\tDocument Source Type: Journal Paper\n",
            "\tDocument Distance: 1.141883373260498\n",
            "Document 9:\n",
            "\tDocument Text: \n"
          ]
        },
        {
          "output_type": "display_data",
          "data": {
            "text/plain": [
              "<IPython.core.display.Markdown object>"
            ],
            "text/markdown": "> ip : 61. 55. 141. 10, timestamp : 12 / may / 2022 : 01 : 26 : 32 + 0000, request : get / blog / tags / ideas http / 1. 0, status code : 200, response size : 30011, referer : -, user agent : mozilla / 5. 0 ( windows ; u ; windows nt 6. 1 ; en - us ; rv : 1. 9. 2b1 ) gecko / 20091014 firefox / 3. 6b1 gtb5"
          },
          "metadata": {}
        },
        {
          "output_type": "stream",
          "name": "stdout",
          "text": [
            "\tDocument Source: duzenli_log_dosyasi_400.csv\n",
            "\tDocument Source Type: Journal Paper\n",
            "\tDocument Distance: 1.1420154571533203\n",
            "Document 10:\n",
            "\tDocument Text: \n"
          ]
        },
        {
          "output_type": "display_data",
          "data": {
            "text/plain": [
              "<IPython.core.display.Markdown object>"
            ],
            "text/markdown": "> ip : 78. 230. 246. 16, timestamp : 12 / may / 2022 : 01 : 50 : 38 + 0000, request : get / presentations / logstash - monitorama - 2013 / css / theme / night - jls. css http / 1. 1, status code : 200, response size : 3811, referer : http : / / semicomplete. com / presentations / logstash - monitorama - 2013 /, user agent : mozilla / 5. 0 ( x11 ; linux x86 _ 64 ; rv : 17. 0 ) gecko / 20100101 firefox / 17. 0"
          },
          "metadata": {}
        },
        {
          "output_type": "stream",
          "name": "stdout",
          "text": [
            "\tDocument Source: duzenli_log_dosyasi_400.csv\n",
            "\tDocument Source Type: Journal Paper\n",
            "\tDocument Distance: 1.147687554359436\n"
          ]
        }
      ],
      "source": [
        "retrieved_documents=retrieveDocs(chroma_collection, query, 10)\n",
        "show_results(retrieved_documents)"
      ]
    },
    {
      "cell_type": "code",
      "execution_count": 58,
      "metadata": {
        "colab": {
          "base_uri": "https://localhost:8080/"
        },
        "id": "hoJi44k_OBRO",
        "outputId": "69845464-adb0-4eb0-f64f-219fdbf7462b"
      },
      "outputs": [
        {
          "output_type": "execute_result",
          "data": {
            "text/plain": [
              "{'ids': ['218'],\n",
              " 'embeddings': None,\n",
              " 'metadatas': [{'category': 'Journal Paper',\n",
              "   'document': 'duzenli_log_dosyasi_400.csv'}],\n",
              " 'documents': ['ip : 5. 10. 83. 65, timestamp : 11 / may / 2022 : 22 : 21 : 57 + 0000, request : get / blog / tags / code http / 1. 1, status code : 200, response size : 14472, referer : -, user agent : mozilla / 5. 0 ( compatible ; ahrefsbot / 5. 0 ; + http : / / ahrefs. com / robot / )'],\n",
              " 'uris': None,\n",
              " 'data': None,\n",
              " 'included': ['metadatas', 'documents']}"
            ]
          },
          "metadata": {},
          "execution_count": 58
        }
      ],
      "source": [
        "chroma_collection.get(ids=['218'])"
      ]
    },
    {
      "cell_type": "code",
      "execution_count": 61,
      "metadata": {
        "id": "Le2TBFiOOR9T"
      },
      "outputs": [],
      "source": [
        "query = \"IP:\\\"14.49.42.25\\\"\""
      ]
    },
    {
      "cell_type": "code",
      "execution_count": 63,
      "metadata": {
        "id": "iNYtGTO7dINl"
      },
      "outputs": [],
      "source": [
        "query=\"Request : GET / blog / geekery / bypassing - captive - portals. html HTTP / 1. 1 nerdedir\""
      ]
    },
    {
      "cell_type": "code",
      "execution_count": 64,
      "metadata": {
        "colab": {
          "base_uri": "https://localhost:8080/",
          "height": 1000
        },
        "id": "pKXnxXqoOR63",
        "outputId": "7cd1b924-0ce3-4ead-f350-afd4f3525548"
      },
      "outputs": [
        {
          "output_type": "stream",
          "name": "stdout",
          "text": [
            "------- retreived documents -------\n",
            "\n",
            "Document 1:\n",
            "\tDocument Text: \n"
          ]
        },
        {
          "output_type": "display_data",
          "data": {
            "text/plain": [
              "<IPython.core.display.Markdown object>"
            ],
            "text/markdown": "> ip : 161. 162. 84. 82, timestamp : 11 / may / 2022 : 21 : 44 : 40 + 0000, request : get / blog / geekery / bypassing - captive - portals. html http / 1. 1, status code : 200, response size : 10613, referer : http : / / www. google. com / url? sa = t & rct = j & q = & esrc = s & frm = 1 & source = web & cd = 1 & ved = 0ccuqfjaa & url = http % 3a % 2f % 2fwww. semicomplete. com % 2fblog % 2fgeekery % 2fbypassing - captive - portals. html & ei = 47weu5immdsmkaee3yhqbg & usg = afqjcnhqab9hldpowymootqhefhojiv0jg & bvm = bv. 61535280, d. ew0, user agent : mozilla / 4. 0 ( compatible ; msie 8. 0 ; windows nt 6. 1 ; wow64"
          },
          "metadata": {}
        },
        {
          "output_type": "stream",
          "name": "stdout",
          "text": [
            "\tDocument Source: duzenli_log_dosyasi_400.csv\n",
            "\tDocument Source Type: Journal Paper\n",
            "\tDocument Distance: 0.4273245334625244\n",
            "Document 2:\n",
            "\tDocument Text: \n"
          ]
        },
        {
          "output_type": "display_data",
          "data": {
            "text/plain": [
              "<IPython.core.display.Markdown object>"
            ],
            "text/markdown": "> ip : 161. 162. 84. 82, timestamp : 11 / may / 2022 : 21 : 44 : 40 + 0000, request : get / images / jordan - 80. png http / 1. 1, status code : 200, response size : 6146, referer : http : / / www. semicomplete. com / blog / geekery / bypassing - captive - portals. html, user agent : mozilla / 4. 0 ( compatible ; msie 8. 0 ; windows nt 6. 1 ; wow64 ; trident / 4. 0 ; slcc2 ;. net clr 2. 0. 50727 ;. net clr 3. 5. 30729 ;. net clr 3. 0. 30729 ; media center pc 6. 0 ;. net4. 0c ; infopath. 3 ; ms - rtc lm 8 ;. net4. 0e )"
          },
          "metadata": {}
        },
        {
          "output_type": "stream",
          "name": "stdout",
          "text": [
            "\tDocument Source: duzenli_log_dosyasi_400.csv\n",
            "\tDocument Source Type: Journal Paper\n",
            "\tDocument Distance: 0.5681900978088379\n",
            "Document 3:\n",
            "\tDocument Text: \n"
          ]
        },
        {
          "output_type": "display_data",
          "data": {
            "text/plain": [
              "<IPython.core.display.Markdown object>"
            ],
            "text/markdown": "> ip : 161. 162. 84. 82, timestamp : 11 / may / 2022 : 21 : 44 : 40 + 0000, request : get / images / web / 2009 / banner. png http / 1. 1, status code : 200, response size : 52315, referer : http : / / www. semicomplete. com / blog / geekery / bypassing - captive - portals. html, user agent : mozilla / 4. 0 ( compatible ; msie 8. 0 ; windows nt 6. 1 ; wow64 ; trident / 4. 0 ; slcc2 ;. net clr 2. 0. 50727 ;. net clr 3. 5. 30729 ;. net clr 3. 0. 30729 ; media center pc 6. 0 ;. net4. 0c ; infopath. 3 ; ms - rtc lm 8 ;. net4. 0e )"
          },
          "metadata": {}
        },
        {
          "output_type": "stream",
          "name": "stdout",
          "text": [
            "\tDocument Source: duzenli_log_dosyasi_400.csv\n",
            "\tDocument Source Type: Journal Paper\n",
            "\tDocument Distance: 0.599069356918335\n",
            "Document 4:\n",
            "\tDocument Text: \n"
          ]
        },
        {
          "output_type": "display_data",
          "data": {
            "text/plain": [
              "<IPython.core.display.Markdown object>"
            ],
            "text/markdown": "> ip : 161. 162. 84. 82, timestamp : 11 / may / 2022 : 21 : 44 : 40 + 0000, request : get / reset. css http / 1. 1, status code : 200, response size : 1015, referer : http : / / www. semicomplete. com / blog / geekery / bypassing - captive - portals. html, user agent : mozilla / 4. 0 ( compatible ; msie 8. 0 ; windows nt 6. 1 ; wow64 ; trident / 4. 0 ; slcc2 ;. net clr 2. 0. 50727 ;. net clr 3. 5. 30729 ;. net clr 3. 0. 30729 ; media center pc 6. 0 ;. net4. 0c ; infopath. 3 ; ms - rtc lm 8 ;. net4. 0e )"
          },
          "metadata": {}
        },
        {
          "output_type": "stream",
          "name": "stdout",
          "text": [
            "\tDocument Source: duzenli_log_dosyasi_400.csv\n",
            "\tDocument Source Type: Journal Paper\n",
            "\tDocument Distance: 0.6163081526756287\n",
            "Document 5:\n",
            "\tDocument Text: \n"
          ]
        },
        {
          "output_type": "display_data",
          "data": {
            "text/plain": [
              "<IPython.core.display.Markdown object>"
            ],
            "text/markdown": "> ip : 161. 162. 84. 82, timestamp : 11 / may / 2022 : 21 : 44 : 40 + 0000, request : get / style2. css http / 1. 1, status code : 200, response size : 4877, referer : http : / / www. semicomplete. com / blog / geekery / bypassing - captive - portals. html, user agent : mozilla / 4. 0 ( compatible ; msie 8. 0 ; windows nt 6. 1 ; wow64 ; trident / 4. 0 ; slcc2 ;. net clr 2. 0. 50727 ;. net clr 3. 5. 30729 ;. net clr 3. 0. 30729 ; media center pc 6. 0 ;. net4. 0c ; infopath. 3 ; ms - rtc lm 8 ;. net4. 0e )"
          },
          "metadata": {}
        },
        {
          "output_type": "stream",
          "name": "stdout",
          "text": [
            "\tDocument Source: duzenli_log_dosyasi_400.csv\n",
            "\tDocument Source Type: Journal Paper\n",
            "\tDocument Distance: 0.6240731477737427\n",
            "Document 6:\n",
            "\tDocument Text: \n"
          ]
        },
        {
          "output_type": "display_data",
          "data": {
            "text/plain": [
              "<IPython.core.display.Markdown object>"
            ],
            "text/markdown": "> ip : 66. 249. 73. 135, timestamp : 11 / may / 2022 : 22 : 01 : 10 + 0000, request : get / blog / geekery / 113. html http / 1. 1, status code : 200, response size : 13993, referer : -, user agent : mozilla / 5. 0 ( iphone ; cpu iphone os 6 _ 0 like mac os x ) applewebkit / 536. 26 ( khtml, like gecko ) version / 6. 0 mobile / 10a5376e safari / 8536. 25 ( compatible ; googlebot / 2. 1 ; + http : / / www. google. com / bot. html )"
          },
          "metadata": {}
        },
        {
          "output_type": "stream",
          "name": "stdout",
          "text": [
            "\tDocument Source: duzenli_log_dosyasi_400.csv\n",
            "\tDocument Source Type: Journal Paper\n",
            "\tDocument Distance: 1.046843409538269\n",
            "Document 7:\n",
            "\tDocument Text: \n"
          ]
        },
        {
          "output_type": "display_data",
          "data": {
            "text/plain": [
              "<IPython.core.display.Markdown object>"
            ],
            "text/markdown": "> ip : 218. 30. 103. 62, timestamp : 11 / may / 2022 : 22 : 17 : 40 + 0000, request : get / blog / geekery / ssl - latency http / 1. 1, status code : 200, response size : 17147, referer : -, user agent : sogou web spider / 4. 0 ( + http : / / www. sogou. com / docs / help / webmasters. htm # 07 )"
          },
          "metadata": {}
        },
        {
          "output_type": "stream",
          "name": "stdout",
          "text": [
            "\tDocument Source: duzenli_log_dosyasi_400.csv\n",
            "\tDocument Source Type: Journal Paper\n",
            "\tDocument Distance: 1.0681499242782593\n",
            "Document 8:\n",
            "\tDocument Text: \n"
          ]
        },
        {
          "output_type": "display_data",
          "data": {
            "text/plain": [
              "<IPython.core.display.Markdown object>"
            ],
            "text/markdown": "> ip : 193. 251. 60. 167, timestamp : 11 / may / 2022 : 22 : 01 : 15 + 0000, request : get / projects / xdotool / http / 1. 1, status code : 200, response size : 12292, referer : https : / / www. google. fr /, user agent : mozilla / 5. 0 ( windows nt 6. 3 ; wow64 ) applewebkit / 537. 36 ( khtml, like gecko ) chrome / 32. 0. 1700. 107 safari / 537. 36"
          },
          "metadata": {}
        },
        {
          "output_type": "stream",
          "name": "stdout",
          "text": [
            "\tDocument Source: duzenli_log_dosyasi_400.csv\n",
            "\tDocument Source Type: Journal Paper\n",
            "\tDocument Distance: 1.0736541748046875\n",
            "Document 9:\n",
            "\tDocument Text: \n"
          ]
        },
        {
          "output_type": "display_data",
          "data": {
            "text/plain": [
              "<IPython.core.display.Markdown object>"
            ],
            "text/markdown": "> ip : 70. 194. 143. 83, timestamp : 11 / may / 2022 : 22 : 21 : 49 + 0000, request : get / http / 1. 1, status code : 200, response size : 37932, referer : -, user agent : reeder / 2. 1. 1 cfnetwork / 672. 0. 8 darwin / 14. 0. 0"
          },
          "metadata": {}
        },
        {
          "output_type": "stream",
          "name": "stdout",
          "text": [
            "\tDocument Source: duzenli_log_dosyasi_400.csv\n",
            "\tDocument Source Type: Journal Paper\n",
            "\tDocument Distance: 1.0771918296813965\n",
            "Document 10:\n",
            "\tDocument Text: \n"
          ]
        },
        {
          "output_type": "display_data",
          "data": {
            "text/plain": [
              "<IPython.core.display.Markdown object>"
            ],
            "text/markdown": "> ip : 218. 30. 103. 62, timestamp : 11 / may / 2022 : 22 : 15 : 38 + 0000, request : get / blog / geekery / comcast - dns - hijack - breaks - things. html http / 1. 1, status code : 200, response size : 18095, referer : -, user agent : sogou web spider / 4. 0 ( + http : / / www. sogou. com / docs / help / webmasters. htm # 07 )"
          },
          "metadata": {}
        },
        {
          "output_type": "stream",
          "name": "stdout",
          "text": [
            "\tDocument Source: duzenli_log_dosyasi_400.csv\n",
            "\tDocument Source Type: Journal Paper\n",
            "\tDocument Distance: 1.0772368907928467\n"
          ]
        }
      ],
      "source": [
        "retrieved_documents=retrieveDocs(chroma_collection, query, 10)\n",
        "show_results(retrieved_documents)"
      ]
    },
    {
      "cell_type": "code",
      "execution_count": 65,
      "metadata": {
        "id": "6DTYxrQuOR4G"
      },
      "outputs": [],
      "source": [
        "!pip install -q -U google-generativeai"
      ]
    },
    {
      "cell_type": "code",
      "execution_count": 66,
      "metadata": {
        "id": "HHWFw3IHOR1J"
      },
      "outputs": [],
      "source": [
        "import os\n",
        "import textwrap\n",
        "import google.generativeai as genai\n",
        "from IPython.display import display\n",
        "from IPython.display import Markdown"
      ]
    },
    {
      "cell_type": "code",
      "execution_count": 67,
      "metadata": {
        "id": "dSYy3dH4ORwZ"
      },
      "outputs": [],
      "source": [
        "def to_markdown(text):\n",
        "  text = text.replace('•', '  *')\n",
        "  return Markdown(textwrap.indent(text, '> ', predicate=lambda _: True))"
      ]
    },
    {
      "cell_type": "code",
      "execution_count": 68,
      "metadata": {
        "id": "x4Eyzr6CObYf"
      },
      "outputs": [],
      "source": [
        "def build_chatBot(system_instruction):\n",
        "  model = genai.GenerativeModel('gemini-1.5-flash-latest', system_instruction=system_instruction)\n",
        "  chat = model.start_chat(history=[])\n",
        "  return chat"
      ]
    },
    {
      "cell_type": "code",
      "execution_count": 69,
      "metadata": {
        "id": "5ih-kBMGObTa"
      },
      "outputs": [],
      "source": [
        "def generate_LLM_answer(prompt, context, chat):\n",
        "  response = chat.send_message( prompt + context)\n",
        "  return response.text"
      ]
    },
    {
      "cell_type": "code",
      "execution_count": 70,
      "metadata": {
        "id": "N57CRvRVObCv"
      },
      "outputs": [],
      "source": [
        "# Used to securely store your API key\n",
        "from google.colab import userdata\n",
        "# Or use `os.getenv('GOOGLE_API_KEY')` to fetch an environment variable.\n",
        "GOOGLE_API_KEY=userdata.get('GOOGLE_API_KEY')\n",
        "genai.configure(api_key=GOOGLE_API_KEY)"
      ]
    },
    {
      "cell_type": "code",
      "execution_count": 71,
      "metadata": {
        "id": "eimUoMhoOhc0"
      },
      "outputs": [],
      "source": [
        "system_prompt= \"\"\"\n",
        "You are an attentive and supportive system assistant.\n",
        "\n",
        "Your role is to provide assistance based solely on the provided context.\n",
        "\n",
        "Here’s how we’ll proceed:\n",
        "\n",
        "I will provide you with a log file and related text excerpt.\n",
        "Your task is to answer questions based only on the provided partial texts.\n",
        "If the answer isn’t explicitly found within the given context, respond with 'I don't know.'\n",
        "After each response, provide a detailed explanation. Break down your answer step by step and relate it directly to the provided context.\n",
        "Sometimes, I will ask questions about the chat session, such as summarizing the chat or listing questions. For these types of questions, avoid using the provided partial texts.\n",
        "Generate the answer in the same language as the given question.\n",
        "If you are ready, I will provide you with the question and context.\n",
        "\"\"\""
      ]
    },
    {
      "cell_type": "code",
      "execution_count": 72,
      "metadata": {
        "id": "SGDO0ztdOhaM"
      },
      "outputs": [],
      "source": [
        "RAG_LLM = build_chatBot(system_prompt)"
      ]
    },
    {
      "cell_type": "code",
      "execution_count": 81,
      "metadata": {
        "id": "wHIfLZ4_OhXH"
      },
      "outputs": [],
      "source": [
        "prompt=\"Bu IP adresi geçen satırları göster: 14.49.42.25\"\n",
        "context= \"\"\"IP Address,Timestamp,Request,Status Code,Response Size,Referer,User Agent\n",
        "14.49.42.25,12/May/2022:01:24:44 +0000,GET /articles/ppp-over-ssh/ HTTP/1.1,200,18586,-,Mozilla/5.0 (Windows; U; Windows NT 6.1; en-US; rv:1.9.2b1) Gecko/20091014 Firefox/3.6b1 GTB5\n",
        "14.49.42.25,12/May/2022:01:24:15 +0000,GET /articles/openldap-with-saslauthd/ HTTP/1.1,200,12700,-,Mozilla/5.0 (Windows; U; Windows NT 6.1; en-US; rv:1.9.2b1) Gecko/20091014 Firefox/3.6b1 GTB5\n",
        "14.49.42.25,12/May/2022:01:24:06 +0000,GET /articles/dynamic-dns-with-dhcp/ HTTP/1.1,200,18848,-,Mozilla/5.0 (Windows; U; Windows NT 6.1; en-US; rv:1.9.2b1) Gecko/20091014 Firefox/3.6b1 GTB5\n",
        "\n",
        "\"\"\""
      ]
    },
    {
      "cell_type": "code",
      "execution_count": 86,
      "metadata": {
        "colab": {
          "base_uri": "https://localhost:8080/",
          "height": 260
        },
        "id": "TOw1OocvOhRL",
        "outputId": "4a06b41f-4f37-443c-c11c-e40f14b0a0d0"
      },
      "outputs": [
        {
          "output_type": "execute_result",
          "data": {
            "text/plain": [
              "<IPython.core.display.Markdown object>"
            ],
            "text/markdown": "> The log file shows three lines with the IP address 14.49.42.25.  \n> \n> Here they are: \n> \n> * 14.49.42.25,12/May/2022:01:24:44 +0000,GET /articles/ppp-over-ssh/ HTTP/1.1,200,18586,-,Mozilla/5.0 (Windows; U; Windows NT 6.1; en-US; rv:1.9.2b1) Gecko/20091014 Firefox/3.6b1 GTB5\n> * 14.49.42.25,12/May/2022:01:24:15 +0000,GET /articles/openldap-with-saslauthd/ HTTP/1.1,200,12700,-,Mozilla/5.0 (Windows; U; Windows NT 6.1; en-US; rv:1.9.2b1) Gecko/20091014 Firefox/3.6b1 GTB5\n> * 14.49.42.25,12/May/2022:01:24:06 +0000,GET /articles/dynamic-dns-with-dhcp/ HTTP/1.1,200,18848,-,Mozilla/5.0 (Windows; U; Windows NT 6.1; en-US; rv:1.9.2b1) Gecko/20091014 Firefox/3.6b1 GTB5 \n> \n> The log file contains details about requests made to a server. Each line represents a single request.  The IP address, timestamp, request, status code, response size, referer, and user agent are listed for each request. \n> \n> I identified the lines based on the IP address '14.49.42.25' found at the beginning of each line in the log file.\n"
          },
          "metadata": {},
          "execution_count": 86
        }
      ],
      "source": [
        "response=generate_LLM_answer(prompt, context, RAG_LLM)\n",
        "to_markdown(response)"
      ]
    },
    {
      "cell_type": "code",
      "execution_count": 87,
      "metadata": {
        "colab": {
          "base_uri": "https://localhost:8080/"
        },
        "id": "r_Dde7cBOhG5",
        "outputId": "2d35a952-19ea-4b82-f6a8-215f5215fb17"
      },
      "outputs": [
        {
          "output_type": "execute_result",
          "data": {
            "text/plain": [
              "[parts {\n",
              "   text: \"Bu IP adresi ge\\303\\247en sat\\304\\261rlar\\304\\261 g\\303\\266ster: 14.49.42.25IP Address,Timestamp,Request,Status Code,Response Size,Referer,User Agent\\n14.49.42.25,12/May/2022:01:24:44 +0000,GET /articles/ppp-over-ssh/ HTTP/1.1,200,18586,-,Mozilla/5.0 (Windows; U; Windows NT 6.1; en-US; rv:1.9.2b1) Gecko/20091014 Firefox/3.6b1 GTB5\\n14.49.42.25,12/May/2022:01:24:15 +0000,GET /articles/openldap-with-saslauthd/ HTTP/1.1,200,12700,-,Mozilla/5.0 (Windows; U; Windows NT 6.1; en-US; rv:1.9.2b1) Gecko/20091014 Firefox/3.6b1 GTB5\\n14.49.42.25,12/May/2022:01:24:06 +0000,GET /articles/dynamic-dns-with-dhcp/ HTTP/1.1,200,18848,-,Mozilla/5.0 (Windows; U; Windows NT 6.1; en-US; rv:1.9.2b1) Gecko/20091014 Firefox/3.6b1 GTB5\\n\\n\"\n",
              " }\n",
              " role: \"user\",\n",
              " parts {\n",
              "   text: \"The log file shows three lines with the IP address 14.49.42.25.  \\n\\nHere they are: \\n\\n* 14.49.42.25,12/May/2022:01:24:44 +0000,GET /articles/ppp-over-ssh/ HTTP/1.1,200,18586,-,Mozilla/5.0 (Windows; U; Windows NT 6.1; en-US; rv:1.9.2b1) Gecko/20091014 Firefox/3.6b1 GTB5\\n* 14.49.42.25,12/May/2022:01:24:15 +0000,GET /articles/openldap-with-saslauthd/ HTTP/1.1,200,12700,-,Mozilla/5.0 (Windows; U; Windows NT 6.1; en-US; rv:1.9.2b1) Gecko/20091014 Firefox/3.6b1 GTB5\\n* 14.49.42.25,12/May/2022:01:24:06 +0000,GET /articles/dynamic-dns-with-dhcp/ HTTP/1.1,200,18848,-,Mozilla/5.0 (Windows; U; Windows NT 6.1; en-US; rv:1.9.2b1) Gecko/20091014 Firefox/3.6b1 GTB5 \\n\\nThe log file contains details about requests made to a server. Each line represents a single request.  The IP address, timestamp, request, status code, response size, referer, and user agent are listed for each request. \\n\\nI identified the lines based on the IP address \\'14.49.42.25\\' found at the beginning of each line in the log file.\\n\"\n",
              " }\n",
              " role: \"model\"]"
            ]
          },
          "metadata": {},
          "execution_count": 87
        }
      ],
      "source": [
        "RAG_LLM.history"
      ]
    },
    {
      "cell_type": "code",
      "execution_count": 88,
      "metadata": {
        "colab": {
          "base_uri": "https://localhost:8080/"
        },
        "id": "dy7Ar7aWOoJD",
        "outputId": "64feb8ef-871a-4924-aef5-80d8e599af7b"
      },
      "outputs": [
        {
          "output_type": "execute_result",
          "data": {
            "text/plain": [
              "[]"
            ]
          },
          "metadata": {},
          "execution_count": 88
        }
      ],
      "source": [
        "RAG_LLM.history.clear()\n",
        "RAG_LLM.history"
      ]
    },
    {
      "cell_type": "code",
      "execution_count": 89,
      "metadata": {
        "colab": {
          "base_uri": "https://localhost:8080/"
        },
        "id": "rqYl92JiOoF_",
        "outputId": "5eb421f3-774a-4994-a57b-76c1539321b4"
      },
      "outputs": [
        {
          "output_type": "stream",
          "name": "stdout",
          "text": [
            "Collection name: Lines\n",
            "Number of documents in collection: 390\n",
            "All collections in ChromaDB client:\n",
            "Lines\n"
          ]
        }
      ],
      "source": [
        "# Verify collection properties\n",
        "print(f\"Collection name: {chroma_collection.name}\")  # Access the name attribute directly\n",
        "print(f\"Number of documents in collection: {chroma_collection.count()}\")\n",
        "\n",
        "# List all collections in the client\n",
        "print(\"All collections in ChromaDB client:\")\n",
        "for collection in chroma_client.list_collections():\n",
        "    print(collection.name)"
      ]
    },
    {
      "cell_type": "code",
      "execution_count": 90,
      "metadata": {
        "id": "HLO-eGLlOoBx"
      },
      "outputs": [],
      "source": [
        "def summarize_collection(chroma_collection):\n",
        "  summary = [] # Initialize summary as a list\n",
        "  print(\"Summarizing the collection...\")\n",
        "  # Verify collection properties\n",
        "  print(f\"\\t Collection name: {chroma_collection.name}\")  # Access the name attribute directly\n",
        "  print(f\"\\t Number of document chunks in collection: {chroma_collection.count()}\")\n",
        "  summary.append(f\"Collection name: {chroma_collection.name}\") # Append to the list\n",
        "  summary.append(f\"Number of document chunks in collection: {chroma_collection.count()}\")\n",
        "  # Print distinct metadata \"document\" for each chunk in the collection\n",
        "  print(\"\\t Distinct 'document' metadata in the collection:\")\n",
        "  distinct_documents = set()  # Use a set to store unique document names\n",
        "\n",
        "  # Iterate over chunks in the collection\n",
        "  for chunk_id in range(chroma_collection.count()):\n",
        "      metadata = chroma_collection.get([str(chunk_id)])['metadatas'][0]  # Get metadata for the chunk\n",
        "      document_name = metadata.get(\"document\", \"Unknown\")  # Get document metadata; default to \"Unknown\" if not present\n",
        "      distinct_documents.add(document_name)  # Add document name to set for uniqueness\n",
        "\n",
        "  # Print all distinct document names\n",
        "  summary.append(\"Documents:\")\n",
        "  for document_name in distinct_documents:\n",
        "      print(\"\\t \",document_name)\n",
        "      summary.append(document_name) # Append to the list\n",
        "\n",
        "  print(\"Collection summarization completed.\")\n",
        "\n",
        "  # Join the list elements into a single string\n",
        "  summary_string = \"\\n \".join(summary)\n",
        "  return summary_string"
      ]
    },
    {
      "cell_type": "code",
      "execution_count": 91,
      "metadata": {
        "colab": {
          "base_uri": "https://localhost:8080/"
        },
        "id": "LZt8kF1SOn-c",
        "outputId": "f045f643-9b57-466e-bc68-35e24888efba"
      },
      "outputs": [
        {
          "output_type": "stream",
          "name": "stdout",
          "text": [
            "Summarizing the collection...\n",
            "\t Collection name: Lines\n",
            "\t Number of document chunks in collection: 390\n",
            "\t Distinct 'document' metadata in the collection:\n",
            "\t  duzenli_log_dosyasi_400.csv\n",
            "Collection summarization completed.\n"
          ]
        }
      ],
      "source": [
        "s=summarize_collection(chroma_collection)"
      ]
    },
    {
      "cell_type": "code",
      "execution_count": 92,
      "metadata": {
        "colab": {
          "base_uri": "https://localhost:8080/"
        },
        "id": "DzHshpXUOn7J",
        "outputId": "6a4f9d66-aede-4277-fee7-486e7f3095ee"
      },
      "outputs": [
        {
          "output_type": "stream",
          "name": "stdout",
          "text": [
            "Collection name: Lines\n",
            " Number of document chunks in collection: 390\n",
            " Documents:\n",
            " duzenli_log_dosyasi_400.csv\n"
          ]
        }
      ],
      "source": [
        "print(s)"
      ]
    },
    {
      "cell_type": "code",
      "execution_count": 93,
      "metadata": {
        "id": "Di11bmqCOwx2"
      },
      "outputs": [],
      "source": [
        "def generateAnswer(RAG_LLM, chroma_collection,query,n_results=5, only_response=True):\n",
        "    retrieved_documents= retrieveDocs(chroma_collection, query, 10, return_only_docs=True)\n",
        "    prompt = \"QUESTION: \"+ query\n",
        "    context = \"\\n EXCERPTS: \"+ \"\\n\".join(retrieved_documents)\n",
        "    if not only_response:\n",
        "      print(\"------- retreived documents -------\\n\")\n",
        "      for i, doc in enumerate(retrieved_documents):\n",
        "        print(f\"Document {i+1}:\")\n",
        "        print(f\"\\tDocument Text: {doc}\")\n",
        "      print(\"------- RAG answer -------\\n\")\n",
        "    output = generate_LLM_answer(prompt, context, RAG_LLM)\n",
        "\n",
        "    display(to_markdown(output))\n",
        "    print('\\n')\n",
        "    return output"
      ]
    },
    {
      "cell_type": "code",
      "execution_count": 94,
      "metadata": {
        "id": "PFy4zjxpOwvc"
      },
      "outputs": [],
      "source": [
        "queries =[\"Which URLs were accessed in the last 5 minutes?\",\n",
        "          \"What was the last request and what was the response status?\",\n",
        "          \"Which pages were last accessed by the user with IP address 14.49.42.25?\",\n",
        "          \"Which URLs were visited by the user with the User Agent 'Mozilla/5.0 (Windows; U; Windows NT 6.1; en-US; rv:1.9.2b1)'?\",\n",
        "          \"What are the most common HTTP status codes?\",\n",
        "          \"What are the 5 most recent requests with HTTP status code 200?\",\n",
        "          \"Which referer URLs were visited the most?\",\n",
        "          \"What are the requests with a specific referrer URL?\",\n",
        "          \"What are all requests between 01:24:00 and 01:25:00 on May 12, 2022?\",\n",
        "          \"Which request had the longest response time?\"\n",
        "    ]"
      ]
    },
    {
      "cell_type": "code",
      "execution_count": 96,
      "metadata": {
        "colab": {
          "base_uri": "https://localhost:8080/",
          "height": 914
        },
        "id": "Z-eXdoVOOws1",
        "outputId": "cf9ab724-1100-4175-a97e-4c47a9c7c828"
      },
      "outputs": [
        {
          "output_type": "stream",
          "name": "stdout",
          "text": [
            "------- retreived documents -------\n",
            "\n",
            "Document 1:\n",
            "\tDocument Text: ip : 188. 40. 60. 225, timestamp : 11 / may / 2022 : 21 : 43 : 11 + 0000, request : get / http / 1. 1, status code : 200, response size : 37932, referer : -, user agent : mozilla / 5. 0 ( windows ; u ; windows nt 5. 1 ; en ; rv : 1. 9. 1. 3 ) gecko / 20090824 firefox / 3. 5. 3\n",
            "Document 2:\n",
            "\tDocument Text: ip : 14. 49. 42. 25, timestamp : 12 / may / 2022 : 01 : 25 : 25 + 0000, request : get / articles / week - of - unix - tools / http / 1. 1, status code : 200, response size : 9313, referer : -, user agent : mozilla / 5. 0 ( windows ; u ; windows nt 6. 1 ; en - us ; rv : 1. 9. 2b1 ) gecko / 20091014 firefox / 3. 6b1 gtb5\n",
            "Document 3:\n",
            "\tDocument Text: ip : 63. 223. 125. 246, timestamp : 11 / may / 2022 : 22 : 15 : 11 + 0000, request : get / http / 1. 0, status code : 200, response size : 37932, referer : http : / / www. semicomplete. com /, user agent : mozilla / 5. 0 ( macintosh ; intel mac os x 10. 8 ; rv : 22. 0 ) gecko / 20100101 firefox / 22. 0\n",
            "Document 4:\n",
            "\tDocument Text: ip : 137. 108. 145. 40, timestamp : 12 / may / 2022 : 01 : 28 : 54 + 0000, request : get /? page = 2 http / 1. 1, status code : 200, response size : 36673, referer : -, user agent : mozilla / 5. 0 ( windows nt 6. 1 ) applewebkit / 537. 36 ( khtml, like gecko ) chrome / 32. 0. 1700. 102 safari / 537. 36\n",
            "Document 5:\n",
            "\tDocument Text: ip : 190. 228. 21. 2, timestamp : 12 / may / 2022 : 01 : 36 : 41 + 0000, request : get / images / web / 2009 / banner. png http / 1. 1, status code : 200, response size : 52315, referer : http : / / www. semicomplete. com / style2. css, user agent : mozilla / 5. 0 ( x11 ; linux x86 _ 64 ; rv : 18. 0 ) gecko / 20100101 firefox / 18. 0 iceweasel / 18. 0. 2\n",
            "Document 6:\n",
            "\tDocument Text: ip : 189. 2. 52. 98, timestamp : 11 / may / 2022 : 21 : 47 : 22 + 0000, request : get / images / web / 2009 / banner. png http / 1. 1, status code : 200, response size : 52315, referer : http : / / www. semicomplete. com / style2. css, user agent : mozilla / 5. 0 ( x11 ; ubuntu ; linux x86 _ 64 ; rv : 11. 0 ) gecko / 20100101 firefox / 11. 0\n",
            "Document 7:\n",
            "\tDocument Text: ip : 220. 181. 108. 154, timestamp : 11 / may / 2022 : 21 : 39 : 20 + 0000, request : get / http / 1. 1, status code : 200, response size : 36824, referer : -, user agent : mozilla / 5. 0 ( compatible ; baiduspider / 2. 0 ; + http : / / www. baidu. com / search / spider. html )\n",
            "Document 8:\n",
            "\tDocument Text: ip : 189. 90. 160. 60, timestamp : 12 / may / 2022 : 01 : 40 : 09 + 0000, request : get / images / web / 2009 / banner. png http / 1. 0, status code : 200, response size : 52315, referer : http : / / www. semicomplete. com / style2. css, user agent : mozilla / 5. 0 ( x11 ; linux i686 on x86 _ 64 ; rv : 27. 0 ) gecko / 20100101 firefox / 27. 0\n",
            "Document 9:\n",
            "\tDocument Text: ip : 37. 130. 227. 133, timestamp : 11 / may / 2022 : 22 : 13 : 36 + 0000, request : get / projects / xdotool / http / 1. 1, status code : 200, response size : 12292, referer : -, user agent : mozilla / 5. 0 ( windows nt 6. 1 ; rv : 24. 0 ) gecko / 20100101 firefox / 24. 0\n",
            "Document 10:\n",
            "\tDocument Text: ip : 189. 90. 160. 60, timestamp : 12 / may / 2022 : 01 : 40 : 08 + 0000, request : get / reset. css http / 1. 0, status code : 200, response size : 1015, referer : http : / / www. semicomplete. com / projects / xdotool /, user agent : mozilla / 5. 0 ( x11 ; linux i686 on x86 _ 64 ; rv : 27. 0 ) gecko / 20100101 firefox / 27. 0\n",
            "------- RAG answer -------\n",
            "\n"
          ]
        },
        {
          "output_type": "display_data",
          "data": {
            "text/plain": [
              "<IPython.core.display.Markdown object>"
            ],
            "text/markdown": "> The 5 most recent requests with HTTP status code 200 are:\n> \n> 1. **ip : 189. 90. 160. 60, timestamp : 12 / may / 2022 : 01 : 40 : 08 + 0000, request : get / reset. css http / 1. 0, status code : 200, response size : 1015, referer : http : / / www. semicomplete. com / projects / xdotool /, user agent : mozilla / 5. 0 ( x11 ; linux i686 on x86 _ 64 ; rv : 27. 0 ) gecko / 20100101 firefox / 27. 0**\n> 2. **ip : 189. 90. 160. 60, timestamp : 12 / may / 2022 : 01 : 40 : 09 + 0000, request : get / images / web / 2009 / banner. png http / 1. 0, status code : 200, response size : 52315, referer : http : / / www. semicomplete. com / style2. css, user agent : mozilla / 5. 0 ( x11 ; linux i686 on x86 _ 64 ; rv : 27. 0 ) gecko / 20100101 firefox / 27. 0** \n> 3. **ip : 190. 228. 21. 2, timestamp : 12 / may / 2022 : 01 : 36 : 41 + 0000, request : get / images / web / 2009 / banner. png http / 1. 1, status code : 200, response size : 52315, referer : http : / / www. semicomplete. com / style2. css, user agent : mozilla / 5. 0 ( x11 ; linux x86 _ 64 ; rv : 18. 0 ) gecko / 20100101 firefox / 18. 0 iceweasel / 18. 0. 2** \n> 4. **ip : 137. 108. 145. 40, timestamp : 12 / may / 2022 : 01 : 28 : 54 + 0000, request : get /? page = 2 http / 1. 1, status code : 200, response size : 36673, referer : -, user agent : mozilla / 5. 0 ( windows nt 6. 1 ) applewebkit / 537. 36 ( khtml, like gecko ) chrome / 32. 0. 1700. 102 safari / 537. 36**\n> 5. **ip : 14. 49. 42. 25, timestamp : 12 / may / 2022 : 01 : 25 : 25 + 0000, request : get / articles / week - of - unix - tools / http / 1. 1, status code : 200, response size : 9313, referer : -, user agent : mozilla / 5. 0 ( windows ; u ; windows nt 6. 1 ; en - us ; rv : 1. 9. 2b1 ) gecko / 20091014 firefox / 3. 6b1 gtb5**\n> \n> We can find the 5 most recent requests with HTTP status code 200 by reading the provided log file excerpt. Each line represents a single request. We can find the requests with status code 200 by looking for the string \"status code : 200\". We can then find the most recent requests by looking at the \"timestamp\" field, which indicates the date and time of the request. The requests with the most recent timestamps are the 5 most recent requests with HTTP status code 200. \n"
          },
          "metadata": {}
        },
        {
          "output_type": "stream",
          "name": "stdout",
          "text": [
            "\n",
            "\n"
          ]
        }
      ],
      "source": [
        "reply=generateAnswer(RAG_LLM, chroma_collection, queries[5],10, only_response=False)"
      ]
    },
    {
      "cell_type": "code",
      "execution_count": 97,
      "metadata": {
        "colab": {
          "base_uri": "https://localhost:8080/"
        },
        "id": "oCa_HJmYOwp-",
        "outputId": "1c05236b-a5ed-4e95-e474-117104aa3582"
      },
      "outputs": [
        {
          "output_type": "stream",
          "name": "stdout",
          "text": [
            "Summarizing the collection...\n",
            "\t Collection name: Lines\n",
            "\t Number of document chunks in collection: 390\n",
            "\t Distinct 'document' metadata in the collection:\n",
            "\t  duzenli_log_dosyasi_400.csv\n",
            "Collection summarization completed.\n",
            "Please enter your question, or type 'bye' to exit: bye\n",
            "Thank you for using the service. Goodbye!\n"
          ]
        }
      ],
      "source": [
        "summarize_collection(chroma_collection)\n",
        "RAG_LLM.history.clear()\n",
        "while True:\n",
        "  question = input(\"Please enter your question, or type 'bye' to exit: \")\n",
        "  if question == \"bye\":\n",
        "    print(\"Thank you for using the service. Goodbye!\")\n",
        "    break\n",
        "  else:\n",
        "    generateAnswer(RAG_LLM, chroma_collection, question)\n",
        "\n",
        "\n"
      ]
    },
    {
      "cell_type": "code",
      "execution_count": 98,
      "metadata": {
        "id": "Nb1lK0kjO3Pm",
        "colab": {
          "base_uri": "https://localhost:8080/"
        },
        "outputId": "9aa421a6-bed0-4c0d-d485-d7ca8cdae656"
      },
      "outputs": [
        {
          "output_type": "stream",
          "name": "stdout",
          "text": [
            "Requirement already satisfied: gradio in /usr/local/lib/python3.10/dist-packages (4.41.0)\n",
            "Requirement already satisfied: aiofiles<24.0,>=22.0 in /usr/local/lib/python3.10/dist-packages (from gradio) (23.2.1)\n",
            "Requirement already satisfied: anyio<5.0,>=3.0 in /usr/local/lib/python3.10/dist-packages (from gradio) (3.7.1)\n",
            "Requirement already satisfied: fastapi in /usr/local/lib/python3.10/dist-packages (from gradio) (0.112.1)\n",
            "Requirement already satisfied: ffmpy in /usr/local/lib/python3.10/dist-packages (from gradio) (0.4.0)\n",
            "Requirement already satisfied: gradio-client==1.3.0 in /usr/local/lib/python3.10/dist-packages (from gradio) (1.3.0)\n",
            "Requirement already satisfied: httpx>=0.24.1 in /usr/local/lib/python3.10/dist-packages (from gradio) (0.27.0)\n",
            "Requirement already satisfied: huggingface-hub>=0.19.3 in /usr/local/lib/python3.10/dist-packages (from gradio) (0.23.5)\n",
            "Requirement already satisfied: importlib-resources<7.0,>=1.3 in /usr/local/lib/python3.10/dist-packages (from gradio) (6.4.0)\n",
            "Requirement already satisfied: jinja2<4.0 in /usr/local/lib/python3.10/dist-packages (from gradio) (3.1.4)\n",
            "Requirement already satisfied: markupsafe~=2.0 in /usr/local/lib/python3.10/dist-packages (from gradio) (2.1.5)\n",
            "Requirement already satisfied: matplotlib~=3.0 in /usr/local/lib/python3.10/dist-packages (from gradio) (3.7.1)\n",
            "Requirement already satisfied: numpy<3.0,>=1.0 in /usr/local/lib/python3.10/dist-packages (from gradio) (1.26.4)\n",
            "Requirement already satisfied: orjson~=3.0 in /usr/local/lib/python3.10/dist-packages (from gradio) (3.10.7)\n",
            "Requirement already satisfied: packaging in /usr/local/lib/python3.10/dist-packages (from gradio) (24.1)\n",
            "Requirement already satisfied: pandas<3.0,>=1.0 in /usr/local/lib/python3.10/dist-packages (from gradio) (2.1.4)\n",
            "Requirement already satisfied: pillow<11.0,>=8.0 in /usr/local/lib/python3.10/dist-packages (from gradio) (9.4.0)\n",
            "Requirement already satisfied: pydantic>=2.0 in /usr/local/lib/python3.10/dist-packages (from gradio) (2.8.2)\n",
            "Requirement already satisfied: pydub in /usr/local/lib/python3.10/dist-packages (from gradio) (0.25.1)\n",
            "Requirement already satisfied: python-multipart>=0.0.9 in /usr/local/lib/python3.10/dist-packages (from gradio) (0.0.9)\n",
            "Requirement already satisfied: pyyaml<7.0,>=5.0 in /usr/local/lib/python3.10/dist-packages (from gradio) (6.0.2)\n",
            "Requirement already satisfied: ruff>=0.2.2 in /usr/local/lib/python3.10/dist-packages (from gradio) (0.6.1)\n",
            "Requirement already satisfied: semantic-version~=2.0 in /usr/local/lib/python3.10/dist-packages (from gradio) (2.10.0)\n",
            "Requirement already satisfied: tomlkit==0.12.0 in /usr/local/lib/python3.10/dist-packages (from gradio) (0.12.0)\n",
            "Requirement already satisfied: typer<1.0,>=0.12 in /usr/local/lib/python3.10/dist-packages (from gradio) (0.12.3)\n",
            "Requirement already satisfied: typing-extensions~=4.0 in /usr/local/lib/python3.10/dist-packages (from gradio) (4.12.2)\n",
            "Requirement already satisfied: urllib3~=2.0 in /usr/local/lib/python3.10/dist-packages (from gradio) (2.0.7)\n",
            "Requirement already satisfied: uvicorn>=0.14.0 in /usr/local/lib/python3.10/dist-packages (from gradio) (0.30.6)\n",
            "Requirement already satisfied: fsspec in /usr/local/lib/python3.10/dist-packages (from gradio-client==1.3.0->gradio) (2024.6.1)\n",
            "Requirement already satisfied: websockets<13.0,>=10.0 in /usr/local/lib/python3.10/dist-packages (from gradio-client==1.3.0->gradio) (12.0)\n",
            "Requirement already satisfied: idna>=2.8 in /usr/local/lib/python3.10/dist-packages (from anyio<5.0,>=3.0->gradio) (3.7)\n",
            "Requirement already satisfied: sniffio>=1.1 in /usr/local/lib/python3.10/dist-packages (from anyio<5.0,>=3.0->gradio) (1.3.1)\n",
            "Requirement already satisfied: exceptiongroup in /usr/local/lib/python3.10/dist-packages (from anyio<5.0,>=3.0->gradio) (1.2.2)\n",
            "Requirement already satisfied: certifi in /usr/local/lib/python3.10/dist-packages (from httpx>=0.24.1->gradio) (2024.7.4)\n",
            "Requirement already satisfied: httpcore==1.* in /usr/local/lib/python3.10/dist-packages (from httpx>=0.24.1->gradio) (1.0.5)\n",
            "Requirement already satisfied: h11<0.15,>=0.13 in /usr/local/lib/python3.10/dist-packages (from httpcore==1.*->httpx>=0.24.1->gradio) (0.14.0)\n",
            "Requirement already satisfied: filelock in /usr/local/lib/python3.10/dist-packages (from huggingface-hub>=0.19.3->gradio) (3.15.4)\n",
            "Requirement already satisfied: requests in /usr/local/lib/python3.10/dist-packages (from huggingface-hub>=0.19.3->gradio) (2.32.3)\n",
            "Requirement already satisfied: tqdm>=4.42.1 in /usr/local/lib/python3.10/dist-packages (from huggingface-hub>=0.19.3->gradio) (4.66.5)\n",
            "Requirement already satisfied: contourpy>=1.0.1 in /usr/local/lib/python3.10/dist-packages (from matplotlib~=3.0->gradio) (1.2.1)\n",
            "Requirement already satisfied: cycler>=0.10 in /usr/local/lib/python3.10/dist-packages (from matplotlib~=3.0->gradio) (0.12.1)\n",
            "Requirement already satisfied: fonttools>=4.22.0 in /usr/local/lib/python3.10/dist-packages (from matplotlib~=3.0->gradio) (4.53.1)\n",
            "Requirement already satisfied: kiwisolver>=1.0.1 in /usr/local/lib/python3.10/dist-packages (from matplotlib~=3.0->gradio) (1.4.5)\n",
            "Requirement already satisfied: pyparsing>=2.3.1 in /usr/local/lib/python3.10/dist-packages (from matplotlib~=3.0->gradio) (3.1.2)\n",
            "Requirement already satisfied: python-dateutil>=2.7 in /usr/local/lib/python3.10/dist-packages (from matplotlib~=3.0->gradio) (2.8.2)\n",
            "Requirement already satisfied: pytz>=2020.1 in /usr/local/lib/python3.10/dist-packages (from pandas<3.0,>=1.0->gradio) (2024.1)\n",
            "Requirement already satisfied: tzdata>=2022.1 in /usr/local/lib/python3.10/dist-packages (from pandas<3.0,>=1.0->gradio) (2024.1)\n",
            "Requirement already satisfied: annotated-types>=0.4.0 in /usr/local/lib/python3.10/dist-packages (from pydantic>=2.0->gradio) (0.7.0)\n",
            "Requirement already satisfied: pydantic-core==2.20.1 in /usr/local/lib/python3.10/dist-packages (from pydantic>=2.0->gradio) (2.20.1)\n",
            "Requirement already satisfied: click>=8.0.0 in /usr/local/lib/python3.10/dist-packages (from typer<1.0,>=0.12->gradio) (8.1.7)\n",
            "Requirement already satisfied: shellingham>=1.3.0 in /usr/local/lib/python3.10/dist-packages (from typer<1.0,>=0.12->gradio) (1.5.4)\n",
            "Requirement already satisfied: rich>=10.11.0 in /usr/local/lib/python3.10/dist-packages (from typer<1.0,>=0.12->gradio) (13.7.1)\n",
            "Requirement already satisfied: starlette<0.39.0,>=0.37.2 in /usr/local/lib/python3.10/dist-packages (from fastapi->gradio) (0.38.2)\n",
            "Requirement already satisfied: six>=1.5 in /usr/local/lib/python3.10/dist-packages (from python-dateutil>=2.7->matplotlib~=3.0->gradio) (1.16.0)\n",
            "Requirement already satisfied: markdown-it-py>=2.2.0 in /usr/local/lib/python3.10/dist-packages (from rich>=10.11.0->typer<1.0,>=0.12->gradio) (3.0.0)\n",
            "Requirement already satisfied: pygments<3.0.0,>=2.13.0 in /usr/local/lib/python3.10/dist-packages (from rich>=10.11.0->typer<1.0,>=0.12->gradio) (2.16.1)\n",
            "Requirement already satisfied: charset-normalizer<4,>=2 in /usr/local/lib/python3.10/dist-packages (from requests->huggingface-hub>=0.19.3->gradio) (3.3.2)\n",
            "Requirement already satisfied: mdurl~=0.1 in /usr/local/lib/python3.10/dist-packages (from markdown-it-py>=2.2.0->rich>=10.11.0->typer<1.0,>=0.12->gradio) (0.1.2)\n"
          ]
        }
      ],
      "source": [
        "%pip install gradio\n",
        "import gradio as gr\n"
      ]
    },
    {
      "cell_type": "code",
      "execution_count": null,
      "metadata": {
        "id": "P5MMGjtZO3NJ",
        "colab": {
          "base_uri": "https://localhost:8080/",
          "height": 1000
        },
        "outputId": "d9035312-b1f9-4f3d-8bf0-f18780b46d40"
      },
      "outputs": [
        {
          "output_type": "stream",
          "name": "stdout",
          "text": [
            "Summarizing the collection...\n",
            "\t Collection name: Lines\n",
            "\t Number of document chunks in collection: 390\n",
            "\t Distinct 'document' metadata in the collection:\n",
            "\t  duzenli_log_dosyasi_400.csv\n",
            "Collection summarization completed.\n",
            "Setting queue=True in a Colab notebook requires sharing enabled. Setting `share=True` (you can turn this off by setting `share=False` in `launch()` explicitly).\n",
            "\n",
            "Colab notebook detected. This cell will run indefinitely so that you can see errors and logs. To turn off, set debug=False in launch().\n",
            "Running on public URL: https://6d443aa289ea6dbb56.gradio.live\n",
            "\n",
            "This share link expires in 72 hours. For free permanent hosting and GPU upgrades, run `gradio deploy` from Terminal to deploy to Spaces (https://huggingface.co/spaces)\n"
          ]
        },
        {
          "output_type": "display_data",
          "data": {
            "text/plain": [
              "<IPython.core.display.HTML object>"
            ],
            "text/html": [
              "<div><iframe src=\"https://6d443aa289ea6dbb56.gradio.live\" width=\"100%\" height=\"500\" allow=\"autoplay; camera; microphone; clipboard-read; clipboard-write;\" frameborder=\"0\" allowfullscreen></iframe></div>"
            ]
          },
          "metadata": {}
        },
        {
          "output_type": "display_data",
          "data": {
            "text/plain": [
              "<IPython.core.display.Markdown object>"
            ],
            "text/markdown": "> The last request was \"get / blog / geekery / headless - wrapper - for - ephemeral - xservers. html http / 1. 1\" and the response status code was 200.\n> \n> Here is the breakdown:\n> \n> 1. The question asks for the last request and the response status code.\n> 2. The provided text excerpts contain information about various requests and their corresponding status codes, timestamps, IP addresses, etc.\n> 3. The last request mentioned in the text excerpts is \"get / blog / geekery / headless - wrapper - for - ephemeral - xservers. html http / 1. 1\".\n> 4. This request has a status code of 200, as indicated in the text excerpt.\n> \n> Therefore, the last request was \"get / blog / geekery / headless - wrapper - for - ephemeral - xservers. html http / 1. 1\" and the response status code was 200. \n"
          },
          "metadata": {}
        },
        {
          "output_type": "stream",
          "name": "stdout",
          "text": [
            "\n",
            "\n"
          ]
        },
        {
          "output_type": "display_data",
          "data": {
            "text/plain": [
              "<IPython.core.display.Markdown object>"
            ],
            "text/markdown": "> The last request was \"get / images / web / 2009 / banner. png http / 1. 1\" and the response status code was 200. \n> \n> Here's the breakdown:\n> \n> 1. The question asks for the last request and the response status code.\n> 2. We need to find the last entry in the provided text excerpts.\n> 3. The final excerpt shows the following information:\n>     * `ip : 125. 213. 206. 180`\n>     * `timestamp : 12 / may / 2022 : 01 : 28 : 57 + 0000`\n>     * `request : get / images / web / 2009 / banner. png http / 1. 1`\n>     * `status code : 200`\n>     * `response size : 52315`\n>     * `referer : http : / / www. semicomplete. com / projects / xdotool /`\n>     * `user agent : mozilla / 5. 0 ( windows nt 6. 3 ; wow64 ; trident / 7. 0 ; tnjb ; rv : 11. 0 ) like gecko`\n> 4. Therefore, the last request was \"get / images / web / 2009 / banner. png http / 1. 1\" and the response status code was 200. \n"
          },
          "metadata": {}
        },
        {
          "output_type": "stream",
          "name": "stdout",
          "text": [
            "\n",
            "\n"
          ]
        },
        {
          "output_type": "display_data",
          "data": {
            "text/plain": [
              "<IPython.core.display.Markdown object>"
            ],
            "text/markdown": "> Son istek \"get / images / jordan - 80. png http / 1. 0\" idi ve yanıt durumu kodu 200'dü.\n> \n> İşte adım adım açıklama:\n> \n> 1. Soru, son isteğin ve yanıt durum kodunun ne olduğunu soruyor.\n> 2. Sağlanan metin alıntıları, çeşitli istekler ve bunlara karşılık gelen durum kodları, zaman damgaları, IP adresleri vb. hakkında bilgi içeriyor.\n> 3. Metin alıntıları içinde geçen son istek \"get / images / jordan - 80. png http / 1. 0\".\n> 4. Bu isteğin durum kodu, metin alıntısında belirtildiği gibi 200'dür.\n> \n> Bu nedenle son istek \"get / images / jordan - 80. png http / 1. 0\" idi ve yanıt durumu kodu 200'dü.\n"
          },
          "metadata": {}
        },
        {
          "output_type": "stream",
          "name": "stdout",
          "text": [
            "\n",
            "\n"
          ]
        },
        {
          "output_type": "stream",
          "name": "stderr",
          "text": [
            "Traceback (most recent call last):\n",
            "  File \"/usr/local/lib/python3.10/dist-packages/gradio/queueing.py\", line 536, in process_events\n",
            "    response = await route_utils.call_process_api(\n",
            "  File \"/usr/local/lib/python3.10/dist-packages/gradio/route_utils.py\", line 288, in call_process_api\n",
            "    output = await app.get_blocks().process_api(\n",
            "  File \"/usr/local/lib/python3.10/dist-packages/gradio/blocks.py\", line 1931, in process_api\n",
            "    result = await self.call_function(\n",
            "  File \"/usr/local/lib/python3.10/dist-packages/gradio/blocks.py\", line 1516, in call_function\n",
            "    prediction = await anyio.to_thread.run_sync(  # type: ignore\n",
            "  File \"/usr/local/lib/python3.10/dist-packages/anyio/to_thread.py\", line 33, in run_sync\n",
            "    return await get_asynclib().run_sync_in_worker_thread(\n",
            "  File \"/usr/local/lib/python3.10/dist-packages/anyio/_backends/_asyncio.py\", line 877, in run_sync_in_worker_thread\n",
            "    return await future\n",
            "  File \"/usr/local/lib/python3.10/dist-packages/anyio/_backends/_asyncio.py\", line 807, in run\n",
            "    result = context.run(func, *args)\n",
            "  File \"/usr/local/lib/python3.10/dist-packages/gradio/utils.py\", line 826, in wrapper\n",
            "    response = f(*args, **kwargs)\n",
            "  File \"<ipython-input-99-b54edd51f9d6>\", line 23, in predict\n",
            "    answer = generateAnswerInterFace(question)\n",
            "  File \"<ipython-input-99-b54edd51f9d6>\", line 5, in generateAnswerInterFace\n",
            "    return generateAnswer(RAG_LLM, chroma_collection, question)\n",
            "  File \"<ipython-input-93-c75b4044729a>\", line 11, in generateAnswer\n",
            "    output = generate_LLM_answer(prompt, context, RAG_LLM)\n",
            "  File \"<ipython-input-69-b0710f801e74>\", line 2, in generate_LLM_answer\n",
            "    response = chat.send_message( prompt + context)\n",
            "  File \"/usr/local/lib/python3.10/dist-packages/google/generativeai/generative_models.py\", line 588, in send_message\n",
            "    self._check_response(response=response, stream=stream)\n",
            "  File \"/usr/local/lib/python3.10/dist-packages/google/generativeai/generative_models.py\", line 616, in _check_response\n",
            "    raise generation_types.StopCandidateException(response.candidates[0])\n",
            "google.generativeai.types.generation_types.StopCandidateException: finish_reason: SAFETY\n",
            "index: 0\n",
            "safety_ratings {\n",
            "  category: HARM_CATEGORY_SEXUALLY_EXPLICIT\n",
            "  probability: NEGLIGIBLE\n",
            "}\n",
            "safety_ratings {\n",
            "  category: HARM_CATEGORY_HATE_SPEECH\n",
            "  probability: NEGLIGIBLE\n",
            "}\n",
            "safety_ratings {\n",
            "  category: HARM_CATEGORY_HARASSMENT\n",
            "  probability: NEGLIGIBLE\n",
            "}\n",
            "safety_ratings {\n",
            "  category: HARM_CATEGORY_DANGEROUS_CONTENT\n",
            "  probability: MEDIUM\n",
            "}\n",
            "\n"
          ]
        },
        {
          "output_type": "display_data",
          "data": {
            "text/plain": [
              "<IPython.core.display.Markdown object>"
            ],
            "text/markdown": "> 12 Mayıs 2022 tarihinde saat 01:24:00 ile 01:25:00 arasında sadece bir istek var. Bu istek `ip : 198. 27. 88. 92, timestamp : 12 / may / 2022 : 01 : 29 : 22 + 0000, request : get / blog / tags / x11 http / 1. 0, status code : 200, response size : 32742, referer : http : / / www. semicomplete. com / blog / tags / x11, user agent : mozilla / 5. 0 ( windows nt 6. 1 ; rv : 12. 0 ) gecko / 20100101 firefox / 12. 0` olarak kaydedilmiş. \n"
          },
          "metadata": {}
        },
        {
          "output_type": "stream",
          "name": "stdout",
          "text": [
            "\n",
            "\n"
          ]
        },
        {
          "output_type": "display_data",
          "data": {
            "text/plain": [
              "<IPython.core.display.Markdown object>"
            ],
            "text/markdown": "> Verilen metinlerde belirli bir yönlendirme URL'si (referrer URL) ile ilgili bir bilgi bulunmuyor.  Tüm isteklerin yönlendirme URL'si \"-\" olarak belirtilmiş. Dolayısıyla, belirli bir yönlendirme URL'sine sahip istekler hakkında bilgi veremem. \n"
          },
          "metadata": {}
        },
        {
          "output_type": "stream",
          "name": "stdout",
          "text": [
            "\n",
            "\n"
          ]
        },
        {
          "output_type": "stream",
          "name": "stderr",
          "text": [
            "Traceback (most recent call last):\n",
            "  File \"/usr/local/lib/python3.10/dist-packages/gradio/queueing.py\", line 536, in process_events\n",
            "    response = await route_utils.call_process_api(\n",
            "  File \"/usr/local/lib/python3.10/dist-packages/gradio/route_utils.py\", line 288, in call_process_api\n",
            "    output = await app.get_blocks().process_api(\n",
            "  File \"/usr/local/lib/python3.10/dist-packages/gradio/blocks.py\", line 1931, in process_api\n",
            "    result = await self.call_function(\n",
            "  File \"/usr/local/lib/python3.10/dist-packages/gradio/blocks.py\", line 1516, in call_function\n",
            "    prediction = await anyio.to_thread.run_sync(  # type: ignore\n",
            "  File \"/usr/local/lib/python3.10/dist-packages/anyio/to_thread.py\", line 33, in run_sync\n",
            "    return await get_asynclib().run_sync_in_worker_thread(\n",
            "  File \"/usr/local/lib/python3.10/dist-packages/anyio/_backends/_asyncio.py\", line 877, in run_sync_in_worker_thread\n",
            "    return await future\n",
            "  File \"/usr/local/lib/python3.10/dist-packages/anyio/_backends/_asyncio.py\", line 807, in run\n",
            "    result = context.run(func, *args)\n",
            "  File \"/usr/local/lib/python3.10/dist-packages/gradio/utils.py\", line 826, in wrapper\n",
            "    response = f(*args, **kwargs)\n",
            "  File \"<ipython-input-99-b54edd51f9d6>\", line 23, in predict\n",
            "    answer = generateAnswerInterFace(question)\n",
            "  File \"<ipython-input-99-b54edd51f9d6>\", line 5, in generateAnswerInterFace\n",
            "    return generateAnswer(RAG_LLM, chroma_collection, question)\n",
            "  File \"<ipython-input-93-c75b4044729a>\", line 11, in generateAnswer\n",
            "    output = generate_LLM_answer(prompt, context, RAG_LLM)\n",
            "  File \"<ipython-input-69-b0710f801e74>\", line 2, in generate_LLM_answer\n",
            "    response = chat.send_message( prompt + context)\n",
            "  File \"/usr/local/lib/python3.10/dist-packages/google/generativeai/generative_models.py\", line 588, in send_message\n",
            "    self._check_response(response=response, stream=stream)\n",
            "  File \"/usr/local/lib/python3.10/dist-packages/google/generativeai/generative_models.py\", line 616, in _check_response\n",
            "    raise generation_types.StopCandidateException(response.candidates[0])\n",
            "google.generativeai.types.generation_types.StopCandidateException: finish_reason: SAFETY\n",
            "index: 0\n",
            "safety_ratings {\n",
            "  category: HARM_CATEGORY_SEXUALLY_EXPLICIT\n",
            "  probability: NEGLIGIBLE\n",
            "}\n",
            "safety_ratings {\n",
            "  category: HARM_CATEGORY_HATE_SPEECH\n",
            "  probability: NEGLIGIBLE\n",
            "}\n",
            "safety_ratings {\n",
            "  category: HARM_CATEGORY_HARASSMENT\n",
            "  probability: NEGLIGIBLE\n",
            "}\n",
            "safety_ratings {\n",
            "  category: HARM_CATEGORY_DANGEROUS_CONTENT\n",
            "  probability: MEDIUM\n",
            "}\n",
            "\n",
            "Traceback (most recent call last):\n",
            "  File \"/usr/local/lib/python3.10/dist-packages/gradio/queueing.py\", line 536, in process_events\n",
            "    response = await route_utils.call_process_api(\n",
            "  File \"/usr/local/lib/python3.10/dist-packages/gradio/route_utils.py\", line 288, in call_process_api\n",
            "    output = await app.get_blocks().process_api(\n",
            "  File \"/usr/local/lib/python3.10/dist-packages/gradio/blocks.py\", line 1931, in process_api\n",
            "    result = await self.call_function(\n",
            "  File \"/usr/local/lib/python3.10/dist-packages/gradio/blocks.py\", line 1516, in call_function\n",
            "    prediction = await anyio.to_thread.run_sync(  # type: ignore\n",
            "  File \"/usr/local/lib/python3.10/dist-packages/anyio/to_thread.py\", line 33, in run_sync\n",
            "    return await get_asynclib().run_sync_in_worker_thread(\n",
            "  File \"/usr/local/lib/python3.10/dist-packages/anyio/_backends/_asyncio.py\", line 877, in run_sync_in_worker_thread\n",
            "    return await future\n",
            "  File \"/usr/local/lib/python3.10/dist-packages/anyio/_backends/_asyncio.py\", line 807, in run\n",
            "    result = context.run(func, *args)\n",
            "  File \"/usr/local/lib/python3.10/dist-packages/gradio/utils.py\", line 826, in wrapper\n",
            "    response = f(*args, **kwargs)\n",
            "  File \"<ipython-input-99-b54edd51f9d6>\", line 23, in predict\n",
            "    answer = generateAnswerInterFace(question)\n",
            "  File \"<ipython-input-99-b54edd51f9d6>\", line 5, in generateAnswerInterFace\n",
            "    return generateAnswer(RAG_LLM, chroma_collection, question)\n",
            "  File \"<ipython-input-93-c75b4044729a>\", line 11, in generateAnswer\n",
            "    output = generate_LLM_answer(prompt, context, RAG_LLM)\n",
            "  File \"<ipython-input-69-b0710f801e74>\", line 2, in generate_LLM_answer\n",
            "    response = chat.send_message( prompt + context)\n",
            "  File \"/usr/local/lib/python3.10/dist-packages/google/generativeai/generative_models.py\", line 588, in send_message\n",
            "    self._check_response(response=response, stream=stream)\n",
            "  File \"/usr/local/lib/python3.10/dist-packages/google/generativeai/generative_models.py\", line 616, in _check_response\n",
            "    raise generation_types.StopCandidateException(response.candidates[0])\n",
            "google.generativeai.types.generation_types.StopCandidateException: finish_reason: SAFETY\n",
            "index: 0\n",
            "safety_ratings {\n",
            "  category: HARM_CATEGORY_SEXUALLY_EXPLICIT\n",
            "  probability: NEGLIGIBLE\n",
            "}\n",
            "safety_ratings {\n",
            "  category: HARM_CATEGORY_HATE_SPEECH\n",
            "  probability: NEGLIGIBLE\n",
            "}\n",
            "safety_ratings {\n",
            "  category: HARM_CATEGORY_HARASSMENT\n",
            "  probability: NEGLIGIBLE\n",
            "}\n",
            "safety_ratings {\n",
            "  category: HARM_CATEGORY_DANGEROUS_CONTENT\n",
            "  probability: MEDIUM\n",
            "}\n",
            "\n"
          ]
        },
        {
          "output_type": "display_data",
          "data": {
            "text/plain": [
              "<IPython.core.display.Markdown object>"
            ],
            "text/markdown": "> 12 Mayıs 2022 tarihinde saat 01:24:00 ile 01:25:00 arasında sadece bir istek kaydedilmiş:\n> \n> * **IP:** 14. 49. 42. 25\n> * **Zaman Damgası:** 12 / may / 2022 : 01 : 25 : 25 + 0000\n> * **İstek:** get / articles / week - of - unix - tools / http / 1. 1\n> * **Durum Kodu:** 200\n> * **Yanıt Boyutu:** 9313\n> * **Yönlendirme URL'si:** -\n> * **Kullanıcı Ajanı:** mozilla / 5. 0 ( windows ; u ; windows nt 6. 1 ; en - us ; rv : 1. 9. 2b1 ) gecko / 20091014 firefox / 3. 6b1 gtb5\n> \n> Bu istek, `articles/week-of-unix-tools` yoluna yapılan bir GET isteği ve 200 durum kodu ile başarılı bir şekilde tamamlanmıştır. \n"
          },
          "metadata": {}
        },
        {
          "output_type": "stream",
          "name": "stdout",
          "text": [
            "\n",
            "\n"
          ]
        }
      ],
      "source": [
        "RAG_LLM.history.clear()\n",
        "\n",
        "# Replace with your actual function (assuming it generates an answer)\n",
        "def generateAnswerInterFace(question):\n",
        "    return generateAnswer(RAG_LLM, chroma_collection, question)\n",
        "\n",
        "# Function to generate the info text\n",
        "def get_info_text():\n",
        "    return \"INFO: \" + summarize_collection(chroma_collection)\n",
        "    # Assuming summarize_collection returns a string\n",
        "\n",
        "# Use gr.Blocks instead of gr.Interface\n",
        "with gr.Blocks() as demo:\n",
        "    # Define interface components\n",
        "    query_txt = gr.Textbox(label=\"Enter your question here:\", placeholder=\"Type your question\")\n",
        "    answer_txt = gr.Textbox(label=\"Answer:\", placeholder=\"Answer will be displayed here\")\n",
        "\n",
        "    # Create a button to trigger the prediction\n",
        "    btn = gr.Button(\"Generate Answer\")\n",
        "\n",
        "    # Define the prediction function (order changed for button placement)\n",
        "    def predict(question):\n",
        "        answer = generateAnswerInterFace(question)\n",
        "        return answer\n",
        "\n",
        "    info_txt = gr.Textbox(get_info_text(), label=\"Info\")  # Add info textbox after button\n",
        "\n",
        "    # Connect button click to prediction function\n",
        "    btn.click(predict, inputs=query_txt, outputs=answer_txt)\n",
        "\n",
        "# Launch the interface\n",
        "demo.launch(debug=True)\n"
      ]
    },
    {
      "cell_type": "markdown",
      "source": [
        "DENEME SORUSU1:What are all requests between 01:24:00 and 01:25:00 on May 12, 2022?\n",
        "bu soruya türkçe yanıt oluştur\n",
        "\n",
        "CEVABI: 12 Mayıs 2022 tarihinde saat 01:24:00 ile 01:25:00 arasında sadece bir istek kaydedilmiş:\n",
        "\n",
        "* **IP:** 14. 49. 42. 25\n",
        "* **Zaman Damgası:** 12 / may / 2022 : 01 : 25 : 25 + 0000\n",
        "* **İstek:** get / articles / week - of - unix - tools / http / 1. 1\n",
        "* **Durum Kodu:** 200\n",
        "* **Yanıt Boyutu:** 9313\n",
        "* **Yönlendirme URL'si:** -\n",
        "* **Kullanıcı Ajanı:** mozilla / 5. 0 ( windows ; u ; windows nt 6. 1 ; en - us ; rv : 1. 9. 2b1 ) gecko / 20091014 firefox / 3. 6b1 gtb5\n",
        "\n",
        "Bu istek, `articles/week-of-unix-tools` yoluna yapılan bir GET isteği ve 200 durum kodu ile başarılı bir şekilde tamamlanmıştır."
      ],
      "metadata": {
        "id": "5939b-L-wlfz"
      }
    },
    {
      "cell_type": "code",
      "source": [],
      "metadata": {
        "id": "FSnyGOTVw0qg"
      },
      "execution_count": null,
      "outputs": []
    }
  ],
  "metadata": {
    "colab": {
      "provenance": [],
      "mount_file_id": "1Llwo22ltrYH32SCi707q3Zg4C8bYxkm1",
      "authorship_tag": "ABX9TyNBNlM4A3BhjyL+fL7pji4/",
      "include_colab_link": true
    },
    "kernelspec": {
      "display_name": "Python 3",
      "name": "python3"
    },
    "language_info": {
      "name": "python"
    },
    "widgets": {
      "application/vnd.jupyter.widget-state+json": {
        "a6d97d026ca642df9603e5db6c978760": {
          "model_module": "@jupyter-widgets/controls",
          "model_name": "HBoxModel",
          "model_module_version": "1.5.0",
          "state": {
            "_dom_classes": [],
            "_model_module": "@jupyter-widgets/controls",
            "_model_module_version": "1.5.0",
            "_model_name": "HBoxModel",
            "_view_count": null,
            "_view_module": "@jupyter-widgets/controls",
            "_view_module_version": "1.5.0",
            "_view_name": "HBoxView",
            "box_style": "",
            "children": [
              "IPY_MODEL_80f17e2fc64349a18899069a80b8206e",
              "IPY_MODEL_52a9967ae03940bbb895951bfe445822",
              "IPY_MODEL_c61c9cb616a1481faa7a08f3b199f135"
            ],
            "layout": "IPY_MODEL_00f42d97a5e940ecb25d7d0b59f60699"
          }
        },
        "80f17e2fc64349a18899069a80b8206e": {
          "model_module": "@jupyter-widgets/controls",
          "model_name": "HTMLModel",
          "model_module_version": "1.5.0",
          "state": {
            "_dom_classes": [],
            "_model_module": "@jupyter-widgets/controls",
            "_model_module_version": "1.5.0",
            "_model_name": "HTMLModel",
            "_view_count": null,
            "_view_module": "@jupyter-widgets/controls",
            "_view_module_version": "1.5.0",
            "_view_name": "HTMLView",
            "description": "",
            "description_tooltip": null,
            "layout": "IPY_MODEL_9b47e77fc08841edbf9da06acfadac49",
            "placeholder": "​",
            "style": "IPY_MODEL_8a560085e3a94be68e8465a39d3e1e98",
            "value": "modules.json: 100%"
          }
        },
        "52a9967ae03940bbb895951bfe445822": {
          "model_module": "@jupyter-widgets/controls",
          "model_name": "FloatProgressModel",
          "model_module_version": "1.5.0",
          "state": {
            "_dom_classes": [],
            "_model_module": "@jupyter-widgets/controls",
            "_model_module_version": "1.5.0",
            "_model_name": "FloatProgressModel",
            "_view_count": null,
            "_view_module": "@jupyter-widgets/controls",
            "_view_module_version": "1.5.0",
            "_view_name": "ProgressView",
            "bar_style": "success",
            "description": "",
            "description_tooltip": null,
            "layout": "IPY_MODEL_9a530de97be942e58a0a375222479fe2",
            "max": 349,
            "min": 0,
            "orientation": "horizontal",
            "style": "IPY_MODEL_7c7920c906454fa28265d3ca0d2618ff",
            "value": 349
          }
        },
        "c61c9cb616a1481faa7a08f3b199f135": {
          "model_module": "@jupyter-widgets/controls",
          "model_name": "HTMLModel",
          "model_module_version": "1.5.0",
          "state": {
            "_dom_classes": [],
            "_model_module": "@jupyter-widgets/controls",
            "_model_module_version": "1.5.0",
            "_model_name": "HTMLModel",
            "_view_count": null,
            "_view_module": "@jupyter-widgets/controls",
            "_view_module_version": "1.5.0",
            "_view_name": "HTMLView",
            "description": "",
            "description_tooltip": null,
            "layout": "IPY_MODEL_df537ce8bde0461f9a1cb4fe06cbea5a",
            "placeholder": "​",
            "style": "IPY_MODEL_ec6402c3f79e4887a715fbe5ec5d4f5e",
            "value": " 349/349 [00:00&lt;00:00, 13.5kB/s]"
          }
        },
        "00f42d97a5e940ecb25d7d0b59f60699": {
          "model_module": "@jupyter-widgets/base",
          "model_name": "LayoutModel",
          "model_module_version": "1.2.0",
          "state": {
            "_model_module": "@jupyter-widgets/base",
            "_model_module_version": "1.2.0",
            "_model_name": "LayoutModel",
            "_view_count": null,
            "_view_module": "@jupyter-widgets/base",
            "_view_module_version": "1.2.0",
            "_view_name": "LayoutView",
            "align_content": null,
            "align_items": null,
            "align_self": null,
            "border": null,
            "bottom": null,
            "display": null,
            "flex": null,
            "flex_flow": null,
            "grid_area": null,
            "grid_auto_columns": null,
            "grid_auto_flow": null,
            "grid_auto_rows": null,
            "grid_column": null,
            "grid_gap": null,
            "grid_row": null,
            "grid_template_areas": null,
            "grid_template_columns": null,
            "grid_template_rows": null,
            "height": null,
            "justify_content": null,
            "justify_items": null,
            "left": null,
            "margin": null,
            "max_height": null,
            "max_width": null,
            "min_height": null,
            "min_width": null,
            "object_fit": null,
            "object_position": null,
            "order": null,
            "overflow": null,
            "overflow_x": null,
            "overflow_y": null,
            "padding": null,
            "right": null,
            "top": null,
            "visibility": null,
            "width": null
          }
        },
        "9b47e77fc08841edbf9da06acfadac49": {
          "model_module": "@jupyter-widgets/base",
          "model_name": "LayoutModel",
          "model_module_version": "1.2.0",
          "state": {
            "_model_module": "@jupyter-widgets/base",
            "_model_module_version": "1.2.0",
            "_model_name": "LayoutModel",
            "_view_count": null,
            "_view_module": "@jupyter-widgets/base",
            "_view_module_version": "1.2.0",
            "_view_name": "LayoutView",
            "align_content": null,
            "align_items": null,
            "align_self": null,
            "border": null,
            "bottom": null,
            "display": null,
            "flex": null,
            "flex_flow": null,
            "grid_area": null,
            "grid_auto_columns": null,
            "grid_auto_flow": null,
            "grid_auto_rows": null,
            "grid_column": null,
            "grid_gap": null,
            "grid_row": null,
            "grid_template_areas": null,
            "grid_template_columns": null,
            "grid_template_rows": null,
            "height": null,
            "justify_content": null,
            "justify_items": null,
            "left": null,
            "margin": null,
            "max_height": null,
            "max_width": null,
            "min_height": null,
            "min_width": null,
            "object_fit": null,
            "object_position": null,
            "order": null,
            "overflow": null,
            "overflow_x": null,
            "overflow_y": null,
            "padding": null,
            "right": null,
            "top": null,
            "visibility": null,
            "width": null
          }
        },
        "8a560085e3a94be68e8465a39d3e1e98": {
          "model_module": "@jupyter-widgets/controls",
          "model_name": "DescriptionStyleModel",
          "model_module_version": "1.5.0",
          "state": {
            "_model_module": "@jupyter-widgets/controls",
            "_model_module_version": "1.5.0",
            "_model_name": "DescriptionStyleModel",
            "_view_count": null,
            "_view_module": "@jupyter-widgets/base",
            "_view_module_version": "1.2.0",
            "_view_name": "StyleView",
            "description_width": ""
          }
        },
        "9a530de97be942e58a0a375222479fe2": {
          "model_module": "@jupyter-widgets/base",
          "model_name": "LayoutModel",
          "model_module_version": "1.2.0",
          "state": {
            "_model_module": "@jupyter-widgets/base",
            "_model_module_version": "1.2.0",
            "_model_name": "LayoutModel",
            "_view_count": null,
            "_view_module": "@jupyter-widgets/base",
            "_view_module_version": "1.2.0",
            "_view_name": "LayoutView",
            "align_content": null,
            "align_items": null,
            "align_self": null,
            "border": null,
            "bottom": null,
            "display": null,
            "flex": null,
            "flex_flow": null,
            "grid_area": null,
            "grid_auto_columns": null,
            "grid_auto_flow": null,
            "grid_auto_rows": null,
            "grid_column": null,
            "grid_gap": null,
            "grid_row": null,
            "grid_template_areas": null,
            "grid_template_columns": null,
            "grid_template_rows": null,
            "height": null,
            "justify_content": null,
            "justify_items": null,
            "left": null,
            "margin": null,
            "max_height": null,
            "max_width": null,
            "min_height": null,
            "min_width": null,
            "object_fit": null,
            "object_position": null,
            "order": null,
            "overflow": null,
            "overflow_x": null,
            "overflow_y": null,
            "padding": null,
            "right": null,
            "top": null,
            "visibility": null,
            "width": null
          }
        },
        "7c7920c906454fa28265d3ca0d2618ff": {
          "model_module": "@jupyter-widgets/controls",
          "model_name": "ProgressStyleModel",
          "model_module_version": "1.5.0",
          "state": {
            "_model_module": "@jupyter-widgets/controls",
            "_model_module_version": "1.5.0",
            "_model_name": "ProgressStyleModel",
            "_view_count": null,
            "_view_module": "@jupyter-widgets/base",
            "_view_module_version": "1.2.0",
            "_view_name": "StyleView",
            "bar_color": null,
            "description_width": ""
          }
        },
        "df537ce8bde0461f9a1cb4fe06cbea5a": {
          "model_module": "@jupyter-widgets/base",
          "model_name": "LayoutModel",
          "model_module_version": "1.2.0",
          "state": {
            "_model_module": "@jupyter-widgets/base",
            "_model_module_version": "1.2.0",
            "_model_name": "LayoutModel",
            "_view_count": null,
            "_view_module": "@jupyter-widgets/base",
            "_view_module_version": "1.2.0",
            "_view_name": "LayoutView",
            "align_content": null,
            "align_items": null,
            "align_self": null,
            "border": null,
            "bottom": null,
            "display": null,
            "flex": null,
            "flex_flow": null,
            "grid_area": null,
            "grid_auto_columns": null,
            "grid_auto_flow": null,
            "grid_auto_rows": null,
            "grid_column": null,
            "grid_gap": null,
            "grid_row": null,
            "grid_template_areas": null,
            "grid_template_columns": null,
            "grid_template_rows": null,
            "height": null,
            "justify_content": null,
            "justify_items": null,
            "left": null,
            "margin": null,
            "max_height": null,
            "max_width": null,
            "min_height": null,
            "min_width": null,
            "object_fit": null,
            "object_position": null,
            "order": null,
            "overflow": null,
            "overflow_x": null,
            "overflow_y": null,
            "padding": null,
            "right": null,
            "top": null,
            "visibility": null,
            "width": null
          }
        },
        "ec6402c3f79e4887a715fbe5ec5d4f5e": {
          "model_module": "@jupyter-widgets/controls",
          "model_name": "DescriptionStyleModel",
          "model_module_version": "1.5.0",
          "state": {
            "_model_module": "@jupyter-widgets/controls",
            "_model_module_version": "1.5.0",
            "_model_name": "DescriptionStyleModel",
            "_view_count": null,
            "_view_module": "@jupyter-widgets/base",
            "_view_module_version": "1.2.0",
            "_view_name": "StyleView",
            "description_width": ""
          }
        },
        "2fd454d3433e4f368fcefa95f8b9a3e7": {
          "model_module": "@jupyter-widgets/controls",
          "model_name": "HBoxModel",
          "model_module_version": "1.5.0",
          "state": {
            "_dom_classes": [],
            "_model_module": "@jupyter-widgets/controls",
            "_model_module_version": "1.5.0",
            "_model_name": "HBoxModel",
            "_view_count": null,
            "_view_module": "@jupyter-widgets/controls",
            "_view_module_version": "1.5.0",
            "_view_name": "HBoxView",
            "box_style": "",
            "children": [
              "IPY_MODEL_af706d6ea3144147a1d3fddd865879a7",
              "IPY_MODEL_ca67f8cda49d476193c0a73e9ec256a8",
              "IPY_MODEL_5d0ad6ecf0d4406db61292b987f20c64"
            ],
            "layout": "IPY_MODEL_c19c70bd5ef4498085e927b0bdabd6c6"
          }
        },
        "af706d6ea3144147a1d3fddd865879a7": {
          "model_module": "@jupyter-widgets/controls",
          "model_name": "HTMLModel",
          "model_module_version": "1.5.0",
          "state": {
            "_dom_classes": [],
            "_model_module": "@jupyter-widgets/controls",
            "_model_module_version": "1.5.0",
            "_model_name": "HTMLModel",
            "_view_count": null,
            "_view_module": "@jupyter-widgets/controls",
            "_view_module_version": "1.5.0",
            "_view_name": "HTMLView",
            "description": "",
            "description_tooltip": null,
            "layout": "IPY_MODEL_5434842ac302432faaa300b7e13e9e5d",
            "placeholder": "​",
            "style": "IPY_MODEL_36a0eb0916984cceb9ba9f3f6b513854",
            "value": "config_sentence_transformers.json: 100%"
          }
        },
        "ca67f8cda49d476193c0a73e9ec256a8": {
          "model_module": "@jupyter-widgets/controls",
          "model_name": "FloatProgressModel",
          "model_module_version": "1.5.0",
          "state": {
            "_dom_classes": [],
            "_model_module": "@jupyter-widgets/controls",
            "_model_module_version": "1.5.0",
            "_model_name": "FloatProgressModel",
            "_view_count": null,
            "_view_module": "@jupyter-widgets/controls",
            "_view_module_version": "1.5.0",
            "_view_name": "ProgressView",
            "bar_style": "success",
            "description": "",
            "description_tooltip": null,
            "layout": "IPY_MODEL_9eb1e22b7862421ca5b2a962a945b39c",
            "max": 116,
            "min": 0,
            "orientation": "horizontal",
            "style": "IPY_MODEL_798a2c6efbdf46f196a842c02618789a",
            "value": 116
          }
        },
        "5d0ad6ecf0d4406db61292b987f20c64": {
          "model_module": "@jupyter-widgets/controls",
          "model_name": "HTMLModel",
          "model_module_version": "1.5.0",
          "state": {
            "_dom_classes": [],
            "_model_module": "@jupyter-widgets/controls",
            "_model_module_version": "1.5.0",
            "_model_name": "HTMLModel",
            "_view_count": null,
            "_view_module": "@jupyter-widgets/controls",
            "_view_module_version": "1.5.0",
            "_view_name": "HTMLView",
            "description": "",
            "description_tooltip": null,
            "layout": "IPY_MODEL_e3d1ea4b580e41ddb43b69c0d4ca4257",
            "placeholder": "​",
            "style": "IPY_MODEL_9b86218dcf5f41c7a02c749fcc5eb32b",
            "value": " 116/116 [00:00&lt;00:00, 3.19kB/s]"
          }
        },
        "c19c70bd5ef4498085e927b0bdabd6c6": {
          "model_module": "@jupyter-widgets/base",
          "model_name": "LayoutModel",
          "model_module_version": "1.2.0",
          "state": {
            "_model_module": "@jupyter-widgets/base",
            "_model_module_version": "1.2.0",
            "_model_name": "LayoutModel",
            "_view_count": null,
            "_view_module": "@jupyter-widgets/base",
            "_view_module_version": "1.2.0",
            "_view_name": "LayoutView",
            "align_content": null,
            "align_items": null,
            "align_self": null,
            "border": null,
            "bottom": null,
            "display": null,
            "flex": null,
            "flex_flow": null,
            "grid_area": null,
            "grid_auto_columns": null,
            "grid_auto_flow": null,
            "grid_auto_rows": null,
            "grid_column": null,
            "grid_gap": null,
            "grid_row": null,
            "grid_template_areas": null,
            "grid_template_columns": null,
            "grid_template_rows": null,
            "height": null,
            "justify_content": null,
            "justify_items": null,
            "left": null,
            "margin": null,
            "max_height": null,
            "max_width": null,
            "min_height": null,
            "min_width": null,
            "object_fit": null,
            "object_position": null,
            "order": null,
            "overflow": null,
            "overflow_x": null,
            "overflow_y": null,
            "padding": null,
            "right": null,
            "top": null,
            "visibility": null,
            "width": null
          }
        },
        "5434842ac302432faaa300b7e13e9e5d": {
          "model_module": "@jupyter-widgets/base",
          "model_name": "LayoutModel",
          "model_module_version": "1.2.0",
          "state": {
            "_model_module": "@jupyter-widgets/base",
            "_model_module_version": "1.2.0",
            "_model_name": "LayoutModel",
            "_view_count": null,
            "_view_module": "@jupyter-widgets/base",
            "_view_module_version": "1.2.0",
            "_view_name": "LayoutView",
            "align_content": null,
            "align_items": null,
            "align_self": null,
            "border": null,
            "bottom": null,
            "display": null,
            "flex": null,
            "flex_flow": null,
            "grid_area": null,
            "grid_auto_columns": null,
            "grid_auto_flow": null,
            "grid_auto_rows": null,
            "grid_column": null,
            "grid_gap": null,
            "grid_row": null,
            "grid_template_areas": null,
            "grid_template_columns": null,
            "grid_template_rows": null,
            "height": null,
            "justify_content": null,
            "justify_items": null,
            "left": null,
            "margin": null,
            "max_height": null,
            "max_width": null,
            "min_height": null,
            "min_width": null,
            "object_fit": null,
            "object_position": null,
            "order": null,
            "overflow": null,
            "overflow_x": null,
            "overflow_y": null,
            "padding": null,
            "right": null,
            "top": null,
            "visibility": null,
            "width": null
          }
        },
        "36a0eb0916984cceb9ba9f3f6b513854": {
          "model_module": "@jupyter-widgets/controls",
          "model_name": "DescriptionStyleModel",
          "model_module_version": "1.5.0",
          "state": {
            "_model_module": "@jupyter-widgets/controls",
            "_model_module_version": "1.5.0",
            "_model_name": "DescriptionStyleModel",
            "_view_count": null,
            "_view_module": "@jupyter-widgets/base",
            "_view_module_version": "1.2.0",
            "_view_name": "StyleView",
            "description_width": ""
          }
        },
        "9eb1e22b7862421ca5b2a962a945b39c": {
          "model_module": "@jupyter-widgets/base",
          "model_name": "LayoutModel",
          "model_module_version": "1.2.0",
          "state": {
            "_model_module": "@jupyter-widgets/base",
            "_model_module_version": "1.2.0",
            "_model_name": "LayoutModel",
            "_view_count": null,
            "_view_module": "@jupyter-widgets/base",
            "_view_module_version": "1.2.0",
            "_view_name": "LayoutView",
            "align_content": null,
            "align_items": null,
            "align_self": null,
            "border": null,
            "bottom": null,
            "display": null,
            "flex": null,
            "flex_flow": null,
            "grid_area": null,
            "grid_auto_columns": null,
            "grid_auto_flow": null,
            "grid_auto_rows": null,
            "grid_column": null,
            "grid_gap": null,
            "grid_row": null,
            "grid_template_areas": null,
            "grid_template_columns": null,
            "grid_template_rows": null,
            "height": null,
            "justify_content": null,
            "justify_items": null,
            "left": null,
            "margin": null,
            "max_height": null,
            "max_width": null,
            "min_height": null,
            "min_width": null,
            "object_fit": null,
            "object_position": null,
            "order": null,
            "overflow": null,
            "overflow_x": null,
            "overflow_y": null,
            "padding": null,
            "right": null,
            "top": null,
            "visibility": null,
            "width": null
          }
        },
        "798a2c6efbdf46f196a842c02618789a": {
          "model_module": "@jupyter-widgets/controls",
          "model_name": "ProgressStyleModel",
          "model_module_version": "1.5.0",
          "state": {
            "_model_module": "@jupyter-widgets/controls",
            "_model_module_version": "1.5.0",
            "_model_name": "ProgressStyleModel",
            "_view_count": null,
            "_view_module": "@jupyter-widgets/base",
            "_view_module_version": "1.2.0",
            "_view_name": "StyleView",
            "bar_color": null,
            "description_width": ""
          }
        },
        "e3d1ea4b580e41ddb43b69c0d4ca4257": {
          "model_module": "@jupyter-widgets/base",
          "model_name": "LayoutModel",
          "model_module_version": "1.2.0",
          "state": {
            "_model_module": "@jupyter-widgets/base",
            "_model_module_version": "1.2.0",
            "_model_name": "LayoutModel",
            "_view_count": null,
            "_view_module": "@jupyter-widgets/base",
            "_view_module_version": "1.2.0",
            "_view_name": "LayoutView",
            "align_content": null,
            "align_items": null,
            "align_self": null,
            "border": null,
            "bottom": null,
            "display": null,
            "flex": null,
            "flex_flow": null,
            "grid_area": null,
            "grid_auto_columns": null,
            "grid_auto_flow": null,
            "grid_auto_rows": null,
            "grid_column": null,
            "grid_gap": null,
            "grid_row": null,
            "grid_template_areas": null,
            "grid_template_columns": null,
            "grid_template_rows": null,
            "height": null,
            "justify_content": null,
            "justify_items": null,
            "left": null,
            "margin": null,
            "max_height": null,
            "max_width": null,
            "min_height": null,
            "min_width": null,
            "object_fit": null,
            "object_position": null,
            "order": null,
            "overflow": null,
            "overflow_x": null,
            "overflow_y": null,
            "padding": null,
            "right": null,
            "top": null,
            "visibility": null,
            "width": null
          }
        },
        "9b86218dcf5f41c7a02c749fcc5eb32b": {
          "model_module": "@jupyter-widgets/controls",
          "model_name": "DescriptionStyleModel",
          "model_module_version": "1.5.0",
          "state": {
            "_model_module": "@jupyter-widgets/controls",
            "_model_module_version": "1.5.0",
            "_model_name": "DescriptionStyleModel",
            "_view_count": null,
            "_view_module": "@jupyter-widgets/base",
            "_view_module_version": "1.2.0",
            "_view_name": "StyleView",
            "description_width": ""
          }
        },
        "2f8b01d60ebe4a2caaee6a3d9b416ff6": {
          "model_module": "@jupyter-widgets/controls",
          "model_name": "HBoxModel",
          "model_module_version": "1.5.0",
          "state": {
            "_dom_classes": [],
            "_model_module": "@jupyter-widgets/controls",
            "_model_module_version": "1.5.0",
            "_model_name": "HBoxModel",
            "_view_count": null,
            "_view_module": "@jupyter-widgets/controls",
            "_view_module_version": "1.5.0",
            "_view_name": "HBoxView",
            "box_style": "",
            "children": [
              "IPY_MODEL_749995e6228240528666f62e6144b9e2",
              "IPY_MODEL_75fa0b36bf1845c4aa6c0d799625f952",
              "IPY_MODEL_4a04319c9e8d4cccbf015c342f7f3d4f"
            ],
            "layout": "IPY_MODEL_8b46b3e481b6499a8e7322f86bb5f00b"
          }
        },
        "749995e6228240528666f62e6144b9e2": {
          "model_module": "@jupyter-widgets/controls",
          "model_name": "HTMLModel",
          "model_module_version": "1.5.0",
          "state": {
            "_dom_classes": [],
            "_model_module": "@jupyter-widgets/controls",
            "_model_module_version": "1.5.0",
            "_model_name": "HTMLModel",
            "_view_count": null,
            "_view_module": "@jupyter-widgets/controls",
            "_view_module_version": "1.5.0",
            "_view_name": "HTMLView",
            "description": "",
            "description_tooltip": null,
            "layout": "IPY_MODEL_36f0a313af43482ba936e57e5fa0c10e",
            "placeholder": "​",
            "style": "IPY_MODEL_16f0c17f5a7a44dc945ba7dfaaeff816",
            "value": "README.md: 100%"
          }
        },
        "75fa0b36bf1845c4aa6c0d799625f952": {
          "model_module": "@jupyter-widgets/controls",
          "model_name": "FloatProgressModel",
          "model_module_version": "1.5.0",
          "state": {
            "_dom_classes": [],
            "_model_module": "@jupyter-widgets/controls",
            "_model_module_version": "1.5.0",
            "_model_name": "FloatProgressModel",
            "_view_count": null,
            "_view_module": "@jupyter-widgets/controls",
            "_view_module_version": "1.5.0",
            "_view_name": "ProgressView",
            "bar_style": "success",
            "description": "",
            "description_tooltip": null,
            "layout": "IPY_MODEL_c51d27440f6a4081b6b37aa074f4686f",
            "max": 9522,
            "min": 0,
            "orientation": "horizontal",
            "style": "IPY_MODEL_e9c6f3d59e87460dbaabad3c2b104630",
            "value": 9522
          }
        },
        "4a04319c9e8d4cccbf015c342f7f3d4f": {
          "model_module": "@jupyter-widgets/controls",
          "model_name": "HTMLModel",
          "model_module_version": "1.5.0",
          "state": {
            "_dom_classes": [],
            "_model_module": "@jupyter-widgets/controls",
            "_model_module_version": "1.5.0",
            "_model_name": "HTMLModel",
            "_view_count": null,
            "_view_module": "@jupyter-widgets/controls",
            "_view_module_version": "1.5.0",
            "_view_name": "HTMLView",
            "description": "",
            "description_tooltip": null,
            "layout": "IPY_MODEL_e2dddf551dfc465586f6e5c671f0c90f",
            "placeholder": "​",
            "style": "IPY_MODEL_b127222c7df24ec18c97d3067eae6d32",
            "value": " 9.52k/9.52k [00:00&lt;00:00, 507kB/s]"
          }
        },
        "8b46b3e481b6499a8e7322f86bb5f00b": {
          "model_module": "@jupyter-widgets/base",
          "model_name": "LayoutModel",
          "model_module_version": "1.2.0",
          "state": {
            "_model_module": "@jupyter-widgets/base",
            "_model_module_version": "1.2.0",
            "_model_name": "LayoutModel",
            "_view_count": null,
            "_view_module": "@jupyter-widgets/base",
            "_view_module_version": "1.2.0",
            "_view_name": "LayoutView",
            "align_content": null,
            "align_items": null,
            "align_self": null,
            "border": null,
            "bottom": null,
            "display": null,
            "flex": null,
            "flex_flow": null,
            "grid_area": null,
            "grid_auto_columns": null,
            "grid_auto_flow": null,
            "grid_auto_rows": null,
            "grid_column": null,
            "grid_gap": null,
            "grid_row": null,
            "grid_template_areas": null,
            "grid_template_columns": null,
            "grid_template_rows": null,
            "height": null,
            "justify_content": null,
            "justify_items": null,
            "left": null,
            "margin": null,
            "max_height": null,
            "max_width": null,
            "min_height": null,
            "min_width": null,
            "object_fit": null,
            "object_position": null,
            "order": null,
            "overflow": null,
            "overflow_x": null,
            "overflow_y": null,
            "padding": null,
            "right": null,
            "top": null,
            "visibility": null,
            "width": null
          }
        },
        "36f0a313af43482ba936e57e5fa0c10e": {
          "model_module": "@jupyter-widgets/base",
          "model_name": "LayoutModel",
          "model_module_version": "1.2.0",
          "state": {
            "_model_module": "@jupyter-widgets/base",
            "_model_module_version": "1.2.0",
            "_model_name": "LayoutModel",
            "_view_count": null,
            "_view_module": "@jupyter-widgets/base",
            "_view_module_version": "1.2.0",
            "_view_name": "LayoutView",
            "align_content": null,
            "align_items": null,
            "align_self": null,
            "border": null,
            "bottom": null,
            "display": null,
            "flex": null,
            "flex_flow": null,
            "grid_area": null,
            "grid_auto_columns": null,
            "grid_auto_flow": null,
            "grid_auto_rows": null,
            "grid_column": null,
            "grid_gap": null,
            "grid_row": null,
            "grid_template_areas": null,
            "grid_template_columns": null,
            "grid_template_rows": null,
            "height": null,
            "justify_content": null,
            "justify_items": null,
            "left": null,
            "margin": null,
            "max_height": null,
            "max_width": null,
            "min_height": null,
            "min_width": null,
            "object_fit": null,
            "object_position": null,
            "order": null,
            "overflow": null,
            "overflow_x": null,
            "overflow_y": null,
            "padding": null,
            "right": null,
            "top": null,
            "visibility": null,
            "width": null
          }
        },
        "16f0c17f5a7a44dc945ba7dfaaeff816": {
          "model_module": "@jupyter-widgets/controls",
          "model_name": "DescriptionStyleModel",
          "model_module_version": "1.5.0",
          "state": {
            "_model_module": "@jupyter-widgets/controls",
            "_model_module_version": "1.5.0",
            "_model_name": "DescriptionStyleModel",
            "_view_count": null,
            "_view_module": "@jupyter-widgets/base",
            "_view_module_version": "1.2.0",
            "_view_name": "StyleView",
            "description_width": ""
          }
        },
        "c51d27440f6a4081b6b37aa074f4686f": {
          "model_module": "@jupyter-widgets/base",
          "model_name": "LayoutModel",
          "model_module_version": "1.2.0",
          "state": {
            "_model_module": "@jupyter-widgets/base",
            "_model_module_version": "1.2.0",
            "_model_name": "LayoutModel",
            "_view_count": null,
            "_view_module": "@jupyter-widgets/base",
            "_view_module_version": "1.2.0",
            "_view_name": "LayoutView",
            "align_content": null,
            "align_items": null,
            "align_self": null,
            "border": null,
            "bottom": null,
            "display": null,
            "flex": null,
            "flex_flow": null,
            "grid_area": null,
            "grid_auto_columns": null,
            "grid_auto_flow": null,
            "grid_auto_rows": null,
            "grid_column": null,
            "grid_gap": null,
            "grid_row": null,
            "grid_template_areas": null,
            "grid_template_columns": null,
            "grid_template_rows": null,
            "height": null,
            "justify_content": null,
            "justify_items": null,
            "left": null,
            "margin": null,
            "max_height": null,
            "max_width": null,
            "min_height": null,
            "min_width": null,
            "object_fit": null,
            "object_position": null,
            "order": null,
            "overflow": null,
            "overflow_x": null,
            "overflow_y": null,
            "padding": null,
            "right": null,
            "top": null,
            "visibility": null,
            "width": null
          }
        },
        "e9c6f3d59e87460dbaabad3c2b104630": {
          "model_module": "@jupyter-widgets/controls",
          "model_name": "ProgressStyleModel",
          "model_module_version": "1.5.0",
          "state": {
            "_model_module": "@jupyter-widgets/controls",
            "_model_module_version": "1.5.0",
            "_model_name": "ProgressStyleModel",
            "_view_count": null,
            "_view_module": "@jupyter-widgets/base",
            "_view_module_version": "1.2.0",
            "_view_name": "StyleView",
            "bar_color": null,
            "description_width": ""
          }
        },
        "e2dddf551dfc465586f6e5c671f0c90f": {
          "model_module": "@jupyter-widgets/base",
          "model_name": "LayoutModel",
          "model_module_version": "1.2.0",
          "state": {
            "_model_module": "@jupyter-widgets/base",
            "_model_module_version": "1.2.0",
            "_model_name": "LayoutModel",
            "_view_count": null,
            "_view_module": "@jupyter-widgets/base",
            "_view_module_version": "1.2.0",
            "_view_name": "LayoutView",
            "align_content": null,
            "align_items": null,
            "align_self": null,
            "border": null,
            "bottom": null,
            "display": null,
            "flex": null,
            "flex_flow": null,
            "grid_area": null,
            "grid_auto_columns": null,
            "grid_auto_flow": null,
            "grid_auto_rows": null,
            "grid_column": null,
            "grid_gap": null,
            "grid_row": null,
            "grid_template_areas": null,
            "grid_template_columns": null,
            "grid_template_rows": null,
            "height": null,
            "justify_content": null,
            "justify_items": null,
            "left": null,
            "margin": null,
            "max_height": null,
            "max_width": null,
            "min_height": null,
            "min_width": null,
            "object_fit": null,
            "object_position": null,
            "order": null,
            "overflow": null,
            "overflow_x": null,
            "overflow_y": null,
            "padding": null,
            "right": null,
            "top": null,
            "visibility": null,
            "width": null
          }
        },
        "b127222c7df24ec18c97d3067eae6d32": {
          "model_module": "@jupyter-widgets/controls",
          "model_name": "DescriptionStyleModel",
          "model_module_version": "1.5.0",
          "state": {
            "_model_module": "@jupyter-widgets/controls",
            "_model_module_version": "1.5.0",
            "_model_name": "DescriptionStyleModel",
            "_view_count": null,
            "_view_module": "@jupyter-widgets/base",
            "_view_module_version": "1.2.0",
            "_view_name": "StyleView",
            "description_width": ""
          }
        },
        "5f9e2707d8c3403c8d8e0ca5b7d2cf98": {
          "model_module": "@jupyter-widgets/controls",
          "model_name": "HBoxModel",
          "model_module_version": "1.5.0",
          "state": {
            "_dom_classes": [],
            "_model_module": "@jupyter-widgets/controls",
            "_model_module_version": "1.5.0",
            "_model_name": "HBoxModel",
            "_view_count": null,
            "_view_module": "@jupyter-widgets/controls",
            "_view_module_version": "1.5.0",
            "_view_name": "HBoxView",
            "box_style": "",
            "children": [
              "IPY_MODEL_6c112b7ef94e4adc8547b1f38565d7c1",
              "IPY_MODEL_e519b58aa9ce41c9a5ecd3263fdab928",
              "IPY_MODEL_92857779bff04395b1515ed7be572768"
            ],
            "layout": "IPY_MODEL_564861f222254f228ac5909b3ed8e376"
          }
        },
        "6c112b7ef94e4adc8547b1f38565d7c1": {
          "model_module": "@jupyter-widgets/controls",
          "model_name": "HTMLModel",
          "model_module_version": "1.5.0",
          "state": {
            "_dom_classes": [],
            "_model_module": "@jupyter-widgets/controls",
            "_model_module_version": "1.5.0",
            "_model_name": "HTMLModel",
            "_view_count": null,
            "_view_module": "@jupyter-widgets/controls",
            "_view_module_version": "1.5.0",
            "_view_name": "HTMLView",
            "description": "",
            "description_tooltip": null,
            "layout": "IPY_MODEL_697ecd5e1a7a4c3ea8cab8da5ca25985",
            "placeholder": "​",
            "style": "IPY_MODEL_43a307c2a3064c88ae353766aaabaf71",
            "value": "sentence_bert_config.json: 100%"
          }
        },
        "e519b58aa9ce41c9a5ecd3263fdab928": {
          "model_module": "@jupyter-widgets/controls",
          "model_name": "FloatProgressModel",
          "model_module_version": "1.5.0",
          "state": {
            "_dom_classes": [],
            "_model_module": "@jupyter-widgets/controls",
            "_model_module_version": "1.5.0",
            "_model_name": "FloatProgressModel",
            "_view_count": null,
            "_view_module": "@jupyter-widgets/controls",
            "_view_module_version": "1.5.0",
            "_view_name": "ProgressView",
            "bar_style": "success",
            "description": "",
            "description_tooltip": null,
            "layout": "IPY_MODEL_bbcb042925014b7ea8a63203e31078f5",
            "max": 53,
            "min": 0,
            "orientation": "horizontal",
            "style": "IPY_MODEL_149baf4749ff414c9c4723f4db2ecdf4",
            "value": 53
          }
        },
        "92857779bff04395b1515ed7be572768": {
          "model_module": "@jupyter-widgets/controls",
          "model_name": "HTMLModel",
          "model_module_version": "1.5.0",
          "state": {
            "_dom_classes": [],
            "_model_module": "@jupyter-widgets/controls",
            "_model_module_version": "1.5.0",
            "_model_name": "HTMLModel",
            "_view_count": null,
            "_view_module": "@jupyter-widgets/controls",
            "_view_module_version": "1.5.0",
            "_view_name": "HTMLView",
            "description": "",
            "description_tooltip": null,
            "layout": "IPY_MODEL_218aca6147304b95b6753e7535dcb0d0",
            "placeholder": "​",
            "style": "IPY_MODEL_e0054bced9274193a824f7b7d48e85f4",
            "value": " 53.0/53.0 [00:00&lt;00:00, 2.47kB/s]"
          }
        },
        "564861f222254f228ac5909b3ed8e376": {
          "model_module": "@jupyter-widgets/base",
          "model_name": "LayoutModel",
          "model_module_version": "1.2.0",
          "state": {
            "_model_module": "@jupyter-widgets/base",
            "_model_module_version": "1.2.0",
            "_model_name": "LayoutModel",
            "_view_count": null,
            "_view_module": "@jupyter-widgets/base",
            "_view_module_version": "1.2.0",
            "_view_name": "LayoutView",
            "align_content": null,
            "align_items": null,
            "align_self": null,
            "border": null,
            "bottom": null,
            "display": null,
            "flex": null,
            "flex_flow": null,
            "grid_area": null,
            "grid_auto_columns": null,
            "grid_auto_flow": null,
            "grid_auto_rows": null,
            "grid_column": null,
            "grid_gap": null,
            "grid_row": null,
            "grid_template_areas": null,
            "grid_template_columns": null,
            "grid_template_rows": null,
            "height": null,
            "justify_content": null,
            "justify_items": null,
            "left": null,
            "margin": null,
            "max_height": null,
            "max_width": null,
            "min_height": null,
            "min_width": null,
            "object_fit": null,
            "object_position": null,
            "order": null,
            "overflow": null,
            "overflow_x": null,
            "overflow_y": null,
            "padding": null,
            "right": null,
            "top": null,
            "visibility": null,
            "width": null
          }
        },
        "697ecd5e1a7a4c3ea8cab8da5ca25985": {
          "model_module": "@jupyter-widgets/base",
          "model_name": "LayoutModel",
          "model_module_version": "1.2.0",
          "state": {
            "_model_module": "@jupyter-widgets/base",
            "_model_module_version": "1.2.0",
            "_model_name": "LayoutModel",
            "_view_count": null,
            "_view_module": "@jupyter-widgets/base",
            "_view_module_version": "1.2.0",
            "_view_name": "LayoutView",
            "align_content": null,
            "align_items": null,
            "align_self": null,
            "border": null,
            "bottom": null,
            "display": null,
            "flex": null,
            "flex_flow": null,
            "grid_area": null,
            "grid_auto_columns": null,
            "grid_auto_flow": null,
            "grid_auto_rows": null,
            "grid_column": null,
            "grid_gap": null,
            "grid_row": null,
            "grid_template_areas": null,
            "grid_template_columns": null,
            "grid_template_rows": null,
            "height": null,
            "justify_content": null,
            "justify_items": null,
            "left": null,
            "margin": null,
            "max_height": null,
            "max_width": null,
            "min_height": null,
            "min_width": null,
            "object_fit": null,
            "object_position": null,
            "order": null,
            "overflow": null,
            "overflow_x": null,
            "overflow_y": null,
            "padding": null,
            "right": null,
            "top": null,
            "visibility": null,
            "width": null
          }
        },
        "43a307c2a3064c88ae353766aaabaf71": {
          "model_module": "@jupyter-widgets/controls",
          "model_name": "DescriptionStyleModel",
          "model_module_version": "1.5.0",
          "state": {
            "_model_module": "@jupyter-widgets/controls",
            "_model_module_version": "1.5.0",
            "_model_name": "DescriptionStyleModel",
            "_view_count": null,
            "_view_module": "@jupyter-widgets/base",
            "_view_module_version": "1.2.0",
            "_view_name": "StyleView",
            "description_width": ""
          }
        },
        "bbcb042925014b7ea8a63203e31078f5": {
          "model_module": "@jupyter-widgets/base",
          "model_name": "LayoutModel",
          "model_module_version": "1.2.0",
          "state": {
            "_model_module": "@jupyter-widgets/base",
            "_model_module_version": "1.2.0",
            "_model_name": "LayoutModel",
            "_view_count": null,
            "_view_module": "@jupyter-widgets/base",
            "_view_module_version": "1.2.0",
            "_view_name": "LayoutView",
            "align_content": null,
            "align_items": null,
            "align_self": null,
            "border": null,
            "bottom": null,
            "display": null,
            "flex": null,
            "flex_flow": null,
            "grid_area": null,
            "grid_auto_columns": null,
            "grid_auto_flow": null,
            "grid_auto_rows": null,
            "grid_column": null,
            "grid_gap": null,
            "grid_row": null,
            "grid_template_areas": null,
            "grid_template_columns": null,
            "grid_template_rows": null,
            "height": null,
            "justify_content": null,
            "justify_items": null,
            "left": null,
            "margin": null,
            "max_height": null,
            "max_width": null,
            "min_height": null,
            "min_width": null,
            "object_fit": null,
            "object_position": null,
            "order": null,
            "overflow": null,
            "overflow_x": null,
            "overflow_y": null,
            "padding": null,
            "right": null,
            "top": null,
            "visibility": null,
            "width": null
          }
        },
        "149baf4749ff414c9c4723f4db2ecdf4": {
          "model_module": "@jupyter-widgets/controls",
          "model_name": "ProgressStyleModel",
          "model_module_version": "1.5.0",
          "state": {
            "_model_module": "@jupyter-widgets/controls",
            "_model_module_version": "1.5.0",
            "_model_name": "ProgressStyleModel",
            "_view_count": null,
            "_view_module": "@jupyter-widgets/base",
            "_view_module_version": "1.2.0",
            "_view_name": "StyleView",
            "bar_color": null,
            "description_width": ""
          }
        },
        "218aca6147304b95b6753e7535dcb0d0": {
          "model_module": "@jupyter-widgets/base",
          "model_name": "LayoutModel",
          "model_module_version": "1.2.0",
          "state": {
            "_model_module": "@jupyter-widgets/base",
            "_model_module_version": "1.2.0",
            "_model_name": "LayoutModel",
            "_view_count": null,
            "_view_module": "@jupyter-widgets/base",
            "_view_module_version": "1.2.0",
            "_view_name": "LayoutView",
            "align_content": null,
            "align_items": null,
            "align_self": null,
            "border": null,
            "bottom": null,
            "display": null,
            "flex": null,
            "flex_flow": null,
            "grid_area": null,
            "grid_auto_columns": null,
            "grid_auto_flow": null,
            "grid_auto_rows": null,
            "grid_column": null,
            "grid_gap": null,
            "grid_row": null,
            "grid_template_areas": null,
            "grid_template_columns": null,
            "grid_template_rows": null,
            "height": null,
            "justify_content": null,
            "justify_items": null,
            "left": null,
            "margin": null,
            "max_height": null,
            "max_width": null,
            "min_height": null,
            "min_width": null,
            "object_fit": null,
            "object_position": null,
            "order": null,
            "overflow": null,
            "overflow_x": null,
            "overflow_y": null,
            "padding": null,
            "right": null,
            "top": null,
            "visibility": null,
            "width": null
          }
        },
        "e0054bced9274193a824f7b7d48e85f4": {
          "model_module": "@jupyter-widgets/controls",
          "model_name": "DescriptionStyleModel",
          "model_module_version": "1.5.0",
          "state": {
            "_model_module": "@jupyter-widgets/controls",
            "_model_module_version": "1.5.0",
            "_model_name": "DescriptionStyleModel",
            "_view_count": null,
            "_view_module": "@jupyter-widgets/base",
            "_view_module_version": "1.2.0",
            "_view_name": "StyleView",
            "description_width": ""
          }
        },
        "1eead6ed79244862a03f29ce715ec5e6": {
          "model_module": "@jupyter-widgets/controls",
          "model_name": "HBoxModel",
          "model_module_version": "1.5.0",
          "state": {
            "_dom_classes": [],
            "_model_module": "@jupyter-widgets/controls",
            "_model_module_version": "1.5.0",
            "_model_name": "HBoxModel",
            "_view_count": null,
            "_view_module": "@jupyter-widgets/controls",
            "_view_module_version": "1.5.0",
            "_view_name": "HBoxView",
            "box_style": "",
            "children": [
              "IPY_MODEL_19c62f9019df4115a287fdc9df11c776",
              "IPY_MODEL_67c9fe7379f44137ba9716717a8b91a4",
              "IPY_MODEL_91b99c83c45c4ae7ba959e98e462cb4d"
            ],
            "layout": "IPY_MODEL_67994f99a9ca4c8f99c37e2889a56633"
          }
        },
        "19c62f9019df4115a287fdc9df11c776": {
          "model_module": "@jupyter-widgets/controls",
          "model_name": "HTMLModel",
          "model_module_version": "1.5.0",
          "state": {
            "_dom_classes": [],
            "_model_module": "@jupyter-widgets/controls",
            "_model_module_version": "1.5.0",
            "_model_name": "HTMLModel",
            "_view_count": null,
            "_view_module": "@jupyter-widgets/controls",
            "_view_module_version": "1.5.0",
            "_view_name": "HTMLView",
            "description": "",
            "description_tooltip": null,
            "layout": "IPY_MODEL_9c2a84f3f92e41a78fb07467a72057cb",
            "placeholder": "​",
            "style": "IPY_MODEL_ac880159ab0541fab071487d6ccf76e4",
            "value": "config.json: 100%"
          }
        },
        "67c9fe7379f44137ba9716717a8b91a4": {
          "model_module": "@jupyter-widgets/controls",
          "model_name": "FloatProgressModel",
          "model_module_version": "1.5.0",
          "state": {
            "_dom_classes": [],
            "_model_module": "@jupyter-widgets/controls",
            "_model_module_version": "1.5.0",
            "_model_name": "FloatProgressModel",
            "_view_count": null,
            "_view_module": "@jupyter-widgets/controls",
            "_view_module_version": "1.5.0",
            "_view_name": "ProgressView",
            "bar_style": "success",
            "description": "",
            "description_tooltip": null,
            "layout": "IPY_MODEL_522c9bfb55f644509d75c8b073ecf35f",
            "max": 523,
            "min": 0,
            "orientation": "horizontal",
            "style": "IPY_MODEL_1ad49971aab14cb69b556a66919173f5",
            "value": 523
          }
        },
        "91b99c83c45c4ae7ba959e98e462cb4d": {
          "model_module": "@jupyter-widgets/controls",
          "model_name": "HTMLModel",
          "model_module_version": "1.5.0",
          "state": {
            "_dom_classes": [],
            "_model_module": "@jupyter-widgets/controls",
            "_model_module_version": "1.5.0",
            "_model_name": "HTMLModel",
            "_view_count": null,
            "_view_module": "@jupyter-widgets/controls",
            "_view_module_version": "1.5.0",
            "_view_name": "HTMLView",
            "description": "",
            "description_tooltip": null,
            "layout": "IPY_MODEL_58dc7873212145f987187d72dac0c551",
            "placeholder": "​",
            "style": "IPY_MODEL_cd3188c12d99446490a63277a7386edd",
            "value": " 523/523 [00:00&lt;00:00, 11.5kB/s]"
          }
        },
        "67994f99a9ca4c8f99c37e2889a56633": {
          "model_module": "@jupyter-widgets/base",
          "model_name": "LayoutModel",
          "model_module_version": "1.2.0",
          "state": {
            "_model_module": "@jupyter-widgets/base",
            "_model_module_version": "1.2.0",
            "_model_name": "LayoutModel",
            "_view_count": null,
            "_view_module": "@jupyter-widgets/base",
            "_view_module_version": "1.2.0",
            "_view_name": "LayoutView",
            "align_content": null,
            "align_items": null,
            "align_self": null,
            "border": null,
            "bottom": null,
            "display": null,
            "flex": null,
            "flex_flow": null,
            "grid_area": null,
            "grid_auto_columns": null,
            "grid_auto_flow": null,
            "grid_auto_rows": null,
            "grid_column": null,
            "grid_gap": null,
            "grid_row": null,
            "grid_template_areas": null,
            "grid_template_columns": null,
            "grid_template_rows": null,
            "height": null,
            "justify_content": null,
            "justify_items": null,
            "left": null,
            "margin": null,
            "max_height": null,
            "max_width": null,
            "min_height": null,
            "min_width": null,
            "object_fit": null,
            "object_position": null,
            "order": null,
            "overflow": null,
            "overflow_x": null,
            "overflow_y": null,
            "padding": null,
            "right": null,
            "top": null,
            "visibility": null,
            "width": null
          }
        },
        "9c2a84f3f92e41a78fb07467a72057cb": {
          "model_module": "@jupyter-widgets/base",
          "model_name": "LayoutModel",
          "model_module_version": "1.2.0",
          "state": {
            "_model_module": "@jupyter-widgets/base",
            "_model_module_version": "1.2.0",
            "_model_name": "LayoutModel",
            "_view_count": null,
            "_view_module": "@jupyter-widgets/base",
            "_view_module_version": "1.2.0",
            "_view_name": "LayoutView",
            "align_content": null,
            "align_items": null,
            "align_self": null,
            "border": null,
            "bottom": null,
            "display": null,
            "flex": null,
            "flex_flow": null,
            "grid_area": null,
            "grid_auto_columns": null,
            "grid_auto_flow": null,
            "grid_auto_rows": null,
            "grid_column": null,
            "grid_gap": null,
            "grid_row": null,
            "grid_template_areas": null,
            "grid_template_columns": null,
            "grid_template_rows": null,
            "height": null,
            "justify_content": null,
            "justify_items": null,
            "left": null,
            "margin": null,
            "max_height": null,
            "max_width": null,
            "min_height": null,
            "min_width": null,
            "object_fit": null,
            "object_position": null,
            "order": null,
            "overflow": null,
            "overflow_x": null,
            "overflow_y": null,
            "padding": null,
            "right": null,
            "top": null,
            "visibility": null,
            "width": null
          }
        },
        "ac880159ab0541fab071487d6ccf76e4": {
          "model_module": "@jupyter-widgets/controls",
          "model_name": "DescriptionStyleModel",
          "model_module_version": "1.5.0",
          "state": {
            "_model_module": "@jupyter-widgets/controls",
            "_model_module_version": "1.5.0",
            "_model_name": "DescriptionStyleModel",
            "_view_count": null,
            "_view_module": "@jupyter-widgets/base",
            "_view_module_version": "1.2.0",
            "_view_name": "StyleView",
            "description_width": ""
          }
        },
        "522c9bfb55f644509d75c8b073ecf35f": {
          "model_module": "@jupyter-widgets/base",
          "model_name": "LayoutModel",
          "model_module_version": "1.2.0",
          "state": {
            "_model_module": "@jupyter-widgets/base",
            "_model_module_version": "1.2.0",
            "_model_name": "LayoutModel",
            "_view_count": null,
            "_view_module": "@jupyter-widgets/base",
            "_view_module_version": "1.2.0",
            "_view_name": "LayoutView",
            "align_content": null,
            "align_items": null,
            "align_self": null,
            "border": null,
            "bottom": null,
            "display": null,
            "flex": null,
            "flex_flow": null,
            "grid_area": null,
            "grid_auto_columns": null,
            "grid_auto_flow": null,
            "grid_auto_rows": null,
            "grid_column": null,
            "grid_gap": null,
            "grid_row": null,
            "grid_template_areas": null,
            "grid_template_columns": null,
            "grid_template_rows": null,
            "height": null,
            "justify_content": null,
            "justify_items": null,
            "left": null,
            "margin": null,
            "max_height": null,
            "max_width": null,
            "min_height": null,
            "min_width": null,
            "object_fit": null,
            "object_position": null,
            "order": null,
            "overflow": null,
            "overflow_x": null,
            "overflow_y": null,
            "padding": null,
            "right": null,
            "top": null,
            "visibility": null,
            "width": null
          }
        },
        "1ad49971aab14cb69b556a66919173f5": {
          "model_module": "@jupyter-widgets/controls",
          "model_name": "ProgressStyleModel",
          "model_module_version": "1.5.0",
          "state": {
            "_model_module": "@jupyter-widgets/controls",
            "_model_module_version": "1.5.0",
            "_model_name": "ProgressStyleModel",
            "_view_count": null,
            "_view_module": "@jupyter-widgets/base",
            "_view_module_version": "1.2.0",
            "_view_name": "StyleView",
            "bar_color": null,
            "description_width": ""
          }
        },
        "58dc7873212145f987187d72dac0c551": {
          "model_module": "@jupyter-widgets/base",
          "model_name": "LayoutModel",
          "model_module_version": "1.2.0",
          "state": {
            "_model_module": "@jupyter-widgets/base",
            "_model_module_version": "1.2.0",
            "_model_name": "LayoutModel",
            "_view_count": null,
            "_view_module": "@jupyter-widgets/base",
            "_view_module_version": "1.2.0",
            "_view_name": "LayoutView",
            "align_content": null,
            "align_items": null,
            "align_self": null,
            "border": null,
            "bottom": null,
            "display": null,
            "flex": null,
            "flex_flow": null,
            "grid_area": null,
            "grid_auto_columns": null,
            "grid_auto_flow": null,
            "grid_auto_rows": null,
            "grid_column": null,
            "grid_gap": null,
            "grid_row": null,
            "grid_template_areas": null,
            "grid_template_columns": null,
            "grid_template_rows": null,
            "height": null,
            "justify_content": null,
            "justify_items": null,
            "left": null,
            "margin": null,
            "max_height": null,
            "max_width": null,
            "min_height": null,
            "min_width": null,
            "object_fit": null,
            "object_position": null,
            "order": null,
            "overflow": null,
            "overflow_x": null,
            "overflow_y": null,
            "padding": null,
            "right": null,
            "top": null,
            "visibility": null,
            "width": null
          }
        },
        "cd3188c12d99446490a63277a7386edd": {
          "model_module": "@jupyter-widgets/controls",
          "model_name": "DescriptionStyleModel",
          "model_module_version": "1.5.0",
          "state": {
            "_model_module": "@jupyter-widgets/controls",
            "_model_module_version": "1.5.0",
            "_model_name": "DescriptionStyleModel",
            "_view_count": null,
            "_view_module": "@jupyter-widgets/base",
            "_view_module_version": "1.2.0",
            "_view_name": "StyleView",
            "description_width": ""
          }
        },
        "fa7b71f17d7f4c7cbbe09c47aee10b0d": {
          "model_module": "@jupyter-widgets/controls",
          "model_name": "HBoxModel",
          "model_module_version": "1.5.0",
          "state": {
            "_dom_classes": [],
            "_model_module": "@jupyter-widgets/controls",
            "_model_module_version": "1.5.0",
            "_model_name": "HBoxModel",
            "_view_count": null,
            "_view_module": "@jupyter-widgets/controls",
            "_view_module_version": "1.5.0",
            "_view_name": "HBoxView",
            "box_style": "",
            "children": [
              "IPY_MODEL_8113568850234e05aa1409e171a974e5",
              "IPY_MODEL_c4b78ca3a7fa4d1a979014b3fdaa5cce",
              "IPY_MODEL_420b78f8a1c84c7e8fbb564d8c3d503c"
            ],
            "layout": "IPY_MODEL_b95cf324b2874f6994666cea58ae12f9"
          }
        },
        "8113568850234e05aa1409e171a974e5": {
          "model_module": "@jupyter-widgets/controls",
          "model_name": "HTMLModel",
          "model_module_version": "1.5.0",
          "state": {
            "_dom_classes": [],
            "_model_module": "@jupyter-widgets/controls",
            "_model_module_version": "1.5.0",
            "_model_name": "HTMLModel",
            "_view_count": null,
            "_view_module": "@jupyter-widgets/controls",
            "_view_module_version": "1.5.0",
            "_view_name": "HTMLView",
            "description": "",
            "description_tooltip": null,
            "layout": "IPY_MODEL_32bfecbdb9ca483fb2b1113a22168928",
            "placeholder": "​",
            "style": "IPY_MODEL_6c46d34a8ce345e39caeb9a0d739f47a",
            "value": "model.safetensors: 100%"
          }
        },
        "c4b78ca3a7fa4d1a979014b3fdaa5cce": {
          "model_module": "@jupyter-widgets/controls",
          "model_name": "FloatProgressModel",
          "model_module_version": "1.5.0",
          "state": {
            "_dom_classes": [],
            "_model_module": "@jupyter-widgets/controls",
            "_model_module_version": "1.5.0",
            "_model_name": "FloatProgressModel",
            "_view_count": null,
            "_view_module": "@jupyter-widgets/controls",
            "_view_module_version": "1.5.0",
            "_view_name": "ProgressView",
            "bar_style": "success",
            "description": "",
            "description_tooltip": null,
            "layout": "IPY_MODEL_c32030ebe00c4c828bee876b5031d60d",
            "max": 265462608,
            "min": 0,
            "orientation": "horizontal",
            "style": "IPY_MODEL_cdd47f38ab9842a684d9fae5738d22a0",
            "value": 265462608
          }
        },
        "420b78f8a1c84c7e8fbb564d8c3d503c": {
          "model_module": "@jupyter-widgets/controls",
          "model_name": "HTMLModel",
          "model_module_version": "1.5.0",
          "state": {
            "_dom_classes": [],
            "_model_module": "@jupyter-widgets/controls",
            "_model_module_version": "1.5.0",
            "_model_name": "HTMLModel",
            "_view_count": null,
            "_view_module": "@jupyter-widgets/controls",
            "_view_module_version": "1.5.0",
            "_view_name": "HTMLView",
            "description": "",
            "description_tooltip": null,
            "layout": "IPY_MODEL_f03b0211b8f846b78235f6cd99374047",
            "placeholder": "​",
            "style": "IPY_MODEL_ffebadadc25a40619c15802584ff7fec",
            "value": " 265M/265M [00:05&lt;00:00, 125MB/s]"
          }
        },
        "b95cf324b2874f6994666cea58ae12f9": {
          "model_module": "@jupyter-widgets/base",
          "model_name": "LayoutModel",
          "model_module_version": "1.2.0",
          "state": {
            "_model_module": "@jupyter-widgets/base",
            "_model_module_version": "1.2.0",
            "_model_name": "LayoutModel",
            "_view_count": null,
            "_view_module": "@jupyter-widgets/base",
            "_view_module_version": "1.2.0",
            "_view_name": "LayoutView",
            "align_content": null,
            "align_items": null,
            "align_self": null,
            "border": null,
            "bottom": null,
            "display": null,
            "flex": null,
            "flex_flow": null,
            "grid_area": null,
            "grid_auto_columns": null,
            "grid_auto_flow": null,
            "grid_auto_rows": null,
            "grid_column": null,
            "grid_gap": null,
            "grid_row": null,
            "grid_template_areas": null,
            "grid_template_columns": null,
            "grid_template_rows": null,
            "height": null,
            "justify_content": null,
            "justify_items": null,
            "left": null,
            "margin": null,
            "max_height": null,
            "max_width": null,
            "min_height": null,
            "min_width": null,
            "object_fit": null,
            "object_position": null,
            "order": null,
            "overflow": null,
            "overflow_x": null,
            "overflow_y": null,
            "padding": null,
            "right": null,
            "top": null,
            "visibility": null,
            "width": null
          }
        },
        "32bfecbdb9ca483fb2b1113a22168928": {
          "model_module": "@jupyter-widgets/base",
          "model_name": "LayoutModel",
          "model_module_version": "1.2.0",
          "state": {
            "_model_module": "@jupyter-widgets/base",
            "_model_module_version": "1.2.0",
            "_model_name": "LayoutModel",
            "_view_count": null,
            "_view_module": "@jupyter-widgets/base",
            "_view_module_version": "1.2.0",
            "_view_name": "LayoutView",
            "align_content": null,
            "align_items": null,
            "align_self": null,
            "border": null,
            "bottom": null,
            "display": null,
            "flex": null,
            "flex_flow": null,
            "grid_area": null,
            "grid_auto_columns": null,
            "grid_auto_flow": null,
            "grid_auto_rows": null,
            "grid_column": null,
            "grid_gap": null,
            "grid_row": null,
            "grid_template_areas": null,
            "grid_template_columns": null,
            "grid_template_rows": null,
            "height": null,
            "justify_content": null,
            "justify_items": null,
            "left": null,
            "margin": null,
            "max_height": null,
            "max_width": null,
            "min_height": null,
            "min_width": null,
            "object_fit": null,
            "object_position": null,
            "order": null,
            "overflow": null,
            "overflow_x": null,
            "overflow_y": null,
            "padding": null,
            "right": null,
            "top": null,
            "visibility": null,
            "width": null
          }
        },
        "6c46d34a8ce345e39caeb9a0d739f47a": {
          "model_module": "@jupyter-widgets/controls",
          "model_name": "DescriptionStyleModel",
          "model_module_version": "1.5.0",
          "state": {
            "_model_module": "@jupyter-widgets/controls",
            "_model_module_version": "1.5.0",
            "_model_name": "DescriptionStyleModel",
            "_view_count": null,
            "_view_module": "@jupyter-widgets/base",
            "_view_module_version": "1.2.0",
            "_view_name": "StyleView",
            "description_width": ""
          }
        },
        "c32030ebe00c4c828bee876b5031d60d": {
          "model_module": "@jupyter-widgets/base",
          "model_name": "LayoutModel",
          "model_module_version": "1.2.0",
          "state": {
            "_model_module": "@jupyter-widgets/base",
            "_model_module_version": "1.2.0",
            "_model_name": "LayoutModel",
            "_view_count": null,
            "_view_module": "@jupyter-widgets/base",
            "_view_module_version": "1.2.0",
            "_view_name": "LayoutView",
            "align_content": null,
            "align_items": null,
            "align_self": null,
            "border": null,
            "bottom": null,
            "display": null,
            "flex": null,
            "flex_flow": null,
            "grid_area": null,
            "grid_auto_columns": null,
            "grid_auto_flow": null,
            "grid_auto_rows": null,
            "grid_column": null,
            "grid_gap": null,
            "grid_row": null,
            "grid_template_areas": null,
            "grid_template_columns": null,
            "grid_template_rows": null,
            "height": null,
            "justify_content": null,
            "justify_items": null,
            "left": null,
            "margin": null,
            "max_height": null,
            "max_width": null,
            "min_height": null,
            "min_width": null,
            "object_fit": null,
            "object_position": null,
            "order": null,
            "overflow": null,
            "overflow_x": null,
            "overflow_y": null,
            "padding": null,
            "right": null,
            "top": null,
            "visibility": null,
            "width": null
          }
        },
        "cdd47f38ab9842a684d9fae5738d22a0": {
          "model_module": "@jupyter-widgets/controls",
          "model_name": "ProgressStyleModel",
          "model_module_version": "1.5.0",
          "state": {
            "_model_module": "@jupyter-widgets/controls",
            "_model_module_version": "1.5.0",
            "_model_name": "ProgressStyleModel",
            "_view_count": null,
            "_view_module": "@jupyter-widgets/base",
            "_view_module_version": "1.2.0",
            "_view_name": "StyleView",
            "bar_color": null,
            "description_width": ""
          }
        },
        "f03b0211b8f846b78235f6cd99374047": {
          "model_module": "@jupyter-widgets/base",
          "model_name": "LayoutModel",
          "model_module_version": "1.2.0",
          "state": {
            "_model_module": "@jupyter-widgets/base",
            "_model_module_version": "1.2.0",
            "_model_name": "LayoutModel",
            "_view_count": null,
            "_view_module": "@jupyter-widgets/base",
            "_view_module_version": "1.2.0",
            "_view_name": "LayoutView",
            "align_content": null,
            "align_items": null,
            "align_self": null,
            "border": null,
            "bottom": null,
            "display": null,
            "flex": null,
            "flex_flow": null,
            "grid_area": null,
            "grid_auto_columns": null,
            "grid_auto_flow": null,
            "grid_auto_rows": null,
            "grid_column": null,
            "grid_gap": null,
            "grid_row": null,
            "grid_template_areas": null,
            "grid_template_columns": null,
            "grid_template_rows": null,
            "height": null,
            "justify_content": null,
            "justify_items": null,
            "left": null,
            "margin": null,
            "max_height": null,
            "max_width": null,
            "min_height": null,
            "min_width": null,
            "object_fit": null,
            "object_position": null,
            "order": null,
            "overflow": null,
            "overflow_x": null,
            "overflow_y": null,
            "padding": null,
            "right": null,
            "top": null,
            "visibility": null,
            "width": null
          }
        },
        "ffebadadc25a40619c15802584ff7fec": {
          "model_module": "@jupyter-widgets/controls",
          "model_name": "DescriptionStyleModel",
          "model_module_version": "1.5.0",
          "state": {
            "_model_module": "@jupyter-widgets/controls",
            "_model_module_version": "1.5.0",
            "_model_name": "DescriptionStyleModel",
            "_view_count": null,
            "_view_module": "@jupyter-widgets/base",
            "_view_module_version": "1.2.0",
            "_view_name": "StyleView",
            "description_width": ""
          }
        },
        "aec47efc80e04f56b14b010fc1e45722": {
          "model_module": "@jupyter-widgets/controls",
          "model_name": "HBoxModel",
          "model_module_version": "1.5.0",
          "state": {
            "_dom_classes": [],
            "_model_module": "@jupyter-widgets/controls",
            "_model_module_version": "1.5.0",
            "_model_name": "HBoxModel",
            "_view_count": null,
            "_view_module": "@jupyter-widgets/controls",
            "_view_module_version": "1.5.0",
            "_view_name": "HBoxView",
            "box_style": "",
            "children": [
              "IPY_MODEL_41d92b79c8114382857b7a9cff4d3103",
              "IPY_MODEL_f4dd41e3aaf94ecf9a5db68b01fdc0b7",
              "IPY_MODEL_047eb448f2d74e908711232749eaea96"
            ],
            "layout": "IPY_MODEL_a113e1443c9b4a1da8633071f83a8f2b"
          }
        },
        "41d92b79c8114382857b7a9cff4d3103": {
          "model_module": "@jupyter-widgets/controls",
          "model_name": "HTMLModel",
          "model_module_version": "1.5.0",
          "state": {
            "_dom_classes": [],
            "_model_module": "@jupyter-widgets/controls",
            "_model_module_version": "1.5.0",
            "_model_name": "HTMLModel",
            "_view_count": null,
            "_view_module": "@jupyter-widgets/controls",
            "_view_module_version": "1.5.0",
            "_view_name": "HTMLView",
            "description": "",
            "description_tooltip": null,
            "layout": "IPY_MODEL_a9ef9b6f7c164717960b80eeb5e3e3ab",
            "placeholder": "​",
            "style": "IPY_MODEL_188e7adcfa384ff7ae05f4c8e8e90825",
            "value": "tokenizer_config.json: 100%"
          }
        },
        "f4dd41e3aaf94ecf9a5db68b01fdc0b7": {
          "model_module": "@jupyter-widgets/controls",
          "model_name": "FloatProgressModel",
          "model_module_version": "1.5.0",
          "state": {
            "_dom_classes": [],
            "_model_module": "@jupyter-widgets/controls",
            "_model_module_version": "1.5.0",
            "_model_name": "FloatProgressModel",
            "_view_count": null,
            "_view_module": "@jupyter-widgets/controls",
            "_view_module_version": "1.5.0",
            "_view_name": "ProgressView",
            "bar_style": "success",
            "description": "",
            "description_tooltip": null,
            "layout": "IPY_MODEL_11f18c91028e414daa15cc2a0c4959c4",
            "max": 333,
            "min": 0,
            "orientation": "horizontal",
            "style": "IPY_MODEL_ec78e1bf28a34b45808ef76e8af69059",
            "value": 333
          }
        },
        "047eb448f2d74e908711232749eaea96": {
          "model_module": "@jupyter-widgets/controls",
          "model_name": "HTMLModel",
          "model_module_version": "1.5.0",
          "state": {
            "_dom_classes": [],
            "_model_module": "@jupyter-widgets/controls",
            "_model_module_version": "1.5.0",
            "_model_name": "HTMLModel",
            "_view_count": null,
            "_view_module": "@jupyter-widgets/controls",
            "_view_module_version": "1.5.0",
            "_view_name": "HTMLView",
            "description": "",
            "description_tooltip": null,
            "layout": "IPY_MODEL_1b0786a9fced41daae8829d2dc7253a5",
            "placeholder": "​",
            "style": "IPY_MODEL_e9c93b8a917745e2b2c615d7e847ab41",
            "value": " 333/333 [00:00&lt;00:00, 15.5kB/s]"
          }
        },
        "a113e1443c9b4a1da8633071f83a8f2b": {
          "model_module": "@jupyter-widgets/base",
          "model_name": "LayoutModel",
          "model_module_version": "1.2.0",
          "state": {
            "_model_module": "@jupyter-widgets/base",
            "_model_module_version": "1.2.0",
            "_model_name": "LayoutModel",
            "_view_count": null,
            "_view_module": "@jupyter-widgets/base",
            "_view_module_version": "1.2.0",
            "_view_name": "LayoutView",
            "align_content": null,
            "align_items": null,
            "align_self": null,
            "border": null,
            "bottom": null,
            "display": null,
            "flex": null,
            "flex_flow": null,
            "grid_area": null,
            "grid_auto_columns": null,
            "grid_auto_flow": null,
            "grid_auto_rows": null,
            "grid_column": null,
            "grid_gap": null,
            "grid_row": null,
            "grid_template_areas": null,
            "grid_template_columns": null,
            "grid_template_rows": null,
            "height": null,
            "justify_content": null,
            "justify_items": null,
            "left": null,
            "margin": null,
            "max_height": null,
            "max_width": null,
            "min_height": null,
            "min_width": null,
            "object_fit": null,
            "object_position": null,
            "order": null,
            "overflow": null,
            "overflow_x": null,
            "overflow_y": null,
            "padding": null,
            "right": null,
            "top": null,
            "visibility": null,
            "width": null
          }
        },
        "a9ef9b6f7c164717960b80eeb5e3e3ab": {
          "model_module": "@jupyter-widgets/base",
          "model_name": "LayoutModel",
          "model_module_version": "1.2.0",
          "state": {
            "_model_module": "@jupyter-widgets/base",
            "_model_module_version": "1.2.0",
            "_model_name": "LayoutModel",
            "_view_count": null,
            "_view_module": "@jupyter-widgets/base",
            "_view_module_version": "1.2.0",
            "_view_name": "LayoutView",
            "align_content": null,
            "align_items": null,
            "align_self": null,
            "border": null,
            "bottom": null,
            "display": null,
            "flex": null,
            "flex_flow": null,
            "grid_area": null,
            "grid_auto_columns": null,
            "grid_auto_flow": null,
            "grid_auto_rows": null,
            "grid_column": null,
            "grid_gap": null,
            "grid_row": null,
            "grid_template_areas": null,
            "grid_template_columns": null,
            "grid_template_rows": null,
            "height": null,
            "justify_content": null,
            "justify_items": null,
            "left": null,
            "margin": null,
            "max_height": null,
            "max_width": null,
            "min_height": null,
            "min_width": null,
            "object_fit": null,
            "object_position": null,
            "order": null,
            "overflow": null,
            "overflow_x": null,
            "overflow_y": null,
            "padding": null,
            "right": null,
            "top": null,
            "visibility": null,
            "width": null
          }
        },
        "188e7adcfa384ff7ae05f4c8e8e90825": {
          "model_module": "@jupyter-widgets/controls",
          "model_name": "DescriptionStyleModel",
          "model_module_version": "1.5.0",
          "state": {
            "_model_module": "@jupyter-widgets/controls",
            "_model_module_version": "1.5.0",
            "_model_name": "DescriptionStyleModel",
            "_view_count": null,
            "_view_module": "@jupyter-widgets/base",
            "_view_module_version": "1.2.0",
            "_view_name": "StyleView",
            "description_width": ""
          }
        },
        "11f18c91028e414daa15cc2a0c4959c4": {
          "model_module": "@jupyter-widgets/base",
          "model_name": "LayoutModel",
          "model_module_version": "1.2.0",
          "state": {
            "_model_module": "@jupyter-widgets/base",
            "_model_module_version": "1.2.0",
            "_model_name": "LayoutModel",
            "_view_count": null,
            "_view_module": "@jupyter-widgets/base",
            "_view_module_version": "1.2.0",
            "_view_name": "LayoutView",
            "align_content": null,
            "align_items": null,
            "align_self": null,
            "border": null,
            "bottom": null,
            "display": null,
            "flex": null,
            "flex_flow": null,
            "grid_area": null,
            "grid_auto_columns": null,
            "grid_auto_flow": null,
            "grid_auto_rows": null,
            "grid_column": null,
            "grid_gap": null,
            "grid_row": null,
            "grid_template_areas": null,
            "grid_template_columns": null,
            "grid_template_rows": null,
            "height": null,
            "justify_content": null,
            "justify_items": null,
            "left": null,
            "margin": null,
            "max_height": null,
            "max_width": null,
            "min_height": null,
            "min_width": null,
            "object_fit": null,
            "object_position": null,
            "order": null,
            "overflow": null,
            "overflow_x": null,
            "overflow_y": null,
            "padding": null,
            "right": null,
            "top": null,
            "visibility": null,
            "width": null
          }
        },
        "ec78e1bf28a34b45808ef76e8af69059": {
          "model_module": "@jupyter-widgets/controls",
          "model_name": "ProgressStyleModel",
          "model_module_version": "1.5.0",
          "state": {
            "_model_module": "@jupyter-widgets/controls",
            "_model_module_version": "1.5.0",
            "_model_name": "ProgressStyleModel",
            "_view_count": null,
            "_view_module": "@jupyter-widgets/base",
            "_view_module_version": "1.2.0",
            "_view_name": "StyleView",
            "bar_color": null,
            "description_width": ""
          }
        },
        "1b0786a9fced41daae8829d2dc7253a5": {
          "model_module": "@jupyter-widgets/base",
          "model_name": "LayoutModel",
          "model_module_version": "1.2.0",
          "state": {
            "_model_module": "@jupyter-widgets/base",
            "_model_module_version": "1.2.0",
            "_model_name": "LayoutModel",
            "_view_count": null,
            "_view_module": "@jupyter-widgets/base",
            "_view_module_version": "1.2.0",
            "_view_name": "LayoutView",
            "align_content": null,
            "align_items": null,
            "align_self": null,
            "border": null,
            "bottom": null,
            "display": null,
            "flex": null,
            "flex_flow": null,
            "grid_area": null,
            "grid_auto_columns": null,
            "grid_auto_flow": null,
            "grid_auto_rows": null,
            "grid_column": null,
            "grid_gap": null,
            "grid_row": null,
            "grid_template_areas": null,
            "grid_template_columns": null,
            "grid_template_rows": null,
            "height": null,
            "justify_content": null,
            "justify_items": null,
            "left": null,
            "margin": null,
            "max_height": null,
            "max_width": null,
            "min_height": null,
            "min_width": null,
            "object_fit": null,
            "object_position": null,
            "order": null,
            "overflow": null,
            "overflow_x": null,
            "overflow_y": null,
            "padding": null,
            "right": null,
            "top": null,
            "visibility": null,
            "width": null
          }
        },
        "e9c93b8a917745e2b2c615d7e847ab41": {
          "model_module": "@jupyter-widgets/controls",
          "model_name": "DescriptionStyleModel",
          "model_module_version": "1.5.0",
          "state": {
            "_model_module": "@jupyter-widgets/controls",
            "_model_module_version": "1.5.0",
            "_model_name": "DescriptionStyleModel",
            "_view_count": null,
            "_view_module": "@jupyter-widgets/base",
            "_view_module_version": "1.2.0",
            "_view_name": "StyleView",
            "description_width": ""
          }
        },
        "7dd8c33e01c146ecba4944129d038ef3": {
          "model_module": "@jupyter-widgets/controls",
          "model_name": "HBoxModel",
          "model_module_version": "1.5.0",
          "state": {
            "_dom_classes": [],
            "_model_module": "@jupyter-widgets/controls",
            "_model_module_version": "1.5.0",
            "_model_name": "HBoxModel",
            "_view_count": null,
            "_view_module": "@jupyter-widgets/controls",
            "_view_module_version": "1.5.0",
            "_view_name": "HBoxView",
            "box_style": "",
            "children": [
              "IPY_MODEL_a50f8eaeee3a46afbae1c85e4eafd426",
              "IPY_MODEL_70dad802cbed4130bab27f997125a501",
              "IPY_MODEL_244d078e37974ac28bcd4cee8db9eba8"
            ],
            "layout": "IPY_MODEL_44469cac30254ecbafbc758b92be01fe"
          }
        },
        "a50f8eaeee3a46afbae1c85e4eafd426": {
          "model_module": "@jupyter-widgets/controls",
          "model_name": "HTMLModel",
          "model_module_version": "1.5.0",
          "state": {
            "_dom_classes": [],
            "_model_module": "@jupyter-widgets/controls",
            "_model_module_version": "1.5.0",
            "_model_name": "HTMLModel",
            "_view_count": null,
            "_view_module": "@jupyter-widgets/controls",
            "_view_module_version": "1.5.0",
            "_view_name": "HTMLView",
            "description": "",
            "description_tooltip": null,
            "layout": "IPY_MODEL_1b22a3d0604144afb2cb8c1c2ebf7a5f",
            "placeholder": "​",
            "style": "IPY_MODEL_7cbafae353a447bd95252a61a361d85e",
            "value": "vocab.txt: 100%"
          }
        },
        "70dad802cbed4130bab27f997125a501": {
          "model_module": "@jupyter-widgets/controls",
          "model_name": "FloatProgressModel",
          "model_module_version": "1.5.0",
          "state": {
            "_dom_classes": [],
            "_model_module": "@jupyter-widgets/controls",
            "_model_module_version": "1.5.0",
            "_model_name": "FloatProgressModel",
            "_view_count": null,
            "_view_module": "@jupyter-widgets/controls",
            "_view_module_version": "1.5.0",
            "_view_name": "ProgressView",
            "bar_style": "success",
            "description": "",
            "description_tooltip": null,
            "layout": "IPY_MODEL_8608a82bebec4a42bfe84c59cff44eea",
            "max": 231508,
            "min": 0,
            "orientation": "horizontal",
            "style": "IPY_MODEL_a2b8c20521c94a529a4b47ea337535a6",
            "value": 231508
          }
        },
        "244d078e37974ac28bcd4cee8db9eba8": {
          "model_module": "@jupyter-widgets/controls",
          "model_name": "HTMLModel",
          "model_module_version": "1.5.0",
          "state": {
            "_dom_classes": [],
            "_model_module": "@jupyter-widgets/controls",
            "_model_module_version": "1.5.0",
            "_model_name": "HTMLModel",
            "_view_count": null,
            "_view_module": "@jupyter-widgets/controls",
            "_view_module_version": "1.5.0",
            "_view_name": "HTMLView",
            "description": "",
            "description_tooltip": null,
            "layout": "IPY_MODEL_a041c87b0bdc429786767ad1d01d516c",
            "placeholder": "​",
            "style": "IPY_MODEL_3ccd9e960bcc47cc886e56ce8204401d",
            "value": " 232k/232k [00:00&lt;00:00, 7.30MB/s]"
          }
        },
        "44469cac30254ecbafbc758b92be01fe": {
          "model_module": "@jupyter-widgets/base",
          "model_name": "LayoutModel",
          "model_module_version": "1.2.0",
          "state": {
            "_model_module": "@jupyter-widgets/base",
            "_model_module_version": "1.2.0",
            "_model_name": "LayoutModel",
            "_view_count": null,
            "_view_module": "@jupyter-widgets/base",
            "_view_module_version": "1.2.0",
            "_view_name": "LayoutView",
            "align_content": null,
            "align_items": null,
            "align_self": null,
            "border": null,
            "bottom": null,
            "display": null,
            "flex": null,
            "flex_flow": null,
            "grid_area": null,
            "grid_auto_columns": null,
            "grid_auto_flow": null,
            "grid_auto_rows": null,
            "grid_column": null,
            "grid_gap": null,
            "grid_row": null,
            "grid_template_areas": null,
            "grid_template_columns": null,
            "grid_template_rows": null,
            "height": null,
            "justify_content": null,
            "justify_items": null,
            "left": null,
            "margin": null,
            "max_height": null,
            "max_width": null,
            "min_height": null,
            "min_width": null,
            "object_fit": null,
            "object_position": null,
            "order": null,
            "overflow": null,
            "overflow_x": null,
            "overflow_y": null,
            "padding": null,
            "right": null,
            "top": null,
            "visibility": null,
            "width": null
          }
        },
        "1b22a3d0604144afb2cb8c1c2ebf7a5f": {
          "model_module": "@jupyter-widgets/base",
          "model_name": "LayoutModel",
          "model_module_version": "1.2.0",
          "state": {
            "_model_module": "@jupyter-widgets/base",
            "_model_module_version": "1.2.0",
            "_model_name": "LayoutModel",
            "_view_count": null,
            "_view_module": "@jupyter-widgets/base",
            "_view_module_version": "1.2.0",
            "_view_name": "LayoutView",
            "align_content": null,
            "align_items": null,
            "align_self": null,
            "border": null,
            "bottom": null,
            "display": null,
            "flex": null,
            "flex_flow": null,
            "grid_area": null,
            "grid_auto_columns": null,
            "grid_auto_flow": null,
            "grid_auto_rows": null,
            "grid_column": null,
            "grid_gap": null,
            "grid_row": null,
            "grid_template_areas": null,
            "grid_template_columns": null,
            "grid_template_rows": null,
            "height": null,
            "justify_content": null,
            "justify_items": null,
            "left": null,
            "margin": null,
            "max_height": null,
            "max_width": null,
            "min_height": null,
            "min_width": null,
            "object_fit": null,
            "object_position": null,
            "order": null,
            "overflow": null,
            "overflow_x": null,
            "overflow_y": null,
            "padding": null,
            "right": null,
            "top": null,
            "visibility": null,
            "width": null
          }
        },
        "7cbafae353a447bd95252a61a361d85e": {
          "model_module": "@jupyter-widgets/controls",
          "model_name": "DescriptionStyleModel",
          "model_module_version": "1.5.0",
          "state": {
            "_model_module": "@jupyter-widgets/controls",
            "_model_module_version": "1.5.0",
            "_model_name": "DescriptionStyleModel",
            "_view_count": null,
            "_view_module": "@jupyter-widgets/base",
            "_view_module_version": "1.2.0",
            "_view_name": "StyleView",
            "description_width": ""
          }
        },
        "8608a82bebec4a42bfe84c59cff44eea": {
          "model_module": "@jupyter-widgets/base",
          "model_name": "LayoutModel",
          "model_module_version": "1.2.0",
          "state": {
            "_model_module": "@jupyter-widgets/base",
            "_model_module_version": "1.2.0",
            "_model_name": "LayoutModel",
            "_view_count": null,
            "_view_module": "@jupyter-widgets/base",
            "_view_module_version": "1.2.0",
            "_view_name": "LayoutView",
            "align_content": null,
            "align_items": null,
            "align_self": null,
            "border": null,
            "bottom": null,
            "display": null,
            "flex": null,
            "flex_flow": null,
            "grid_area": null,
            "grid_auto_columns": null,
            "grid_auto_flow": null,
            "grid_auto_rows": null,
            "grid_column": null,
            "grid_gap": null,
            "grid_row": null,
            "grid_template_areas": null,
            "grid_template_columns": null,
            "grid_template_rows": null,
            "height": null,
            "justify_content": null,
            "justify_items": null,
            "left": null,
            "margin": null,
            "max_height": null,
            "max_width": null,
            "min_height": null,
            "min_width": null,
            "object_fit": null,
            "object_position": null,
            "order": null,
            "overflow": null,
            "overflow_x": null,
            "overflow_y": null,
            "padding": null,
            "right": null,
            "top": null,
            "visibility": null,
            "width": null
          }
        },
        "a2b8c20521c94a529a4b47ea337535a6": {
          "model_module": "@jupyter-widgets/controls",
          "model_name": "ProgressStyleModel",
          "model_module_version": "1.5.0",
          "state": {
            "_model_module": "@jupyter-widgets/controls",
            "_model_module_version": "1.5.0",
            "_model_name": "ProgressStyleModel",
            "_view_count": null,
            "_view_module": "@jupyter-widgets/base",
            "_view_module_version": "1.2.0",
            "_view_name": "StyleView",
            "bar_color": null,
            "description_width": ""
          }
        },
        "a041c87b0bdc429786767ad1d01d516c": {
          "model_module": "@jupyter-widgets/base",
          "model_name": "LayoutModel",
          "model_module_version": "1.2.0",
          "state": {
            "_model_module": "@jupyter-widgets/base",
            "_model_module_version": "1.2.0",
            "_model_name": "LayoutModel",
            "_view_count": null,
            "_view_module": "@jupyter-widgets/base",
            "_view_module_version": "1.2.0",
            "_view_name": "LayoutView",
            "align_content": null,
            "align_items": null,
            "align_self": null,
            "border": null,
            "bottom": null,
            "display": null,
            "flex": null,
            "flex_flow": null,
            "grid_area": null,
            "grid_auto_columns": null,
            "grid_auto_flow": null,
            "grid_auto_rows": null,
            "grid_column": null,
            "grid_gap": null,
            "grid_row": null,
            "grid_template_areas": null,
            "grid_template_columns": null,
            "grid_template_rows": null,
            "height": null,
            "justify_content": null,
            "justify_items": null,
            "left": null,
            "margin": null,
            "max_height": null,
            "max_width": null,
            "min_height": null,
            "min_width": null,
            "object_fit": null,
            "object_position": null,
            "order": null,
            "overflow": null,
            "overflow_x": null,
            "overflow_y": null,
            "padding": null,
            "right": null,
            "top": null,
            "visibility": null,
            "width": null
          }
        },
        "3ccd9e960bcc47cc886e56ce8204401d": {
          "model_module": "@jupyter-widgets/controls",
          "model_name": "DescriptionStyleModel",
          "model_module_version": "1.5.0",
          "state": {
            "_model_module": "@jupyter-widgets/controls",
            "_model_module_version": "1.5.0",
            "_model_name": "DescriptionStyleModel",
            "_view_count": null,
            "_view_module": "@jupyter-widgets/base",
            "_view_module_version": "1.2.0",
            "_view_name": "StyleView",
            "description_width": ""
          }
        },
        "23ab6a85efcf4c8ea856c7f9cc1421fe": {
          "model_module": "@jupyter-widgets/controls",
          "model_name": "HBoxModel",
          "model_module_version": "1.5.0",
          "state": {
            "_dom_classes": [],
            "_model_module": "@jupyter-widgets/controls",
            "_model_module_version": "1.5.0",
            "_model_name": "HBoxModel",
            "_view_count": null,
            "_view_module": "@jupyter-widgets/controls",
            "_view_module_version": "1.5.0",
            "_view_name": "HBoxView",
            "box_style": "",
            "children": [
              "IPY_MODEL_581669f5acaf45f3916ed33ca11bbb67",
              "IPY_MODEL_772adc607ed44945b72e584d7c7b633a",
              "IPY_MODEL_66ca3f59009f406daa1f55338214ce06"
            ],
            "layout": "IPY_MODEL_054c2bebd6cd40b493dfea31932765c5"
          }
        },
        "581669f5acaf45f3916ed33ca11bbb67": {
          "model_module": "@jupyter-widgets/controls",
          "model_name": "HTMLModel",
          "model_module_version": "1.5.0",
          "state": {
            "_dom_classes": [],
            "_model_module": "@jupyter-widgets/controls",
            "_model_module_version": "1.5.0",
            "_model_name": "HTMLModel",
            "_view_count": null,
            "_view_module": "@jupyter-widgets/controls",
            "_view_module_version": "1.5.0",
            "_view_name": "HTMLView",
            "description": "",
            "description_tooltip": null,
            "layout": "IPY_MODEL_be7678489458411d80b73687ff4b9bab",
            "placeholder": "​",
            "style": "IPY_MODEL_9fafa3855e30433b9305c03b5a698dae",
            "value": "tokenizer.json: 100%"
          }
        },
        "772adc607ed44945b72e584d7c7b633a": {
          "model_module": "@jupyter-widgets/controls",
          "model_name": "FloatProgressModel",
          "model_module_version": "1.5.0",
          "state": {
            "_dom_classes": [],
            "_model_module": "@jupyter-widgets/controls",
            "_model_module_version": "1.5.0",
            "_model_name": "FloatProgressModel",
            "_view_count": null,
            "_view_module": "@jupyter-widgets/controls",
            "_view_module_version": "1.5.0",
            "_view_name": "ProgressView",
            "bar_style": "success",
            "description": "",
            "description_tooltip": null,
            "layout": "IPY_MODEL_42b5c079b9a94804919d0bbd064b1dd1",
            "max": 466247,
            "min": 0,
            "orientation": "horizontal",
            "style": "IPY_MODEL_6e4015a3e1bd4f1c84458a6bc452da32",
            "value": 466247
          }
        },
        "66ca3f59009f406daa1f55338214ce06": {
          "model_module": "@jupyter-widgets/controls",
          "model_name": "HTMLModel",
          "model_module_version": "1.5.0",
          "state": {
            "_dom_classes": [],
            "_model_module": "@jupyter-widgets/controls",
            "_model_module_version": "1.5.0",
            "_model_name": "HTMLModel",
            "_view_count": null,
            "_view_module": "@jupyter-widgets/controls",
            "_view_module_version": "1.5.0",
            "_view_name": "HTMLView",
            "description": "",
            "description_tooltip": null,
            "layout": "IPY_MODEL_896b0ce598df42d891c9c20e78c67ec2",
            "placeholder": "​",
            "style": "IPY_MODEL_4b8f8956ef624e798023498422950307",
            "value": " 466k/466k [00:00&lt;00:00, 2.36MB/s]"
          }
        },
        "054c2bebd6cd40b493dfea31932765c5": {
          "model_module": "@jupyter-widgets/base",
          "model_name": "LayoutModel",
          "model_module_version": "1.2.0",
          "state": {
            "_model_module": "@jupyter-widgets/base",
            "_model_module_version": "1.2.0",
            "_model_name": "LayoutModel",
            "_view_count": null,
            "_view_module": "@jupyter-widgets/base",
            "_view_module_version": "1.2.0",
            "_view_name": "LayoutView",
            "align_content": null,
            "align_items": null,
            "align_self": null,
            "border": null,
            "bottom": null,
            "display": null,
            "flex": null,
            "flex_flow": null,
            "grid_area": null,
            "grid_auto_columns": null,
            "grid_auto_flow": null,
            "grid_auto_rows": null,
            "grid_column": null,
            "grid_gap": null,
            "grid_row": null,
            "grid_template_areas": null,
            "grid_template_columns": null,
            "grid_template_rows": null,
            "height": null,
            "justify_content": null,
            "justify_items": null,
            "left": null,
            "margin": null,
            "max_height": null,
            "max_width": null,
            "min_height": null,
            "min_width": null,
            "object_fit": null,
            "object_position": null,
            "order": null,
            "overflow": null,
            "overflow_x": null,
            "overflow_y": null,
            "padding": null,
            "right": null,
            "top": null,
            "visibility": null,
            "width": null
          }
        },
        "be7678489458411d80b73687ff4b9bab": {
          "model_module": "@jupyter-widgets/base",
          "model_name": "LayoutModel",
          "model_module_version": "1.2.0",
          "state": {
            "_model_module": "@jupyter-widgets/base",
            "_model_module_version": "1.2.0",
            "_model_name": "LayoutModel",
            "_view_count": null,
            "_view_module": "@jupyter-widgets/base",
            "_view_module_version": "1.2.0",
            "_view_name": "LayoutView",
            "align_content": null,
            "align_items": null,
            "align_self": null,
            "border": null,
            "bottom": null,
            "display": null,
            "flex": null,
            "flex_flow": null,
            "grid_area": null,
            "grid_auto_columns": null,
            "grid_auto_flow": null,
            "grid_auto_rows": null,
            "grid_column": null,
            "grid_gap": null,
            "grid_row": null,
            "grid_template_areas": null,
            "grid_template_columns": null,
            "grid_template_rows": null,
            "height": null,
            "justify_content": null,
            "justify_items": null,
            "left": null,
            "margin": null,
            "max_height": null,
            "max_width": null,
            "min_height": null,
            "min_width": null,
            "object_fit": null,
            "object_position": null,
            "order": null,
            "overflow": null,
            "overflow_x": null,
            "overflow_y": null,
            "padding": null,
            "right": null,
            "top": null,
            "visibility": null,
            "width": null
          }
        },
        "9fafa3855e30433b9305c03b5a698dae": {
          "model_module": "@jupyter-widgets/controls",
          "model_name": "DescriptionStyleModel",
          "model_module_version": "1.5.0",
          "state": {
            "_model_module": "@jupyter-widgets/controls",
            "_model_module_version": "1.5.0",
            "_model_name": "DescriptionStyleModel",
            "_view_count": null,
            "_view_module": "@jupyter-widgets/base",
            "_view_module_version": "1.2.0",
            "_view_name": "StyleView",
            "description_width": ""
          }
        },
        "42b5c079b9a94804919d0bbd064b1dd1": {
          "model_module": "@jupyter-widgets/base",
          "model_name": "LayoutModel",
          "model_module_version": "1.2.0",
          "state": {
            "_model_module": "@jupyter-widgets/base",
            "_model_module_version": "1.2.0",
            "_model_name": "LayoutModel",
            "_view_count": null,
            "_view_module": "@jupyter-widgets/base",
            "_view_module_version": "1.2.0",
            "_view_name": "LayoutView",
            "align_content": null,
            "align_items": null,
            "align_self": null,
            "border": null,
            "bottom": null,
            "display": null,
            "flex": null,
            "flex_flow": null,
            "grid_area": null,
            "grid_auto_columns": null,
            "grid_auto_flow": null,
            "grid_auto_rows": null,
            "grid_column": null,
            "grid_gap": null,
            "grid_row": null,
            "grid_template_areas": null,
            "grid_template_columns": null,
            "grid_template_rows": null,
            "height": null,
            "justify_content": null,
            "justify_items": null,
            "left": null,
            "margin": null,
            "max_height": null,
            "max_width": null,
            "min_height": null,
            "min_width": null,
            "object_fit": null,
            "object_position": null,
            "order": null,
            "overflow": null,
            "overflow_x": null,
            "overflow_y": null,
            "padding": null,
            "right": null,
            "top": null,
            "visibility": null,
            "width": null
          }
        },
        "6e4015a3e1bd4f1c84458a6bc452da32": {
          "model_module": "@jupyter-widgets/controls",
          "model_name": "ProgressStyleModel",
          "model_module_version": "1.5.0",
          "state": {
            "_model_module": "@jupyter-widgets/controls",
            "_model_module_version": "1.5.0",
            "_model_name": "ProgressStyleModel",
            "_view_count": null,
            "_view_module": "@jupyter-widgets/base",
            "_view_module_version": "1.2.0",
            "_view_name": "StyleView",
            "bar_color": null,
            "description_width": ""
          }
        },
        "896b0ce598df42d891c9c20e78c67ec2": {
          "model_module": "@jupyter-widgets/base",
          "model_name": "LayoutModel",
          "model_module_version": "1.2.0",
          "state": {
            "_model_module": "@jupyter-widgets/base",
            "_model_module_version": "1.2.0",
            "_model_name": "LayoutModel",
            "_view_count": null,
            "_view_module": "@jupyter-widgets/base",
            "_view_module_version": "1.2.0",
            "_view_name": "LayoutView",
            "align_content": null,
            "align_items": null,
            "align_self": null,
            "border": null,
            "bottom": null,
            "display": null,
            "flex": null,
            "flex_flow": null,
            "grid_area": null,
            "grid_auto_columns": null,
            "grid_auto_flow": null,
            "grid_auto_rows": null,
            "grid_column": null,
            "grid_gap": null,
            "grid_row": null,
            "grid_template_areas": null,
            "grid_template_columns": null,
            "grid_template_rows": null,
            "height": null,
            "justify_content": null,
            "justify_items": null,
            "left": null,
            "margin": null,
            "max_height": null,
            "max_width": null,
            "min_height": null,
            "min_width": null,
            "object_fit": null,
            "object_position": null,
            "order": null,
            "overflow": null,
            "overflow_x": null,
            "overflow_y": null,
            "padding": null,
            "right": null,
            "top": null,
            "visibility": null,
            "width": null
          }
        },
        "4b8f8956ef624e798023498422950307": {
          "model_module": "@jupyter-widgets/controls",
          "model_name": "DescriptionStyleModel",
          "model_module_version": "1.5.0",
          "state": {
            "_model_module": "@jupyter-widgets/controls",
            "_model_module_version": "1.5.0",
            "_model_name": "DescriptionStyleModel",
            "_view_count": null,
            "_view_module": "@jupyter-widgets/base",
            "_view_module_version": "1.2.0",
            "_view_name": "StyleView",
            "description_width": ""
          }
        },
        "3455c7718b6046bfa6c71b5bf866ed85": {
          "model_module": "@jupyter-widgets/controls",
          "model_name": "HBoxModel",
          "model_module_version": "1.5.0",
          "state": {
            "_dom_classes": [],
            "_model_module": "@jupyter-widgets/controls",
            "_model_module_version": "1.5.0",
            "_model_name": "HBoxModel",
            "_view_count": null,
            "_view_module": "@jupyter-widgets/controls",
            "_view_module_version": "1.5.0",
            "_view_name": "HBoxView",
            "box_style": "",
            "children": [
              "IPY_MODEL_095f60c4a2364be7b2690b681e1b6fd0",
              "IPY_MODEL_70cc2d568d4642cf941de6c19fbf162c",
              "IPY_MODEL_0bf71e8c136647169e5a697d11212eef"
            ],
            "layout": "IPY_MODEL_979b433bcc764deca290e82a1cb64959"
          }
        },
        "095f60c4a2364be7b2690b681e1b6fd0": {
          "model_module": "@jupyter-widgets/controls",
          "model_name": "HTMLModel",
          "model_module_version": "1.5.0",
          "state": {
            "_dom_classes": [],
            "_model_module": "@jupyter-widgets/controls",
            "_model_module_version": "1.5.0",
            "_model_name": "HTMLModel",
            "_view_count": null,
            "_view_module": "@jupyter-widgets/controls",
            "_view_module_version": "1.5.0",
            "_view_name": "HTMLView",
            "description": "",
            "description_tooltip": null,
            "layout": "IPY_MODEL_ee5051f757fd462b88601c26e4be8e0a",
            "placeholder": "​",
            "style": "IPY_MODEL_bb5df720f30041a4ac54100c19e44f64",
            "value": "special_tokens_map.json: 100%"
          }
        },
        "70cc2d568d4642cf941de6c19fbf162c": {
          "model_module": "@jupyter-widgets/controls",
          "model_name": "FloatProgressModel",
          "model_module_version": "1.5.0",
          "state": {
            "_dom_classes": [],
            "_model_module": "@jupyter-widgets/controls",
            "_model_module_version": "1.5.0",
            "_model_name": "FloatProgressModel",
            "_view_count": null,
            "_view_module": "@jupyter-widgets/controls",
            "_view_module_version": "1.5.0",
            "_view_name": "ProgressView",
            "bar_style": "success",
            "description": "",
            "description_tooltip": null,
            "layout": "IPY_MODEL_aac747a254924fdea3954ec5bdf27a4f",
            "max": 112,
            "min": 0,
            "orientation": "horizontal",
            "style": "IPY_MODEL_30bb94d7ccbe49e78074149bfb730e3e",
            "value": 112
          }
        },
        "0bf71e8c136647169e5a697d11212eef": {
          "model_module": "@jupyter-widgets/controls",
          "model_name": "HTMLModel",
          "model_module_version": "1.5.0",
          "state": {
            "_dom_classes": [],
            "_model_module": "@jupyter-widgets/controls",
            "_model_module_version": "1.5.0",
            "_model_name": "HTMLModel",
            "_view_count": null,
            "_view_module": "@jupyter-widgets/controls",
            "_view_module_version": "1.5.0",
            "_view_name": "HTMLView",
            "description": "",
            "description_tooltip": null,
            "layout": "IPY_MODEL_a56f650ded3a4ab8931b6f81a405417b",
            "placeholder": "​",
            "style": "IPY_MODEL_aaf5d18d77d644d2bacafdd6d67b08ae",
            "value": " 112/112 [00:00&lt;00:00, 2.63kB/s]"
          }
        },
        "979b433bcc764deca290e82a1cb64959": {
          "model_module": "@jupyter-widgets/base",
          "model_name": "LayoutModel",
          "model_module_version": "1.2.0",
          "state": {
            "_model_module": "@jupyter-widgets/base",
            "_model_module_version": "1.2.0",
            "_model_name": "LayoutModel",
            "_view_count": null,
            "_view_module": "@jupyter-widgets/base",
            "_view_module_version": "1.2.0",
            "_view_name": "LayoutView",
            "align_content": null,
            "align_items": null,
            "align_self": null,
            "border": null,
            "bottom": null,
            "display": null,
            "flex": null,
            "flex_flow": null,
            "grid_area": null,
            "grid_auto_columns": null,
            "grid_auto_flow": null,
            "grid_auto_rows": null,
            "grid_column": null,
            "grid_gap": null,
            "grid_row": null,
            "grid_template_areas": null,
            "grid_template_columns": null,
            "grid_template_rows": null,
            "height": null,
            "justify_content": null,
            "justify_items": null,
            "left": null,
            "margin": null,
            "max_height": null,
            "max_width": null,
            "min_height": null,
            "min_width": null,
            "object_fit": null,
            "object_position": null,
            "order": null,
            "overflow": null,
            "overflow_x": null,
            "overflow_y": null,
            "padding": null,
            "right": null,
            "top": null,
            "visibility": null,
            "width": null
          }
        },
        "ee5051f757fd462b88601c26e4be8e0a": {
          "model_module": "@jupyter-widgets/base",
          "model_name": "LayoutModel",
          "model_module_version": "1.2.0",
          "state": {
            "_model_module": "@jupyter-widgets/base",
            "_model_module_version": "1.2.0",
            "_model_name": "LayoutModel",
            "_view_count": null,
            "_view_module": "@jupyter-widgets/base",
            "_view_module_version": "1.2.0",
            "_view_name": "LayoutView",
            "align_content": null,
            "align_items": null,
            "align_self": null,
            "border": null,
            "bottom": null,
            "display": null,
            "flex": null,
            "flex_flow": null,
            "grid_area": null,
            "grid_auto_columns": null,
            "grid_auto_flow": null,
            "grid_auto_rows": null,
            "grid_column": null,
            "grid_gap": null,
            "grid_row": null,
            "grid_template_areas": null,
            "grid_template_columns": null,
            "grid_template_rows": null,
            "height": null,
            "justify_content": null,
            "justify_items": null,
            "left": null,
            "margin": null,
            "max_height": null,
            "max_width": null,
            "min_height": null,
            "min_width": null,
            "object_fit": null,
            "object_position": null,
            "order": null,
            "overflow": null,
            "overflow_x": null,
            "overflow_y": null,
            "padding": null,
            "right": null,
            "top": null,
            "visibility": null,
            "width": null
          }
        },
        "bb5df720f30041a4ac54100c19e44f64": {
          "model_module": "@jupyter-widgets/controls",
          "model_name": "DescriptionStyleModel",
          "model_module_version": "1.5.0",
          "state": {
            "_model_module": "@jupyter-widgets/controls",
            "_model_module_version": "1.5.0",
            "_model_name": "DescriptionStyleModel",
            "_view_count": null,
            "_view_module": "@jupyter-widgets/base",
            "_view_module_version": "1.2.0",
            "_view_name": "StyleView",
            "description_width": ""
          }
        },
        "aac747a254924fdea3954ec5bdf27a4f": {
          "model_module": "@jupyter-widgets/base",
          "model_name": "LayoutModel",
          "model_module_version": "1.2.0",
          "state": {
            "_model_module": "@jupyter-widgets/base",
            "_model_module_version": "1.2.0",
            "_model_name": "LayoutModel",
            "_view_count": null,
            "_view_module": "@jupyter-widgets/base",
            "_view_module_version": "1.2.0",
            "_view_name": "LayoutView",
            "align_content": null,
            "align_items": null,
            "align_self": null,
            "border": null,
            "bottom": null,
            "display": null,
            "flex": null,
            "flex_flow": null,
            "grid_area": null,
            "grid_auto_columns": null,
            "grid_auto_flow": null,
            "grid_auto_rows": null,
            "grid_column": null,
            "grid_gap": null,
            "grid_row": null,
            "grid_template_areas": null,
            "grid_template_columns": null,
            "grid_template_rows": null,
            "height": null,
            "justify_content": null,
            "justify_items": null,
            "left": null,
            "margin": null,
            "max_height": null,
            "max_width": null,
            "min_height": null,
            "min_width": null,
            "object_fit": null,
            "object_position": null,
            "order": null,
            "overflow": null,
            "overflow_x": null,
            "overflow_y": null,
            "padding": null,
            "right": null,
            "top": null,
            "visibility": null,
            "width": null
          }
        },
        "30bb94d7ccbe49e78074149bfb730e3e": {
          "model_module": "@jupyter-widgets/controls",
          "model_name": "ProgressStyleModel",
          "model_module_version": "1.5.0",
          "state": {
            "_model_module": "@jupyter-widgets/controls",
            "_model_module_version": "1.5.0",
            "_model_name": "ProgressStyleModel",
            "_view_count": null,
            "_view_module": "@jupyter-widgets/base",
            "_view_module_version": "1.2.0",
            "_view_name": "StyleView",
            "bar_color": null,
            "description_width": ""
          }
        },
        "a56f650ded3a4ab8931b6f81a405417b": {
          "model_module": "@jupyter-widgets/base",
          "model_name": "LayoutModel",
          "model_module_version": "1.2.0",
          "state": {
            "_model_module": "@jupyter-widgets/base",
            "_model_module_version": "1.2.0",
            "_model_name": "LayoutModel",
            "_view_count": null,
            "_view_module": "@jupyter-widgets/base",
            "_view_module_version": "1.2.0",
            "_view_name": "LayoutView",
            "align_content": null,
            "align_items": null,
            "align_self": null,
            "border": null,
            "bottom": null,
            "display": null,
            "flex": null,
            "flex_flow": null,
            "grid_area": null,
            "grid_auto_columns": null,
            "grid_auto_flow": null,
            "grid_auto_rows": null,
            "grid_column": null,
            "grid_gap": null,
            "grid_row": null,
            "grid_template_areas": null,
            "grid_template_columns": null,
            "grid_template_rows": null,
            "height": null,
            "justify_content": null,
            "justify_items": null,
            "left": null,
            "margin": null,
            "max_height": null,
            "max_width": null,
            "min_height": null,
            "min_width": null,
            "object_fit": null,
            "object_position": null,
            "order": null,
            "overflow": null,
            "overflow_x": null,
            "overflow_y": null,
            "padding": null,
            "right": null,
            "top": null,
            "visibility": null,
            "width": null
          }
        },
        "aaf5d18d77d644d2bacafdd6d67b08ae": {
          "model_module": "@jupyter-widgets/controls",
          "model_name": "DescriptionStyleModel",
          "model_module_version": "1.5.0",
          "state": {
            "_model_module": "@jupyter-widgets/controls",
            "_model_module_version": "1.5.0",
            "_model_name": "DescriptionStyleModel",
            "_view_count": null,
            "_view_module": "@jupyter-widgets/base",
            "_view_module_version": "1.2.0",
            "_view_name": "StyleView",
            "description_width": ""
          }
        },
        "fc99f4ee9aeb473f8aa188f6c62a76ce": {
          "model_module": "@jupyter-widgets/controls",
          "model_name": "HBoxModel",
          "model_module_version": "1.5.0",
          "state": {
            "_dom_classes": [],
            "_model_module": "@jupyter-widgets/controls",
            "_model_module_version": "1.5.0",
            "_model_name": "HBoxModel",
            "_view_count": null,
            "_view_module": "@jupyter-widgets/controls",
            "_view_module_version": "1.5.0",
            "_view_name": "HBoxView",
            "box_style": "",
            "children": [
              "IPY_MODEL_2d5451ba08df4495bbdab5e7d94134cb",
              "IPY_MODEL_82314d26b2e04bd2924750a43ebaf0d3",
              "IPY_MODEL_e60dfa1c62f14ae7bbbd11582ef1bc07"
            ],
            "layout": "IPY_MODEL_add97c90226f4ca882f7bd7479e052c0"
          }
        },
        "2d5451ba08df4495bbdab5e7d94134cb": {
          "model_module": "@jupyter-widgets/controls",
          "model_name": "HTMLModel",
          "model_module_version": "1.5.0",
          "state": {
            "_dom_classes": [],
            "_model_module": "@jupyter-widgets/controls",
            "_model_module_version": "1.5.0",
            "_model_name": "HTMLModel",
            "_view_count": null,
            "_view_module": "@jupyter-widgets/controls",
            "_view_module_version": "1.5.0",
            "_view_name": "HTMLView",
            "description": "",
            "description_tooltip": null,
            "layout": "IPY_MODEL_883094d10a1443c086a0231e51b397e5",
            "placeholder": "​",
            "style": "IPY_MODEL_6a7111ff63554a489d6ce6e35d97b7c4",
            "value": "1_Pooling/config.json: 100%"
          }
        },
        "82314d26b2e04bd2924750a43ebaf0d3": {
          "model_module": "@jupyter-widgets/controls",
          "model_name": "FloatProgressModel",
          "model_module_version": "1.5.0",
          "state": {
            "_dom_classes": [],
            "_model_module": "@jupyter-widgets/controls",
            "_model_module_version": "1.5.0",
            "_model_name": "FloatProgressModel",
            "_view_count": null,
            "_view_module": "@jupyter-widgets/controls",
            "_view_module_version": "1.5.0",
            "_view_name": "ProgressView",
            "bar_style": "success",
            "description": "",
            "description_tooltip": null,
            "layout": "IPY_MODEL_aa033b293260406a94f25cedbd5f5964",
            "max": 190,
            "min": 0,
            "orientation": "horizontal",
            "style": "IPY_MODEL_b52c8f6281eb40728e378261e7a9faa0",
            "value": 190
          }
        },
        "e60dfa1c62f14ae7bbbd11582ef1bc07": {
          "model_module": "@jupyter-widgets/controls",
          "model_name": "HTMLModel",
          "model_module_version": "1.5.0",
          "state": {
            "_dom_classes": [],
            "_model_module": "@jupyter-widgets/controls",
            "_model_module_version": "1.5.0",
            "_model_name": "HTMLModel",
            "_view_count": null,
            "_view_module": "@jupyter-widgets/controls",
            "_view_module_version": "1.5.0",
            "_view_name": "HTMLView",
            "description": "",
            "description_tooltip": null,
            "layout": "IPY_MODEL_13d79ce39eb44cb8afbcbbe821e42114",
            "placeholder": "​",
            "style": "IPY_MODEL_9e385b13edef4c68ab6802717f5c9aa8",
            "value": " 190/190 [00:00&lt;00:00, 5.23kB/s]"
          }
        },
        "add97c90226f4ca882f7bd7479e052c0": {
          "model_module": "@jupyter-widgets/base",
          "model_name": "LayoutModel",
          "model_module_version": "1.2.0",
          "state": {
            "_model_module": "@jupyter-widgets/base",
            "_model_module_version": "1.2.0",
            "_model_name": "LayoutModel",
            "_view_count": null,
            "_view_module": "@jupyter-widgets/base",
            "_view_module_version": "1.2.0",
            "_view_name": "LayoutView",
            "align_content": null,
            "align_items": null,
            "align_self": null,
            "border": null,
            "bottom": null,
            "display": null,
            "flex": null,
            "flex_flow": null,
            "grid_area": null,
            "grid_auto_columns": null,
            "grid_auto_flow": null,
            "grid_auto_rows": null,
            "grid_column": null,
            "grid_gap": null,
            "grid_row": null,
            "grid_template_areas": null,
            "grid_template_columns": null,
            "grid_template_rows": null,
            "height": null,
            "justify_content": null,
            "justify_items": null,
            "left": null,
            "margin": null,
            "max_height": null,
            "max_width": null,
            "min_height": null,
            "min_width": null,
            "object_fit": null,
            "object_position": null,
            "order": null,
            "overflow": null,
            "overflow_x": null,
            "overflow_y": null,
            "padding": null,
            "right": null,
            "top": null,
            "visibility": null,
            "width": null
          }
        },
        "883094d10a1443c086a0231e51b397e5": {
          "model_module": "@jupyter-widgets/base",
          "model_name": "LayoutModel",
          "model_module_version": "1.2.0",
          "state": {
            "_model_module": "@jupyter-widgets/base",
            "_model_module_version": "1.2.0",
            "_model_name": "LayoutModel",
            "_view_count": null,
            "_view_module": "@jupyter-widgets/base",
            "_view_module_version": "1.2.0",
            "_view_name": "LayoutView",
            "align_content": null,
            "align_items": null,
            "align_self": null,
            "border": null,
            "bottom": null,
            "display": null,
            "flex": null,
            "flex_flow": null,
            "grid_area": null,
            "grid_auto_columns": null,
            "grid_auto_flow": null,
            "grid_auto_rows": null,
            "grid_column": null,
            "grid_gap": null,
            "grid_row": null,
            "grid_template_areas": null,
            "grid_template_columns": null,
            "grid_template_rows": null,
            "height": null,
            "justify_content": null,
            "justify_items": null,
            "left": null,
            "margin": null,
            "max_height": null,
            "max_width": null,
            "min_height": null,
            "min_width": null,
            "object_fit": null,
            "object_position": null,
            "order": null,
            "overflow": null,
            "overflow_x": null,
            "overflow_y": null,
            "padding": null,
            "right": null,
            "top": null,
            "visibility": null,
            "width": null
          }
        },
        "6a7111ff63554a489d6ce6e35d97b7c4": {
          "model_module": "@jupyter-widgets/controls",
          "model_name": "DescriptionStyleModel",
          "model_module_version": "1.5.0",
          "state": {
            "_model_module": "@jupyter-widgets/controls",
            "_model_module_version": "1.5.0",
            "_model_name": "DescriptionStyleModel",
            "_view_count": null,
            "_view_module": "@jupyter-widgets/base",
            "_view_module_version": "1.2.0",
            "_view_name": "StyleView",
            "description_width": ""
          }
        },
        "aa033b293260406a94f25cedbd5f5964": {
          "model_module": "@jupyter-widgets/base",
          "model_name": "LayoutModel",
          "model_module_version": "1.2.0",
          "state": {
            "_model_module": "@jupyter-widgets/base",
            "_model_module_version": "1.2.0",
            "_model_name": "LayoutModel",
            "_view_count": null,
            "_view_module": "@jupyter-widgets/base",
            "_view_module_version": "1.2.0",
            "_view_name": "LayoutView",
            "align_content": null,
            "align_items": null,
            "align_self": null,
            "border": null,
            "bottom": null,
            "display": null,
            "flex": null,
            "flex_flow": null,
            "grid_area": null,
            "grid_auto_columns": null,
            "grid_auto_flow": null,
            "grid_auto_rows": null,
            "grid_column": null,
            "grid_gap": null,
            "grid_row": null,
            "grid_template_areas": null,
            "grid_template_columns": null,
            "grid_template_rows": null,
            "height": null,
            "justify_content": null,
            "justify_items": null,
            "left": null,
            "margin": null,
            "max_height": null,
            "max_width": null,
            "min_height": null,
            "min_width": null,
            "object_fit": null,
            "object_position": null,
            "order": null,
            "overflow": null,
            "overflow_x": null,
            "overflow_y": null,
            "padding": null,
            "right": null,
            "top": null,
            "visibility": null,
            "width": null
          }
        },
        "b52c8f6281eb40728e378261e7a9faa0": {
          "model_module": "@jupyter-widgets/controls",
          "model_name": "ProgressStyleModel",
          "model_module_version": "1.5.0",
          "state": {
            "_model_module": "@jupyter-widgets/controls",
            "_model_module_version": "1.5.0",
            "_model_name": "ProgressStyleModel",
            "_view_count": null,
            "_view_module": "@jupyter-widgets/base",
            "_view_module_version": "1.2.0",
            "_view_name": "StyleView",
            "bar_color": null,
            "description_width": ""
          }
        },
        "13d79ce39eb44cb8afbcbbe821e42114": {
          "model_module": "@jupyter-widgets/base",
          "model_name": "LayoutModel",
          "model_module_version": "1.2.0",
          "state": {
            "_model_module": "@jupyter-widgets/base",
            "_model_module_version": "1.2.0",
            "_model_name": "LayoutModel",
            "_view_count": null,
            "_view_module": "@jupyter-widgets/base",
            "_view_module_version": "1.2.0",
            "_view_name": "LayoutView",
            "align_content": null,
            "align_items": null,
            "align_self": null,
            "border": null,
            "bottom": null,
            "display": null,
            "flex": null,
            "flex_flow": null,
            "grid_area": null,
            "grid_auto_columns": null,
            "grid_auto_flow": null,
            "grid_auto_rows": null,
            "grid_column": null,
            "grid_gap": null,
            "grid_row": null,
            "grid_template_areas": null,
            "grid_template_columns": null,
            "grid_template_rows": null,
            "height": null,
            "justify_content": null,
            "justify_items": null,
            "left": null,
            "margin": null,
            "max_height": null,
            "max_width": null,
            "min_height": null,
            "min_width": null,
            "object_fit": null,
            "object_position": null,
            "order": null,
            "overflow": null,
            "overflow_x": null,
            "overflow_y": null,
            "padding": null,
            "right": null,
            "top": null,
            "visibility": null,
            "width": null
          }
        },
        "9e385b13edef4c68ab6802717f5c9aa8": {
          "model_module": "@jupyter-widgets/controls",
          "model_name": "DescriptionStyleModel",
          "model_module_version": "1.5.0",
          "state": {
            "_model_module": "@jupyter-widgets/controls",
            "_model_module_version": "1.5.0",
            "_model_name": "DescriptionStyleModel",
            "_view_count": null,
            "_view_module": "@jupyter-widgets/base",
            "_view_module_version": "1.2.0",
            "_view_name": "StyleView",
            "description_width": ""
          }
        }
      }
    }
  },
  "nbformat": 4,
  "nbformat_minor": 0
}