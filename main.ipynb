{
  "cells": [
    {
      "cell_type": "markdown",
      "metadata": {
        "id": "view-in-github",
        "colab_type": "text"
      },
      "source": [
        "<a href=\"https://colab.research.google.com/github/yusuf-yesil/RAG_project/blob/main/main.ipynb\" target=\"_parent\"><img src=\"https://colab.research.google.com/assets/colab-badge.svg\" alt=\"Open In Colab\"/></a>"
      ]
    },
    {
      "cell_type": "code",
      "execution_count": 1,
      "metadata": {
        "id": "lad3CfIYMxSe",
        "colab": {
          "base_uri": "https://localhost:8080/"
        },
        "outputId": "06686b26-6f49-453a-8a39-529d0104a3f1"
      },
      "outputs": [
        {
          "output_type": "stream",
          "name": "stdout",
          "text": [
            "\u001b[?25l     \u001b[90m━━━━━━━━━━━━━━━━━━━━━━━━━━━━━━━━━━━━━━━━\u001b[0m \u001b[32m0.0/67.3 kB\u001b[0m \u001b[31m?\u001b[0m eta \u001b[36m-:--:--\u001b[0m\r\u001b[2K     \u001b[90m━━━━━━━━━━━━━━━━━━━━━━━━━━━━━━━━━━━━━━━━\u001b[0m \u001b[32m67.3/67.3 kB\u001b[0m \u001b[31m3.7 MB/s\u001b[0m eta \u001b[36m0:00:00\u001b[0m\n",
            "\u001b[?25h  Installing build dependencies ... \u001b[?25l\u001b[?25hdone\n",
            "  Getting requirements to build wheel ... \u001b[?25l\u001b[?25hdone\n",
            "  Preparing metadata (pyproject.toml) ... \u001b[?25l\u001b[?25hdone\n",
            "\u001b[2K     \u001b[90m━━━━━━━━━━━━━━━━━━━━━━━━━━━━━━━━━━━━━━━━\u001b[0m \u001b[32m50.4/50.4 kB\u001b[0m \u001b[31m2.2 MB/s\u001b[0m eta \u001b[36m0:00:00\u001b[0m\n",
            "\u001b[2K   \u001b[90m━━━━━━━━━━━━━━━━━━━━━━━━━━━━━━━━━━━━━━━━\u001b[0m \u001b[32m584.3/584.3 kB\u001b[0m \u001b[31m13.1 MB/s\u001b[0m eta \u001b[36m0:00:00\u001b[0m\n",
            "\u001b[2K   \u001b[90m━━━━━━━━━━━━━━━━━━━━━━━━━━━━━━━━━━━━━━━━\u001b[0m \u001b[32m2.4/2.4 MB\u001b[0m \u001b[31m46.9 MB/s\u001b[0m eta \u001b[36m0:00:00\u001b[0m\n",
            "\u001b[2K   \u001b[90m━━━━━━━━━━━━━━━━━━━━━━━━━━━━━━━━━━━━━━━━\u001b[0m \u001b[32m273.8/273.8 kB\u001b[0m \u001b[31m16.7 MB/s\u001b[0m eta \u001b[36m0:00:00\u001b[0m\n",
            "\u001b[2K   \u001b[90m━━━━━━━━━━━━━━━━━━━━━━━━━━━━━━━━━━━━━━━━\u001b[0m \u001b[32m93.2/93.2 kB\u001b[0m \u001b[31m6.7 MB/s\u001b[0m eta \u001b[36m0:00:00\u001b[0m\n",
            "\u001b[2K   \u001b[90m━━━━━━━━━━━━━━━━━━━━━━━━━━━━━━━━━━━━━━━━\u001b[0m \u001b[32m75.6/75.6 kB\u001b[0m \u001b[31m6.6 MB/s\u001b[0m eta \u001b[36m0:00:00\u001b[0m\n",
            "\u001b[2K   \u001b[90m━━━━━━━━━━━━━━━━━━━━━━━━━━━━━━━━━━━━━━━━\u001b[0m \u001b[32m77.9/77.9 kB\u001b[0m \u001b[31m5.0 MB/s\u001b[0m eta \u001b[36m0:00:00\u001b[0m\n",
            "\u001b[2K   \u001b[90m━━━━━━━━━━━━━━━━━━━━━━━━━━━━━━━━━━━━━━━━\u001b[0m \u001b[32m1.7/1.7 MB\u001b[0m \u001b[31m31.7 MB/s\u001b[0m eta \u001b[36m0:00:00\u001b[0m\n",
            "\u001b[2K   \u001b[90m━━━━━━━━━━━━━━━━━━━━━━━━━━━━━━━━━━━━━━━━\u001b[0m \u001b[32m67.6/67.6 kB\u001b[0m \u001b[31m4.3 MB/s\u001b[0m eta \u001b[36m0:00:00\u001b[0m\n",
            "\u001b[2K   \u001b[90m━━━━━━━━━━━━━━━━━━━━━━━━━━━━━━━━━━━━━━━━\u001b[0m \u001b[32m13.2/13.2 MB\u001b[0m \u001b[31m57.5 MB/s\u001b[0m eta \u001b[36m0:00:00\u001b[0m\n",
            "\u001b[2K   \u001b[90m━━━━━━━━━━━━━━━━━━━━━━━━━━━━━━━━━━━━━━━━\u001b[0m \u001b[32m61.5/61.5 kB\u001b[0m \u001b[31m5.0 MB/s\u001b[0m eta \u001b[36m0:00:00\u001b[0m\n",
            "\u001b[2K   \u001b[90m━━━━━━━━━━━━━━━━━━━━━━━━━━━━━━━━━━━━━━━━\u001b[0m \u001b[32m52.5/52.5 kB\u001b[0m \u001b[31m3.3 MB/s\u001b[0m eta \u001b[36m0:00:00\u001b[0m\n",
            "\u001b[2K   \u001b[90m━━━━━━━━━━━━━━━━━━━━━━━━━━━━━━━━━━━━━━━━\u001b[0m \u001b[32m138.0/138.0 kB\u001b[0m \u001b[31m6.7 MB/s\u001b[0m eta \u001b[36m0:00:00\u001b[0m\n",
            "\u001b[2K   \u001b[90m━━━━━━━━━━━━━━━━━━━━━━━━━━━━━━━━━━━━━━━━\u001b[0m \u001b[32m109.5/109.5 kB\u001b[0m \u001b[31m8.4 MB/s\u001b[0m eta \u001b[36m0:00:00\u001b[0m\n",
            "\u001b[2K   \u001b[90m━━━━━━━━━━━━━━━━━━━━━━━━━━━━━━━━━━━━━━━━\u001b[0m \u001b[32m141.9/141.9 kB\u001b[0m \u001b[31m376.9 kB/s\u001b[0m eta \u001b[36m0:00:00\u001b[0m\n",
            "\u001b[2K   \u001b[90m━━━━━━━━━━━━━━━━━━━━━━━━━━━━━━━━━━━━━━━━\u001b[0m \u001b[32m41.3/41.3 kB\u001b[0m \u001b[31m2.8 MB/s\u001b[0m eta \u001b[36m0:00:00\u001b[0m\n",
            "\u001b[2K   \u001b[90m━━━━━━━━━━━━━━━━━━━━━━━━━━━━━━━━━━━━━━━━\u001b[0m \u001b[32m62.8/62.8 kB\u001b[0m \u001b[31m4.4 MB/s\u001b[0m eta \u001b[36m0:00:00\u001b[0m\n",
            "\u001b[2K   \u001b[90m━━━━━━━━━━━━━━━━━━━━━━━━━━━━━━━━━━━━━━━━\u001b[0m \u001b[32m58.3/58.3 kB\u001b[0m \u001b[31m5.1 MB/s\u001b[0m eta \u001b[36m0:00:00\u001b[0m\n",
            "\u001b[2K   \u001b[90m━━━━━━━━━━━━━━━━━━━━━━━━━━━━━━━━━━━━━━━━\u001b[0m \u001b[32m341.4/341.4 kB\u001b[0m \u001b[31m15.7 MB/s\u001b[0m eta \u001b[36m0:00:00\u001b[0m\n",
            "\u001b[2K   \u001b[90m━━━━━━━━━━━━━━━━━━━━━━━━━━━━━━━━━━━━━━━━\u001b[0m \u001b[32m72.0/72.0 kB\u001b[0m \u001b[31m4.4 MB/s\u001b[0m eta \u001b[36m0:00:00\u001b[0m\n",
            "\u001b[2K   \u001b[90m━━━━━━━━━━━━━━━━━━━━━━━━━━━━━━━━━━━━━━━━\u001b[0m \u001b[32m3.4/3.4 MB\u001b[0m \u001b[31m45.9 MB/s\u001b[0m eta \u001b[36m0:00:00\u001b[0m\n",
            "\u001b[2K   \u001b[90m━━━━━━━━━━━━━━━━━━━━━━━━━━━━━━━━━━━━━━━━\u001b[0m \u001b[32m427.7/427.7 kB\u001b[0m \u001b[31m19.7 MB/s\u001b[0m eta \u001b[36m0:00:00\u001b[0m\n",
            "\u001b[2K   \u001b[90m━━━━━━━━━━━━━━━━━━━━━━━━━━━━━━━━━━━━━━━━\u001b[0m \u001b[32m130.2/130.2 kB\u001b[0m \u001b[31m8.4 MB/s\u001b[0m eta \u001b[36m0:00:00\u001b[0m\n",
            "\u001b[2K   \u001b[90m━━━━━━━━━━━━━━━━━━━━━━━━━━━━━━━━━━━━━━━━\u001b[0m \u001b[32m46.0/46.0 kB\u001b[0m \u001b[31m2.9 MB/s\u001b[0m eta \u001b[36m0:00:00\u001b[0m\n",
            "\u001b[2K   \u001b[90m━━━━━━━━━━━━━━━━━━━━━━━━━━━━━━━━━━━━━━━━\u001b[0m \u001b[32m86.8/86.8 kB\u001b[0m \u001b[31m7.7 MB/s\u001b[0m eta \u001b[36m0:00:00\u001b[0m\n",
            "\u001b[?25h  Building wheel for pypika (pyproject.toml) ... \u001b[?25l\u001b[?25hdone\n",
            "\u001b[2K   \u001b[90m━━━━━━━━━━━━━━━━━━━━━━━━━━━━━━━━━━━━━━━━\u001b[0m \u001b[32m227.1/227.1 kB\u001b[0m \u001b[31m2.9 MB/s\u001b[0m eta \u001b[36m0:00:00\u001b[0m\n",
            "\u001b[2K   \u001b[90m━━━━━━━━━━━━━━━━━━━━━━━━━━━━━━━━━━━━━━━━\u001b[0m \u001b[32m997.8/997.8 kB\u001b[0m \u001b[31m10.5 MB/s\u001b[0m eta \u001b[36m0:00:00\u001b[0m\n",
            "\u001b[2K   \u001b[90m━━━━━━━━━━━━━━━━━━━━━━━━━━━━━━━━━━━━━━━━\u001b[0m \u001b[32m391.5/391.5 kB\u001b[0m \u001b[31m28.8 MB/s\u001b[0m eta \u001b[36m0:00:00\u001b[0m\n",
            "\u001b[2K   \u001b[90m━━━━━━━━━━━━━━━━━━━━━━━━━━━━━━━━━━━━━━━━\u001b[0m \u001b[32m140.4/140.4 kB\u001b[0m \u001b[31m12.5 MB/s\u001b[0m eta \u001b[36m0:00:00\u001b[0m\n",
            "\u001b[?25h"
          ]
        }
      ],
      "source": [
        "%pip install chromadb --quiet\n",
        "%pip install sentence_transformers --quiet\n",
        "%pip install langchain --quiet\n",
        "%pip install tqdm --quiet\n",
        "\n",
        "import langchain\n",
        "from langchain.text_splitter import RecursiveCharacterTextSplitter\n",
        "from langchain.text_splitter import SentenceTransformersTokenTextSplitter\n",
        "\n",
        "\n",
        "from chromadb.config import DEFAULT_TENANT, DEFAULT_DATABASE, Settings\n",
        "from chromadb import Client, PersistentClient\n",
        "from chromadb.utils import embedding_functions\n",
        "\n",
        "import textwrap\n",
        "from IPython.display import display\n",
        "from IPython.display import Markdown\n",
        "def to_markdown(text):\n",
        "  text = text.replace('•', '  *')\n",
        "  return Markdown(textwrap.indent(text, '> ', predicate=lambda _: True))"
      ]
    },
    {
      "cell_type": "code",
      "execution_count": 2,
      "metadata": {
        "id": "fh3FOajgM8vt"
      },
      "outputs": [],
      "source": [
        "def create_chroma_client(collection_name, embedding_function):\n",
        "  chroma_client = Client()\n",
        "  chroma_collection = chroma_client.get_or_create_collection(collection_name, embedding_function=embedding_function)\n",
        "  return chroma_client, chroma_collection"
      ]
    },
    {
      "cell_type": "code",
      "execution_count": 8,
      "metadata": {
        "id": "IZPasevk-e9S"
      },
      "outputs": [],
      "source": [
        "import tqdm"
      ]
    },
    {
      "cell_type": "code",
      "execution_count": 3,
      "metadata": {
        "colab": {
          "base_uri": "https://localhost:8080/",
          "height": 425,
          "referenced_widgets": [
            "533cc62bd88848edab4081c325b918f7",
            "6aee187aca274f38a0bfbdfa200646a9",
            "38171d7b6cbe434888b489a3a22b0d44",
            "afd94427af0047318531af1c2cf1ab30",
            "48aea677dab34991ac7cbbf43b897cce",
            "dc2a7e6774154fde8b58279ad95ad64a",
            "c69396781ad24889b70be26ca8f38787",
            "b7f269b1188249ab9a2d1b8d058b2c23",
            "7e4e554d488d4c26814f6149cfb383f3",
            "ff80cd023ebe4bd494d55bd30c19fca0",
            "c25f9b68a9d34c018ec525bd56bcea82",
            "f738885eb93b43b481b4852acf3f4564",
            "64281bee1a2143efaa0e0d2af28f2a21",
            "c3515833b8d9492397b5c3e268b1e409",
            "ada3163827434ce2803e85578df3d841",
            "bc34140f789240548d31e414bcb50d21",
            "3f730cbcb3d740debe2bdfe36e16c7fd",
            "d1cac789499b45f49f0c0b145289ebcd",
            "d849ea5338e747beacde1915124cc96c",
            "2457a95efdf24a5bbbd48d2373261383",
            "9fb87457cb014c60877c619e354a27e2",
            "4a7b396540cf4477b8a29f69e3f34a1e",
            "1621d03c7b8b4afc8d8a3c8ac03d8979",
            "139bcba30bcb49cba832f38248a12178",
            "602239f4d2064a2ab275fb361bff23e5",
            "070139ab36e04fd2a059a2eb9115df43",
            "aff285fb14754c50a5b3e5c40846eb64",
            "1722bc3639214bf1971f75a929c507b8",
            "de1560a2bc0b4efa8c0a8216bbf07f65",
            "eae824397b214ade839899c2f175d4b6",
            "fc40c0996a664be6b40a1283f60119a7",
            "b02e7135f79d4c0497dd4982babc6d2b",
            "e75543bdc8c842aba955eed0ede529df",
            "03ee0bd44a4848579b5029dca79bcdba",
            "755417b3e184427e8af4807590cc7fad",
            "c8300c14327f4301a55059ce5a77419a",
            "9d2f4e32ace3434a8177eb6102acedc5",
            "d6195c455d164a38839442c3dea8a9e6",
            "997944ef7f5148639ceb2b31ce99969b",
            "9d07d727c9b14c5cb3ae93d1179edfc5",
            "d6f6ea7d3ab246c084a4d3a7fc0f280e",
            "18b7ed6ed48c4974a7538c64b1c658dc",
            "5d95c3d116e3486fb1f2a1fe04101541",
            "dec5db7a079a4e508c8d88ff41f3143c",
            "ddb32adde08e48428362b92fc678f8b4",
            "19f467f8f79542a4a7384b39c7f17e1f",
            "b00b035c6461444c9be78049e1b80365",
            "13bf89c18f4746838ef3c63672a911c2",
            "82f953b55a014a9b854ff96aa179c732",
            "d18fef3fbd94492cb3c91aecbd32bdea",
            "491860ed35d9462786fab03fa44ae744",
            "e4ddd7b58b3942eea9b7b02b21748403",
            "d94833ec6aa7479db2dd52ec78707d74",
            "6ae7bedf9f694ff195553feff76d3c93",
            "7e76c3c76ffa43b4a2bfc11ddd2b8421",
            "4cbee9ffddba43ba99477083017451b5",
            "f68d9a2867044abf839dbb3e37c32790",
            "0a3ca222b8a44aae86895541a4bc1905",
            "ab08e0c521454e37a166f04e23b97dfa",
            "ded91791c36d40d28234f75f5452a4a4",
            "4253dd600fb74541af1f0bad92894e8a",
            "67591e3f322444bba5efbe7fc6027d58",
            "8e76b022ac2245079d141f366759b6ad",
            "6fdaf5eb666240c29bfe8449328abe25",
            "d78647c48fb84c9e884b124a22f00df3",
            "8cb1f1f06bb94d12bda15b4d0af00350",
            "1824a523795d4102a3b4cbaa4cf8279f",
            "cfae00b25fc7418ea7fee73fcd7bb8db",
            "41fd90a931974dde9c79c7f8c117681e",
            "88c730b164fd4d51a4e0bebee0568335",
            "3b24d820fc6147f1828a9bcebca0c871",
            "0dc4f5e6c0d045f1b56990d6fb23de53",
            "2a58f3dabd344ca0b9e1a7d8694e0d49",
            "76a8a6c287fb4414900be956ff8a5e4d",
            "35e20f881a834185a2d2c30cdcaf5aca",
            "53468847c9184ee6b47a02dfe9262f5e",
            "cf24105115a34d42bf4b278bf45dcf77",
            "9113b92d52d1462086c84ecfecc3efd4",
            "baebfd6aeccf432d94a1a3392ad3f26c",
            "49f81b5fcf2a4b98ba746293345ecdcc",
            "dd02cfd166b648a7ac1b4da088302ed8",
            "938fa479d6f348fab370d4473127c9ac",
            "c5d1830986b44218be8b623615b8d5d4",
            "9086ac2366c4429fb38cb0226322e246",
            "6cffab28842b4a02b3d7e17e021f9c22",
            "ee101e830a734747a65f2345ed45c523",
            "c8e21ec5258346ebb1977694aa6c9aa0",
            "d4a08f78cdca41f09a08530452232b12",
            "8435c81d944343149bec05eede984172",
            "265664be21a64b6a9156700700eaf209",
            "54f9797c6d2f456a8ee5788ed445eda5",
            "6bc65b43179f43a882db63d25c1c1945",
            "e658921501854067bac363f07dfcd629",
            "50e06814dd0649e58db731fdeaffb7f3",
            "0bcb22ca43ca46d49100fb470ea335b0",
            "850e7caa3e574302a9fb38dd13d9aaa5",
            "c1cfb09bc07343819f27eb2d91547263",
            "e0fecca71c0a4a74881d51e82eff8d59",
            "51fea3cbfd47465dab911943c7e47846",
            "8069a2634fd94b3a94d5defcbf284b15",
            "85e66f3912c34f20bc0cd875e634f48d",
            "8f35295f2bd14b048ab16f469ee31f07",
            "ff5c599aa50b4dfa9ced6081010d0c34",
            "53d9edb010c948cd8b9016a5b450beba",
            "c99e0233f6b648749aeee42cb9e3371e",
            "6e59909fbf754db08ed5e50938b0e70e",
            "fb209acceb1a43bd84e55b61db3ee117",
            "8956114c675741ba8ca81a4517482c33",
            "f76cfd2a053f4ed090783d44978277a3",
            "64d66d6c063444ebb577320d9257d87f",
            "e7cba290d2ae4fc49e981390b9d54e91",
            "2956e5fb21714f7fb1e51f3e89be7aaa",
            "7ae3a39e372448228e9e0bcf4ff70feb",
            "de6015f75abe406680e8583f015a82d2",
            "4c3f49152aa042848a5efc9767178c8f",
            "2c72832d51fa464c93e033a1d23baceb",
            "9abae3a72d194fc09de2ff78fc9c7404",
            "35eed846d45b4035a7225cddf819b3f3",
            "c842cc740c424db78b769a6fc5a0e829",
            "f92ccf2cd9bb4e8a8aabf3ddc4d98788",
            "fcebe127c33a4ad6aa30ca0c6831672b"
          ]
        },
        "id": "qBNul_3-M8o7",
        "outputId": "8f3d94a5-9111-40a8-9855-d447359abe5a"
      },
      "outputs": [
        {
          "output_type": "stream",
          "name": "stderr",
          "text": [
            "/usr/local/lib/python3.10/dist-packages/sentence_transformers/cross_encoder/CrossEncoder.py:11: TqdmExperimentalWarning: Using `tqdm.autonotebook.tqdm` in notebook mode. Use `tqdm.tqdm` instead to force console mode (e.g. in jupyter console)\n",
            "  from tqdm.autonotebook import tqdm, trange\n"
          ]
        },
        {
          "output_type": "display_data",
          "data": {
            "text/plain": [
              "modules.json:   0%|          | 0.00/349 [00:00<?, ?B/s]"
            ],
            "application/vnd.jupyter.widget-view+json": {
              "version_major": 2,
              "version_minor": 0,
              "model_id": "533cc62bd88848edab4081c325b918f7"
            }
          },
          "metadata": {}
        },
        {
          "output_type": "display_data",
          "data": {
            "text/plain": [
              "config_sentence_transformers.json:   0%|          | 0.00/116 [00:00<?, ?B/s]"
            ],
            "application/vnd.jupyter.widget-view+json": {
              "version_major": 2,
              "version_minor": 0,
              "model_id": "f738885eb93b43b481b4852acf3f4564"
            }
          },
          "metadata": {}
        },
        {
          "output_type": "display_data",
          "data": {
            "text/plain": [
              "README.md:   0%|          | 0.00/9.52k [00:00<?, ?B/s]"
            ],
            "application/vnd.jupyter.widget-view+json": {
              "version_major": 2,
              "version_minor": 0,
              "model_id": "1621d03c7b8b4afc8d8a3c8ac03d8979"
            }
          },
          "metadata": {}
        },
        {
          "output_type": "display_data",
          "data": {
            "text/plain": [
              "sentence_bert_config.json:   0%|          | 0.00/53.0 [00:00<?, ?B/s]"
            ],
            "application/vnd.jupyter.widget-view+json": {
              "version_major": 2,
              "version_minor": 0,
              "model_id": "03ee0bd44a4848579b5029dca79bcdba"
            }
          },
          "metadata": {}
        },
        {
          "output_type": "display_data",
          "data": {
            "text/plain": [
              "config.json:   0%|          | 0.00/523 [00:00<?, ?B/s]"
            ],
            "application/vnd.jupyter.widget-view+json": {
              "version_major": 2,
              "version_minor": 0,
              "model_id": "ddb32adde08e48428362b92fc678f8b4"
            }
          },
          "metadata": {}
        },
        {
          "output_type": "display_data",
          "data": {
            "text/plain": [
              "model.safetensors:   0%|          | 0.00/265M [00:00<?, ?B/s]"
            ],
            "application/vnd.jupyter.widget-view+json": {
              "version_major": 2,
              "version_minor": 0,
              "model_id": "4cbee9ffddba43ba99477083017451b5"
            }
          },
          "metadata": {}
        },
        {
          "output_type": "display_data",
          "data": {
            "text/plain": [
              "tokenizer_config.json:   0%|          | 0.00/333 [00:00<?, ?B/s]"
            ],
            "application/vnd.jupyter.widget-view+json": {
              "version_major": 2,
              "version_minor": 0,
              "model_id": "1824a523795d4102a3b4cbaa4cf8279f"
            }
          },
          "metadata": {}
        },
        {
          "output_type": "display_data",
          "data": {
            "text/plain": [
              "vocab.txt:   0%|          | 0.00/232k [00:00<?, ?B/s]"
            ],
            "application/vnd.jupyter.widget-view+json": {
              "version_major": 2,
              "version_minor": 0,
              "model_id": "9113b92d52d1462086c84ecfecc3efd4"
            }
          },
          "metadata": {}
        },
        {
          "output_type": "display_data",
          "data": {
            "text/plain": [
              "tokenizer.json:   0%|          | 0.00/466k [00:00<?, ?B/s]"
            ],
            "application/vnd.jupyter.widget-view+json": {
              "version_major": 2,
              "version_minor": 0,
              "model_id": "8435c81d944343149bec05eede984172"
            }
          },
          "metadata": {}
        },
        {
          "output_type": "display_data",
          "data": {
            "text/plain": [
              "special_tokens_map.json:   0%|          | 0.00/112 [00:00<?, ?B/s]"
            ],
            "application/vnd.jupyter.widget-view+json": {
              "version_major": 2,
              "version_minor": 0,
              "model_id": "8069a2634fd94b3a94d5defcbf284b15"
            }
          },
          "metadata": {}
        },
        {
          "output_type": "display_data",
          "data": {
            "text/plain": [
              "1_Pooling/config.json:   0%|          | 0.00/190 [00:00<?, ?B/s]"
            ],
            "application/vnd.jupyter.widget-view+json": {
              "version_major": 2,
              "version_minor": 0,
              "model_id": "e7cba290d2ae4fc49e981390b9d54e91"
            }
          },
          "metadata": {}
        }
      ],
      "source": [
        "collection_name = \"Lines\"\n",
        "sentence_transformer_model=\"sentence-transformers/multi-qa-distilbert-cos-v1\" #\"distiluse-base-multilingual-cased-v1\"\n",
        "embedding_function= embedding_functions.SentenceTransformerEmbeddingFunction(\n",
        "    model_name=sentence_transformer_model)\n"
      ]
    },
    {
      "cell_type": "code",
      "execution_count": 4,
      "metadata": {
        "id": "EpZB5LiIM8hs"
      },
      "outputs": [],
      "source": [
        "chroma_client, chroma_collection = create_chroma_client(collection_name,\n",
        "                                                        embedding_function)"
      ]
    },
    {
      "cell_type": "code",
      "execution_count": 5,
      "metadata": {
        "colab": {
          "base_uri": "https://localhost:8080/"
        },
        "id": "lKALK7hQNG1d",
        "outputId": "86d2d3fe-6c0b-4b98-8246-07e4124dd3a2"
      },
      "outputs": [
        {
          "output_type": "stream",
          "name": "stdout",
          "text": [
            "Collection name: Lines\n",
            "Number of documents in collection: 0\n",
            "All collections in ChromaDB client:\n",
            "Lines\n"
          ]
        }
      ],
      "source": [
        "# Verify collection properties\n",
        "print(f\"Collection name: {chroma_collection.name}\")\n",
        "print(f\"Number of documents in collection: {chroma_collection.count()}\")\n",
        "\n",
        "# List all collections in the client\n",
        "print(\"All collections in ChromaDB client:\")\n",
        "for collection in chroma_client.list_collections():\n",
        "    print(collection.name)"
      ]
    },
    {
      "cell_type": "code",
      "execution_count": 6,
      "metadata": {
        "id": "1iLEVo4TUACW"
      },
      "outputs": [],
      "source": [
        "from google.colab import files\n",
        "def upload_multiple_files():\n",
        "  uploaded = files.upload()\n",
        "  file_names = list()\n",
        "  for fn in uploaded.keys():\n",
        "    file_names.append(fn)\n",
        "  return file_names"
      ]
    },
    {
      "cell_type": "code",
      "execution_count": 7,
      "metadata": {
        "id": "B9aaZtQBNGuG"
      },
      "outputs": [],
      "source": [
        "import pandas as pd\n",
        "from textwrap import wrap\n"
      ]
    },
    {
      "cell_type": "code",
      "execution_count": 9,
      "metadata": {
        "id": "wze7UEgBwp3Y"
      },
      "outputs": [],
      "source": [
        "def extract_log_rows(csv_path):\n",
        "    # CSV dosyasını oku\n",
        "    log_data = pd.read_csv(csv_path)\n",
        "    # Her bir log satırını işle ve listeye ekle\n",
        "    log_rows = []\n",
        "    for index, row in log_data.iterrows():\n",
        "        # Log satırını birleştir\n",
        "        log_row = f\"IP: {row['IP Address']}, Timestamp: {row['Timestamp']}, Request: {row['Request']}, Status Code: {row['Status Code']}, Response Size: {row['Response Size']}, Referer: {row['Referer']}, User Agent: {row['User Agent']}\"\n",
        "        log_rows.append(log_row)\n",
        "    return log_rows\n"
      ]
    },
    {
      "cell_type": "code",
      "execution_count": 10,
      "metadata": {
        "id": "Nm0BcNKDuwKV"
      },
      "outputs": [],
      "source": [
        "def convert_Chunk_Token(text_chunksinChar, sentence_transformer_model, chunk_overlap=0, tokens_per_chunk=256):\n",
        "    token_splitter = SentenceTransformersTokenTextSplitter(\n",
        "        chunk_overlap=chunk_overlap,\n",
        "        model_name=sentence_transformer_model,\n",
        "        tokens_per_chunk=tokens_per_chunk\n",
        "    )\n",
        "\n",
        "    text_chunksinTokens = []\n",
        "    for text in text_chunksinChar:\n",
        "        text_chunksinTokens += token_splitter.split_text(text)\n",
        "\n",
        "    print(f\"\\nTotal number of chunks (document split by {tokens_per_chunk} tokens per chunk): {len(text_chunksinTokens)}\")\n",
        "    return text_chunksinTokens"
      ]
    },
    {
      "cell_type": "code",
      "execution_count": 11,
      "metadata": {
        "id": "45DIXHSANokg"
      },
      "outputs": [],
      "source": [
        "def add_meta_data(log_chunksinTokens, title, category, initial_id):\n",
        "  ids = [str(i+initial_id) for i in range(len(log_chunksinTokens))]\n",
        "  metadata = {\n",
        "      'document': title,\n",
        "      'category': category\n",
        "  }\n",
        "  metadatas = [ metadata for i in range(len(log_chunksinTokens))]\n",
        "  return ids, metadatas"
      ]
    },
    {
      "cell_type": "code",
      "execution_count": 12,
      "metadata": {
        "id": "mwu4uofZSvvK"
      },
      "outputs": [],
      "source": [
        "def add_document_to_collection(ids, metadatas, log_chunksinTokens, chroma_collection):\n",
        "    try:\n",
        "        # Mevcut koleksiyon boyutunu yazdır\n",
        "        print(\"Before inserting, the size of the collection: \", chroma_collection.count())\n",
        "        # Veri ekleme işlemini gerçekleştir\n",
        "        chroma_collection.add(ids=ids, metadatas=metadatas, documents=log_chunksinTokens)\n",
        "        print(ids[10],metadatas[10],log_chunksinTokens[10])\n",
        "        # Ekleme işlemi sonrasında koleksiyon boyutunu yazdır\n",
        "        print(\"After inserting, the size of the collection: \", chroma_collection.count())\n",
        "    except Exception as e:\n",
        "        # Hata oluşursa bu blok çalışır\n",
        "        print(f\"An error occurred while adding documents to the collection: {str(e)}\")\n",
        "    return chroma_collection"
      ]
    },
    {
      "cell_type": "code",
      "execution_count": 13,
      "metadata": {
        "id": "bJ2Gzj3zNwu8"
      },
      "outputs": [],
      "source": [
        "def retrieveDocs(chroma_collection, query, n_results=5, return_only_docs=False):\n",
        "    results = chroma_collection.query(query_texts=[query],\n",
        "                                      include= [ \"documents\",\"metadatas\",'distances' ],\n",
        "                                      n_results=n_results)\n",
        "\n",
        "    if return_only_docs:\n",
        "        return results['documents'][0]\n",
        "    else:\n",
        "        return results"
      ]
    },
    {
      "cell_type": "code",
      "execution_count": 14,
      "metadata": {
        "id": "6g_B9-TMNwsM"
      },
      "outputs": [],
      "source": [
        "def show_results(results, return_only_docs=False):\n",
        "\n",
        "  if return_only_docs:\n",
        "    retrieved_documents = results\n",
        "    if len(retrieved_documents) == 0:\n",
        "      print(\"No results found.\")\n",
        "      return\n",
        "    for i, doc in enumerate(retrieved_documents):\n",
        "      print(f\"Document {i+1}:\")\n",
        "      print(\"\\tDocument Text: \")\n",
        "      display(to_markdown(doc));\n",
        "  else:\n",
        "\n",
        "      retrieved_documents = results['documents'][0]\n",
        "      if len(retrieved_documents) == 0:\n",
        "          print(\"No results found.\")\n",
        "          return\n",
        "      retrieved_documents_metadata = results['metadatas'][0]\n",
        "      retrieved_documents_distances = results['distances'][0]\n",
        "      print(\"------- retreived documents -------\\n\")\n",
        "\n",
        "      for i, doc in enumerate(retrieved_documents):\n",
        "          print(f\"Document {i+1}:\")\n",
        "          print(\"\\tDocument Text: \")\n",
        "          display(to_markdown(doc));\n",
        "          print(f\"\\tDocument Source: {retrieved_documents_metadata[i]['document']}\")\n",
        "          print(f\"\\tDocument Source Type: {retrieved_documents_metadata[i]['category']}\")\n",
        "          print(f\"\\tDocument Distance: {retrieved_documents_distances[i]}\")\n"
      ]
    },
    {
      "cell_type": "code",
      "execution_count": 15,
      "metadata": {
        "id": "kfhH9dSiNwpT"
      },
      "outputs": [],
      "source": [
        "def load_multiple_csvs_to_ChromaDB(collection_name,sentence_transformer_model):\n",
        "\n",
        "  collection_name= collection_name\n",
        "  category= \"Journal Paper\"\n",
        "  sentence_transformer_model=sentence_transformer_model\n",
        "  embedding_function= embedding_functions.SentenceTransformerEmbeddingFunction(model_name=sentence_transformer_model)\n",
        "  chroma_client, chroma_collection = create_chroma_client(collection_name, embedding_function)\n",
        "  current_id = chroma_collection.count()\n",
        "  file_names = upload_multiple_files()\n",
        "  for file_name in file_names:\n",
        "    print(f\"Document: {file_name} is being processed to be added to the {chroma_collection.name} {chroma_collection.count()}\")\n",
        "    print(f\"current_id: {current_id} \")\n",
        "    log_rows = extract_log_rows(file_name)\n",
        "    print(f\"log satırları:{len(log_rows)}\")\n",
        "    print(f\"2.nci log satırı:{log_rows[2]}\")\n",
        "    for i in range(10):\n",
        "        print(log_rows[i+1])\n",
        "    tokens = convert_Chunk_Token(log_rows, sentence_transformer_model)\n",
        "    ids,metadatas = add_meta_data(tokens,file_name,category, current_id)\n",
        "    current_id = current_id + len(tokens)\n",
        "    chroma_collection = add_document_to_collection(ids, metadatas, tokens, chroma_collection)\n",
        "    print(f\"Document: {file_name} added to the collection: {chroma_collection.count()}\")\n",
        "  return  chroma_client, chroma_collection"
      ]
    },
    {
      "cell_type": "code",
      "execution_count": 16,
      "metadata": {
        "colab": {
          "base_uri": "https://localhost:8080/",
          "height": 458
        },
        "id": "403Ag-_hNwmW",
        "outputId": "f99c2606-30cd-4249-92f1-b0be77c282e3"
      },
      "outputs": [
        {
          "output_type": "display_data",
          "data": {
            "text/plain": [
              "<IPython.core.display.HTML object>"
            ],
            "text/html": [
              "\n",
              "     <input type=\"file\" id=\"files-a0ae3dcb-e9d2-4d34-bdca-3854035955a0\" name=\"files[]\" multiple disabled\n",
              "        style=\"border:none\" />\n",
              "     <output id=\"result-a0ae3dcb-e9d2-4d34-bdca-3854035955a0\">\n",
              "      Upload widget is only available when the cell has been executed in the\n",
              "      current browser session. Please rerun this cell to enable.\n",
              "      </output>\n",
              "      <script>// Copyright 2017 Google LLC\n",
              "//\n",
              "// Licensed under the Apache License, Version 2.0 (the \"License\");\n",
              "// you may not use this file except in compliance with the License.\n",
              "// You may obtain a copy of the License at\n",
              "//\n",
              "//      http://www.apache.org/licenses/LICENSE-2.0\n",
              "//\n",
              "// Unless required by applicable law or agreed to in writing, software\n",
              "// distributed under the License is distributed on an \"AS IS\" BASIS,\n",
              "// WITHOUT WARRANTIES OR CONDITIONS OF ANY KIND, either express or implied.\n",
              "// See the License for the specific language governing permissions and\n",
              "// limitations under the License.\n",
              "\n",
              "/**\n",
              " * @fileoverview Helpers for google.colab Python module.\n",
              " */\n",
              "(function(scope) {\n",
              "function span(text, styleAttributes = {}) {\n",
              "  const element = document.createElement('span');\n",
              "  element.textContent = text;\n",
              "  for (const key of Object.keys(styleAttributes)) {\n",
              "    element.style[key] = styleAttributes[key];\n",
              "  }\n",
              "  return element;\n",
              "}\n",
              "\n",
              "// Max number of bytes which will be uploaded at a time.\n",
              "const MAX_PAYLOAD_SIZE = 100 * 1024;\n",
              "\n",
              "function _uploadFiles(inputId, outputId) {\n",
              "  const steps = uploadFilesStep(inputId, outputId);\n",
              "  const outputElement = document.getElementById(outputId);\n",
              "  // Cache steps on the outputElement to make it available for the next call\n",
              "  // to uploadFilesContinue from Python.\n",
              "  outputElement.steps = steps;\n",
              "\n",
              "  return _uploadFilesContinue(outputId);\n",
              "}\n",
              "\n",
              "// This is roughly an async generator (not supported in the browser yet),\n",
              "// where there are multiple asynchronous steps and the Python side is going\n",
              "// to poll for completion of each step.\n",
              "// This uses a Promise to block the python side on completion of each step,\n",
              "// then passes the result of the previous step as the input to the next step.\n",
              "function _uploadFilesContinue(outputId) {\n",
              "  const outputElement = document.getElementById(outputId);\n",
              "  const steps = outputElement.steps;\n",
              "\n",
              "  const next = steps.next(outputElement.lastPromiseValue);\n",
              "  return Promise.resolve(next.value.promise).then((value) => {\n",
              "    // Cache the last promise value to make it available to the next\n",
              "    // step of the generator.\n",
              "    outputElement.lastPromiseValue = value;\n",
              "    return next.value.response;\n",
              "  });\n",
              "}\n",
              "\n",
              "/**\n",
              " * Generator function which is called between each async step of the upload\n",
              " * process.\n",
              " * @param {string} inputId Element ID of the input file picker element.\n",
              " * @param {string} outputId Element ID of the output display.\n",
              " * @return {!Iterable<!Object>} Iterable of next steps.\n",
              " */\n",
              "function* uploadFilesStep(inputId, outputId) {\n",
              "  const inputElement = document.getElementById(inputId);\n",
              "  inputElement.disabled = false;\n",
              "\n",
              "  const outputElement = document.getElementById(outputId);\n",
              "  outputElement.innerHTML = '';\n",
              "\n",
              "  const pickedPromise = new Promise((resolve) => {\n",
              "    inputElement.addEventListener('change', (e) => {\n",
              "      resolve(e.target.files);\n",
              "    });\n",
              "  });\n",
              "\n",
              "  const cancel = document.createElement('button');\n",
              "  inputElement.parentElement.appendChild(cancel);\n",
              "  cancel.textContent = 'Cancel upload';\n",
              "  const cancelPromise = new Promise((resolve) => {\n",
              "    cancel.onclick = () => {\n",
              "      resolve(null);\n",
              "    };\n",
              "  });\n",
              "\n",
              "  // Wait for the user to pick the files.\n",
              "  const files = yield {\n",
              "    promise: Promise.race([pickedPromise, cancelPromise]),\n",
              "    response: {\n",
              "      action: 'starting',\n",
              "    }\n",
              "  };\n",
              "\n",
              "  cancel.remove();\n",
              "\n",
              "  // Disable the input element since further picks are not allowed.\n",
              "  inputElement.disabled = true;\n",
              "\n",
              "  if (!files) {\n",
              "    return {\n",
              "      response: {\n",
              "        action: 'complete',\n",
              "      }\n",
              "    };\n",
              "  }\n",
              "\n",
              "  for (const file of files) {\n",
              "    const li = document.createElement('li');\n",
              "    li.append(span(file.name, {fontWeight: 'bold'}));\n",
              "    li.append(span(\n",
              "        `(${file.type || 'n/a'}) - ${file.size} bytes, ` +\n",
              "        `last modified: ${\n",
              "            file.lastModifiedDate ? file.lastModifiedDate.toLocaleDateString() :\n",
              "                                    'n/a'} - `));\n",
              "    const percent = span('0% done');\n",
              "    li.appendChild(percent);\n",
              "\n",
              "    outputElement.appendChild(li);\n",
              "\n",
              "    const fileDataPromise = new Promise((resolve) => {\n",
              "      const reader = new FileReader();\n",
              "      reader.onload = (e) => {\n",
              "        resolve(e.target.result);\n",
              "      };\n",
              "      reader.readAsArrayBuffer(file);\n",
              "    });\n",
              "    // Wait for the data to be ready.\n",
              "    let fileData = yield {\n",
              "      promise: fileDataPromise,\n",
              "      response: {\n",
              "        action: 'continue',\n",
              "      }\n",
              "    };\n",
              "\n",
              "    // Use a chunked sending to avoid message size limits. See b/62115660.\n",
              "    let position = 0;\n",
              "    do {\n",
              "      const length = Math.min(fileData.byteLength - position, MAX_PAYLOAD_SIZE);\n",
              "      const chunk = new Uint8Array(fileData, position, length);\n",
              "      position += length;\n",
              "\n",
              "      const base64 = btoa(String.fromCharCode.apply(null, chunk));\n",
              "      yield {\n",
              "        response: {\n",
              "          action: 'append',\n",
              "          file: file.name,\n",
              "          data: base64,\n",
              "        },\n",
              "      };\n",
              "\n",
              "      let percentDone = fileData.byteLength === 0 ?\n",
              "          100 :\n",
              "          Math.round((position / fileData.byteLength) * 100);\n",
              "      percent.textContent = `${percentDone}% done`;\n",
              "\n",
              "    } while (position < fileData.byteLength);\n",
              "  }\n",
              "\n",
              "  // All done.\n",
              "  yield {\n",
              "    response: {\n",
              "      action: 'complete',\n",
              "    }\n",
              "  };\n",
              "}\n",
              "\n",
              "scope.google = scope.google || {};\n",
              "scope.google.colab = scope.google.colab || {};\n",
              "scope.google.colab._files = {\n",
              "  _uploadFiles,\n",
              "  _uploadFilesContinue,\n",
              "};\n",
              "})(self);\n",
              "</script> "
            ]
          },
          "metadata": {}
        },
        {
          "output_type": "stream",
          "name": "stdout",
          "text": [
            "Saving duzenli_log_dosyasi_400.csv to duzenli_log_dosyasi_400.csv\n",
            "Document: duzenli_log_dosyasi_400.csv is being processed to be added to the Lines 0\n",
            "current_id: 0 \n",
            "log satırları:380\n",
            "2.nci log satırı:IP: 14.49.42.25, Timestamp: 12/May/2022:01:24:06 +0000, Request: GET /articles/dynamic-dns-with-dhcp/ HTTP/1.1, Status Code: 200, Response Size: 18848, Referer: -, User Agent: Mozilla/5.0 (Windows; U; Windows NT 6.1; en-US; rv:1.9.2b1) Gecko/20091014 Firefox/3.6b1 GTB5\n",
            "IP: 14.49.42.25, Timestamp: 12/May/2022:01:24:15 +0000, Request: GET /articles/openldap-with-saslauthd/ HTTP/1.1, Status Code: 200, Response Size: 12700, Referer: -, User Agent: Mozilla/5.0 (Windows; U; Windows NT 6.1; en-US; rv:1.9.2b1) Gecko/20091014 Firefox/3.6b1 GTB5\n",
            "IP: 14.49.42.25, Timestamp: 12/May/2022:01:24:06 +0000, Request: GET /articles/dynamic-dns-with-dhcp/ HTTP/1.1, Status Code: 200, Response Size: 18848, Referer: -, User Agent: Mozilla/5.0 (Windows; U; Windows NT 6.1; en-US; rv:1.9.2b1) Gecko/20091014 Firefox/3.6b1 GTB5\n",
            "IP: 14.49.42.25, Timestamp: 12/May/2022:01:24:54 +0000, Request: GET /articles/ssh-security/ HTTP/1.1, Status Code: 200, Response Size: 16543, Referer: -, User Agent: Mozilla/5.0 (Windows; U; Windows NT 6.1; en-US; rv:1.9.2b1) Gecko/20091014 Firefox/3.6b1 GTB5\n",
            "IP: 14.49.42.25, Timestamp: 12/May/2022:01:25:25 +0000, Request: GET /articles/week-of-unix-tools/ HTTP/1.1, Status Code: 200, Response Size: 9313, Referer: -, User Agent: Mozilla/5.0 (Windows; U; Windows NT 6.1; en-US; rv:1.9.2b1) Gecko/20091014 Firefox/3.6b1 GTB5\n",
            "IP: 14.49.42.25, Timestamp: 12/May/2022:01:25:33 +0000, Request: GET /blog/geekery/headless-wrapper-for-ephemeral-xservers.html HTTP/1.1, Status Code: 200, Response Size: 11902, Referer: -, User Agent: Mozilla/5.0 (Windows; U; Windows NT 6.1; en-US; rv:1.9.2b1) Gecko/20091014 Firefox/3.6b1 GTB5\n",
            "IP: 66.249.73.135, Timestamp: 12/May/2022:01:25:58 +0000, Request: GET /misc/nmh/replcomps HTTP/1.1, Status Code: 200, Response Size: 891, Referer: -, User Agent: Mozilla/5.0 (compatible; Googlebot/2.1; +http://www.google.com/bot.html)\n",
            "IP: 114.80.81.51, Timestamp: 12/May/2022:01:26:10 +0000, Request: GET /blog/geekery/xvfb-firefox.html HTTP/1.1, Status Code: 200, Response Size: 10975, Referer: -, User Agent: Mozilla/5.0 (Windows; U; Windows NT 6.1; en-US; rv:1.9.2b1) Gecko/20091014 Firefox/3.6b1 GTB5\n",
            "IP: 46.105.14.53, Timestamp: 12/May/2022:01:26:18 +0000, Request: GET /blog/tags/puppet?flav=rss20 HTTP/1.1, Status Code: 200, Response Size: 14872, Referer: -, User Agent: UniversalFeedParser/4.2-pre-314-svn +http://feedparser.org/\n",
            "IP: 61.55.141.10, Timestamp: 12/May/2022:01:26:17 +0000, Request: GET /blog/tags/boredom-induced-research HTTP/1.0, Status Code: 200, Response Size: 17808, Referer: -, User Agent: Mozilla/5.0 (Windows; U; Windows NT 6.1; en-US; rv:1.9.2b1) Gecko/20091014 Firefox/3.6b1 GTB5\n",
            "IP: 61.55.141.10, Timestamp: 12/May/2022:01:26:11 +0000, Request: GET /blog/geekery/xvfb-firefox.html HTTP/1.0, Status Code: 200, Response Size: 10975, Referer: -, User Agent: Mozilla/5.0 (Windows; U; Windows NT 6.1; en-US; rv:1.9.2b1) Gecko/20091014 Firefox/3.6b1 GTB5\n",
            "\n",
            "Total number of chunks (document split by 256 tokens per chunk): 390\n",
            "Before inserting, the size of the collection:  0\n",
            "10 {'document': 'duzenli_log_dosyasi_400.csv', 'category': 'Journal Paper'} ip : 61. 55. 141. 10, timestamp : 12 / may / 2022 : 01 : 26 : 11 + 0000, request : get / blog / geekery / xvfb - firefox. html http / 1. 0, status code : 200, response size : 10975, referer : -, user agent : mozilla / 5. 0 ( windows ; u ; windows nt 6. 1 ; en - us ; rv : 1. 9. 2b1 ) gecko / 20091014 firefox / 3. 6b1 gtb5\n",
            "After inserting, the size of the collection:  390\n",
            "Document: duzenli_log_dosyasi_400.csv added to the collection: 390\n"
          ]
        }
      ],
      "source": [
        "chroma_client, chroma_collection= load_multiple_csvs_to_ChromaDB(collection_name,sentence_transformer_model)"
      ]
    },
    {
      "cell_type": "code",
      "execution_count": 17,
      "metadata": {
        "colab": {
          "base_uri": "https://localhost:8080/",
          "height": 36
        },
        "id": "AoF8NpVgNwe_",
        "outputId": "99ab80c3-813b-418f-94ec-b88a5e2041dd"
      },
      "outputs": [
        {
          "output_type": "execute_result",
          "data": {
            "text/plain": [
              "'\\n14.49.42.25,12/May/2022:01:24:44 +0000,GET /articles/ppp-over-ssh/ HTTP/1.1,200,18586,-,Mozilla/5.0 (Windows; U; Windows NT 6.1; en-US; rv:1.9.2b1) Gecko/20091014 Firefox/3.6b1 GTB5\\n\\n'"
            ],
            "application/vnd.google.colaboratory.intrinsic+json": {
              "type": "string"
            }
          },
          "metadata": {},
          "execution_count": 17
        }
      ],
      "source": [
        "query = \"14.49.42.25,12/May/2022:01:24:44 +0000,GET /articles\"\n",
        "\n",
        "'''\n",
        "14.49.42.25,12/May/2022:01:24:44 +0000,GET /articles/ppp-over-ssh/ HTTP/1.1,200,18586,-,Mozilla/5.0 (Windows; U; Windows NT 6.1; en-US; rv:1.9.2b1) Gecko/20091014 Firefox/3.6b1 GTB5\n",
        "\n",
        "'''"
      ]
    },
    {
      "cell_type": "code",
      "execution_count": 18,
      "metadata": {
        "colab": {
          "base_uri": "https://localhost:8080/",
          "height": 1000
        },
        "id": "u4G0ODRGN-yn",
        "outputId": "7504c648-99b0-4020-9786-ab8bb907b406"
      },
      "outputs": [
        {
          "output_type": "stream",
          "name": "stdout",
          "text": [
            "------- retreived documents -------\n",
            "\n",
            "Document 1:\n",
            "\tDocument Text: \n"
          ]
        },
        {
          "output_type": "display_data",
          "data": {
            "text/plain": [
              "<IPython.core.display.Markdown object>"
            ],
            "text/markdown": "> ip : 14. 49. 42. 25, timestamp : 12 / may / 2022 : 01 : 25 : 25 + 0000, request : get / articles / week - of - unix - tools / http / 1. 1, status code : 200, response size : 9313, referer : -, user agent : mozilla / 5. 0 ( windows ; u ; windows nt 6. 1 ; en - us ; rv : 1. 9. 2b1 ) gecko / 20091014 firefox / 3. 6b1 gtb5"
          },
          "metadata": {}
        },
        {
          "output_type": "stream",
          "name": "stdout",
          "text": [
            "\tDocument Source: duzenli_log_dosyasi_400.csv\n",
            "\tDocument Source Type: Journal Paper\n",
            "\tDocument Distance: 0.9381861686706543\n",
            "Document 2:\n",
            "\tDocument Text: \n"
          ]
        },
        {
          "output_type": "display_data",
          "data": {
            "text/plain": [
              "<IPython.core.display.Markdown object>"
            ],
            "text/markdown": "> ip : 31. 133. 11. 222, timestamp : 11 / may / 2022 : 21 : 55 : 21 + 0000, request : get / blog / articles / week - of - unix - tools / day - 3 - awk. html http / 1. 0, status code : 200, response size : 15457, referer : http : / / www. semicomplete. com / blog / articles / week - of - unix - tools / day - 3 - awk. html, user agent : mozilla / 5. 0 ( windows nt 6. 1 ; wow64 ) applewebkit / 536. 5 ( khtml, like gecko ) yabrowser / 1. 1. 1084. 5409 chrome / 19. 1. 1084. 5409 safari / 536. 5"
          },
          "metadata": {}
        },
        {
          "output_type": "stream",
          "name": "stdout",
          "text": [
            "\tDocument Source: duzenli_log_dosyasi_400.csv\n",
            "\tDocument Source Type: Journal Paper\n",
            "\tDocument Distance: 0.9581603407859802\n",
            "Document 3:\n",
            "\tDocument Text: \n"
          ]
        },
        {
          "output_type": "display_data",
          "data": {
            "text/plain": [
              "<IPython.core.display.Markdown object>"
            ],
            "text/markdown": "> ip : 68. 180. 224. 225, timestamp : 12 / may / 2022 : 01 : 34 : 26 + 0000, request : get / blog / geekery / year - in - review - 2011. html http / 1. 1, status code : 200, response size : 11118, referer : -, user agent : mozilla / 5. 0 ( compatible ; yahoo! slurp ; http : / / help. yahoo. com / help / us / ysearch / slurp )"
          },
          "metadata": {}
        },
        {
          "output_type": "stream",
          "name": "stdout",
          "text": [
            "\tDocument Source: duzenli_log_dosyasi_400.csv\n",
            "\tDocument Source Type: Journal Paper\n",
            "\tDocument Distance: 0.9834531545639038\n",
            "Document 4:\n",
            "\tDocument Text: \n"
          ]
        },
        {
          "output_type": "display_data",
          "data": {
            "text/plain": [
              "<IPython.core.display.Markdown object>"
            ],
            "text/markdown": "> ip : 61. 55. 141. 10, timestamp : 12 / may / 2022 : 01 : 26 : 17 + 0000, request : get / blog / tags / boredom - induced - research http / 1. 0, status code : 200, response size : 17808, referer : -, user agent : mozilla / 5. 0 ( windows ; u ; windows nt 6. 1 ; en - us ; rv : 1. 9. 2b1 ) gecko / 20091014 firefox / 3. 6b1 gtb5"
          },
          "metadata": {}
        },
        {
          "output_type": "stream",
          "name": "stdout",
          "text": [
            "\tDocument Source: duzenli_log_dosyasi_400.csv\n",
            "\tDocument Source Type: Journal Paper\n",
            "\tDocument Distance: 1.1025760173797607\n",
            "Document 5:\n",
            "\tDocument Text: \n"
          ]
        },
        {
          "output_type": "display_data",
          "data": {
            "text/plain": [
              "<IPython.core.display.Markdown object>"
            ],
            "text/markdown": "> ip : 183. 60. 215. 50, timestamp : 11 / may / 2022 : 21 : 54 : 47 + 0000, request : get / blog / geekery / field - extraction - tool. html http / 1. 1, status code : 200, response size : 10056, referer : -, user agent : mozilla / 5. 0 ( compatible ; easouspider ; + http : / / www. easou. com / search / spider. html )"
          },
          "metadata": {}
        },
        {
          "output_type": "stream",
          "name": "stdout",
          "text": [
            "\tDocument Source: duzenli_log_dosyasi_400.csv\n",
            "\tDocument Source Type: Journal Paper\n",
            "\tDocument Distance: 1.126798391342163\n",
            "Document 6:\n",
            "\tDocument Text: \n"
          ]
        },
        {
          "output_type": "display_data",
          "data": {
            "text/plain": [
              "<IPython.core.display.Markdown object>"
            ],
            "text/markdown": "> ip : 78. 230. 246. 16, timestamp : 12 / may / 2022 : 01 : 50 : 38 + 0000, request : get / presentations / logstash - monitorama - 2013 / css / print / paper. css http / 1. 1, status code : 200, response size : 4254, referer : http : / / semicomplete. com / presentations / logstash - monitorama - 2013 /, user agent : mozilla / 5. 0 ( x11 ; linux x86 _ 64 ; rv : 17. 0 ) gecko / 20100101 firefox / 17. 0"
          },
          "metadata": {}
        },
        {
          "output_type": "stream",
          "name": "stdout",
          "text": [
            "\tDocument Source: duzenli_log_dosyasi_400.csv\n",
            "\tDocument Source Type: Journal Paper\n",
            "\tDocument Distance: 1.1336003541946411\n",
            "Document 7:\n",
            "\tDocument Text: \n"
          ]
        },
        {
          "output_type": "display_data",
          "data": {
            "text/plain": [
              "<IPython.core.display.Markdown object>"
            ],
            "text/markdown": "> ip : 68. 180. 224. 225, timestamp : 11 / may / 2022 : 22 : 21 : 10 + 0000, request : get / blog / tags / web http / 1. 1, status code : 200, response size : 44019, referer : -, user agent : mozilla / 5. 0 ( compatible ; yahoo! slurp ; http : / / help. yahoo. com / help / us / ysearch / slurp )"
          },
          "metadata": {}
        },
        {
          "output_type": "stream",
          "name": "stdout",
          "text": [
            "\tDocument Source: duzenli_log_dosyasi_400.csv\n",
            "\tDocument Source Type: Journal Paper\n",
            "\tDocument Distance: 1.141883373260498\n",
            "Document 8:\n",
            "\tDocument Text: \n"
          ]
        },
        {
          "output_type": "display_data",
          "data": {
            "text/plain": [
              "<IPython.core.display.Markdown object>"
            ],
            "text/markdown": "> ip : 61. 55. 141. 10, timestamp : 12 / may / 2022 : 01 : 26 : 32 + 0000, request : get / blog / tags / ideas http / 1. 0, status code : 200, response size : 30011, referer : -, user agent : mozilla / 5. 0 ( windows ; u ; windows nt 6. 1 ; en - us ; rv : 1. 9. 2b1 ) gecko / 20091014 firefox / 3. 6b1 gtb5"
          },
          "metadata": {}
        },
        {
          "output_type": "stream",
          "name": "stdout",
          "text": [
            "\tDocument Source: duzenli_log_dosyasi_400.csv\n",
            "\tDocument Source Type: Journal Paper\n",
            "\tDocument Distance: 1.1420154571533203\n",
            "Document 9:\n",
            "\tDocument Text: \n"
          ]
        },
        {
          "output_type": "display_data",
          "data": {
            "text/plain": [
              "<IPython.core.display.Markdown object>"
            ],
            "text/markdown": "> ip : 186. 231. 123. 210, timestamp : 11 / may / 2022 : 21 : 24 : 22 + 0000, request : get / presentations / logstash - scale11x / css / fonts / roboto - bold. ttf http / 1. 1, status code : 200, response size : 38720, referer : http : / / semicomplete. com / presentations / logstash - scale11x /, user agent : mozilla / 5. 0 ( macintosh ; intel mac os x 10 _ 9 _ 0 ) applewebkit / 537. 36 ( khtml, like gecko ) chrome / 32. 0. 1700. 102 safari / 537. 36"
          },
          "metadata": {}
        },
        {
          "output_type": "stream",
          "name": "stdout",
          "text": [
            "\tDocument Source: duzenli_log_dosyasi_400.csv\n",
            "\tDocument Source Type: Journal Paper\n",
            "\tDocument Distance: 1.1442687511444092\n",
            "Document 10:\n",
            "\tDocument Text: \n"
          ]
        },
        {
          "output_type": "display_data",
          "data": {
            "text/plain": [
              "<IPython.core.display.Markdown object>"
            ],
            "text/markdown": "> ip : 199. 58. 86. 206, timestamp : 12 / may / 2022 : 01 : 29 : 18 + 0000, request : get / presentations / logstash - scale11x / http / 1. 0, status code : 200, response size : 54239, referer : -, user agent : mozilla / 5. 0 ( compatible ; mj12bot / v1. 4. 4 ; http : / / www. majestic12. co. uk / bot. php? + )"
          },
          "metadata": {}
        },
        {
          "output_type": "stream",
          "name": "stdout",
          "text": [
            "\tDocument Source: duzenli_log_dosyasi_400.csv\n",
            "\tDocument Source Type: Journal Paper\n",
            "\tDocument Distance: 1.1487555503845215\n"
          ]
        }
      ],
      "source": [
        "retrieved_documents=retrieveDocs(chroma_collection, query, 10)\n",
        "show_results(retrieved_documents)"
      ]
    },
    {
      "cell_type": "code",
      "execution_count": 19,
      "metadata": {
        "colab": {
          "base_uri": "https://localhost:8080/"
        },
        "id": "hoJi44k_OBRO",
        "outputId": "e2c85f35-414f-40df-d73b-d9d34add2275"
      },
      "outputs": [
        {
          "output_type": "execute_result",
          "data": {
            "text/plain": [
              "{'ids': ['218'],\n",
              " 'embeddings': None,\n",
              " 'metadatas': [{'category': 'Journal Paper',\n",
              "   'document': 'duzenli_log_dosyasi_400.csv'}],\n",
              " 'documents': ['ip : 5. 10. 83. 65, timestamp : 11 / may / 2022 : 22 : 21 : 57 + 0000, request : get / blog / tags / code http / 1. 1, status code : 200, response size : 14472, referer : -, user agent : mozilla / 5. 0 ( compatible ; ahrefsbot / 5. 0 ; + http : / / ahrefs. com / robot / )'],\n",
              " 'uris': None,\n",
              " 'data': None,\n",
              " 'included': ['metadatas', 'documents']}"
            ]
          },
          "metadata": {},
          "execution_count": 19
        }
      ],
      "source": [
        "chroma_collection.get(ids=['218'])"
      ]
    },
    {
      "cell_type": "code",
      "execution_count": 20,
      "metadata": {
        "id": "Le2TBFiOOR9T"
      },
      "outputs": [],
      "source": [
        "query = \"IP:\\\"14.49.42.25\\\"\""
      ]
    },
    {
      "cell_type": "code",
      "execution_count": 22,
      "metadata": {
        "id": "iNYtGTO7dINl"
      },
      "outputs": [],
      "source": [
        "query=\"Request : GET / blog / geekery / bypassing - captive - portals. html HTTP / 1. 1 nerdedir\""
      ]
    },
    {
      "cell_type": "code",
      "execution_count": 21,
      "metadata": {
        "colab": {
          "base_uri": "https://localhost:8080/",
          "height": 1000
        },
        "id": "pKXnxXqoOR63",
        "outputId": "a652459e-6acb-42f6-83d5-816c0815742a"
      },
      "outputs": [
        {
          "output_type": "stream",
          "name": "stdout",
          "text": [
            "------- retreived documents -------\n",
            "\n",
            "Document 1:\n",
            "\tDocument Text: \n"
          ]
        },
        {
          "output_type": "display_data",
          "data": {
            "text/plain": [
              "<IPython.core.display.Markdown object>"
            ],
            "text/markdown": "> ip : 188. 134. 34. 26, timestamp : 12 / may / 2022 : 01 : 47 : 03 + 0000, request : get / articles / dynamic - dns - with - dhcp / http / 1. 1, status code : 200, response size : 18848, referer : https : / / www. google. ru /, user agent : mozilla / 5. 0 ( windows nt 6. 3 ; wow64 ) applewebkit / 537. 36 ( khtml, like gecko ) chrome / 32. 0. 1700. 107 safari / 537. 36 opr / 19. 0. 1326. 63"
          },
          "metadata": {}
        },
        {
          "output_type": "stream",
          "name": "stdout",
          "text": [
            "\tDocument Source: duzenli_log_dosyasi_400.csv\n",
            "\tDocument Source Type: Journal Paper\n",
            "\tDocument Distance: 0.9247714877128601\n",
            "Document 2:\n",
            "\tDocument Text: \n"
          ]
        },
        {
          "output_type": "display_data",
          "data": {
            "text/plain": [
              "<IPython.core.display.Markdown object>"
            ],
            "text/markdown": "> ip : 202. 83. 106. 179, timestamp : 11 / may / 2022 : 21 : 59 : 50 + 0000, request : get / articles / dynamic - dns - with - dhcp / http / 1. 1, status code : 200, response size : 18848, referer : https : / / www. google. com. sg /, user agent : mozilla / 5. 0 ( windows nt 6. 1 ; wow64 ) applewebkit / 537. 36 ( khtml, like gecko ) chrome / 32. 0. 1700. 107 safari / 537. 36"
          },
          "metadata": {}
        },
        {
          "output_type": "stream",
          "name": "stdout",
          "text": [
            "\tDocument Source: duzenli_log_dosyasi_400.csv\n",
            "\tDocument Source Type: Journal Paper\n",
            "\tDocument Distance: 0.9628704786300659\n",
            "Document 3:\n",
            "\tDocument Text: \n"
          ]
        },
        {
          "output_type": "display_data",
          "data": {
            "text/plain": [
              "<IPython.core.display.Markdown object>"
            ],
            "text/markdown": "> ip : 190. 228. 21. 2, timestamp : 12 / may / 2022 : 01 : 36 : 40 + 0000, request : get / articles / dynamic - dns - with - dhcp / http / 1. 1, status code : 200, response size : 18848, referer : http : / / ubuntuforums. org / showthread. php? t = 1603912, user agent : mozilla / 5. 0 ( x11 ; linux x86 _ 64 ; rv : 18. 0 ) gecko / 20100101 firefox / 18. 0 iceweasel / 18. 0. 2"
          },
          "metadata": {}
        },
        {
          "output_type": "stream",
          "name": "stdout",
          "text": [
            "\tDocument Source: duzenli_log_dosyasi_400.csv\n",
            "\tDocument Source Type: Journal Paper\n",
            "\tDocument Distance: 0.9631055593490601\n",
            "Document 4:\n",
            "\tDocument Text: \n"
          ]
        },
        {
          "output_type": "display_data",
          "data": {
            "text/plain": [
              "<IPython.core.display.Markdown object>"
            ],
            "text/markdown": "> ip : 63. 223. 125. 246, timestamp : 11 / may / 2022 : 22 : 15 : 11 + 0000, request : get / http / 1. 0, status code : 200, response size : 37932, referer : http : / / www. semicomplete. com /, user agent : mozilla / 5. 0 ( macintosh ; intel mac os x 10. 8 ; rv : 22. 0 ) gecko / 20100101 firefox / 22. 0"
          },
          "metadata": {}
        },
        {
          "output_type": "stream",
          "name": "stdout",
          "text": [
            "\tDocument Source: duzenli_log_dosyasi_400.csv\n",
            "\tDocument Source Type: Journal Paper\n",
            "\tDocument Distance: 0.9815678000450134\n",
            "Document 5:\n",
            "\tDocument Text: \n"
          ]
        },
        {
          "output_type": "display_data",
          "data": {
            "text/plain": [
              "<IPython.core.display.Markdown object>"
            ],
            "text/markdown": "> ip : 218. 30. 103. 62, timestamp : 11 / may / 2022 : 22 : 15 : 38 + 0000, request : get / blog / geekery / comcast - dns - hijack - breaks - things. html http / 1. 1, status code : 200, response size : 18095, referer : -, user agent : sogou web spider / 4. 0 ( + http : / / www. sogou. com / docs / help / webmasters. htm # 07 )"
          },
          "metadata": {}
        },
        {
          "output_type": "stream",
          "name": "stdout",
          "text": [
            "\tDocument Source: duzenli_log_dosyasi_400.csv\n",
            "\tDocument Source Type: Journal Paper\n",
            "\tDocument Distance: 0.982134222984314\n",
            "Document 6:\n",
            "\tDocument Text: \n"
          ]
        },
        {
          "output_type": "display_data",
          "data": {
            "text/plain": [
              "<IPython.core.display.Markdown object>"
            ],
            "text/markdown": "> ip : 177. 159. 150. 190, timestamp : 12 / may / 2022 : 01 : 28 : 05 + 0000, request : get / articles / dynamic - dns - with - dhcp / http / 1. 1, status code : 200, response size : 18848, referer : http : / / www. google. com. br / url? sa = t & rct = j & q = & esrc = s & source = web & cd = 8 & ved = 0chiqfjah & url = http % 3a % 2f % 2fwww. semicomplete. com % 2farticles % 2fdynamic - dns - with - dhcp % 2f & ei = no0eu6kbnyk3satlxocydw & usg = afqjcnef1x4rs52uyqyliystqxa97ozm4g & bvm = bv. 61535280, d. cwc & cad = rja, user agent : mozilla / 5. 0 ( windows nt 6. 1 ; wow64 ; rv : 24. 0 ) gecko"
          },
          "metadata": {}
        },
        {
          "output_type": "stream",
          "name": "stdout",
          "text": [
            "\tDocument Source: duzenli_log_dosyasi_400.csv\n",
            "\tDocument Source Type: Journal Paper\n",
            "\tDocument Distance: 0.9893393516540527\n",
            "Document 7:\n",
            "\tDocument Text: \n"
          ]
        },
        {
          "output_type": "display_data",
          "data": {
            "text/plain": [
              "<IPython.core.display.Markdown object>"
            ],
            "text/markdown": "> ip : 188. 134. 34. 26, timestamp : 12 / may / 2022 : 01 : 47 : 04 + 0000, request : get / images / jordan - 80. png http / 1. 1, status code : 200, response size : 6146, referer : http : / / www. semicomplete. com / articles / dynamic - dns - with - dhcp /, user agent : mozilla / 5. 0 ( windows nt 6. 3 ; wow64 ) applewebkit / 537. 36 ( khtml, like gecko ) chrome / 32. 0. 1700. 107 safari / 537. 36 opr / 19. 0. 1326. 63"
          },
          "metadata": {}
        },
        {
          "output_type": "stream",
          "name": "stdout",
          "text": [
            "\tDocument Source: duzenli_log_dosyasi_400.csv\n",
            "\tDocument Source Type: Journal Paper\n",
            "\tDocument Distance: 0.9901750683784485\n",
            "Document 8:\n",
            "\tDocument Text: \n"
          ]
        },
        {
          "output_type": "display_data",
          "data": {
            "text/plain": [
              "<IPython.core.display.Markdown object>"
            ],
            "text/markdown": "> ip : 79. 161. 22. 161, timestamp : 12 / may / 2022 : 01 : 39 : 20 + 0000, request : get / articles / dynamic - dns - with - dhcp / http / 1. 1, status code : 200, response size : 18848, referer : http : / / www. google. com / url? sa = t & rct = j & q = & esrc = s & source = web & cd = 1 & ved = 0cckqfjaa & url = http % 3a % 2f % 2fwww. semicomplete. com % 2farticles % 2fdynamic - dns - with - dhcp % 2f & ei = - noeu5vxaeil4gsstocycq & usg = afqjcnef1x4rs52uyqyliystqxa97ozm4g & bvm = bv. 61535280, d. bge, user agent : mozilla / 5. 0 ( macintosh ; intel mac os x 10 _ 9 _ 1 ) applewebkit / 537. 73. 11"
          },
          "metadata": {}
        },
        {
          "output_type": "stream",
          "name": "stdout",
          "text": [
            "\tDocument Source: duzenli_log_dosyasi_400.csv\n",
            "\tDocument Source Type: Journal Paper\n",
            "\tDocument Distance: 0.9923079013824463\n",
            "Document 9:\n",
            "\tDocument Text: \n"
          ]
        },
        {
          "output_type": "display_data",
          "data": {
            "text/plain": [
              "<IPython.core.display.Markdown object>"
            ],
            "text/markdown": "> ip : 14. 49. 42. 25, timestamp : 12 / may / 2022 : 01 : 24 : 06 + 0000, request : get / articles / dynamic - dns - with - dhcp / http / 1. 1, status code : 200, response size : 18848, referer : -, user agent : mozilla / 5. 0 ( windows ; u ; windows nt 6. 1 ; en - us ; rv : 1. 9. 2b1 ) gecko / 20091014 firefox / 3. 6b1 gtb5"
          },
          "metadata": {}
        },
        {
          "output_type": "stream",
          "name": "stdout",
          "text": [
            "\tDocument Source: duzenli_log_dosyasi_400.csv\n",
            "\tDocument Source Type: Journal Paper\n",
            "\tDocument Distance: 0.9925854206085205\n",
            "Document 10:\n",
            "\tDocument Text: \n"
          ]
        },
        {
          "output_type": "display_data",
          "data": {
            "text/plain": [
              "<IPython.core.display.Markdown object>"
            ],
            "text/markdown": "> ip : 188. 134. 34. 26, timestamp : 12 / may / 2022 : 01 : 47 : 04 + 0000, request : get / images / web / 2009 / banner. png http / 1. 1, status code : 200, response size : 52315, referer : http : / / www. semicomplete. com / articles / dynamic - dns - with - dhcp /, user agent : mozilla / 5. 0 ( windows nt 6. 3 ; wow64 ) applewebkit / 537. 36 ( khtml, like gecko ) chrome / 32. 0. 1700. 107 safari / 537. 36 opr / 19. 0. 1326. 63"
          },
          "metadata": {}
        },
        {
          "output_type": "stream",
          "name": "stdout",
          "text": [
            "\tDocument Source: duzenli_log_dosyasi_400.csv\n",
            "\tDocument Source Type: Journal Paper\n",
            "\tDocument Distance: 0.993427038192749\n"
          ]
        }
      ],
      "source": [
        "retrieved_documents=retrieveDocs(chroma_collection, query, 10)\n",
        "show_results(retrieved_documents)"
      ]
    },
    {
      "cell_type": "code",
      "execution_count": 23,
      "metadata": {
        "id": "6DTYxrQuOR4G"
      },
      "outputs": [],
      "source": [
        "!pip install -q -U google-generativeai"
      ]
    },
    {
      "cell_type": "code",
      "execution_count": 24,
      "metadata": {
        "id": "HHWFw3IHOR1J"
      },
      "outputs": [],
      "source": [
        "import os\n",
        "import textwrap\n",
        "import google.generativeai as genai\n",
        "from IPython.display import display\n",
        "from IPython.display import Markdown"
      ]
    },
    {
      "cell_type": "code",
      "execution_count": 25,
      "metadata": {
        "id": "dSYy3dH4ORwZ"
      },
      "outputs": [],
      "source": [
        "def to_markdown(text):\n",
        "  text = text.replace('•', '  *')\n",
        "  return Markdown(textwrap.indent(text, '> ', predicate=lambda _: True))"
      ]
    },
    {
      "cell_type": "code",
      "execution_count": 26,
      "metadata": {
        "id": "x4Eyzr6CObYf"
      },
      "outputs": [],
      "source": [
        "def build_chatBot(system_instruction):\n",
        "  model = genai.GenerativeModel('gemini-1.5-flash-latest', system_instruction=system_instruction)\n",
        "  chat = model.start_chat(history=[])\n",
        "  return chat"
      ]
    },
    {
      "cell_type": "code",
      "execution_count": 27,
      "metadata": {
        "id": "5ih-kBMGObTa"
      },
      "outputs": [],
      "source": [
        "def generate_LLM_answer(prompt, context, chat):\n",
        "  response = chat.send_message( prompt + context)\n",
        "  return response.text"
      ]
    },
    {
      "cell_type": "code",
      "execution_count": 28,
      "metadata": {
        "id": "N57CRvRVObCv"
      },
      "outputs": [],
      "source": [
        "# Used to securely store your API key\n",
        "from google.colab import userdata\n",
        "# Or use `os.getenv('GOOGLE_API_KEY')` to fetch an environment variable.\n",
        "GOOGLE_API_KEY=userdata.get('GOOGLE_API_KEY')\n",
        "genai.configure(api_key=GOOGLE_API_KEY)"
      ]
    },
    {
      "cell_type": "code",
      "execution_count": 29,
      "metadata": {
        "id": "eimUoMhoOhc0"
      },
      "outputs": [],
      "source": [
        "system_prompt= \"\"\"\n",
        "You are an attentive and supportive system assistant.\n",
        "\n",
        "Your role is to provide assistance based solely on the provided context.\n",
        "\n",
        "Here’s how we’ll proceed:\n",
        "\n",
        "I will provide you with a log file and related text excerpt.\n",
        "Your task is to answer questions based only on the provided partial texts.\n",
        "If the answer isn’t explicitly found within the given context, respond with 'I don't know.'\n",
        "After each response, provide a detailed explanation. Break down your answer step by step and relate it directly to the provided context.\n",
        "Sometimes, I will ask questions about the chat session, such as summarizing the chat or listing questions. For these types of questions, avoid using the provided partial texts.\n",
        "Generate the answer in the same language as the given question.\n",
        "If you are ready, I will provide you with the question and context.\n",
        "\"\"\""
      ]
    },
    {
      "cell_type": "code",
      "execution_count": 30,
      "metadata": {
        "id": "SGDO0ztdOhaM"
      },
      "outputs": [],
      "source": [
        "RAG_LLM = build_chatBot(system_prompt)"
      ]
    },
    {
      "cell_type": "code",
      "execution_count": 31,
      "metadata": {
        "id": "wHIfLZ4_OhXH"
      },
      "outputs": [],
      "source": [
        "prompt=\"Bu IP adresi geçen satırları göster: 14.49.42.25\"\n",
        "context= \"\"\"IP Address,Timestamp,Request,Status Code,Response Size,Referer,User Agent\n",
        "14.49.42.25,12/May/2022:01:24:44 +0000,GET /articles/ppp-over-ssh/ HTTP/1.1,200,18586,-,Mozilla/5.0 (Windows; U; Windows NT 6.1; en-US; rv:1.9.2b1) Gecko/20091014 Firefox/3.6b1 GTB5\n",
        "14.49.42.25,12/May/2022:01:24:15 +0000,GET /articles/openldap-with-saslauthd/ HTTP/1.1,200,12700,-,Mozilla/5.0 (Windows; U; Windows NT 6.1; en-US; rv:1.9.2b1) Gecko/20091014 Firefox/3.6b1 GTB5\n",
        "14.49.42.25,12/May/2022:01:24:06 +0000,GET /articles/dynamic-dns-with-dhcp/ HTTP/1.1,200,18848,-,Mozilla/5.0 (Windows; U; Windows NT 6.1; en-US; rv:1.9.2b1) Gecko/20091014 Firefox/3.6b1 GTB5\n",
        "\n",
        "\"\"\""
      ]
    },
    {
      "cell_type": "code",
      "execution_count": 32,
      "metadata": {
        "colab": {
          "base_uri": "https://localhost:8080/",
          "height": 164
        },
        "id": "TOw1OocvOhRL",
        "outputId": "c456bb8d-dd80-4376-a960-242157f26e4f"
      },
      "outputs": [
        {
          "output_type": "execute_result",
          "data": {
            "text/plain": [
              "<IPython.core.display.Markdown object>"
            ],
            "text/markdown": "> The log file shows that the IP address 14.49.42.25 accessed the following pages:\n> \n> * `/articles/ppp-over-ssh/` at `12/May/2022:01:24:44 +0000`\n> * `/articles/openldap-with-saslauthd/` at `12/May/2022:01:24:15 +0000`\n> * `/articles/dynamic-dns-with-dhcp/` at `12/May/2022:01:24:06 +0000`\n> \n> This information is directly taken from the log file, where each line represents a request made from the IP address 14.49.42.25. Each line contains the Timestamp, Request, Status Code, Response Size, Referer, and User Agent of the request. \n"
          },
          "metadata": {},
          "execution_count": 32
        }
      ],
      "source": [
        "response=generate_LLM_answer(prompt, context, RAG_LLM)\n",
        "to_markdown(response)"
      ]
    },
    {
      "cell_type": "code",
      "execution_count": 33,
      "metadata": {
        "colab": {
          "base_uri": "https://localhost:8080/"
        },
        "id": "r_Dde7cBOhG5",
        "outputId": "7f2efd12-cf2d-4e12-d6e6-f025299d678a"
      },
      "outputs": [
        {
          "output_type": "execute_result",
          "data": {
            "text/plain": [
              "[parts {\n",
              "   text: \"Bu IP adresi ge\\303\\247en sat\\304\\261rlar\\304\\261 g\\303\\266ster: 14.49.42.25IP Address,Timestamp,Request,Status Code,Response Size,Referer,User Agent\\n14.49.42.25,12/May/2022:01:24:44 +0000,GET /articles/ppp-over-ssh/ HTTP/1.1,200,18586,-,Mozilla/5.0 (Windows; U; Windows NT 6.1; en-US; rv:1.9.2b1) Gecko/20091014 Firefox/3.6b1 GTB5\\n14.49.42.25,12/May/2022:01:24:15 +0000,GET /articles/openldap-with-saslauthd/ HTTP/1.1,200,12700,-,Mozilla/5.0 (Windows; U; Windows NT 6.1; en-US; rv:1.9.2b1) Gecko/20091014 Firefox/3.6b1 GTB5\\n14.49.42.25,12/May/2022:01:24:06 +0000,GET /articles/dynamic-dns-with-dhcp/ HTTP/1.1,200,18848,-,Mozilla/5.0 (Windows; U; Windows NT 6.1; en-US; rv:1.9.2b1) Gecko/20091014 Firefox/3.6b1 GTB5\\n\\n\"\n",
              " }\n",
              " role: \"user\",\n",
              " parts {\n",
              "   text: \"The log file shows that the IP address 14.49.42.25 accessed the following pages:\\n\\n* `/articles/ppp-over-ssh/` at `12/May/2022:01:24:44 +0000`\\n* `/articles/openldap-with-saslauthd/` at `12/May/2022:01:24:15 +0000`\\n* `/articles/dynamic-dns-with-dhcp/` at `12/May/2022:01:24:06 +0000`\\n\\nThis information is directly taken from the log file, where each line represents a request made from the IP address 14.49.42.25. Each line contains the Timestamp, Request, Status Code, Response Size, Referer, and User Agent of the request. \\n\"\n",
              " }\n",
              " role: \"model\"]"
            ]
          },
          "metadata": {},
          "execution_count": 33
        }
      ],
      "source": [
        "RAG_LLM.history"
      ]
    },
    {
      "cell_type": "code",
      "execution_count": 34,
      "metadata": {
        "colab": {
          "base_uri": "https://localhost:8080/"
        },
        "id": "dy7Ar7aWOoJD",
        "outputId": "d485e676-93d1-46c1-efa4-90f6f44f9780"
      },
      "outputs": [
        {
          "output_type": "execute_result",
          "data": {
            "text/plain": [
              "[]"
            ]
          },
          "metadata": {},
          "execution_count": 34
        }
      ],
      "source": [
        "RAG_LLM.history.clear()\n",
        "RAG_LLM.history"
      ]
    },
    {
      "cell_type": "code",
      "execution_count": 35,
      "metadata": {
        "colab": {
          "base_uri": "https://localhost:8080/"
        },
        "id": "rqYl92JiOoF_",
        "outputId": "2fb41119-eff4-4185-b520-aa49a8a73670"
      },
      "outputs": [
        {
          "output_type": "stream",
          "name": "stdout",
          "text": [
            "Collection name: Lines\n",
            "Number of documents in collection: 390\n",
            "All collections in ChromaDB client:\n",
            "Lines\n"
          ]
        }
      ],
      "source": [
        "# Verify collection properties\n",
        "print(f\"Collection name: {chroma_collection.name}\")  # Access the name attribute directly\n",
        "print(f\"Number of documents in collection: {chroma_collection.count()}\")\n",
        "\n",
        "# List all collections in the client\n",
        "print(\"All collections in ChromaDB client:\")\n",
        "for collection in chroma_client.list_collections():\n",
        "    print(collection.name)"
      ]
    },
    {
      "cell_type": "code",
      "execution_count": 36,
      "metadata": {
        "id": "HLO-eGLlOoBx"
      },
      "outputs": [],
      "source": [
        "def summarize_collection(chroma_collection):\n",
        "  summary = [] # Initialize summary as a list\n",
        "  print(\"Summarizing the collection...\")\n",
        "  # Verify collection properties\n",
        "  print(f\"\\t Collection name: {chroma_collection.name}\")  # Access the name attribute directly\n",
        "  print(f\"\\t Number of document chunks in collection: {chroma_collection.count()}\")\n",
        "  summary.append(f\"Collection name: {chroma_collection.name}\") # Append to the list\n",
        "  summary.append(f\"Number of document chunks in collection: {chroma_collection.count()}\")\n",
        "  # Print distinct metadata \"document\" for each chunk in the collection\n",
        "  print(\"\\t Distinct 'document' metadata in the collection:\")\n",
        "  distinct_documents = set()  # Use a set to store unique document names\n",
        "\n",
        "  # Iterate over chunks in the collection\n",
        "  for chunk_id in range(chroma_collection.count()):\n",
        "      metadata = chroma_collection.get([str(chunk_id)])['metadatas'][0]  # Get metadata for the chunk\n",
        "      document_name = metadata.get(\"document\", \"Unknown\")  # Get document metadata; default to \"Unknown\" if not present\n",
        "      distinct_documents.add(document_name)  # Add document name to set for uniqueness\n",
        "\n",
        "  # Print all distinct document names\n",
        "  summary.append(\"Documents:\")\n",
        "  for document_name in distinct_documents:\n",
        "      print(\"\\t \",document_name)\n",
        "      summary.append(document_name) # Append to the list\n",
        "\n",
        "  print(\"Collection summarization completed.\")\n",
        "\n",
        "  # Join the list elements into a single string\n",
        "  summary_string = \"\\n \".join(summary)\n",
        "  return summary_string"
      ]
    },
    {
      "cell_type": "code",
      "execution_count": 37,
      "metadata": {
        "colab": {
          "base_uri": "https://localhost:8080/"
        },
        "id": "LZt8kF1SOn-c",
        "outputId": "6a1666e3-7af1-4991-f688-b153e113bd06"
      },
      "outputs": [
        {
          "output_type": "stream",
          "name": "stdout",
          "text": [
            "Summarizing the collection...\n",
            "\t Collection name: Lines\n",
            "\t Number of document chunks in collection: 390\n",
            "\t Distinct 'document' metadata in the collection:\n",
            "\t  duzenli_log_dosyasi_400.csv\n",
            "Collection summarization completed.\n"
          ]
        }
      ],
      "source": [
        "s=summarize_collection(chroma_collection)"
      ]
    },
    {
      "cell_type": "code",
      "execution_count": 38,
      "metadata": {
        "colab": {
          "base_uri": "https://localhost:8080/"
        },
        "id": "DzHshpXUOn7J",
        "outputId": "1f34d03e-f0e9-4ac6-fa11-51198d0c6e4f"
      },
      "outputs": [
        {
          "output_type": "stream",
          "name": "stdout",
          "text": [
            "Collection name: Lines\n",
            " Number of document chunks in collection: 390\n",
            " Documents:\n",
            " duzenli_log_dosyasi_400.csv\n"
          ]
        }
      ],
      "source": [
        "print(s)"
      ]
    },
    {
      "cell_type": "code",
      "execution_count": 39,
      "metadata": {
        "id": "Di11bmqCOwx2"
      },
      "outputs": [],
      "source": [
        "def generateAnswer(RAG_LLM, chroma_collection,query,n_results=5, only_response=True):\n",
        "    retrieved_documents= retrieveDocs(chroma_collection, query, 10, return_only_docs=True)\n",
        "    prompt = \"QUESTION: \"+ query\n",
        "    context = \"\\n EXCERPTS: \"+ \"\\n\".join(retrieved_documents)\n",
        "    if not only_response:\n",
        "      print(\"------- retreived documents -------\\n\")\n",
        "      for i, doc in enumerate(retrieved_documents):\n",
        "        print(f\"Document {i+1}:\")\n",
        "        print(f\"\\tDocument Text: {doc}\")\n",
        "      print(\"------- RAG answer -------\\n\")\n",
        "    output = generate_LLM_answer(prompt, context, RAG_LLM)\n",
        "\n",
        "    display(to_markdown(output))\n",
        "    print('\\n')\n",
        "    return output"
      ]
    },
    {
      "cell_type": "code",
      "execution_count": 40,
      "metadata": {
        "id": "PFy4zjxpOwvc"
      },
      "outputs": [],
      "source": [
        "queries =[\"Which URLs were accessed in the last 5 minutes?\",\n",
        "          \"What was the last request and what was the response status?\",\n",
        "          \"Which pages were last accessed by the user with IP address 14.49.42.25?\",\n",
        "          \"Which URLs were visited by the user with the User Agent 'Mozilla/5.0 (Windows; U; Windows NT 6.1; en-US; rv:1.9.2b1)'?\",\n",
        "          \"What are the most common HTTP status codes?\",\n",
        "          \"What are the 5 most recent requests with HTTP status code 200?\",\n",
        "          \"Which referer URLs were visited the most?\",\n",
        "          \"What are the requests with a specific referrer URL?\",\n",
        "          \"What are all requests between 01:24:00 and 01:25:00 on May 12, 2022?\",\n",
        "          \"Which request had the longest response time?\"\n",
        "    ]"
      ]
    },
    {
      "cell_type": "code",
      "execution_count": 41,
      "metadata": {
        "colab": {
          "base_uri": "https://localhost:8080/",
          "height": 845
        },
        "id": "Z-eXdoVOOws1",
        "outputId": "13d729fc-e8a1-4ad0-da46-357a23bd1344"
      },
      "outputs": [
        {
          "output_type": "stream",
          "name": "stdout",
          "text": [
            "------- retreived documents -------\n",
            "\n",
            "Document 1:\n",
            "\tDocument Text: ip : 188. 40. 60. 225, timestamp : 11 / may / 2022 : 21 : 43 : 11 + 0000, request : get / http / 1. 1, status code : 200, response size : 37932, referer : -, user agent : mozilla / 5. 0 ( windows ; u ; windows nt 5. 1 ; en ; rv : 1. 9. 1. 3 ) gecko / 20090824 firefox / 3. 5. 3\n",
            "Document 2:\n",
            "\tDocument Text: ip : 14. 49. 42. 25, timestamp : 12 / may / 2022 : 01 : 25 : 25 + 0000, request : get / articles / week - of - unix - tools / http / 1. 1, status code : 200, response size : 9313, referer : -, user agent : mozilla / 5. 0 ( windows ; u ; windows nt 6. 1 ; en - us ; rv : 1. 9. 2b1 ) gecko / 20091014 firefox / 3. 6b1 gtb5\n",
            "Document 3:\n",
            "\tDocument Text: ip : 63. 223. 125. 246, timestamp : 11 / may / 2022 : 22 : 15 : 11 + 0000, request : get / http / 1. 0, status code : 200, response size : 37932, referer : http : / / www. semicomplete. com /, user agent : mozilla / 5. 0 ( macintosh ; intel mac os x 10. 8 ; rv : 22. 0 ) gecko / 20100101 firefox / 22. 0\n",
            "Document 4:\n",
            "\tDocument Text: ip : 137. 108. 145. 40, timestamp : 12 / may / 2022 : 01 : 28 : 54 + 0000, request : get /? page = 2 http / 1. 1, status code : 200, response size : 36673, referer : -, user agent : mozilla / 5. 0 ( windows nt 6. 1 ) applewebkit / 537. 36 ( khtml, like gecko ) chrome / 32. 0. 1700. 102 safari / 537. 36\n",
            "Document 5:\n",
            "\tDocument Text: ip : 5. 10. 83. 53, timestamp : 12 / may / 2022 : 01 : 48 : 43 + 0000, request : get / files / blogposts / 20070618 /? c = m ; o = a http / 1. 1, status code : 200, response size : 958, referer : -, user agent : mozilla / 5. 0 ( compatible ; ahrefsbot / 5. 0 ; + http : / / ahrefs. com / robot / )\n",
            "Document 6:\n",
            "\tDocument Text: ip : 190. 228. 21. 2, timestamp : 12 / may / 2022 : 01 : 36 : 41 + 0000, request : get / images / web / 2009 / banner. png http / 1. 1, status code : 200, response size : 52315, referer : http : / / www. semicomplete. com / style2. css, user agent : mozilla / 5. 0 ( x11 ; linux x86 _ 64 ; rv : 18. 0 ) gecko / 20100101 firefox / 18. 0 iceweasel / 18. 0. 2\n",
            "Document 7:\n",
            "\tDocument Text: ip : 189. 2. 52. 98, timestamp : 11 / may / 2022 : 21 : 47 : 22 + 0000, request : get / images / web / 2009 / banner. png http / 1. 1, status code : 200, response size : 52315, referer : http : / / www. semicomplete. com / style2. css, user agent : mozilla / 5. 0 ( x11 ; ubuntu ; linux x86 _ 64 ; rv : 11. 0 ) gecko / 20100101 firefox / 11. 0\n",
            "Document 8:\n",
            "\tDocument Text: ip : 220. 181. 108. 154, timestamp : 11 / may / 2022 : 21 : 39 : 20 + 0000, request : get / http / 1. 1, status code : 200, response size : 36824, referer : -, user agent : mozilla / 5. 0 ( compatible ; baiduspider / 2. 0 ; + http : / / www. baidu. com / search / spider. html )\n",
            "Document 9:\n",
            "\tDocument Text: ip : 189. 90. 160. 60, timestamp : 12 / may / 2022 : 01 : 40 : 09 + 0000, request : get / images / web / 2009 / banner. png http / 1. 0, status code : 200, response size : 52315, referer : http : / / www. semicomplete. com / style2. css, user agent : mozilla / 5. 0 ( x11 ; linux i686 on x86 _ 64 ; rv : 27. 0 ) gecko / 20100101 firefox / 27. 0\n",
            "Document 10:\n",
            "\tDocument Text: ip : 5. 10. 83. 65, timestamp : 11 / may / 2022 : 22 : 21 : 57 + 0000, request : get / blog / tags / code http / 1. 1, status code : 200, response size : 14472, referer : -, user agent : mozilla / 5. 0 ( compatible ; ahrefsbot / 5. 0 ; + http : / / ahrefs. com / robot / )\n",
            "------- RAG answer -------\n",
            "\n"
          ]
        },
        {
          "output_type": "display_data",
          "data": {
            "text/plain": [
              "<IPython.core.display.Markdown object>"
            ],
            "text/markdown": "> The 5 most recent requests with HTTP status code 200 are:\n> \n> 1. **ip : 5. 10. 83. 65, timestamp : 11 / may / 2022 : 22 : 21 : 57 + 0000, request : get / blog / tags / code http / 1. 1, status code : 200, response size : 14472, referer : -, user agent : mozilla / 5. 0 ( compatible ; ahrefsbot / 5. 0 ; + http : / / ahrefs. com / robot / )**\n> 2. **ip : 189. 90. 160. 60, timestamp : 12 / may / 2022 : 01 : 40 : 09 + 0000, request : get / images / web / 2009 / banner. png http / 1. 0, status code : 200, response size : 52315, referer : http : / / www. semicomplete. com / style2. css, user agent : mozilla / 5. 0 ( x11 ; linux i686 on x86 _ 64 ; rv : 27. 0 ) gecko / 20100101 firefox / 27. 0**\n> 3. **ip : 220. 181. 108. 154, timestamp : 11 / may / 2022 : 21 : 39 : 20 + 0000, request : get / http / 1. 1, status code : 200, response size : 36824, referer : -, user agent : mozilla / 5. 0 ( compatible ; baiduspider / 2. 0 ; + http : / / www. baidu. com / search / spider. html )**\n> 4. **ip : 189. 2. 52. 98, timestamp : 11 / may / 2022 : 21 : 47 : 22 + 0000, request : get / images / web / 2009 / banner. png http / 1. 1, status code : 200, response size : 52315, referer : http : / / www. semicomplete. com / style2. css, user agent : mozilla / 5. 0 ( x11 ; ubuntu ; linux x86 _ 64 ; rv : 11. 0 ) gecko / 20100101 firefox / 11. 0**\n> 5. **ip : 190. 228. 21. 2, timestamp : 12 / may / 2022 : 01 : 36 : 41 + 0000, request : get / images / web / 2009 / banner. png http / 1. 1, status code : 200, response size : 52315, referer : http : / / www. semicomplete. com / style2. css, user agent : mozilla / 5. 0 ( x11 ; linux x86 _ 64 ; rv : 18. 0 ) gecko / 20100101 firefox / 18. 0 iceweasel / 18. 0. 2**\n> \n> This is because the timestamp shows the date and time of each request, and they are ordered chronologically, meaning the requests with the latest timestamps are the most recent. Also, we are only considering the lines with 'status code : 200', as per the question. \n"
          },
          "metadata": {}
        },
        {
          "output_type": "stream",
          "name": "stdout",
          "text": [
            "\n",
            "\n"
          ]
        }
      ],
      "source": [
        "reply=generateAnswer(RAG_LLM, chroma_collection, queries[5],10, only_response=False)"
      ]
    },
    {
      "cell_type": "code",
      "execution_count": 42,
      "metadata": {
        "colab": {
          "base_uri": "https://localhost:8080/"
        },
        "id": "oCa_HJmYOwp-",
        "outputId": "d7b6ff18-2fa8-4819-fbd0-15e1bc0b3a95"
      },
      "outputs": [
        {
          "output_type": "stream",
          "name": "stdout",
          "text": [
            "Summarizing the collection...\n",
            "\t Collection name: Lines\n",
            "\t Number of document chunks in collection: 390\n",
            "\t Distinct 'document' metadata in the collection:\n",
            "\t  duzenli_log_dosyasi_400.csv\n",
            "Collection summarization completed.\n",
            "Please enter your question, or type 'bye' to exit: bye\n",
            "Thank you for using the service. Goodbye!\n"
          ]
        }
      ],
      "source": [
        "summarize_collection(chroma_collection)\n",
        "RAG_LLM.history.clear()\n",
        "while True:\n",
        "  question = input(\"Please enter your question, or type 'bye' to exit: \")\n",
        "  if question == \"bye\":\n",
        "    print(\"Thank you for using the service. Goodbye!\")\n",
        "    break\n",
        "  else:\n",
        "    generateAnswer(RAG_LLM, chroma_collection, question)"
      ]
    },
    {
      "cell_type": "code",
      "execution_count": 45,
      "metadata": {
        "colab": {
          "base_uri": "https://localhost:8080/"
        },
        "id": "Nb1lK0kjO3Pm",
        "outputId": "a769840d-7955-4f1d-851b-967f8c8dca47"
      },
      "outputs": [
        {
          "output_type": "stream",
          "name": "stdout",
          "text": [
            "\u001b[2K   \u001b[90m━━━━━━━━━━━━━━━━━━━━━━━━━━━━━━━━━━━━━━━━\u001b[0m \u001b[32m12.6/12.6 MB\u001b[0m \u001b[31m42.8 MB/s\u001b[0m eta \u001b[36m0:00:00\u001b[0m\n",
            "\u001b[2K   \u001b[90m━━━━━━━━━━━━━━━━━━━━━━━━━━━━━━━━━━━━━━━━\u001b[0m \u001b[32m318.7/318.7 kB\u001b[0m \u001b[31m17.0 MB/s\u001b[0m eta \u001b[36m0:00:00\u001b[0m\n",
            "\u001b[2K   \u001b[90m━━━━━━━━━━━━━━━━━━━━━━━━━━━━━━━━━━━━━━━━\u001b[0m \u001b[32m10.2/10.2 MB\u001b[0m \u001b[31m47.8 MB/s\u001b[0m eta \u001b[36m0:00:00\u001b[0m\n",
            "\u001b[?25h"
          ]
        }
      ],
      "source": [
        "%pip install gradio --quiet\n",
        "import gradio as gr"
      ]
    },
    {
      "cell_type": "code",
      "execution_count": null,
      "metadata": {
        "colab": {
          "background_save": true,
          "base_uri": "https://localhost:8080/",
          "height": 1000
        },
        "id": "P5MMGjtZO3NJ",
        "outputId": "4b12185b-ee98-4670-ad47-c808c9e22208"
      },
      "outputs": [
        {
          "output_type": "stream",
          "name": "stdout",
          "text": [
            "Summarizing the collection...\n",
            "\t Collection name: Lines\n",
            "\t Number of document chunks in collection: 390\n",
            "\t Distinct 'document' metadata in the collection:\n",
            "\t  duzenli_log_dosyasi_400.csv\n",
            "Collection summarization completed.\n",
            "Setting queue=True in a Colab notebook requires sharing enabled. Setting `share=True` (you can turn this off by setting `share=False` in `launch()` explicitly).\n",
            "\n",
            "Colab notebook detected. This cell will run indefinitely so that you can see errors and logs. To turn off, set debug=False in launch().\n",
            "Running on public URL: https://f8a1e71b4a65acd12d.gradio.live\n",
            "\n",
            "This share link expires in 72 hours. For free permanent hosting and GPU upgrades, run `gradio deploy` from Terminal to deploy to Spaces (https://huggingface.co/spaces)\n"
          ]
        },
        {
          "output_type": "display_data",
          "data": {
            "text/plain": [
              "<IPython.core.display.HTML object>"
            ],
            "text/html": [
              "<div><iframe src=\"https://f8a1e71b4a65acd12d.gradio.live\" width=\"100%\" height=\"500\" allow=\"autoplay; camera; microphone; clipboard-read; clipboard-write;\" frameborder=\"0\" allowfullscreen></iframe></div>"
            ]
          },
          "metadata": {}
        },
        {
          "output_type": "display_data",
          "data": {
            "text/plain": [
              "<IPython.core.display.Markdown object>"
            ],
            "text/markdown": "> **Cevap:** 11 Mayıs 2022 tarihinde \"/presentations/logstash-scale11x/images/nagios-sms2.png\" dosyasını GET isteğiyle talep eden IP adresi **186.231.123.210**'dur.\n> \n> **Açıklama:**\n> \n> 1. Verilen metin parçası, farklı IP adreslerinden gelen istekleri ve zaman damgalarını içerir.\n> 2. Soruda belirtilen dosya \"/presentations/logstash-scale11x/images/nagios-sms2.png\" dosyasıdır.\n> 3. Metin parçasında, 11 Mayıs 2022 tarihinde bu dosyayı talep eden tek IP adresi **186.231.123.210**'dur.\n> 4. Bu IP adresi için ilgili satır şu şekildedir: \"ip : 186. 231. 123. 210, timestamp : 11 / may / 2022 : 21 : 24 : 20 + 0000, request : get / presentations / logstash - scale11x / images / nagios - sms2. png http / 1. 1, status code : 200, response size : 60656, referer : http : / / semicomplete. com / presentations / logstash - scale11x /, user agent : mozilla / 5. 0 ( macintosh ; intel mac os x 10 _ 9 _ 0 ) applewebkit / 537. 36 ( khtml, like gecko ) chrome / 32. 0. 1700. 102 safari / 537. 36\"\n> \n> Dolayısıyla, 11 Mayıs 2022 tarihinde \"/presentations/logstash-scale11x/images/nagios-sms2.png\" dosyasını GET isteğiyle talep eden IP adresi **186.231.123.210**'dur.\n"
          },
          "metadata": {}
        },
        {
          "output_type": "stream",
          "name": "stdout",
          "text": [
            "\n",
            "\n"
          ]
        },
        {
          "output_type": "display_data",
          "data": {
            "text/plain": [
              "<IPython.core.display.Markdown object>"
            ],
            "text/markdown": "> **Cevap:** 186.231.123.210 IP adresi, metin parçasında yer almıyor.\n> \n> **Açıklama:**\n> \n> Metin parçası içinde 186.231.123.210 IP adresine ait herhangi bir bilgi yer almıyor. Dolayısıyla, bu IP adresinin hangi dosya için GET isteği yaptığını ve bu isteğin boyutunu bilmiyoruz. \n"
          },
          "metadata": {}
        },
        {
          "output_type": "stream",
          "name": "stdout",
          "text": [
            "\n",
            "\n"
          ]
        },
        {
          "output_type": "display_data",
          "data": {
            "text/plain": [
              "<IPython.core.display.Markdown object>"
            ],
            "text/markdown": "> Cevap: \"/projects/xdotool/\" dosyasını GET isteğiyle talep eden IP adresi **82.194.101.119**'dur ve bu istek **Mozilla Firefox** tarayıcısı üzerinden yapılmıştır.\n> \n> **Açıklama:**\n> \n> 1. Soruda belirtilen dosya \"/projects/xdotool/\" dosyasıdır.\n> 2. Metin parçasında, bu dosyayı GET isteğiyle talep eden IP adresi **82.194.101.119**'dur.\n> 3.  Bu IP adresi için ilgili satır şu şekildedir: \"ip : 82. 194. 101. 119, timestamp : 11 / may / 2022 : 22 : 17 : 45 + 0000, request : get / projects / xdotool / xdotool. xhtml http / 1. 1, status code : 200, response size : 50112, referer : http : / / www. semicomplete. com / projects / xdotool /, user agent : mozilla / 5. 0 ( x11 ; ubuntu ; linux x86 _ 64 ; rv : 26. 0 ) gecko / 20100101 firefox / 26. 0\"\n> 4. Bu satırdaki \"user agent\" bilgisi \"mozilla / 5. 0 ( x11 ; ubuntu ; linux x86 _ 64 ; rv : 26. 0 ) gecko / 20100101 firefox / 26. 0\" olarak geçmektedir. Bu da  isteğin **Mozilla Firefox** tarayıcısı üzerinden yapıldığını göstermektedir.\n> \n> Dolayısıyla, \"/projects/xdotool/\" dosyasını GET isteğiyle talep eden IP adresi **82.194.101.119**'dur ve bu istek **Mozilla Firefox** tarayıcısı üzerinden yapılmıştır.\n"
          },
          "metadata": {}
        },
        {
          "output_type": "stream",
          "name": "stdout",
          "text": [
            "\n",
            "\n"
          ]
        },
        {
          "output_type": "display_data",
          "data": {
            "text/plain": [
              "<IPython.core.display.Markdown object>"
            ],
            "text/markdown": "> Cevap:  39.45.55.13 IP adresine ait bir istek metin parçasında bulunmuyor.\n> \n> **Açıklama:**\n> \n> Metin parçasında 39.45.55.13 IP adresine ait bir satır bulunmuyor. Dolayısıyla, bu IP adresinin hangi dosya için GET isteği yaptığı bilinmiyor. \n"
          },
          "metadata": {}
        },
        {
          "output_type": "stream",
          "name": "stdout",
          "text": [
            "\n",
            "\n"
          ]
        },
        {
          "output_type": "display_data",
          "data": {
            "text/plain": [
              "<IPython.core.display.Markdown object>"
            ],
            "text/markdown": "> Cevap:  39.45.55.13 IP adresine ait bir istek metin parçasında bulunmuyor.\n> \n> **Açıklama:**\n> \n> Metin parçasında 39.45.55.13 IP adresine ait bir satır bulunmuyor. Dolayısıyla, bu IP adresinin hangi dosya için GET isteği yaptığı bilinmiyor. \n"
          },
          "metadata": {}
        },
        {
          "output_type": "stream",
          "name": "stdout",
          "text": [
            "\n",
            "\n"
          ]
        },
        {
          "output_type": "display_data",
          "data": {
            "text/plain": [
              "<IPython.core.display.Markdown object>"
            ],
            "text/markdown": "> Cevap: \"/projects/keynav/\" dosyasına GET isteği yapan IP adresi **133.236.2.124**'tür.\n> \n> **Açıklama:**\n> \n> 1. Soruda belirtilen tarayıcı \"Mozilla/5.0 (Windows NT 6.0; WOW64; rv:24.0) Gecko/20100101 Firefox/24.0\" olarak verilmiştir.\n> 2. Metin parçasında bu tarayıcı ile ilgili birçok satır bulunmaktadır.\n> 3. Soruda belirtilen dosya \"/projects/keynav/\" dosyasıdır.\n> 4. Metin parçasında bu dosyaya GET isteği yapan tek IP adresi **133.236.2.124**'tür. Bu IP adresine ait satırlar şunlardır:\n>    * \"ip : 133. 236. 2. 124, timestamp : 11 / may / 2022 : 22 : 19 : 23 + 0000, request : get / projects / keynav / keynav. html http / 1. 1, status code : 200, response size : 191, referer : http : / / www. semicomplete. com / projects / keynav /, user agent : mozilla / 5. 0 ( windows nt 6. 0 ; wow64 ; rv : 24. 0 ) gecko / 20100101 firefox / 24. 0\"\n>    * \"ip : 133. 236. 2. 124, timestamp : 11 / may / 2022 : 22 : 18 : 16 + 0000, request : get / projects / keynav / demo - thumb. png http / 1. 1, status code : 200, response size : 15141, referer : http : / / www. semicomplete. com / projects / keynav /, user agent : mozilla / 5. 0 ( windows nt 6. 0 ; wow64 ; rv : 24. 0 ) gecko / 20100101 firefox / 24. 0\"\n>    * \"ip : 133. 236. 2. 124, timestamp : 11 / may / 2022 : 22 : 18 : 16 + 0000, request : get / projects / keynav / http / 1. 1, status code : 200, response size : 18985, referer : http : / / www. semicomplete. com /, user agent : mozilla / 5. 0 ( windows nt 6. 0 ; wow64 ; rv : 24. 0 ) gecko / 20100101 firefox / 24. 0\"\n>    * \"ip : 133. 236. 2. 124, timestamp : 11 / may / 2022 : 22 : 18 : 16 + 0000, request : get / images / jordan - 80. png http / 1. 1, status code : 200, response size : 6146, referer : http : / / www. semicomplete. com / projects / keynav /, user agent : mozilla / 5. 0 ( windows nt 6. 0 ; wow64 ; rv : 24. 0 ) gecko / 20100101 firefox / 24. 0\"\n>    * \"ip : 133. 236. 2. 124, timestamp : 11 / may / 2022 : 22 : 19 : 24 + 0000, request : get / projects / keynav / keynav. swf http / 1. 1, status code : 200, response size : 897956, referer : http : / / www. semicomplete. com / projects / keynav / keynav. html, user agent : mozilla / 5. 0 ( windows nt 6. 0 ; wow64 ; rv : 24. 0 ) gecko / 20100101 firefox / 24. 0\"\n>    * \"ip : 133. 236. 2. 124, timestamp : 11 / may / 2022 : 22 : 18 : 16 + 0000, request : get / reset. css http / 1. 1, status code : 200, response size : 1015, referer : http : / / www. semicomplete. com / projects / keynav /, user agent : mozilla / 5. 0 ( windows nt 6. 0 ; wow64 ; rv : 24. 0 ) gecko / 20100101 firefox / 24. 0\"\n>    * \"ip : 133. 236. 2. 124, timestamp : 11 / may / 2022 : 22 : 18 : 16 + 0000, request : get / style2. css http / 1. 1, status code : 200, response size : 4877, referer : http : / / www. semicomplete. com / projects / keynav /, user agent : mozilla / 5. 0 ( windows nt 6. 0 ; wow64 ; rv : 24. 0 ) gecko / 20100101 firefox / 24. 0\"\n> \n> Dolayısıyla, \"/projects/keynav/\" dosyasına GET isteği yapan IP adresi **133.236.2.124**'tür.\n"
          },
          "metadata": {}
        },
        {
          "output_type": "stream",
          "name": "stdout",
          "text": [
            "\n",
            "\n"
          ]
        },
        {
          "output_type": "display_data",
          "data": {
            "text/plain": [
              "<IPython.core.display.Markdown object>"
            ],
            "text/markdown": "> Cevap: 12 Mayıs 2022 tarihinde \"/favicon.ico\" dosyasına GET isteği yapan IP adresleri şunlardır:\n> \n> * **190.228.21.2**\n> * **83.252.13.79**\n> \n> **Açıklama:**\n> \n> 1. Soruda belirtilen dosya \"/favicon.ico\" dosyasıdır ve tarih 12 Mayıs 2022'dir.\n> 2. Metin parçasında bu dosyaya GET isteği yapan iki IP adresi bulunmaktadır:\n>    * \"ip : 190. 228. 21. 2, timestamp : 12 / may / 2022 : 01 : 36 : 41 + 0000, request : get / favicon. ico http / 1. 1, status code : 200, response size : 3638, referer : -, user agent : mozilla / 5. 0 ( x11 ; linux x86 _ 64 ; rv : 18. 0 ) gecko / 20100101 firefox / 18. 0 iceweasel / 18. 0. 2\"\n>    * \"ip : 83. 252. 13. 79, timestamp : 12 / may / 2022 : 01 : 32 : 57 + 0000, request : get / favicon. ico http / 1. 1, status code : 200, response size : 3638, referer : -, user agent : mozilla / 5. 0 ( x11 ; linux x86 _ 64 ; rv : 30. 0 ) gecko / 20100101 firefox / 30. 0\"\n> \n> Dolayısıyla, 12 Mayıs 2022 tarihinde \"/favicon.ico\" dosyasına GET isteği yapan IP adresleri **190.228.21.2** ve **83.252.13.79**'dur.\n"
          },
          "metadata": {}
        },
        {
          "output_type": "stream",
          "name": "stdout",
          "text": [
            "\n",
            "\n"
          ]
        },
        {
          "output_type": "display_data",
          "data": {
            "text/plain": [
              "<IPython.core.display.Markdown object>"
            ],
            "text/markdown": "> Cevap: \"style2.css\" dosyasını GET isteğiyle alan IP adresi **2.85.194.19**'dur ve bu istek **\"/blog/tags/xsendevent\"** blog sayfasından yapılmıştır.\n> \n> **Açıklama:**\n> \n> 1. Metin parçasında \"style2.css\" dosyasını GET isteğiyle alan birçok IP adresi bulunmaktadır.\n> 2. Soruda, bu isteğin hangi blog sayfasından yapıldığı da sorulmaktadır.\n> 3. Metin parçasında, \"style2.css\" dosyasını GET isteğiyle alan IP adreslerinden sadece **2.85.194.19**, bu isteği  **\"/blog/tags/xsendevent\"**  blog sayfasından yapmıştır. \n> 4.  **2.85.194.19** IP adresi için ilgili satır şu şekildedir: \"ip : 2. 85. 194. 19, timestamp : 11 / may / 2022 : 21 : 42 : 07 + 0000, request : get / style2. css http / 1. 1, status code : 200, response size : 4877, referer : http : / / www. semicomplete. com / blog / tags / xsendevent, user agent : mozilla / 5. 0 ( x11 ; linux x86 _ 64 ; rv : 27. 0 ) gecko / 20100101 firefox / 27. 0\"\n> \n> Dolayısıyla, \"style2.css\" dosyasını GET isteğiyle alan IP adresi **2.85.194.19**'dur ve bu istek **\"/blog/tags/xsendevent\"** blog sayfasından yapılmıştır. \n"
          },
          "metadata": {}
        },
        {
          "output_type": "stream",
          "name": "stdout",
          "text": [
            "\n",
            "\n"
          ]
        },
        {
          "output_type": "display_data",
          "data": {
            "text/plain": [
              "<IPython.core.display.Markdown object>"
            ],
            "text/markdown": "> Cevap: \"/projects/keynav/demo-thumb.png\" dosyasını GET isteğiyle talep eden IP adresi **133.236.2.124**'tür ve bu isteğin boyutu **15141** bayttır.\n> \n> **Açıklama:**\n> \n> 1. Soruda belirtilen dosya \"/projects/keynav/demo-thumb.png\" dosyasıdır.\n> 2. Metin parçasında bu dosyayı GET isteğiyle talep eden tek IP adresi **133.236.2.124**'tür.\n> 3.  **133.236.2.124** IP adresi için ilgili satır şu şekildedir: \"ip : 133. 236. 2. 124, timestamp : 11 / may / 2022 : 22 : 18 : 16 + 0000, request : get / projects / keynav / demo - thumb. png http / 1. 1, status code : 200, response size : 15141, referer : http : / / www. semicomplete. com / projects / keynav /, user agent : mozilla / 5. 0 ( windows nt 6. 0 ; wow64 ; rv : 24. 0 ) gecko / 20100101 firefox / 24. 0\"\n> 4. Bu satırda, isteğin boyutu \"response size : 15141\" olarak belirtilmiştir.\n> \n> Dolayısıyla, \"/projects/keynav/demo-thumb.png\" dosyasını GET isteğiyle talep eden IP adresi **133.236.2.124**'tür ve bu isteğin boyutu **15141** bayttır. \n"
          },
          "metadata": {}
        },
        {
          "output_type": "stream",
          "name": "stdout",
          "text": [
            "\n",
            "\n"
          ]
        },
        {
          "output_type": "display_data",
          "data": {
            "text/plain": [
              "<IPython.core.display.Markdown object>"
            ],
            "text/markdown": "> Cevap: \"/blog/geekery/puppet-manage-homedirectory-contents.html\" sayfasına GET isteği yapan IP adresi **212.243.55.82**'dir ve bu istek **Mozilla/5.0 (Windows NT 6.1; WOW64) AppleWebKit/537.22 (KHTML, like Gecko) Chrome/25.0.1364.97 Safari/537.22** tarayıcısı ile yapılmıştır.\n> \n> **Açıklama:**\n> \n> 1. Soruda belirtilen sayfa \"/blog/geekery/puppet-manage-homedirectory-contents.html\" sayfasından.\n> 2. Metin parçasında bu sayfaya GET isteği yapan IP adresi **212.243.55.82**'dir.\n> 3. **212.243.55.82** IP adresi için ilgili satır şu şekildedir: \"ip : 212. 243. 55. 82, timestamp : 11 / may / 2022 : 21 : 52 : 09 + 0000, request : get / blog / geekery / puppet - manage - homedirectory - contents. html http / 1. 1, status code : 200, response size : 10001, referer : https : / / www. google. com /, user agent : mozilla / 5. 0 ( windows nt 6. 1 ; wow64 ) applewebkit / 537. 22 ( khtml, like gecko ) chrome / 25. 0. 1364. 97 safari / 537. 22\"\n> 4. Bu satırda, kullanılan tarayıcı \"user agent\" bilgisi altında \"mozilla / 5. 0 ( windows nt 6. 1 ; wow64 ) applewebkit / 537. 22 ( khtml, like gecko ) chrome / 25. 0. 1364. 97 safari / 537. 22\" olarak belirtilmiştir.\n> \n> Dolayısıyla, \"/blog/geekery/puppet-manage-homedirectory-contents.html\" sayfasına GET isteği yapan IP adresi **212.243.55.82**'dir ve bu istek **Mozilla/5.0 (Windows NT 6.1; WOW64) AppleWebKit/537.22 (KHTML, like Gecko) Chrome/25.0.1364.97 Safari/537.22** tarayıcısı ile yapılmıştır. \n"
          },
          "metadata": {}
        },
        {
          "output_type": "stream",
          "name": "stdout",
          "text": [
            "\n",
            "\n"
          ]
        },
        {
          "output_type": "display_data",
          "data": {
            "text/plain": [
              "<IPython.core.display.Markdown object>"
            ],
            "text/markdown": "> Cevap: 2.85.194.19 IP adresi **\"/style2.css\"** dosyasını GET isteğiyle aldı ve bu istek **\"/blog/tags/xsendevent\"** blog etiket sayfasından yapılmıştır.\n> \n> **Açıklama:**\n> \n> 1. Soruda belirtilen IP adresi 2.85.194.19'dur.\n> 2. Metin parçasında bu IP adresine ait birkaç satır bulunmaktadır.\n> 3. 2.85.194.19 IP adresinin \"style2.css\" dosyasını GET isteğiyle aldığı satır şu şekildedir: \"ip : 2. 85. 194. 19, timestamp : 11 / may / 2022 : 21 : 42 : 07 + 0000, request : get / style2. css http / 1. 1, status code : 200, response size : 4877, referer : http : / / www. semicomplete. com / blog / tags / xsendevent, user agent : mozilla / 5. 0 ( x11 ; linux x86 _ 64 ; rv : 27. 0 ) gecko / 20100101 firefox / 27. 0\".\n> 4. Bu satırda \"referer\" bilgisi \"http://www.semicomplete.com/blog/tags/xsendevent\" olarak verilmiştir. Bu da isteğin \"/blog/tags/xsendevent\" blog etiket sayfasından yapıldığını göstermektedir.\n> \n> Dolayısıyla, 2.85.194.19 IP adresi **\"/style2.css\"** dosyasını GET isteğiyle aldı ve bu istek **\"/blog/tags/xsendevent\"** blog etiket sayfasından yapılmıştır.\n"
          },
          "metadata": {}
        },
        {
          "output_type": "stream",
          "name": "stdout",
          "text": [
            "\n",
            "\n"
          ]
        }
      ],
      "source": [
        "RAG_LLM.history.clear()\n",
        "\n",
        "# Replace with your actual function (assuming it generates an answer)\n",
        "def generateAnswerInterFace(question):\n",
        "    return generateAnswer(RAG_LLM, chroma_collection, question)\n",
        "\n",
        "# Function to generate the info text\n",
        "def get_info_text():\n",
        "    return \"INFO: \" + summarize_collection(chroma_collection)\n",
        "    # Assuming summarize_collection returns a string\n",
        "\n",
        "# Use gr.Blocks instead of gr.Interface\n",
        "with gr.Blocks() as demo:\n",
        "    # Define interface components\n",
        "    query_txt = gr.Textbox(label=\"Enter your question here:\", placeholder=\"Type your question\")\n",
        "    answer_txt = gr.Textbox(label=\"Answer:\", placeholder=\"Answer will be displayed here\")\n",
        "\n",
        "    # Create a button to trigger the prediction\n",
        "    btn = gr.Button(\"Generate Answer\")\n",
        "\n",
        "    # Define the prediction function (order changed for button placement)\n",
        "    def predict(question):\n",
        "        answer = generateAnswerInterFace(question)\n",
        "        return answer\n",
        "\n",
        "    info_txt = gr.Textbox(get_info_text(), label=\"Info\")  # Add info textbox after button\n",
        "\n",
        "    # Connect button click to prediction function\n",
        "    btn.click(predict, inputs=query_txt, outputs=answer_txt)\n",
        "\n",
        "# Launch the interface\n",
        "demo.launch(debug=True)\n"
      ]
    },
    {
      "cell_type": "markdown",
      "metadata": {
        "id": "5939b-L-wlfz"
      },
      "source": [
        "DENEME SORUSU1:What are all requests between 01:24:00 and 01:25:00 on May 12, 2022?\n",
        "bu soruya türkçe yanıt oluştur\n",
        "\n",
        "CEVABI: 12 Mayıs 2022 tarihinde saat 01:24:00 ile 01:25:00 arasında sadece bir istek kaydedilmiş:\n",
        "\n",
        "* **IP:** 14. 49. 42. 25\n",
        "* **Zaman Damgası:** 12 / may / 2022 : 01 : 25 : 25 + 0000\n",
        "* **İstek:** get / articles / week - of - unix - tools / http / 1. 1\n",
        "* **Durum Kodu:** 200\n",
        "* **Yanıt Boyutu:** 9313\n",
        "* **Yönlendirme URL'si:** -\n",
        "* **Kullanıcı Ajanı:** mozilla / 5. 0 ( windows ; u ; windows nt 6. 1 ; en - us ; rv : 1. 9. 2b1 ) gecko / 20091014 firefox / 3. 6b1 gtb5\n",
        "\n",
        "Bu istek, `articles/week-of-unix-tools` yoluna yapılan bir GET isteği ve 200 durum kodu ile başarılı bir şekilde tamamlanmıştır."
      ]
    },
    {
      "cell_type": "markdown",
      "source": [
        "# SORULAR (10 SORUDA, 8 DOĞRU CEVAP VERDİ, 2 BULAMADI, 0 HALÜSİNASYON)"
      ],
      "metadata": {
        "id": "c7KoTjlUyRSU"
      }
    },
    {
      "cell_type": "markdown",
      "source": [
        "**Soru 1:** Hangi IP adresi 11 Mayıs 2022 tarihinde \"/presentations/logstash-scale11x/images/nagios-sms2.png\" dosyasını GET isteğiyle talep etti?\n",
        "**Doğru Cevap:** 186.231.123.210\n",
        "\n",
        "**Model Cevabı: ** 11 Mayıs 2022 tarihinde \"/presentations/logstash-scale11x/images/nagios-sms2.png\" dosyasını GET isteğiyle talep eden IP adresi 186.231.123.210'dur.\n",
        "\n",
        "Açıklama:\n",
        "\n",
        "Verilen metin parçası, farklı IP adreslerinden gelen istekleri ve zaman damgalarını içerir.\n",
        "Soruda belirtilen dosya \"/presentations/logstash-scale11x/images/nagios-sms2.png\" dosyasıdır.\n",
        "Metin parçasında, 11 Mayıs 2022 tarihinde bu dosyayı talep eden tek IP adresi 186.231.123.210'dur.\n",
        "Bu IP adresi için ilgili satır şu şekildedir: \"ip : 186. 231. 123. 210, timestamp : 11 / may / 2022 : 21 : 24 : 20 + 0000, request : get / presentations / logstash - scale11x / images / nagios - sms2. png http / 1. 1, status code : 200, response size : 60656, referer : http : / / semicomplete. com / presentations / logstash - scale11x /, user agent : mozilla / 5. 0 ( macintosh ; intel mac os x 10 _ 9 _ 0 ) applewebkit / 537. 36 ( khtml, like gecko ) chrome / 32. 0. 1700. 102 safari / 537. 36\"\n",
        "Dolayısıyla, 11 Mayıs 2022 tarihinde \"/presentations/logstash-scale11x/images/nagios-sms2.png\" dosyasını GET isteğiyle talep eden IP adresi 186.231.123.210'dur.\n"
      ],
      "metadata": {
        "id": "B7HexoccqQIu"
      }
    },
    {
      "cell_type": "markdown",
      "source": [
        "**Soru 2:** 186.231.123.210 IP adresi, hangi dosya için bir GET isteği yaptı ve bu isteğin boyutu nedir?\n",
        "**Doğru Cevap:** /presentations/logstash-scale11x/plugin/markdown/showdown.js, 9904 bayt\n",
        "**Model Cevabı:**\n",
        "Cevap: 186.231.123.210 IP adresi, metin parçasında yer almıyor.\n",
        "\n",
        "Açıklama:\n",
        "\n",
        "Metin parçası içinde 186.231.123.210 IP adresine ait herhangi bir bilgi yer almıyor. Dolayısıyla, bu IP adresinin hangi dosya için GET isteği yaptığını ve bu isteğin boyutunu bilmiyoruz.\n"
      ],
      "metadata": {
        "id": "ul-MNn1TqaRu"
      }
    },
    {
      "cell_type": "markdown",
      "source": [
        "**Soru 3:** \"/projects/xdotool/\" dosyasını GET isteğiyle talep eden IP adresi nedir ve bu istek hangi tarayıcı üzerinden yapılmıştır?\n",
        "**Doğru Cevap:** 82.194.101.119, Mozilla\n",
        "**Model Cevabı:** \"/projects/xdotool/\" dosyasını GET isteğiyle talep eden IP adresi **82.194.101.119**'dur ve bu istek **Mozilla Firefox** tarayıcısı üzerinden yapılmıştır.\n",
        "\n",
        "Açıklama:\n",
        "\n",
        "1. Soruda belirtilen dosya \"/projects/xdotool/\" dosyasıdır.\n",
        "2. Metin parçasında, bu dosyayı GET isteğiyle talep eden IP adresi **82.194.101.119**'dur.\n",
        "3.  Bu IP adresi için ilgili satır şu şekildedir: \"ip : 82. 194. 101. 119, timestamp : 11 / may / 2022 : 22 : 17 : 45 + 0000, request : get / projects / xdotool / xdotool. xhtml http / 1. 1, status code : 200, response size : 50112, referer : http : / / www. semicomplete. com / projects / xdotool /, user agent : mozilla / 5. 0 ( x11 ; ubuntu ; linux x86 _ 64 ; rv : 26. 0 ) gecko / 20100101 firefox / 26. 0\"\n",
        "4. Bu satırdaki \"user agent\" bilgisi \"mozilla / 5. 0 ( x11 ; ubuntu ; linux x86 _ 64 ; rv : 26. 0 ) gecko / 20100101 firefox / 26. 0\" olarak geçmektedir. Bu da  isteğin **Mozilla Firefox** tarayıcısı üzerinden yapıldığını göstermektedir.\n",
        "\n",
        "Dolayısıyla, \"/projects/xdotool/\" dosyasını GET isteğiyle talep eden IP adresi **82.194.101.119**'dur ve bu istek **Mozilla Firefox** tarayıcısı üzerinden yapılmıştır."
      ],
      "metadata": {
        "id": "Gfkyh-TzsEJe"
      }
    },
    {
      "cell_type": "markdown",
      "source": [
        "**Soru 4:** 39.45.55.13 IP adresi tarafından yapılan GET isteğiyle alınan dosya adı nedir?\n",
        "**Doğru Cevap:** googledotcom.png\n",
        "**Model Cevabı:**  39.45.55.13 IP adresine ait bir istek metin parçasında bulunmuyor.\n",
        "\n",
        "Açıklama:\n",
        "\n",
        "Metin parçasında 39.45.55.13 IP adresine ait bir satır bulunmuyor. Dolayısıyla, bu IP adresinin hangi dosya için GET isteği yaptığı bilinmiyor.\n"
      ],
      "metadata": {
        "id": "AUq3FRtws8EB"
      }
    },
    {
      "cell_type": "markdown",
      "source": [
        "**Soru 5:** Hangi IP adresi, \"Mozilla/5.0 (Windows NT 6.0; WOW64; rv:24.0) Gecko/20100101 Firefox/24.0\" tarayıcısı üzerinden \"/projects/keynav/\" dosyasına GET isteği yaptı?\n",
        "**Doğru Cevap:** 133.236.2.124\n",
        "**Model Cevabı:** \"/projects/keynav/\" dosyasına GET isteği yapan IP adresi **133.236.2.124**'tür.\n",
        "\n",
        "Açıklama:\n",
        "\n",
        "1. Soruda belirtilen tarayıcı \"Mozilla/5.0 (Windows NT 6.0; WOW64; rv:24.0) Gecko/20100101 Firefox/24.0\" olarak verilmiştir.\n",
        "2. Metin parçasında bu tarayıcı ile ilgili birçok satır bulunmaktadır.\n",
        "3. Soruda belirtilen dosya \"/projects/keynav/\" dosyasıdır.\n",
        "4. Metin parçasında bu dosyaya GET isteği yapan tek IP adresi **133.236.2.124**'tür. Bu IP adresine ait satırlar şunlardır:\n",
        "   * \"ip : 133. 236. 2. 124, timestamp : 11 / may / 2022 : 22 : 19 : 23 + 0000, request : get / projects / keynav / keynav. html http / 1. 1, status code : 200, response size : 191, referer : http : / / www. semicomplete. com / projects / keynav /, user agent : mozilla / 5. 0 ( windows nt 6. 0 ; wow64 ; rv : 24. 0 ) gecko / 20100101 firefox / 24. 0\"\n",
        "   * \"ip : 133. 236. 2. 124, timestamp : 11 / may / 2022 : 22 : 18 : 16 + 0000, request : get / projects / keynav / demo - thumb. png http / 1. 1, status code : 200, response size : 15141, referer : http : / / www. semicomplete. com / projects / keynav /, user agent : mozilla / 5. 0 ( windows nt 6. 0 ; wow64 ; rv : 24. 0 ) gecko / 20100101 firefox / 24. 0\"\n",
        "   * \"ip : 133. 236. 2. 124, timestamp : 11 / may / 2022 : 22 : 18 : 16 + 0000, request : get / projects / keynav / http / 1. 1, status code : 200, response size : 18985, referer : http : / / www. semicomplete. com /, user agent : mozilla / 5. 0 ( windows nt 6. 0 ; wow64 ; rv : 24. 0 ) gecko / 20100101 firefox / 24. 0\"\n",
        "   * \"ip : 133. 236. 2. 124, timestamp : 11 / may / 2022 : 22 : 18 : 16 + 0000, request : get / images / jordan - 80. png http / 1. 1, status code : 200, response size : 6146, referer : http : / / www. semicomplete. com / projects / keynav /, user agent : mozilla / 5. 0 ( windows nt 6. 0 ; wow64 ; rv : 24. 0 ) gecko / 20100101 firefox / 24. 0\"\n",
        "   * \"ip : 133. 236. 2. 124, timestamp : 11 / may / 2022 : 22 : 19 : 24 + 0000, request : get / projects / keynav / keynav. swf http / 1. 1, status code : 200, response size : 897956, referer : http : / / www. semicomplete. com / projects / keynav / keynav. html, user agent : mozilla / 5. 0 ( windows nt 6. 0 ; wow64 ; rv : 24. 0 ) gecko / 20100101 firefox / 24. 0\"\n",
        "   * \"ip : 133. 236. 2. 124, timestamp : 11 / may / 2022 : 22 : 18 : 16 + 0000, request : get / reset. css http / 1. 1, status code : 200, response size : 1015, referer : http : / / www. semicomplete. com / projects / keynav /, user agent : mozilla / 5. 0 ( windows nt 6. 0 ; wow64 ; rv : 24. 0 ) gecko / 20100101 firefox / 24. 0\"\n",
        "   * \"ip : 133. 236. 2. 124, timestamp : 11 / may / 2022 : 22 : 18 : 16 + 0000, request : get / style2. css http / 1. 1, status code : 200, response size : 4877, referer : http : / / www. semicomplete. com / projects / keynav /, user agent : mozilla / 5. 0 ( windows nt 6. 0 ; wow64 ; rv : 24. 0 ) gecko / 20100101 firefox / 24. 0\"\n",
        "\n",
        "Dolayısıyla, \"/projects/keynav/\" dosyasına GET isteği yapan IP adresi **133.236.2.124**'tür.\n"
      ],
      "metadata": {
        "id": "TD1ZfVxWs7_-"
      }
    },
    {
      "cell_type": "markdown",
      "source": [
        "**Soru 6:** 12 Mayıs 2022 tarihinde \"/favicon.ico\" dosyasına GET isteği yapan IP adresi nedir?\n",
        "**Doğru Cevap:** Veri setine bakıldğında birden fazla bu koşulu sağlayan IP adresi var modelin cevaplarıda bunlardan 2si: 190.228.21.2 / 83.252.13.79\n",
        "**Model Cevabı:** 12 Mayıs 2022 tarihinde \"/favicon.ico\" dosyasına GET isteği yapan IP adresleri şunlardır:\n",
        "\n",
        "* **190.228.21.2**\n",
        "* **83.252.13.79**\n",
        "\n",
        "**Açıklama:**\n",
        "\n",
        "1. Soruda belirtilen dosya \"/favicon.ico\" dosyasıdır ve tarih 12 Mayıs 2022'dir.\n",
        "2. Metin parçasında bu dosyaya GET isteği yapan iki IP adresi bulunmaktadır:\n",
        "   * \"ip : 190. 228. 21. 2, timestamp : 12 / may / 2022 : 01 : 36 : 41 + 0000, request : get / favicon. ico http / 1. 1, status code : 200, response size : 3638, referer : -, user agent : mozilla / 5. 0 ( x11 ; linux x86 _ 64 ; rv : 18. 0 ) gecko / 20100101 firefox / 18. 0 iceweasel / 18. 0. 2\"\n",
        "   * \"ip : 83. 252. 13. 79, timestamp : 12 / may / 2022 : 01 : 32 : 57 + 0000, request : get / favicon. ico http / 1. 1, status code : 200, response size : 3638, referer : -, user agent : mozilla / 5. 0 ( x11 ; linux x86 _ 64 ; rv : 30. 0 ) gecko / 20100101 firefox / 30. 0\"\n",
        "\n",
        "Dolayısıyla, 12 Mayıs 2022 tarihinde \"/favicon.ico\" dosyasına GET isteği yapan IP adresleri **190.228.21.2** ve **83.252.13.79**'dur."
      ],
      "metadata": {
        "id": "Wc5xHlpYs7ig"
      }
    },
    {
      "cell_type": "markdown",
      "source": [
        "**Soru 7:** Hangi IP adresi \"style2.css\" dosyasını GET isteğiyle aldı ve bu istek hangi blog sayfasından yapılmıştır?\n",
        "**Doğru Cevap:** 2.85.194.19, http://www.semicomplete.com/blog/tags/xsendevent\n",
        "\n",
        "**Model Cevabı:** \"style2.css\" dosyasını GET isteğiyle alan IP adresi **2.85.194.19**'dur ve bu istek **\"/blog/tags/xsendevent\"** blog sayfasından yapılmıştır.\n",
        "\n",
        "**Açıklama:**\n",
        "\n",
        "1. Metin parçasında \"style2.css\" dosyasını GET isteğiyle alan birçok IP adresi bulunmaktadır.\n",
        "2. Soruda, bu isteğin hangi blog sayfasından yapıldığı da sorulmaktadır.\n",
        "3. Metin parçasında, \"style2.css\" dosyasını GET isteğiyle alan IP adreslerinden sadece **2.85.194.19**, bu isteği  **\"/blog/tags/xsendevent\"**  blog sayfasından yapmıştır.\n",
        "4.  **2.85.194.19** IP adresi için ilgili satır şu şekildedir: \"ip : 2. 85. 194. 19, timestamp : 11 / may / 2022 : 21 : 42 : 07 + 0000, request : get / style2. css http / 1. 1, status code : 200, response size : 4877, referer : http : / / www. semicomplete. com / blog / tags / xsendevent, user agent : mozilla / 5. 0 ( x11 ; linux x86 _ 64 ; rv : 27. 0 ) gecko / 20100101 firefox / 27. 0\"\n",
        "\n",
        "Dolayısıyla, \"style2.css\" dosyasını GET isteğiyle alan IP adresi **2.85.194.19**'dur ve bu istek **\"/blog/tags/xsendevent\"** blog sayfasından yapılmıştır."
      ],
      "metadata": {
        "id": "O5IrtwkZvQvb"
      }
    },
    {
      "cell_type": "markdown",
      "source": [
        "**Soru 8:** \"/projects/keynav/demo-thumb.png\" dosyasını GET isteğiyle talep eden IP adresi nedir ve bu isteğin boyutu kaç bayttır?\n",
        "**Doğru Cevap:** 133.236.2.124, 15141 bayt\n",
        "\n",
        "**Model Cevabı:** \"/projects/keynav/demo-thumb.png\" dosyasını GET isteğiyle talep eden IP adresi **133.236.2.124**'tür ve bu isteğin boyutu **15141** bayttır.\n",
        "\n",
        "Açıklama:\n",
        "\n",
        "1. Soruda belirtilen dosya \"/projects/keynav/demo-thumb.png\" dosyasıdır.\n",
        "2. Metin parçasında bu dosyayı GET isteğiyle talep eden tek IP adresi **133.236.2.124**'tür.\n",
        "3.  **133.236.2.124** IP adresi için ilgili satır şu şekildedir: \"ip : 133. 236. 2. 124, timestamp : 11 / may / 2022 : 22 : 18 : 16 + 0000, request : get / projects / keynav / demo - thumb. png http / 1. 1, status code : 200, response size : 15141, referer : http : / / www. semicomplete. com / projects / keynav /, user agent : mozilla / 5. 0 ( windows nt 6. 0 ; wow64 ; rv : 24. 0 ) gecko / 20100101 firefox / 24. 0\"\n",
        "4. Bu satırda, isteğin boyutu \"response size : 15141\" olarak belirtilmiştir.\n",
        "\n",
        "Dolayısıyla, \"/projects/keynav/demo-thumb.png\" dosyasını GET isteğiyle talep eden IP adresi **133.236.2.124**'tür ve bu isteğin boyutu **15141** bayttır."
      ],
      "metadata": {
        "id": "HUIMxZZUvQli"
      }
    },
    {
      "cell_type": "markdown",
      "source": [
        "**Soru 9:** Hangi IP adresi \"/blog/geekery/puppet-manage-homedirectory-contents.html\" sayfasına GET isteği yaptı ve bu istek hangi tarayıcı ile yapılmıştır?\n",
        "**Doğru Cevap:** 212.243.55.82, Chrome 25.0.1364.97\n",
        "\n",
        "**Model Cevabı:** \"/blog/geekery/puppet-manage-homedirectory-contents.html\" sayfasına GET isteği yapan IP adresi **212.243.55.82**'dir ve bu istek **Mozilla/5.0 (Windows NT 6.1; WOW64) AppleWebKit/537.22 (KHTML, like Gecko) Chrome/25.0.1364.97 Safari/537.22** tarayıcısı ile yapılmıştır.\n",
        "\n",
        "**Açıklama:**\n",
        "\n",
        "1. Soruda belirtilen sayfa \"/blog/geekery/puppet-manage-homedirectory-contents.html\" sayfasından.\n",
        "2. Metin parçasında bu sayfaya GET isteği yapan IP adresi **212.243.55.82**'dir.\n",
        "3. **212.243.55.82** IP adresi için ilgili satır şu şekildedir: \"ip : 212. 243. 55. 82, timestamp : 11 / may / 2022 : 21 : 52 : 09 + 0000, request : get / blog / geekery / puppet - manage - homedirectory - contents. html http / 1. 1, status code : 200, response size : 10001, referer : https : / / www. google. com /, user agent : mozilla / 5. 0 ( windows nt 6. 1 ; wow64 ) applewebkit / 537. 22 ( khtml, like gecko ) chrome / 25. 0. 1364. 97 safari / 537. 22\"\n",
        "4. Bu satırda, kullanılan tarayıcı \"user agent\" bilgisi altında \"mozilla / 5. 0 ( windows nt 6. 1 ; wow64 ) applewebkit / 537. 22 ( khtml, like gecko ) chrome / 25. 0. 1364. 97 safari / 537. 22\" olarak belirtilmiştir.\n",
        "\n",
        "Dolayısıyla, \"/blog/geekery/puppet-manage-homedirectory-contents.html\" sayfasına GET isteği yapan IP adresi **212.243.55.82**'dir ve bu istek **Mozilla/5.0 (Windows NT 6.1; WOW64) AppleWebKit/537.22 (KHTML, like Gecko) Chrome/25.0.1364.97 Safari/537.22** tarayıcısı ile yapılmıştır."
      ],
      "metadata": {
        "id": "iZg6ZMmrvQhZ"
      }
    },
    {
      "cell_type": "markdown",
      "source": [
        "**Soru 10:** 2.85.194.19 IP adresi hangi CSS dosyasını GET isteğiyle aldı ve bu istek hangi blog etiket sayfasından yapılmıştır?\n",
        "**Doğru Cevap:** /style2.css, http://www.semicomplete.com/blog/tags/xsendevent\n",
        "**Model Cevabı:** 2.85.194.19 IP adresi **\"/style2.css\"** dosyasını GET isteğiyle aldı ve bu istek **\"/blog/tags/xsendevent\"** blog etiket sayfasından yapılmıştır.\n",
        "\n",
        "**Açıklama:**\n",
        "\n",
        "1. Soruda belirtilen IP adresi 2.85.194.19'dur.\n",
        "2. Metin parçasında bu IP adresine ait birkaç satır bulunmaktadır.\n",
        "3. 2.85.194.19 IP adresinin \"style2.css\" dosyasını GET isteğiyle aldığı satır şu şekildedir: \"ip : 2. 85. 194. 19, timestamp : 11 / may / 2022 : 21 : 42 : 07 + 0000, request : get / style2. css http / 1. 1, status code : 200, response size : 4877, referer : http : / / www. semicomplete. com / blog / tags / xsendevent, user agent : mozilla / 5. 0 ( x11 ; linux x86 _ 64 ; rv : 27. 0 ) gecko / 20100101 firefox / 27. 0\".\n",
        "4. Bu satırda \"referer\" bilgisi \"http://www.semicomplete.com/blog/tags/xsendevent\" olarak verilmiştir. Bu da isteğin \"/blog/tags/xsendevent\" blog etiket sayfasından yapıldığını göstermektedir.\n",
        "\n",
        "Dolayısıyla, 2.85.194.19 IP adresi **\"/style2.css\"** dosyasını GET isteğiyle aldı ve bu istek **\"/blog/tags/xsendevent\"** blog etiket sayfasından yapılmıştır."
      ],
      "metadata": {
        "id": "VWAaqVbhvP8L"
      }
    },
    {
      "cell_type": "code",
      "execution_count": null,
      "metadata": {
        "id": "FSnyGOTVw0qg"
      },
      "outputs": [],
      "source": []
    }
  ],
  "metadata": {
    "colab": {
      "provenance": [],
      "mount_file_id": "1Llwo22ltrYH32SCi707q3Zg4C8bYxkm1",
      "authorship_tag": "ABX9TyMDNvE7Ym5IByF5KE27xcPM",
      "include_colab_link": true
    },
    "kernelspec": {
      "display_name": "Python 3",
      "name": "python3"
    },
    "language_info": {
      "name": "python"
    },
    "widgets": {
      "application/vnd.jupyter.widget-state+json": {
        "533cc62bd88848edab4081c325b918f7": {
          "model_module": "@jupyter-widgets/controls",
          "model_name": "HBoxModel",
          "model_module_version": "1.5.0",
          "state": {
            "_dom_classes": [],
            "_model_module": "@jupyter-widgets/controls",
            "_model_module_version": "1.5.0",
            "_model_name": "HBoxModel",
            "_view_count": null,
            "_view_module": "@jupyter-widgets/controls",
            "_view_module_version": "1.5.0",
            "_view_name": "HBoxView",
            "box_style": "",
            "children": [
              "IPY_MODEL_6aee187aca274f38a0bfbdfa200646a9",
              "IPY_MODEL_38171d7b6cbe434888b489a3a22b0d44",
              "IPY_MODEL_afd94427af0047318531af1c2cf1ab30"
            ],
            "layout": "IPY_MODEL_48aea677dab34991ac7cbbf43b897cce"
          }
        },
        "6aee187aca274f38a0bfbdfa200646a9": {
          "model_module": "@jupyter-widgets/controls",
          "model_name": "HTMLModel",
          "model_module_version": "1.5.0",
          "state": {
            "_dom_classes": [],
            "_model_module": "@jupyter-widgets/controls",
            "_model_module_version": "1.5.0",
            "_model_name": "HTMLModel",
            "_view_count": null,
            "_view_module": "@jupyter-widgets/controls",
            "_view_module_version": "1.5.0",
            "_view_name": "HTMLView",
            "description": "",
            "description_tooltip": null,
            "layout": "IPY_MODEL_dc2a7e6774154fde8b58279ad95ad64a",
            "placeholder": "​",
            "style": "IPY_MODEL_c69396781ad24889b70be26ca8f38787",
            "value": "modules.json: 100%"
          }
        },
        "38171d7b6cbe434888b489a3a22b0d44": {
          "model_module": "@jupyter-widgets/controls",
          "model_name": "FloatProgressModel",
          "model_module_version": "1.5.0",
          "state": {
            "_dom_classes": [],
            "_model_module": "@jupyter-widgets/controls",
            "_model_module_version": "1.5.0",
            "_model_name": "FloatProgressModel",
            "_view_count": null,
            "_view_module": "@jupyter-widgets/controls",
            "_view_module_version": "1.5.0",
            "_view_name": "ProgressView",
            "bar_style": "success",
            "description": "",
            "description_tooltip": null,
            "layout": "IPY_MODEL_b7f269b1188249ab9a2d1b8d058b2c23",
            "max": 349,
            "min": 0,
            "orientation": "horizontal",
            "style": "IPY_MODEL_7e4e554d488d4c26814f6149cfb383f3",
            "value": 349
          }
        },
        "afd94427af0047318531af1c2cf1ab30": {
          "model_module": "@jupyter-widgets/controls",
          "model_name": "HTMLModel",
          "model_module_version": "1.5.0",
          "state": {
            "_dom_classes": [],
            "_model_module": "@jupyter-widgets/controls",
            "_model_module_version": "1.5.0",
            "_model_name": "HTMLModel",
            "_view_count": null,
            "_view_module": "@jupyter-widgets/controls",
            "_view_module_version": "1.5.0",
            "_view_name": "HTMLView",
            "description": "",
            "description_tooltip": null,
            "layout": "IPY_MODEL_ff80cd023ebe4bd494d55bd30c19fca0",
            "placeholder": "​",
            "style": "IPY_MODEL_c25f9b68a9d34c018ec525bd56bcea82",
            "value": " 349/349 [00:00&lt;00:00, 21.0kB/s]"
          }
        },
        "48aea677dab34991ac7cbbf43b897cce": {
          "model_module": "@jupyter-widgets/base",
          "model_name": "LayoutModel",
          "model_module_version": "1.2.0",
          "state": {
            "_model_module": "@jupyter-widgets/base",
            "_model_module_version": "1.2.0",
            "_model_name": "LayoutModel",
            "_view_count": null,
            "_view_module": "@jupyter-widgets/base",
            "_view_module_version": "1.2.0",
            "_view_name": "LayoutView",
            "align_content": null,
            "align_items": null,
            "align_self": null,
            "border": null,
            "bottom": null,
            "display": null,
            "flex": null,
            "flex_flow": null,
            "grid_area": null,
            "grid_auto_columns": null,
            "grid_auto_flow": null,
            "grid_auto_rows": null,
            "grid_column": null,
            "grid_gap": null,
            "grid_row": null,
            "grid_template_areas": null,
            "grid_template_columns": null,
            "grid_template_rows": null,
            "height": null,
            "justify_content": null,
            "justify_items": null,
            "left": null,
            "margin": null,
            "max_height": null,
            "max_width": null,
            "min_height": null,
            "min_width": null,
            "object_fit": null,
            "object_position": null,
            "order": null,
            "overflow": null,
            "overflow_x": null,
            "overflow_y": null,
            "padding": null,
            "right": null,
            "top": null,
            "visibility": null,
            "width": null
          }
        },
        "dc2a7e6774154fde8b58279ad95ad64a": {
          "model_module": "@jupyter-widgets/base",
          "model_name": "LayoutModel",
          "model_module_version": "1.2.0",
          "state": {
            "_model_module": "@jupyter-widgets/base",
            "_model_module_version": "1.2.0",
            "_model_name": "LayoutModel",
            "_view_count": null,
            "_view_module": "@jupyter-widgets/base",
            "_view_module_version": "1.2.0",
            "_view_name": "LayoutView",
            "align_content": null,
            "align_items": null,
            "align_self": null,
            "border": null,
            "bottom": null,
            "display": null,
            "flex": null,
            "flex_flow": null,
            "grid_area": null,
            "grid_auto_columns": null,
            "grid_auto_flow": null,
            "grid_auto_rows": null,
            "grid_column": null,
            "grid_gap": null,
            "grid_row": null,
            "grid_template_areas": null,
            "grid_template_columns": null,
            "grid_template_rows": null,
            "height": null,
            "justify_content": null,
            "justify_items": null,
            "left": null,
            "margin": null,
            "max_height": null,
            "max_width": null,
            "min_height": null,
            "min_width": null,
            "object_fit": null,
            "object_position": null,
            "order": null,
            "overflow": null,
            "overflow_x": null,
            "overflow_y": null,
            "padding": null,
            "right": null,
            "top": null,
            "visibility": null,
            "width": null
          }
        },
        "c69396781ad24889b70be26ca8f38787": {
          "model_module": "@jupyter-widgets/controls",
          "model_name": "DescriptionStyleModel",
          "model_module_version": "1.5.0",
          "state": {
            "_model_module": "@jupyter-widgets/controls",
            "_model_module_version": "1.5.0",
            "_model_name": "DescriptionStyleModel",
            "_view_count": null,
            "_view_module": "@jupyter-widgets/base",
            "_view_module_version": "1.2.0",
            "_view_name": "StyleView",
            "description_width": ""
          }
        },
        "b7f269b1188249ab9a2d1b8d058b2c23": {
          "model_module": "@jupyter-widgets/base",
          "model_name": "LayoutModel",
          "model_module_version": "1.2.0",
          "state": {
            "_model_module": "@jupyter-widgets/base",
            "_model_module_version": "1.2.0",
            "_model_name": "LayoutModel",
            "_view_count": null,
            "_view_module": "@jupyter-widgets/base",
            "_view_module_version": "1.2.0",
            "_view_name": "LayoutView",
            "align_content": null,
            "align_items": null,
            "align_self": null,
            "border": null,
            "bottom": null,
            "display": null,
            "flex": null,
            "flex_flow": null,
            "grid_area": null,
            "grid_auto_columns": null,
            "grid_auto_flow": null,
            "grid_auto_rows": null,
            "grid_column": null,
            "grid_gap": null,
            "grid_row": null,
            "grid_template_areas": null,
            "grid_template_columns": null,
            "grid_template_rows": null,
            "height": null,
            "justify_content": null,
            "justify_items": null,
            "left": null,
            "margin": null,
            "max_height": null,
            "max_width": null,
            "min_height": null,
            "min_width": null,
            "object_fit": null,
            "object_position": null,
            "order": null,
            "overflow": null,
            "overflow_x": null,
            "overflow_y": null,
            "padding": null,
            "right": null,
            "top": null,
            "visibility": null,
            "width": null
          }
        },
        "7e4e554d488d4c26814f6149cfb383f3": {
          "model_module": "@jupyter-widgets/controls",
          "model_name": "ProgressStyleModel",
          "model_module_version": "1.5.0",
          "state": {
            "_model_module": "@jupyter-widgets/controls",
            "_model_module_version": "1.5.0",
            "_model_name": "ProgressStyleModel",
            "_view_count": null,
            "_view_module": "@jupyter-widgets/base",
            "_view_module_version": "1.2.0",
            "_view_name": "StyleView",
            "bar_color": null,
            "description_width": ""
          }
        },
        "ff80cd023ebe4bd494d55bd30c19fca0": {
          "model_module": "@jupyter-widgets/base",
          "model_name": "LayoutModel",
          "model_module_version": "1.2.0",
          "state": {
            "_model_module": "@jupyter-widgets/base",
            "_model_module_version": "1.2.0",
            "_model_name": "LayoutModel",
            "_view_count": null,
            "_view_module": "@jupyter-widgets/base",
            "_view_module_version": "1.2.0",
            "_view_name": "LayoutView",
            "align_content": null,
            "align_items": null,
            "align_self": null,
            "border": null,
            "bottom": null,
            "display": null,
            "flex": null,
            "flex_flow": null,
            "grid_area": null,
            "grid_auto_columns": null,
            "grid_auto_flow": null,
            "grid_auto_rows": null,
            "grid_column": null,
            "grid_gap": null,
            "grid_row": null,
            "grid_template_areas": null,
            "grid_template_columns": null,
            "grid_template_rows": null,
            "height": null,
            "justify_content": null,
            "justify_items": null,
            "left": null,
            "margin": null,
            "max_height": null,
            "max_width": null,
            "min_height": null,
            "min_width": null,
            "object_fit": null,
            "object_position": null,
            "order": null,
            "overflow": null,
            "overflow_x": null,
            "overflow_y": null,
            "padding": null,
            "right": null,
            "top": null,
            "visibility": null,
            "width": null
          }
        },
        "c25f9b68a9d34c018ec525bd56bcea82": {
          "model_module": "@jupyter-widgets/controls",
          "model_name": "DescriptionStyleModel",
          "model_module_version": "1.5.0",
          "state": {
            "_model_module": "@jupyter-widgets/controls",
            "_model_module_version": "1.5.0",
            "_model_name": "DescriptionStyleModel",
            "_view_count": null,
            "_view_module": "@jupyter-widgets/base",
            "_view_module_version": "1.2.0",
            "_view_name": "StyleView",
            "description_width": ""
          }
        },
        "f738885eb93b43b481b4852acf3f4564": {
          "model_module": "@jupyter-widgets/controls",
          "model_name": "HBoxModel",
          "model_module_version": "1.5.0",
          "state": {
            "_dom_classes": [],
            "_model_module": "@jupyter-widgets/controls",
            "_model_module_version": "1.5.0",
            "_model_name": "HBoxModel",
            "_view_count": null,
            "_view_module": "@jupyter-widgets/controls",
            "_view_module_version": "1.5.0",
            "_view_name": "HBoxView",
            "box_style": "",
            "children": [
              "IPY_MODEL_64281bee1a2143efaa0e0d2af28f2a21",
              "IPY_MODEL_c3515833b8d9492397b5c3e268b1e409",
              "IPY_MODEL_ada3163827434ce2803e85578df3d841"
            ],
            "layout": "IPY_MODEL_bc34140f789240548d31e414bcb50d21"
          }
        },
        "64281bee1a2143efaa0e0d2af28f2a21": {
          "model_module": "@jupyter-widgets/controls",
          "model_name": "HTMLModel",
          "model_module_version": "1.5.0",
          "state": {
            "_dom_classes": [],
            "_model_module": "@jupyter-widgets/controls",
            "_model_module_version": "1.5.0",
            "_model_name": "HTMLModel",
            "_view_count": null,
            "_view_module": "@jupyter-widgets/controls",
            "_view_module_version": "1.5.0",
            "_view_name": "HTMLView",
            "description": "",
            "description_tooltip": null,
            "layout": "IPY_MODEL_3f730cbcb3d740debe2bdfe36e16c7fd",
            "placeholder": "​",
            "style": "IPY_MODEL_d1cac789499b45f49f0c0b145289ebcd",
            "value": "config_sentence_transformers.json: 100%"
          }
        },
        "c3515833b8d9492397b5c3e268b1e409": {
          "model_module": "@jupyter-widgets/controls",
          "model_name": "FloatProgressModel",
          "model_module_version": "1.5.0",
          "state": {
            "_dom_classes": [],
            "_model_module": "@jupyter-widgets/controls",
            "_model_module_version": "1.5.0",
            "_model_name": "FloatProgressModel",
            "_view_count": null,
            "_view_module": "@jupyter-widgets/controls",
            "_view_module_version": "1.5.0",
            "_view_name": "ProgressView",
            "bar_style": "success",
            "description": "",
            "description_tooltip": null,
            "layout": "IPY_MODEL_d849ea5338e747beacde1915124cc96c",
            "max": 116,
            "min": 0,
            "orientation": "horizontal",
            "style": "IPY_MODEL_2457a95efdf24a5bbbd48d2373261383",
            "value": 116
          }
        },
        "ada3163827434ce2803e85578df3d841": {
          "model_module": "@jupyter-widgets/controls",
          "model_name": "HTMLModel",
          "model_module_version": "1.5.0",
          "state": {
            "_dom_classes": [],
            "_model_module": "@jupyter-widgets/controls",
            "_model_module_version": "1.5.0",
            "_model_name": "HTMLModel",
            "_view_count": null,
            "_view_module": "@jupyter-widgets/controls",
            "_view_module_version": "1.5.0",
            "_view_name": "HTMLView",
            "description": "",
            "description_tooltip": null,
            "layout": "IPY_MODEL_9fb87457cb014c60877c619e354a27e2",
            "placeholder": "​",
            "style": "IPY_MODEL_4a7b396540cf4477b8a29f69e3f34a1e",
            "value": " 116/116 [00:00&lt;00:00, 5.34kB/s]"
          }
        },
        "bc34140f789240548d31e414bcb50d21": {
          "model_module": "@jupyter-widgets/base",
          "model_name": "LayoutModel",
          "model_module_version": "1.2.0",
          "state": {
            "_model_module": "@jupyter-widgets/base",
            "_model_module_version": "1.2.0",
            "_model_name": "LayoutModel",
            "_view_count": null,
            "_view_module": "@jupyter-widgets/base",
            "_view_module_version": "1.2.0",
            "_view_name": "LayoutView",
            "align_content": null,
            "align_items": null,
            "align_self": null,
            "border": null,
            "bottom": null,
            "display": null,
            "flex": null,
            "flex_flow": null,
            "grid_area": null,
            "grid_auto_columns": null,
            "grid_auto_flow": null,
            "grid_auto_rows": null,
            "grid_column": null,
            "grid_gap": null,
            "grid_row": null,
            "grid_template_areas": null,
            "grid_template_columns": null,
            "grid_template_rows": null,
            "height": null,
            "justify_content": null,
            "justify_items": null,
            "left": null,
            "margin": null,
            "max_height": null,
            "max_width": null,
            "min_height": null,
            "min_width": null,
            "object_fit": null,
            "object_position": null,
            "order": null,
            "overflow": null,
            "overflow_x": null,
            "overflow_y": null,
            "padding": null,
            "right": null,
            "top": null,
            "visibility": null,
            "width": null
          }
        },
        "3f730cbcb3d740debe2bdfe36e16c7fd": {
          "model_module": "@jupyter-widgets/base",
          "model_name": "LayoutModel",
          "model_module_version": "1.2.0",
          "state": {
            "_model_module": "@jupyter-widgets/base",
            "_model_module_version": "1.2.0",
            "_model_name": "LayoutModel",
            "_view_count": null,
            "_view_module": "@jupyter-widgets/base",
            "_view_module_version": "1.2.0",
            "_view_name": "LayoutView",
            "align_content": null,
            "align_items": null,
            "align_self": null,
            "border": null,
            "bottom": null,
            "display": null,
            "flex": null,
            "flex_flow": null,
            "grid_area": null,
            "grid_auto_columns": null,
            "grid_auto_flow": null,
            "grid_auto_rows": null,
            "grid_column": null,
            "grid_gap": null,
            "grid_row": null,
            "grid_template_areas": null,
            "grid_template_columns": null,
            "grid_template_rows": null,
            "height": null,
            "justify_content": null,
            "justify_items": null,
            "left": null,
            "margin": null,
            "max_height": null,
            "max_width": null,
            "min_height": null,
            "min_width": null,
            "object_fit": null,
            "object_position": null,
            "order": null,
            "overflow": null,
            "overflow_x": null,
            "overflow_y": null,
            "padding": null,
            "right": null,
            "top": null,
            "visibility": null,
            "width": null
          }
        },
        "d1cac789499b45f49f0c0b145289ebcd": {
          "model_module": "@jupyter-widgets/controls",
          "model_name": "DescriptionStyleModel",
          "model_module_version": "1.5.0",
          "state": {
            "_model_module": "@jupyter-widgets/controls",
            "_model_module_version": "1.5.0",
            "_model_name": "DescriptionStyleModel",
            "_view_count": null,
            "_view_module": "@jupyter-widgets/base",
            "_view_module_version": "1.2.0",
            "_view_name": "StyleView",
            "description_width": ""
          }
        },
        "d849ea5338e747beacde1915124cc96c": {
          "model_module": "@jupyter-widgets/base",
          "model_name": "LayoutModel",
          "model_module_version": "1.2.0",
          "state": {
            "_model_module": "@jupyter-widgets/base",
            "_model_module_version": "1.2.0",
            "_model_name": "LayoutModel",
            "_view_count": null,
            "_view_module": "@jupyter-widgets/base",
            "_view_module_version": "1.2.0",
            "_view_name": "LayoutView",
            "align_content": null,
            "align_items": null,
            "align_self": null,
            "border": null,
            "bottom": null,
            "display": null,
            "flex": null,
            "flex_flow": null,
            "grid_area": null,
            "grid_auto_columns": null,
            "grid_auto_flow": null,
            "grid_auto_rows": null,
            "grid_column": null,
            "grid_gap": null,
            "grid_row": null,
            "grid_template_areas": null,
            "grid_template_columns": null,
            "grid_template_rows": null,
            "height": null,
            "justify_content": null,
            "justify_items": null,
            "left": null,
            "margin": null,
            "max_height": null,
            "max_width": null,
            "min_height": null,
            "min_width": null,
            "object_fit": null,
            "object_position": null,
            "order": null,
            "overflow": null,
            "overflow_x": null,
            "overflow_y": null,
            "padding": null,
            "right": null,
            "top": null,
            "visibility": null,
            "width": null
          }
        },
        "2457a95efdf24a5bbbd48d2373261383": {
          "model_module": "@jupyter-widgets/controls",
          "model_name": "ProgressStyleModel",
          "model_module_version": "1.5.0",
          "state": {
            "_model_module": "@jupyter-widgets/controls",
            "_model_module_version": "1.5.0",
            "_model_name": "ProgressStyleModel",
            "_view_count": null,
            "_view_module": "@jupyter-widgets/base",
            "_view_module_version": "1.2.0",
            "_view_name": "StyleView",
            "bar_color": null,
            "description_width": ""
          }
        },
        "9fb87457cb014c60877c619e354a27e2": {
          "model_module": "@jupyter-widgets/base",
          "model_name": "LayoutModel",
          "model_module_version": "1.2.0",
          "state": {
            "_model_module": "@jupyter-widgets/base",
            "_model_module_version": "1.2.0",
            "_model_name": "LayoutModel",
            "_view_count": null,
            "_view_module": "@jupyter-widgets/base",
            "_view_module_version": "1.2.0",
            "_view_name": "LayoutView",
            "align_content": null,
            "align_items": null,
            "align_self": null,
            "border": null,
            "bottom": null,
            "display": null,
            "flex": null,
            "flex_flow": null,
            "grid_area": null,
            "grid_auto_columns": null,
            "grid_auto_flow": null,
            "grid_auto_rows": null,
            "grid_column": null,
            "grid_gap": null,
            "grid_row": null,
            "grid_template_areas": null,
            "grid_template_columns": null,
            "grid_template_rows": null,
            "height": null,
            "justify_content": null,
            "justify_items": null,
            "left": null,
            "margin": null,
            "max_height": null,
            "max_width": null,
            "min_height": null,
            "min_width": null,
            "object_fit": null,
            "object_position": null,
            "order": null,
            "overflow": null,
            "overflow_x": null,
            "overflow_y": null,
            "padding": null,
            "right": null,
            "top": null,
            "visibility": null,
            "width": null
          }
        },
        "4a7b396540cf4477b8a29f69e3f34a1e": {
          "model_module": "@jupyter-widgets/controls",
          "model_name": "DescriptionStyleModel",
          "model_module_version": "1.5.0",
          "state": {
            "_model_module": "@jupyter-widgets/controls",
            "_model_module_version": "1.5.0",
            "_model_name": "DescriptionStyleModel",
            "_view_count": null,
            "_view_module": "@jupyter-widgets/base",
            "_view_module_version": "1.2.0",
            "_view_name": "StyleView",
            "description_width": ""
          }
        },
        "1621d03c7b8b4afc8d8a3c8ac03d8979": {
          "model_module": "@jupyter-widgets/controls",
          "model_name": "HBoxModel",
          "model_module_version": "1.5.0",
          "state": {
            "_dom_classes": [],
            "_model_module": "@jupyter-widgets/controls",
            "_model_module_version": "1.5.0",
            "_model_name": "HBoxModel",
            "_view_count": null,
            "_view_module": "@jupyter-widgets/controls",
            "_view_module_version": "1.5.0",
            "_view_name": "HBoxView",
            "box_style": "",
            "children": [
              "IPY_MODEL_139bcba30bcb49cba832f38248a12178",
              "IPY_MODEL_602239f4d2064a2ab275fb361bff23e5",
              "IPY_MODEL_070139ab36e04fd2a059a2eb9115df43"
            ],
            "layout": "IPY_MODEL_aff285fb14754c50a5b3e5c40846eb64"
          }
        },
        "139bcba30bcb49cba832f38248a12178": {
          "model_module": "@jupyter-widgets/controls",
          "model_name": "HTMLModel",
          "model_module_version": "1.5.0",
          "state": {
            "_dom_classes": [],
            "_model_module": "@jupyter-widgets/controls",
            "_model_module_version": "1.5.0",
            "_model_name": "HTMLModel",
            "_view_count": null,
            "_view_module": "@jupyter-widgets/controls",
            "_view_module_version": "1.5.0",
            "_view_name": "HTMLView",
            "description": "",
            "description_tooltip": null,
            "layout": "IPY_MODEL_1722bc3639214bf1971f75a929c507b8",
            "placeholder": "​",
            "style": "IPY_MODEL_de1560a2bc0b4efa8c0a8216bbf07f65",
            "value": "README.md: 100%"
          }
        },
        "602239f4d2064a2ab275fb361bff23e5": {
          "model_module": "@jupyter-widgets/controls",
          "model_name": "FloatProgressModel",
          "model_module_version": "1.5.0",
          "state": {
            "_dom_classes": [],
            "_model_module": "@jupyter-widgets/controls",
            "_model_module_version": "1.5.0",
            "_model_name": "FloatProgressModel",
            "_view_count": null,
            "_view_module": "@jupyter-widgets/controls",
            "_view_module_version": "1.5.0",
            "_view_name": "ProgressView",
            "bar_style": "success",
            "description": "",
            "description_tooltip": null,
            "layout": "IPY_MODEL_eae824397b214ade839899c2f175d4b6",
            "max": 9522,
            "min": 0,
            "orientation": "horizontal",
            "style": "IPY_MODEL_fc40c0996a664be6b40a1283f60119a7",
            "value": 9522
          }
        },
        "070139ab36e04fd2a059a2eb9115df43": {
          "model_module": "@jupyter-widgets/controls",
          "model_name": "HTMLModel",
          "model_module_version": "1.5.0",
          "state": {
            "_dom_classes": [],
            "_model_module": "@jupyter-widgets/controls",
            "_model_module_version": "1.5.0",
            "_model_name": "HTMLModel",
            "_view_count": null,
            "_view_module": "@jupyter-widgets/controls",
            "_view_module_version": "1.5.0",
            "_view_name": "HTMLView",
            "description": "",
            "description_tooltip": null,
            "layout": "IPY_MODEL_b02e7135f79d4c0497dd4982babc6d2b",
            "placeholder": "​",
            "style": "IPY_MODEL_e75543bdc8c842aba955eed0ede529df",
            "value": " 9.52k/9.52k [00:00&lt;00:00, 383kB/s]"
          }
        },
        "aff285fb14754c50a5b3e5c40846eb64": {
          "model_module": "@jupyter-widgets/base",
          "model_name": "LayoutModel",
          "model_module_version": "1.2.0",
          "state": {
            "_model_module": "@jupyter-widgets/base",
            "_model_module_version": "1.2.0",
            "_model_name": "LayoutModel",
            "_view_count": null,
            "_view_module": "@jupyter-widgets/base",
            "_view_module_version": "1.2.0",
            "_view_name": "LayoutView",
            "align_content": null,
            "align_items": null,
            "align_self": null,
            "border": null,
            "bottom": null,
            "display": null,
            "flex": null,
            "flex_flow": null,
            "grid_area": null,
            "grid_auto_columns": null,
            "grid_auto_flow": null,
            "grid_auto_rows": null,
            "grid_column": null,
            "grid_gap": null,
            "grid_row": null,
            "grid_template_areas": null,
            "grid_template_columns": null,
            "grid_template_rows": null,
            "height": null,
            "justify_content": null,
            "justify_items": null,
            "left": null,
            "margin": null,
            "max_height": null,
            "max_width": null,
            "min_height": null,
            "min_width": null,
            "object_fit": null,
            "object_position": null,
            "order": null,
            "overflow": null,
            "overflow_x": null,
            "overflow_y": null,
            "padding": null,
            "right": null,
            "top": null,
            "visibility": null,
            "width": null
          }
        },
        "1722bc3639214bf1971f75a929c507b8": {
          "model_module": "@jupyter-widgets/base",
          "model_name": "LayoutModel",
          "model_module_version": "1.2.0",
          "state": {
            "_model_module": "@jupyter-widgets/base",
            "_model_module_version": "1.2.0",
            "_model_name": "LayoutModel",
            "_view_count": null,
            "_view_module": "@jupyter-widgets/base",
            "_view_module_version": "1.2.0",
            "_view_name": "LayoutView",
            "align_content": null,
            "align_items": null,
            "align_self": null,
            "border": null,
            "bottom": null,
            "display": null,
            "flex": null,
            "flex_flow": null,
            "grid_area": null,
            "grid_auto_columns": null,
            "grid_auto_flow": null,
            "grid_auto_rows": null,
            "grid_column": null,
            "grid_gap": null,
            "grid_row": null,
            "grid_template_areas": null,
            "grid_template_columns": null,
            "grid_template_rows": null,
            "height": null,
            "justify_content": null,
            "justify_items": null,
            "left": null,
            "margin": null,
            "max_height": null,
            "max_width": null,
            "min_height": null,
            "min_width": null,
            "object_fit": null,
            "object_position": null,
            "order": null,
            "overflow": null,
            "overflow_x": null,
            "overflow_y": null,
            "padding": null,
            "right": null,
            "top": null,
            "visibility": null,
            "width": null
          }
        },
        "de1560a2bc0b4efa8c0a8216bbf07f65": {
          "model_module": "@jupyter-widgets/controls",
          "model_name": "DescriptionStyleModel",
          "model_module_version": "1.5.0",
          "state": {
            "_model_module": "@jupyter-widgets/controls",
            "_model_module_version": "1.5.0",
            "_model_name": "DescriptionStyleModel",
            "_view_count": null,
            "_view_module": "@jupyter-widgets/base",
            "_view_module_version": "1.2.0",
            "_view_name": "StyleView",
            "description_width": ""
          }
        },
        "eae824397b214ade839899c2f175d4b6": {
          "model_module": "@jupyter-widgets/base",
          "model_name": "LayoutModel",
          "model_module_version": "1.2.0",
          "state": {
            "_model_module": "@jupyter-widgets/base",
            "_model_module_version": "1.2.0",
            "_model_name": "LayoutModel",
            "_view_count": null,
            "_view_module": "@jupyter-widgets/base",
            "_view_module_version": "1.2.0",
            "_view_name": "LayoutView",
            "align_content": null,
            "align_items": null,
            "align_self": null,
            "border": null,
            "bottom": null,
            "display": null,
            "flex": null,
            "flex_flow": null,
            "grid_area": null,
            "grid_auto_columns": null,
            "grid_auto_flow": null,
            "grid_auto_rows": null,
            "grid_column": null,
            "grid_gap": null,
            "grid_row": null,
            "grid_template_areas": null,
            "grid_template_columns": null,
            "grid_template_rows": null,
            "height": null,
            "justify_content": null,
            "justify_items": null,
            "left": null,
            "margin": null,
            "max_height": null,
            "max_width": null,
            "min_height": null,
            "min_width": null,
            "object_fit": null,
            "object_position": null,
            "order": null,
            "overflow": null,
            "overflow_x": null,
            "overflow_y": null,
            "padding": null,
            "right": null,
            "top": null,
            "visibility": null,
            "width": null
          }
        },
        "fc40c0996a664be6b40a1283f60119a7": {
          "model_module": "@jupyter-widgets/controls",
          "model_name": "ProgressStyleModel",
          "model_module_version": "1.5.0",
          "state": {
            "_model_module": "@jupyter-widgets/controls",
            "_model_module_version": "1.5.0",
            "_model_name": "ProgressStyleModel",
            "_view_count": null,
            "_view_module": "@jupyter-widgets/base",
            "_view_module_version": "1.2.0",
            "_view_name": "StyleView",
            "bar_color": null,
            "description_width": ""
          }
        },
        "b02e7135f79d4c0497dd4982babc6d2b": {
          "model_module": "@jupyter-widgets/base",
          "model_name": "LayoutModel",
          "model_module_version": "1.2.0",
          "state": {
            "_model_module": "@jupyter-widgets/base",
            "_model_module_version": "1.2.0",
            "_model_name": "LayoutModel",
            "_view_count": null,
            "_view_module": "@jupyter-widgets/base",
            "_view_module_version": "1.2.0",
            "_view_name": "LayoutView",
            "align_content": null,
            "align_items": null,
            "align_self": null,
            "border": null,
            "bottom": null,
            "display": null,
            "flex": null,
            "flex_flow": null,
            "grid_area": null,
            "grid_auto_columns": null,
            "grid_auto_flow": null,
            "grid_auto_rows": null,
            "grid_column": null,
            "grid_gap": null,
            "grid_row": null,
            "grid_template_areas": null,
            "grid_template_columns": null,
            "grid_template_rows": null,
            "height": null,
            "justify_content": null,
            "justify_items": null,
            "left": null,
            "margin": null,
            "max_height": null,
            "max_width": null,
            "min_height": null,
            "min_width": null,
            "object_fit": null,
            "object_position": null,
            "order": null,
            "overflow": null,
            "overflow_x": null,
            "overflow_y": null,
            "padding": null,
            "right": null,
            "top": null,
            "visibility": null,
            "width": null
          }
        },
        "e75543bdc8c842aba955eed0ede529df": {
          "model_module": "@jupyter-widgets/controls",
          "model_name": "DescriptionStyleModel",
          "model_module_version": "1.5.0",
          "state": {
            "_model_module": "@jupyter-widgets/controls",
            "_model_module_version": "1.5.0",
            "_model_name": "DescriptionStyleModel",
            "_view_count": null,
            "_view_module": "@jupyter-widgets/base",
            "_view_module_version": "1.2.0",
            "_view_name": "StyleView",
            "description_width": ""
          }
        },
        "03ee0bd44a4848579b5029dca79bcdba": {
          "model_module": "@jupyter-widgets/controls",
          "model_name": "HBoxModel",
          "model_module_version": "1.5.0",
          "state": {
            "_dom_classes": [],
            "_model_module": "@jupyter-widgets/controls",
            "_model_module_version": "1.5.0",
            "_model_name": "HBoxModel",
            "_view_count": null,
            "_view_module": "@jupyter-widgets/controls",
            "_view_module_version": "1.5.0",
            "_view_name": "HBoxView",
            "box_style": "",
            "children": [
              "IPY_MODEL_755417b3e184427e8af4807590cc7fad",
              "IPY_MODEL_c8300c14327f4301a55059ce5a77419a",
              "IPY_MODEL_9d2f4e32ace3434a8177eb6102acedc5"
            ],
            "layout": "IPY_MODEL_d6195c455d164a38839442c3dea8a9e6"
          }
        },
        "755417b3e184427e8af4807590cc7fad": {
          "model_module": "@jupyter-widgets/controls",
          "model_name": "HTMLModel",
          "model_module_version": "1.5.0",
          "state": {
            "_dom_classes": [],
            "_model_module": "@jupyter-widgets/controls",
            "_model_module_version": "1.5.0",
            "_model_name": "HTMLModel",
            "_view_count": null,
            "_view_module": "@jupyter-widgets/controls",
            "_view_module_version": "1.5.0",
            "_view_name": "HTMLView",
            "description": "",
            "description_tooltip": null,
            "layout": "IPY_MODEL_997944ef7f5148639ceb2b31ce99969b",
            "placeholder": "​",
            "style": "IPY_MODEL_9d07d727c9b14c5cb3ae93d1179edfc5",
            "value": "sentence_bert_config.json: 100%"
          }
        },
        "c8300c14327f4301a55059ce5a77419a": {
          "model_module": "@jupyter-widgets/controls",
          "model_name": "FloatProgressModel",
          "model_module_version": "1.5.0",
          "state": {
            "_dom_classes": [],
            "_model_module": "@jupyter-widgets/controls",
            "_model_module_version": "1.5.0",
            "_model_name": "FloatProgressModel",
            "_view_count": null,
            "_view_module": "@jupyter-widgets/controls",
            "_view_module_version": "1.5.0",
            "_view_name": "ProgressView",
            "bar_style": "success",
            "description": "",
            "description_tooltip": null,
            "layout": "IPY_MODEL_d6f6ea7d3ab246c084a4d3a7fc0f280e",
            "max": 53,
            "min": 0,
            "orientation": "horizontal",
            "style": "IPY_MODEL_18b7ed6ed48c4974a7538c64b1c658dc",
            "value": 53
          }
        },
        "9d2f4e32ace3434a8177eb6102acedc5": {
          "model_module": "@jupyter-widgets/controls",
          "model_name": "HTMLModel",
          "model_module_version": "1.5.0",
          "state": {
            "_dom_classes": [],
            "_model_module": "@jupyter-widgets/controls",
            "_model_module_version": "1.5.0",
            "_model_name": "HTMLModel",
            "_view_count": null,
            "_view_module": "@jupyter-widgets/controls",
            "_view_module_version": "1.5.0",
            "_view_name": "HTMLView",
            "description": "",
            "description_tooltip": null,
            "layout": "IPY_MODEL_5d95c3d116e3486fb1f2a1fe04101541",
            "placeholder": "​",
            "style": "IPY_MODEL_dec5db7a079a4e508c8d88ff41f3143c",
            "value": " 53.0/53.0 [00:00&lt;00:00, 2.70kB/s]"
          }
        },
        "d6195c455d164a38839442c3dea8a9e6": {
          "model_module": "@jupyter-widgets/base",
          "model_name": "LayoutModel",
          "model_module_version": "1.2.0",
          "state": {
            "_model_module": "@jupyter-widgets/base",
            "_model_module_version": "1.2.0",
            "_model_name": "LayoutModel",
            "_view_count": null,
            "_view_module": "@jupyter-widgets/base",
            "_view_module_version": "1.2.0",
            "_view_name": "LayoutView",
            "align_content": null,
            "align_items": null,
            "align_self": null,
            "border": null,
            "bottom": null,
            "display": null,
            "flex": null,
            "flex_flow": null,
            "grid_area": null,
            "grid_auto_columns": null,
            "grid_auto_flow": null,
            "grid_auto_rows": null,
            "grid_column": null,
            "grid_gap": null,
            "grid_row": null,
            "grid_template_areas": null,
            "grid_template_columns": null,
            "grid_template_rows": null,
            "height": null,
            "justify_content": null,
            "justify_items": null,
            "left": null,
            "margin": null,
            "max_height": null,
            "max_width": null,
            "min_height": null,
            "min_width": null,
            "object_fit": null,
            "object_position": null,
            "order": null,
            "overflow": null,
            "overflow_x": null,
            "overflow_y": null,
            "padding": null,
            "right": null,
            "top": null,
            "visibility": null,
            "width": null
          }
        },
        "997944ef7f5148639ceb2b31ce99969b": {
          "model_module": "@jupyter-widgets/base",
          "model_name": "LayoutModel",
          "model_module_version": "1.2.0",
          "state": {
            "_model_module": "@jupyter-widgets/base",
            "_model_module_version": "1.2.0",
            "_model_name": "LayoutModel",
            "_view_count": null,
            "_view_module": "@jupyter-widgets/base",
            "_view_module_version": "1.2.0",
            "_view_name": "LayoutView",
            "align_content": null,
            "align_items": null,
            "align_self": null,
            "border": null,
            "bottom": null,
            "display": null,
            "flex": null,
            "flex_flow": null,
            "grid_area": null,
            "grid_auto_columns": null,
            "grid_auto_flow": null,
            "grid_auto_rows": null,
            "grid_column": null,
            "grid_gap": null,
            "grid_row": null,
            "grid_template_areas": null,
            "grid_template_columns": null,
            "grid_template_rows": null,
            "height": null,
            "justify_content": null,
            "justify_items": null,
            "left": null,
            "margin": null,
            "max_height": null,
            "max_width": null,
            "min_height": null,
            "min_width": null,
            "object_fit": null,
            "object_position": null,
            "order": null,
            "overflow": null,
            "overflow_x": null,
            "overflow_y": null,
            "padding": null,
            "right": null,
            "top": null,
            "visibility": null,
            "width": null
          }
        },
        "9d07d727c9b14c5cb3ae93d1179edfc5": {
          "model_module": "@jupyter-widgets/controls",
          "model_name": "DescriptionStyleModel",
          "model_module_version": "1.5.0",
          "state": {
            "_model_module": "@jupyter-widgets/controls",
            "_model_module_version": "1.5.0",
            "_model_name": "DescriptionStyleModel",
            "_view_count": null,
            "_view_module": "@jupyter-widgets/base",
            "_view_module_version": "1.2.0",
            "_view_name": "StyleView",
            "description_width": ""
          }
        },
        "d6f6ea7d3ab246c084a4d3a7fc0f280e": {
          "model_module": "@jupyter-widgets/base",
          "model_name": "LayoutModel",
          "model_module_version": "1.2.0",
          "state": {
            "_model_module": "@jupyter-widgets/base",
            "_model_module_version": "1.2.0",
            "_model_name": "LayoutModel",
            "_view_count": null,
            "_view_module": "@jupyter-widgets/base",
            "_view_module_version": "1.2.0",
            "_view_name": "LayoutView",
            "align_content": null,
            "align_items": null,
            "align_self": null,
            "border": null,
            "bottom": null,
            "display": null,
            "flex": null,
            "flex_flow": null,
            "grid_area": null,
            "grid_auto_columns": null,
            "grid_auto_flow": null,
            "grid_auto_rows": null,
            "grid_column": null,
            "grid_gap": null,
            "grid_row": null,
            "grid_template_areas": null,
            "grid_template_columns": null,
            "grid_template_rows": null,
            "height": null,
            "justify_content": null,
            "justify_items": null,
            "left": null,
            "margin": null,
            "max_height": null,
            "max_width": null,
            "min_height": null,
            "min_width": null,
            "object_fit": null,
            "object_position": null,
            "order": null,
            "overflow": null,
            "overflow_x": null,
            "overflow_y": null,
            "padding": null,
            "right": null,
            "top": null,
            "visibility": null,
            "width": null
          }
        },
        "18b7ed6ed48c4974a7538c64b1c658dc": {
          "model_module": "@jupyter-widgets/controls",
          "model_name": "ProgressStyleModel",
          "model_module_version": "1.5.0",
          "state": {
            "_model_module": "@jupyter-widgets/controls",
            "_model_module_version": "1.5.0",
            "_model_name": "ProgressStyleModel",
            "_view_count": null,
            "_view_module": "@jupyter-widgets/base",
            "_view_module_version": "1.2.0",
            "_view_name": "StyleView",
            "bar_color": null,
            "description_width": ""
          }
        },
        "5d95c3d116e3486fb1f2a1fe04101541": {
          "model_module": "@jupyter-widgets/base",
          "model_name": "LayoutModel",
          "model_module_version": "1.2.0",
          "state": {
            "_model_module": "@jupyter-widgets/base",
            "_model_module_version": "1.2.0",
            "_model_name": "LayoutModel",
            "_view_count": null,
            "_view_module": "@jupyter-widgets/base",
            "_view_module_version": "1.2.0",
            "_view_name": "LayoutView",
            "align_content": null,
            "align_items": null,
            "align_self": null,
            "border": null,
            "bottom": null,
            "display": null,
            "flex": null,
            "flex_flow": null,
            "grid_area": null,
            "grid_auto_columns": null,
            "grid_auto_flow": null,
            "grid_auto_rows": null,
            "grid_column": null,
            "grid_gap": null,
            "grid_row": null,
            "grid_template_areas": null,
            "grid_template_columns": null,
            "grid_template_rows": null,
            "height": null,
            "justify_content": null,
            "justify_items": null,
            "left": null,
            "margin": null,
            "max_height": null,
            "max_width": null,
            "min_height": null,
            "min_width": null,
            "object_fit": null,
            "object_position": null,
            "order": null,
            "overflow": null,
            "overflow_x": null,
            "overflow_y": null,
            "padding": null,
            "right": null,
            "top": null,
            "visibility": null,
            "width": null
          }
        },
        "dec5db7a079a4e508c8d88ff41f3143c": {
          "model_module": "@jupyter-widgets/controls",
          "model_name": "DescriptionStyleModel",
          "model_module_version": "1.5.0",
          "state": {
            "_model_module": "@jupyter-widgets/controls",
            "_model_module_version": "1.5.0",
            "_model_name": "DescriptionStyleModel",
            "_view_count": null,
            "_view_module": "@jupyter-widgets/base",
            "_view_module_version": "1.2.0",
            "_view_name": "StyleView",
            "description_width": ""
          }
        },
        "ddb32adde08e48428362b92fc678f8b4": {
          "model_module": "@jupyter-widgets/controls",
          "model_name": "HBoxModel",
          "model_module_version": "1.5.0",
          "state": {
            "_dom_classes": [],
            "_model_module": "@jupyter-widgets/controls",
            "_model_module_version": "1.5.0",
            "_model_name": "HBoxModel",
            "_view_count": null,
            "_view_module": "@jupyter-widgets/controls",
            "_view_module_version": "1.5.0",
            "_view_name": "HBoxView",
            "box_style": "",
            "children": [
              "IPY_MODEL_19f467f8f79542a4a7384b39c7f17e1f",
              "IPY_MODEL_b00b035c6461444c9be78049e1b80365",
              "IPY_MODEL_13bf89c18f4746838ef3c63672a911c2"
            ],
            "layout": "IPY_MODEL_82f953b55a014a9b854ff96aa179c732"
          }
        },
        "19f467f8f79542a4a7384b39c7f17e1f": {
          "model_module": "@jupyter-widgets/controls",
          "model_name": "HTMLModel",
          "model_module_version": "1.5.0",
          "state": {
            "_dom_classes": [],
            "_model_module": "@jupyter-widgets/controls",
            "_model_module_version": "1.5.0",
            "_model_name": "HTMLModel",
            "_view_count": null,
            "_view_module": "@jupyter-widgets/controls",
            "_view_module_version": "1.5.0",
            "_view_name": "HTMLView",
            "description": "",
            "description_tooltip": null,
            "layout": "IPY_MODEL_d18fef3fbd94492cb3c91aecbd32bdea",
            "placeholder": "​",
            "style": "IPY_MODEL_491860ed35d9462786fab03fa44ae744",
            "value": "config.json: 100%"
          }
        },
        "b00b035c6461444c9be78049e1b80365": {
          "model_module": "@jupyter-widgets/controls",
          "model_name": "FloatProgressModel",
          "model_module_version": "1.5.0",
          "state": {
            "_dom_classes": [],
            "_model_module": "@jupyter-widgets/controls",
            "_model_module_version": "1.5.0",
            "_model_name": "FloatProgressModel",
            "_view_count": null,
            "_view_module": "@jupyter-widgets/controls",
            "_view_module_version": "1.5.0",
            "_view_name": "ProgressView",
            "bar_style": "success",
            "description": "",
            "description_tooltip": null,
            "layout": "IPY_MODEL_e4ddd7b58b3942eea9b7b02b21748403",
            "max": 523,
            "min": 0,
            "orientation": "horizontal",
            "style": "IPY_MODEL_d94833ec6aa7479db2dd52ec78707d74",
            "value": 523
          }
        },
        "13bf89c18f4746838ef3c63672a911c2": {
          "model_module": "@jupyter-widgets/controls",
          "model_name": "HTMLModel",
          "model_module_version": "1.5.0",
          "state": {
            "_dom_classes": [],
            "_model_module": "@jupyter-widgets/controls",
            "_model_module_version": "1.5.0",
            "_model_name": "HTMLModel",
            "_view_count": null,
            "_view_module": "@jupyter-widgets/controls",
            "_view_module_version": "1.5.0",
            "_view_name": "HTMLView",
            "description": "",
            "description_tooltip": null,
            "layout": "IPY_MODEL_6ae7bedf9f694ff195553feff76d3c93",
            "placeholder": "​",
            "style": "IPY_MODEL_7e76c3c76ffa43b4a2bfc11ddd2b8421",
            "value": " 523/523 [00:00&lt;00:00, 29.3kB/s]"
          }
        },
        "82f953b55a014a9b854ff96aa179c732": {
          "model_module": "@jupyter-widgets/base",
          "model_name": "LayoutModel",
          "model_module_version": "1.2.0",
          "state": {
            "_model_module": "@jupyter-widgets/base",
            "_model_module_version": "1.2.0",
            "_model_name": "LayoutModel",
            "_view_count": null,
            "_view_module": "@jupyter-widgets/base",
            "_view_module_version": "1.2.0",
            "_view_name": "LayoutView",
            "align_content": null,
            "align_items": null,
            "align_self": null,
            "border": null,
            "bottom": null,
            "display": null,
            "flex": null,
            "flex_flow": null,
            "grid_area": null,
            "grid_auto_columns": null,
            "grid_auto_flow": null,
            "grid_auto_rows": null,
            "grid_column": null,
            "grid_gap": null,
            "grid_row": null,
            "grid_template_areas": null,
            "grid_template_columns": null,
            "grid_template_rows": null,
            "height": null,
            "justify_content": null,
            "justify_items": null,
            "left": null,
            "margin": null,
            "max_height": null,
            "max_width": null,
            "min_height": null,
            "min_width": null,
            "object_fit": null,
            "object_position": null,
            "order": null,
            "overflow": null,
            "overflow_x": null,
            "overflow_y": null,
            "padding": null,
            "right": null,
            "top": null,
            "visibility": null,
            "width": null
          }
        },
        "d18fef3fbd94492cb3c91aecbd32bdea": {
          "model_module": "@jupyter-widgets/base",
          "model_name": "LayoutModel",
          "model_module_version": "1.2.0",
          "state": {
            "_model_module": "@jupyter-widgets/base",
            "_model_module_version": "1.2.0",
            "_model_name": "LayoutModel",
            "_view_count": null,
            "_view_module": "@jupyter-widgets/base",
            "_view_module_version": "1.2.0",
            "_view_name": "LayoutView",
            "align_content": null,
            "align_items": null,
            "align_self": null,
            "border": null,
            "bottom": null,
            "display": null,
            "flex": null,
            "flex_flow": null,
            "grid_area": null,
            "grid_auto_columns": null,
            "grid_auto_flow": null,
            "grid_auto_rows": null,
            "grid_column": null,
            "grid_gap": null,
            "grid_row": null,
            "grid_template_areas": null,
            "grid_template_columns": null,
            "grid_template_rows": null,
            "height": null,
            "justify_content": null,
            "justify_items": null,
            "left": null,
            "margin": null,
            "max_height": null,
            "max_width": null,
            "min_height": null,
            "min_width": null,
            "object_fit": null,
            "object_position": null,
            "order": null,
            "overflow": null,
            "overflow_x": null,
            "overflow_y": null,
            "padding": null,
            "right": null,
            "top": null,
            "visibility": null,
            "width": null
          }
        },
        "491860ed35d9462786fab03fa44ae744": {
          "model_module": "@jupyter-widgets/controls",
          "model_name": "DescriptionStyleModel",
          "model_module_version": "1.5.0",
          "state": {
            "_model_module": "@jupyter-widgets/controls",
            "_model_module_version": "1.5.0",
            "_model_name": "DescriptionStyleModel",
            "_view_count": null,
            "_view_module": "@jupyter-widgets/base",
            "_view_module_version": "1.2.0",
            "_view_name": "StyleView",
            "description_width": ""
          }
        },
        "e4ddd7b58b3942eea9b7b02b21748403": {
          "model_module": "@jupyter-widgets/base",
          "model_name": "LayoutModel",
          "model_module_version": "1.2.0",
          "state": {
            "_model_module": "@jupyter-widgets/base",
            "_model_module_version": "1.2.0",
            "_model_name": "LayoutModel",
            "_view_count": null,
            "_view_module": "@jupyter-widgets/base",
            "_view_module_version": "1.2.0",
            "_view_name": "LayoutView",
            "align_content": null,
            "align_items": null,
            "align_self": null,
            "border": null,
            "bottom": null,
            "display": null,
            "flex": null,
            "flex_flow": null,
            "grid_area": null,
            "grid_auto_columns": null,
            "grid_auto_flow": null,
            "grid_auto_rows": null,
            "grid_column": null,
            "grid_gap": null,
            "grid_row": null,
            "grid_template_areas": null,
            "grid_template_columns": null,
            "grid_template_rows": null,
            "height": null,
            "justify_content": null,
            "justify_items": null,
            "left": null,
            "margin": null,
            "max_height": null,
            "max_width": null,
            "min_height": null,
            "min_width": null,
            "object_fit": null,
            "object_position": null,
            "order": null,
            "overflow": null,
            "overflow_x": null,
            "overflow_y": null,
            "padding": null,
            "right": null,
            "top": null,
            "visibility": null,
            "width": null
          }
        },
        "d94833ec6aa7479db2dd52ec78707d74": {
          "model_module": "@jupyter-widgets/controls",
          "model_name": "ProgressStyleModel",
          "model_module_version": "1.5.0",
          "state": {
            "_model_module": "@jupyter-widgets/controls",
            "_model_module_version": "1.5.0",
            "_model_name": "ProgressStyleModel",
            "_view_count": null,
            "_view_module": "@jupyter-widgets/base",
            "_view_module_version": "1.2.0",
            "_view_name": "StyleView",
            "bar_color": null,
            "description_width": ""
          }
        },
        "6ae7bedf9f694ff195553feff76d3c93": {
          "model_module": "@jupyter-widgets/base",
          "model_name": "LayoutModel",
          "model_module_version": "1.2.0",
          "state": {
            "_model_module": "@jupyter-widgets/base",
            "_model_module_version": "1.2.0",
            "_model_name": "LayoutModel",
            "_view_count": null,
            "_view_module": "@jupyter-widgets/base",
            "_view_module_version": "1.2.0",
            "_view_name": "LayoutView",
            "align_content": null,
            "align_items": null,
            "align_self": null,
            "border": null,
            "bottom": null,
            "display": null,
            "flex": null,
            "flex_flow": null,
            "grid_area": null,
            "grid_auto_columns": null,
            "grid_auto_flow": null,
            "grid_auto_rows": null,
            "grid_column": null,
            "grid_gap": null,
            "grid_row": null,
            "grid_template_areas": null,
            "grid_template_columns": null,
            "grid_template_rows": null,
            "height": null,
            "justify_content": null,
            "justify_items": null,
            "left": null,
            "margin": null,
            "max_height": null,
            "max_width": null,
            "min_height": null,
            "min_width": null,
            "object_fit": null,
            "object_position": null,
            "order": null,
            "overflow": null,
            "overflow_x": null,
            "overflow_y": null,
            "padding": null,
            "right": null,
            "top": null,
            "visibility": null,
            "width": null
          }
        },
        "7e76c3c76ffa43b4a2bfc11ddd2b8421": {
          "model_module": "@jupyter-widgets/controls",
          "model_name": "DescriptionStyleModel",
          "model_module_version": "1.5.0",
          "state": {
            "_model_module": "@jupyter-widgets/controls",
            "_model_module_version": "1.5.0",
            "_model_name": "DescriptionStyleModel",
            "_view_count": null,
            "_view_module": "@jupyter-widgets/base",
            "_view_module_version": "1.2.0",
            "_view_name": "StyleView",
            "description_width": ""
          }
        },
        "4cbee9ffddba43ba99477083017451b5": {
          "model_module": "@jupyter-widgets/controls",
          "model_name": "HBoxModel",
          "model_module_version": "1.5.0",
          "state": {
            "_dom_classes": [],
            "_model_module": "@jupyter-widgets/controls",
            "_model_module_version": "1.5.0",
            "_model_name": "HBoxModel",
            "_view_count": null,
            "_view_module": "@jupyter-widgets/controls",
            "_view_module_version": "1.5.0",
            "_view_name": "HBoxView",
            "box_style": "",
            "children": [
              "IPY_MODEL_f68d9a2867044abf839dbb3e37c32790",
              "IPY_MODEL_0a3ca222b8a44aae86895541a4bc1905",
              "IPY_MODEL_ab08e0c521454e37a166f04e23b97dfa"
            ],
            "layout": "IPY_MODEL_ded91791c36d40d28234f75f5452a4a4"
          }
        },
        "f68d9a2867044abf839dbb3e37c32790": {
          "model_module": "@jupyter-widgets/controls",
          "model_name": "HTMLModel",
          "model_module_version": "1.5.0",
          "state": {
            "_dom_classes": [],
            "_model_module": "@jupyter-widgets/controls",
            "_model_module_version": "1.5.0",
            "_model_name": "HTMLModel",
            "_view_count": null,
            "_view_module": "@jupyter-widgets/controls",
            "_view_module_version": "1.5.0",
            "_view_name": "HTMLView",
            "description": "",
            "description_tooltip": null,
            "layout": "IPY_MODEL_4253dd600fb74541af1f0bad92894e8a",
            "placeholder": "​",
            "style": "IPY_MODEL_67591e3f322444bba5efbe7fc6027d58",
            "value": "model.safetensors: 100%"
          }
        },
        "0a3ca222b8a44aae86895541a4bc1905": {
          "model_module": "@jupyter-widgets/controls",
          "model_name": "FloatProgressModel",
          "model_module_version": "1.5.0",
          "state": {
            "_dom_classes": [],
            "_model_module": "@jupyter-widgets/controls",
            "_model_module_version": "1.5.0",
            "_model_name": "FloatProgressModel",
            "_view_count": null,
            "_view_module": "@jupyter-widgets/controls",
            "_view_module_version": "1.5.0",
            "_view_name": "ProgressView",
            "bar_style": "success",
            "description": "",
            "description_tooltip": null,
            "layout": "IPY_MODEL_8e76b022ac2245079d141f366759b6ad",
            "max": 265462608,
            "min": 0,
            "orientation": "horizontal",
            "style": "IPY_MODEL_6fdaf5eb666240c29bfe8449328abe25",
            "value": 265462608
          }
        },
        "ab08e0c521454e37a166f04e23b97dfa": {
          "model_module": "@jupyter-widgets/controls",
          "model_name": "HTMLModel",
          "model_module_version": "1.5.0",
          "state": {
            "_dom_classes": [],
            "_model_module": "@jupyter-widgets/controls",
            "_model_module_version": "1.5.0",
            "_model_name": "HTMLModel",
            "_view_count": null,
            "_view_module": "@jupyter-widgets/controls",
            "_view_module_version": "1.5.0",
            "_view_name": "HTMLView",
            "description": "",
            "description_tooltip": null,
            "layout": "IPY_MODEL_d78647c48fb84c9e884b124a22f00df3",
            "placeholder": "​",
            "style": "IPY_MODEL_8cb1f1f06bb94d12bda15b4d0af00350",
            "value": " 265M/265M [00:01&lt;00:00, 157MB/s]"
          }
        },
        "ded91791c36d40d28234f75f5452a4a4": {
          "model_module": "@jupyter-widgets/base",
          "model_name": "LayoutModel",
          "model_module_version": "1.2.0",
          "state": {
            "_model_module": "@jupyter-widgets/base",
            "_model_module_version": "1.2.0",
            "_model_name": "LayoutModel",
            "_view_count": null,
            "_view_module": "@jupyter-widgets/base",
            "_view_module_version": "1.2.0",
            "_view_name": "LayoutView",
            "align_content": null,
            "align_items": null,
            "align_self": null,
            "border": null,
            "bottom": null,
            "display": null,
            "flex": null,
            "flex_flow": null,
            "grid_area": null,
            "grid_auto_columns": null,
            "grid_auto_flow": null,
            "grid_auto_rows": null,
            "grid_column": null,
            "grid_gap": null,
            "grid_row": null,
            "grid_template_areas": null,
            "grid_template_columns": null,
            "grid_template_rows": null,
            "height": null,
            "justify_content": null,
            "justify_items": null,
            "left": null,
            "margin": null,
            "max_height": null,
            "max_width": null,
            "min_height": null,
            "min_width": null,
            "object_fit": null,
            "object_position": null,
            "order": null,
            "overflow": null,
            "overflow_x": null,
            "overflow_y": null,
            "padding": null,
            "right": null,
            "top": null,
            "visibility": null,
            "width": null
          }
        },
        "4253dd600fb74541af1f0bad92894e8a": {
          "model_module": "@jupyter-widgets/base",
          "model_name": "LayoutModel",
          "model_module_version": "1.2.0",
          "state": {
            "_model_module": "@jupyter-widgets/base",
            "_model_module_version": "1.2.0",
            "_model_name": "LayoutModel",
            "_view_count": null,
            "_view_module": "@jupyter-widgets/base",
            "_view_module_version": "1.2.0",
            "_view_name": "LayoutView",
            "align_content": null,
            "align_items": null,
            "align_self": null,
            "border": null,
            "bottom": null,
            "display": null,
            "flex": null,
            "flex_flow": null,
            "grid_area": null,
            "grid_auto_columns": null,
            "grid_auto_flow": null,
            "grid_auto_rows": null,
            "grid_column": null,
            "grid_gap": null,
            "grid_row": null,
            "grid_template_areas": null,
            "grid_template_columns": null,
            "grid_template_rows": null,
            "height": null,
            "justify_content": null,
            "justify_items": null,
            "left": null,
            "margin": null,
            "max_height": null,
            "max_width": null,
            "min_height": null,
            "min_width": null,
            "object_fit": null,
            "object_position": null,
            "order": null,
            "overflow": null,
            "overflow_x": null,
            "overflow_y": null,
            "padding": null,
            "right": null,
            "top": null,
            "visibility": null,
            "width": null
          }
        },
        "67591e3f322444bba5efbe7fc6027d58": {
          "model_module": "@jupyter-widgets/controls",
          "model_name": "DescriptionStyleModel",
          "model_module_version": "1.5.0",
          "state": {
            "_model_module": "@jupyter-widgets/controls",
            "_model_module_version": "1.5.0",
            "_model_name": "DescriptionStyleModel",
            "_view_count": null,
            "_view_module": "@jupyter-widgets/base",
            "_view_module_version": "1.2.0",
            "_view_name": "StyleView",
            "description_width": ""
          }
        },
        "8e76b022ac2245079d141f366759b6ad": {
          "model_module": "@jupyter-widgets/base",
          "model_name": "LayoutModel",
          "model_module_version": "1.2.0",
          "state": {
            "_model_module": "@jupyter-widgets/base",
            "_model_module_version": "1.2.0",
            "_model_name": "LayoutModel",
            "_view_count": null,
            "_view_module": "@jupyter-widgets/base",
            "_view_module_version": "1.2.0",
            "_view_name": "LayoutView",
            "align_content": null,
            "align_items": null,
            "align_self": null,
            "border": null,
            "bottom": null,
            "display": null,
            "flex": null,
            "flex_flow": null,
            "grid_area": null,
            "grid_auto_columns": null,
            "grid_auto_flow": null,
            "grid_auto_rows": null,
            "grid_column": null,
            "grid_gap": null,
            "grid_row": null,
            "grid_template_areas": null,
            "grid_template_columns": null,
            "grid_template_rows": null,
            "height": null,
            "justify_content": null,
            "justify_items": null,
            "left": null,
            "margin": null,
            "max_height": null,
            "max_width": null,
            "min_height": null,
            "min_width": null,
            "object_fit": null,
            "object_position": null,
            "order": null,
            "overflow": null,
            "overflow_x": null,
            "overflow_y": null,
            "padding": null,
            "right": null,
            "top": null,
            "visibility": null,
            "width": null
          }
        },
        "6fdaf5eb666240c29bfe8449328abe25": {
          "model_module": "@jupyter-widgets/controls",
          "model_name": "ProgressStyleModel",
          "model_module_version": "1.5.0",
          "state": {
            "_model_module": "@jupyter-widgets/controls",
            "_model_module_version": "1.5.0",
            "_model_name": "ProgressStyleModel",
            "_view_count": null,
            "_view_module": "@jupyter-widgets/base",
            "_view_module_version": "1.2.0",
            "_view_name": "StyleView",
            "bar_color": null,
            "description_width": ""
          }
        },
        "d78647c48fb84c9e884b124a22f00df3": {
          "model_module": "@jupyter-widgets/base",
          "model_name": "LayoutModel",
          "model_module_version": "1.2.0",
          "state": {
            "_model_module": "@jupyter-widgets/base",
            "_model_module_version": "1.2.0",
            "_model_name": "LayoutModel",
            "_view_count": null,
            "_view_module": "@jupyter-widgets/base",
            "_view_module_version": "1.2.0",
            "_view_name": "LayoutView",
            "align_content": null,
            "align_items": null,
            "align_self": null,
            "border": null,
            "bottom": null,
            "display": null,
            "flex": null,
            "flex_flow": null,
            "grid_area": null,
            "grid_auto_columns": null,
            "grid_auto_flow": null,
            "grid_auto_rows": null,
            "grid_column": null,
            "grid_gap": null,
            "grid_row": null,
            "grid_template_areas": null,
            "grid_template_columns": null,
            "grid_template_rows": null,
            "height": null,
            "justify_content": null,
            "justify_items": null,
            "left": null,
            "margin": null,
            "max_height": null,
            "max_width": null,
            "min_height": null,
            "min_width": null,
            "object_fit": null,
            "object_position": null,
            "order": null,
            "overflow": null,
            "overflow_x": null,
            "overflow_y": null,
            "padding": null,
            "right": null,
            "top": null,
            "visibility": null,
            "width": null
          }
        },
        "8cb1f1f06bb94d12bda15b4d0af00350": {
          "model_module": "@jupyter-widgets/controls",
          "model_name": "DescriptionStyleModel",
          "model_module_version": "1.5.0",
          "state": {
            "_model_module": "@jupyter-widgets/controls",
            "_model_module_version": "1.5.0",
            "_model_name": "DescriptionStyleModel",
            "_view_count": null,
            "_view_module": "@jupyter-widgets/base",
            "_view_module_version": "1.2.0",
            "_view_name": "StyleView",
            "description_width": ""
          }
        },
        "1824a523795d4102a3b4cbaa4cf8279f": {
          "model_module": "@jupyter-widgets/controls",
          "model_name": "HBoxModel",
          "model_module_version": "1.5.0",
          "state": {
            "_dom_classes": [],
            "_model_module": "@jupyter-widgets/controls",
            "_model_module_version": "1.5.0",
            "_model_name": "HBoxModel",
            "_view_count": null,
            "_view_module": "@jupyter-widgets/controls",
            "_view_module_version": "1.5.0",
            "_view_name": "HBoxView",
            "box_style": "",
            "children": [
              "IPY_MODEL_cfae00b25fc7418ea7fee73fcd7bb8db",
              "IPY_MODEL_41fd90a931974dde9c79c7f8c117681e",
              "IPY_MODEL_88c730b164fd4d51a4e0bebee0568335"
            ],
            "layout": "IPY_MODEL_3b24d820fc6147f1828a9bcebca0c871"
          }
        },
        "cfae00b25fc7418ea7fee73fcd7bb8db": {
          "model_module": "@jupyter-widgets/controls",
          "model_name": "HTMLModel",
          "model_module_version": "1.5.0",
          "state": {
            "_dom_classes": [],
            "_model_module": "@jupyter-widgets/controls",
            "_model_module_version": "1.5.0",
            "_model_name": "HTMLModel",
            "_view_count": null,
            "_view_module": "@jupyter-widgets/controls",
            "_view_module_version": "1.5.0",
            "_view_name": "HTMLView",
            "description": "",
            "description_tooltip": null,
            "layout": "IPY_MODEL_0dc4f5e6c0d045f1b56990d6fb23de53",
            "placeholder": "​",
            "style": "IPY_MODEL_2a58f3dabd344ca0b9e1a7d8694e0d49",
            "value": "tokenizer_config.json: 100%"
          }
        },
        "41fd90a931974dde9c79c7f8c117681e": {
          "model_module": "@jupyter-widgets/controls",
          "model_name": "FloatProgressModel",
          "model_module_version": "1.5.0",
          "state": {
            "_dom_classes": [],
            "_model_module": "@jupyter-widgets/controls",
            "_model_module_version": "1.5.0",
            "_model_name": "FloatProgressModel",
            "_view_count": null,
            "_view_module": "@jupyter-widgets/controls",
            "_view_module_version": "1.5.0",
            "_view_name": "ProgressView",
            "bar_style": "success",
            "description": "",
            "description_tooltip": null,
            "layout": "IPY_MODEL_76a8a6c287fb4414900be956ff8a5e4d",
            "max": 333,
            "min": 0,
            "orientation": "horizontal",
            "style": "IPY_MODEL_35e20f881a834185a2d2c30cdcaf5aca",
            "value": 333
          }
        },
        "88c730b164fd4d51a4e0bebee0568335": {
          "model_module": "@jupyter-widgets/controls",
          "model_name": "HTMLModel",
          "model_module_version": "1.5.0",
          "state": {
            "_dom_classes": [],
            "_model_module": "@jupyter-widgets/controls",
            "_model_module_version": "1.5.0",
            "_model_name": "HTMLModel",
            "_view_count": null,
            "_view_module": "@jupyter-widgets/controls",
            "_view_module_version": "1.5.0",
            "_view_name": "HTMLView",
            "description": "",
            "description_tooltip": null,
            "layout": "IPY_MODEL_53468847c9184ee6b47a02dfe9262f5e",
            "placeholder": "​",
            "style": "IPY_MODEL_cf24105115a34d42bf4b278bf45dcf77",
            "value": " 333/333 [00:00&lt;00:00, 17.8kB/s]"
          }
        },
        "3b24d820fc6147f1828a9bcebca0c871": {
          "model_module": "@jupyter-widgets/base",
          "model_name": "LayoutModel",
          "model_module_version": "1.2.0",
          "state": {
            "_model_module": "@jupyter-widgets/base",
            "_model_module_version": "1.2.0",
            "_model_name": "LayoutModel",
            "_view_count": null,
            "_view_module": "@jupyter-widgets/base",
            "_view_module_version": "1.2.0",
            "_view_name": "LayoutView",
            "align_content": null,
            "align_items": null,
            "align_self": null,
            "border": null,
            "bottom": null,
            "display": null,
            "flex": null,
            "flex_flow": null,
            "grid_area": null,
            "grid_auto_columns": null,
            "grid_auto_flow": null,
            "grid_auto_rows": null,
            "grid_column": null,
            "grid_gap": null,
            "grid_row": null,
            "grid_template_areas": null,
            "grid_template_columns": null,
            "grid_template_rows": null,
            "height": null,
            "justify_content": null,
            "justify_items": null,
            "left": null,
            "margin": null,
            "max_height": null,
            "max_width": null,
            "min_height": null,
            "min_width": null,
            "object_fit": null,
            "object_position": null,
            "order": null,
            "overflow": null,
            "overflow_x": null,
            "overflow_y": null,
            "padding": null,
            "right": null,
            "top": null,
            "visibility": null,
            "width": null
          }
        },
        "0dc4f5e6c0d045f1b56990d6fb23de53": {
          "model_module": "@jupyter-widgets/base",
          "model_name": "LayoutModel",
          "model_module_version": "1.2.0",
          "state": {
            "_model_module": "@jupyter-widgets/base",
            "_model_module_version": "1.2.0",
            "_model_name": "LayoutModel",
            "_view_count": null,
            "_view_module": "@jupyter-widgets/base",
            "_view_module_version": "1.2.0",
            "_view_name": "LayoutView",
            "align_content": null,
            "align_items": null,
            "align_self": null,
            "border": null,
            "bottom": null,
            "display": null,
            "flex": null,
            "flex_flow": null,
            "grid_area": null,
            "grid_auto_columns": null,
            "grid_auto_flow": null,
            "grid_auto_rows": null,
            "grid_column": null,
            "grid_gap": null,
            "grid_row": null,
            "grid_template_areas": null,
            "grid_template_columns": null,
            "grid_template_rows": null,
            "height": null,
            "justify_content": null,
            "justify_items": null,
            "left": null,
            "margin": null,
            "max_height": null,
            "max_width": null,
            "min_height": null,
            "min_width": null,
            "object_fit": null,
            "object_position": null,
            "order": null,
            "overflow": null,
            "overflow_x": null,
            "overflow_y": null,
            "padding": null,
            "right": null,
            "top": null,
            "visibility": null,
            "width": null
          }
        },
        "2a58f3dabd344ca0b9e1a7d8694e0d49": {
          "model_module": "@jupyter-widgets/controls",
          "model_name": "DescriptionStyleModel",
          "model_module_version": "1.5.0",
          "state": {
            "_model_module": "@jupyter-widgets/controls",
            "_model_module_version": "1.5.0",
            "_model_name": "DescriptionStyleModel",
            "_view_count": null,
            "_view_module": "@jupyter-widgets/base",
            "_view_module_version": "1.2.0",
            "_view_name": "StyleView",
            "description_width": ""
          }
        },
        "76a8a6c287fb4414900be956ff8a5e4d": {
          "model_module": "@jupyter-widgets/base",
          "model_name": "LayoutModel",
          "model_module_version": "1.2.0",
          "state": {
            "_model_module": "@jupyter-widgets/base",
            "_model_module_version": "1.2.0",
            "_model_name": "LayoutModel",
            "_view_count": null,
            "_view_module": "@jupyter-widgets/base",
            "_view_module_version": "1.2.0",
            "_view_name": "LayoutView",
            "align_content": null,
            "align_items": null,
            "align_self": null,
            "border": null,
            "bottom": null,
            "display": null,
            "flex": null,
            "flex_flow": null,
            "grid_area": null,
            "grid_auto_columns": null,
            "grid_auto_flow": null,
            "grid_auto_rows": null,
            "grid_column": null,
            "grid_gap": null,
            "grid_row": null,
            "grid_template_areas": null,
            "grid_template_columns": null,
            "grid_template_rows": null,
            "height": null,
            "justify_content": null,
            "justify_items": null,
            "left": null,
            "margin": null,
            "max_height": null,
            "max_width": null,
            "min_height": null,
            "min_width": null,
            "object_fit": null,
            "object_position": null,
            "order": null,
            "overflow": null,
            "overflow_x": null,
            "overflow_y": null,
            "padding": null,
            "right": null,
            "top": null,
            "visibility": null,
            "width": null
          }
        },
        "35e20f881a834185a2d2c30cdcaf5aca": {
          "model_module": "@jupyter-widgets/controls",
          "model_name": "ProgressStyleModel",
          "model_module_version": "1.5.0",
          "state": {
            "_model_module": "@jupyter-widgets/controls",
            "_model_module_version": "1.5.0",
            "_model_name": "ProgressStyleModel",
            "_view_count": null,
            "_view_module": "@jupyter-widgets/base",
            "_view_module_version": "1.2.0",
            "_view_name": "StyleView",
            "bar_color": null,
            "description_width": ""
          }
        },
        "53468847c9184ee6b47a02dfe9262f5e": {
          "model_module": "@jupyter-widgets/base",
          "model_name": "LayoutModel",
          "model_module_version": "1.2.0",
          "state": {
            "_model_module": "@jupyter-widgets/base",
            "_model_module_version": "1.2.0",
            "_model_name": "LayoutModel",
            "_view_count": null,
            "_view_module": "@jupyter-widgets/base",
            "_view_module_version": "1.2.0",
            "_view_name": "LayoutView",
            "align_content": null,
            "align_items": null,
            "align_self": null,
            "border": null,
            "bottom": null,
            "display": null,
            "flex": null,
            "flex_flow": null,
            "grid_area": null,
            "grid_auto_columns": null,
            "grid_auto_flow": null,
            "grid_auto_rows": null,
            "grid_column": null,
            "grid_gap": null,
            "grid_row": null,
            "grid_template_areas": null,
            "grid_template_columns": null,
            "grid_template_rows": null,
            "height": null,
            "justify_content": null,
            "justify_items": null,
            "left": null,
            "margin": null,
            "max_height": null,
            "max_width": null,
            "min_height": null,
            "min_width": null,
            "object_fit": null,
            "object_position": null,
            "order": null,
            "overflow": null,
            "overflow_x": null,
            "overflow_y": null,
            "padding": null,
            "right": null,
            "top": null,
            "visibility": null,
            "width": null
          }
        },
        "cf24105115a34d42bf4b278bf45dcf77": {
          "model_module": "@jupyter-widgets/controls",
          "model_name": "DescriptionStyleModel",
          "model_module_version": "1.5.0",
          "state": {
            "_model_module": "@jupyter-widgets/controls",
            "_model_module_version": "1.5.0",
            "_model_name": "DescriptionStyleModel",
            "_view_count": null,
            "_view_module": "@jupyter-widgets/base",
            "_view_module_version": "1.2.0",
            "_view_name": "StyleView",
            "description_width": ""
          }
        },
        "9113b92d52d1462086c84ecfecc3efd4": {
          "model_module": "@jupyter-widgets/controls",
          "model_name": "HBoxModel",
          "model_module_version": "1.5.0",
          "state": {
            "_dom_classes": [],
            "_model_module": "@jupyter-widgets/controls",
            "_model_module_version": "1.5.0",
            "_model_name": "HBoxModel",
            "_view_count": null,
            "_view_module": "@jupyter-widgets/controls",
            "_view_module_version": "1.5.0",
            "_view_name": "HBoxView",
            "box_style": "",
            "children": [
              "IPY_MODEL_baebfd6aeccf432d94a1a3392ad3f26c",
              "IPY_MODEL_49f81b5fcf2a4b98ba746293345ecdcc",
              "IPY_MODEL_dd02cfd166b648a7ac1b4da088302ed8"
            ],
            "layout": "IPY_MODEL_938fa479d6f348fab370d4473127c9ac"
          }
        },
        "baebfd6aeccf432d94a1a3392ad3f26c": {
          "model_module": "@jupyter-widgets/controls",
          "model_name": "HTMLModel",
          "model_module_version": "1.5.0",
          "state": {
            "_dom_classes": [],
            "_model_module": "@jupyter-widgets/controls",
            "_model_module_version": "1.5.0",
            "_model_name": "HTMLModel",
            "_view_count": null,
            "_view_module": "@jupyter-widgets/controls",
            "_view_module_version": "1.5.0",
            "_view_name": "HTMLView",
            "description": "",
            "description_tooltip": null,
            "layout": "IPY_MODEL_c5d1830986b44218be8b623615b8d5d4",
            "placeholder": "​",
            "style": "IPY_MODEL_9086ac2366c4429fb38cb0226322e246",
            "value": "vocab.txt: 100%"
          }
        },
        "49f81b5fcf2a4b98ba746293345ecdcc": {
          "model_module": "@jupyter-widgets/controls",
          "model_name": "FloatProgressModel",
          "model_module_version": "1.5.0",
          "state": {
            "_dom_classes": [],
            "_model_module": "@jupyter-widgets/controls",
            "_model_module_version": "1.5.0",
            "_model_name": "FloatProgressModel",
            "_view_count": null,
            "_view_module": "@jupyter-widgets/controls",
            "_view_module_version": "1.5.0",
            "_view_name": "ProgressView",
            "bar_style": "success",
            "description": "",
            "description_tooltip": null,
            "layout": "IPY_MODEL_6cffab28842b4a02b3d7e17e021f9c22",
            "max": 231508,
            "min": 0,
            "orientation": "horizontal",
            "style": "IPY_MODEL_ee101e830a734747a65f2345ed45c523",
            "value": 231508
          }
        },
        "dd02cfd166b648a7ac1b4da088302ed8": {
          "model_module": "@jupyter-widgets/controls",
          "model_name": "HTMLModel",
          "model_module_version": "1.5.0",
          "state": {
            "_dom_classes": [],
            "_model_module": "@jupyter-widgets/controls",
            "_model_module_version": "1.5.0",
            "_model_name": "HTMLModel",
            "_view_count": null,
            "_view_module": "@jupyter-widgets/controls",
            "_view_module_version": "1.5.0",
            "_view_name": "HTMLView",
            "description": "",
            "description_tooltip": null,
            "layout": "IPY_MODEL_c8e21ec5258346ebb1977694aa6c9aa0",
            "placeholder": "​",
            "style": "IPY_MODEL_d4a08f78cdca41f09a08530452232b12",
            "value": " 232k/232k [00:00&lt;00:00, 7.95MB/s]"
          }
        },
        "938fa479d6f348fab370d4473127c9ac": {
          "model_module": "@jupyter-widgets/base",
          "model_name": "LayoutModel",
          "model_module_version": "1.2.0",
          "state": {
            "_model_module": "@jupyter-widgets/base",
            "_model_module_version": "1.2.0",
            "_model_name": "LayoutModel",
            "_view_count": null,
            "_view_module": "@jupyter-widgets/base",
            "_view_module_version": "1.2.0",
            "_view_name": "LayoutView",
            "align_content": null,
            "align_items": null,
            "align_self": null,
            "border": null,
            "bottom": null,
            "display": null,
            "flex": null,
            "flex_flow": null,
            "grid_area": null,
            "grid_auto_columns": null,
            "grid_auto_flow": null,
            "grid_auto_rows": null,
            "grid_column": null,
            "grid_gap": null,
            "grid_row": null,
            "grid_template_areas": null,
            "grid_template_columns": null,
            "grid_template_rows": null,
            "height": null,
            "justify_content": null,
            "justify_items": null,
            "left": null,
            "margin": null,
            "max_height": null,
            "max_width": null,
            "min_height": null,
            "min_width": null,
            "object_fit": null,
            "object_position": null,
            "order": null,
            "overflow": null,
            "overflow_x": null,
            "overflow_y": null,
            "padding": null,
            "right": null,
            "top": null,
            "visibility": null,
            "width": null
          }
        },
        "c5d1830986b44218be8b623615b8d5d4": {
          "model_module": "@jupyter-widgets/base",
          "model_name": "LayoutModel",
          "model_module_version": "1.2.0",
          "state": {
            "_model_module": "@jupyter-widgets/base",
            "_model_module_version": "1.2.0",
            "_model_name": "LayoutModel",
            "_view_count": null,
            "_view_module": "@jupyter-widgets/base",
            "_view_module_version": "1.2.0",
            "_view_name": "LayoutView",
            "align_content": null,
            "align_items": null,
            "align_self": null,
            "border": null,
            "bottom": null,
            "display": null,
            "flex": null,
            "flex_flow": null,
            "grid_area": null,
            "grid_auto_columns": null,
            "grid_auto_flow": null,
            "grid_auto_rows": null,
            "grid_column": null,
            "grid_gap": null,
            "grid_row": null,
            "grid_template_areas": null,
            "grid_template_columns": null,
            "grid_template_rows": null,
            "height": null,
            "justify_content": null,
            "justify_items": null,
            "left": null,
            "margin": null,
            "max_height": null,
            "max_width": null,
            "min_height": null,
            "min_width": null,
            "object_fit": null,
            "object_position": null,
            "order": null,
            "overflow": null,
            "overflow_x": null,
            "overflow_y": null,
            "padding": null,
            "right": null,
            "top": null,
            "visibility": null,
            "width": null
          }
        },
        "9086ac2366c4429fb38cb0226322e246": {
          "model_module": "@jupyter-widgets/controls",
          "model_name": "DescriptionStyleModel",
          "model_module_version": "1.5.0",
          "state": {
            "_model_module": "@jupyter-widgets/controls",
            "_model_module_version": "1.5.0",
            "_model_name": "DescriptionStyleModel",
            "_view_count": null,
            "_view_module": "@jupyter-widgets/base",
            "_view_module_version": "1.2.0",
            "_view_name": "StyleView",
            "description_width": ""
          }
        },
        "6cffab28842b4a02b3d7e17e021f9c22": {
          "model_module": "@jupyter-widgets/base",
          "model_name": "LayoutModel",
          "model_module_version": "1.2.0",
          "state": {
            "_model_module": "@jupyter-widgets/base",
            "_model_module_version": "1.2.0",
            "_model_name": "LayoutModel",
            "_view_count": null,
            "_view_module": "@jupyter-widgets/base",
            "_view_module_version": "1.2.0",
            "_view_name": "LayoutView",
            "align_content": null,
            "align_items": null,
            "align_self": null,
            "border": null,
            "bottom": null,
            "display": null,
            "flex": null,
            "flex_flow": null,
            "grid_area": null,
            "grid_auto_columns": null,
            "grid_auto_flow": null,
            "grid_auto_rows": null,
            "grid_column": null,
            "grid_gap": null,
            "grid_row": null,
            "grid_template_areas": null,
            "grid_template_columns": null,
            "grid_template_rows": null,
            "height": null,
            "justify_content": null,
            "justify_items": null,
            "left": null,
            "margin": null,
            "max_height": null,
            "max_width": null,
            "min_height": null,
            "min_width": null,
            "object_fit": null,
            "object_position": null,
            "order": null,
            "overflow": null,
            "overflow_x": null,
            "overflow_y": null,
            "padding": null,
            "right": null,
            "top": null,
            "visibility": null,
            "width": null
          }
        },
        "ee101e830a734747a65f2345ed45c523": {
          "model_module": "@jupyter-widgets/controls",
          "model_name": "ProgressStyleModel",
          "model_module_version": "1.5.0",
          "state": {
            "_model_module": "@jupyter-widgets/controls",
            "_model_module_version": "1.5.0",
            "_model_name": "ProgressStyleModel",
            "_view_count": null,
            "_view_module": "@jupyter-widgets/base",
            "_view_module_version": "1.2.0",
            "_view_name": "StyleView",
            "bar_color": null,
            "description_width": ""
          }
        },
        "c8e21ec5258346ebb1977694aa6c9aa0": {
          "model_module": "@jupyter-widgets/base",
          "model_name": "LayoutModel",
          "model_module_version": "1.2.0",
          "state": {
            "_model_module": "@jupyter-widgets/base",
            "_model_module_version": "1.2.0",
            "_model_name": "LayoutModel",
            "_view_count": null,
            "_view_module": "@jupyter-widgets/base",
            "_view_module_version": "1.2.0",
            "_view_name": "LayoutView",
            "align_content": null,
            "align_items": null,
            "align_self": null,
            "border": null,
            "bottom": null,
            "display": null,
            "flex": null,
            "flex_flow": null,
            "grid_area": null,
            "grid_auto_columns": null,
            "grid_auto_flow": null,
            "grid_auto_rows": null,
            "grid_column": null,
            "grid_gap": null,
            "grid_row": null,
            "grid_template_areas": null,
            "grid_template_columns": null,
            "grid_template_rows": null,
            "height": null,
            "justify_content": null,
            "justify_items": null,
            "left": null,
            "margin": null,
            "max_height": null,
            "max_width": null,
            "min_height": null,
            "min_width": null,
            "object_fit": null,
            "object_position": null,
            "order": null,
            "overflow": null,
            "overflow_x": null,
            "overflow_y": null,
            "padding": null,
            "right": null,
            "top": null,
            "visibility": null,
            "width": null
          }
        },
        "d4a08f78cdca41f09a08530452232b12": {
          "model_module": "@jupyter-widgets/controls",
          "model_name": "DescriptionStyleModel",
          "model_module_version": "1.5.0",
          "state": {
            "_model_module": "@jupyter-widgets/controls",
            "_model_module_version": "1.5.0",
            "_model_name": "DescriptionStyleModel",
            "_view_count": null,
            "_view_module": "@jupyter-widgets/base",
            "_view_module_version": "1.2.0",
            "_view_name": "StyleView",
            "description_width": ""
          }
        },
        "8435c81d944343149bec05eede984172": {
          "model_module": "@jupyter-widgets/controls",
          "model_name": "HBoxModel",
          "model_module_version": "1.5.0",
          "state": {
            "_dom_classes": [],
            "_model_module": "@jupyter-widgets/controls",
            "_model_module_version": "1.5.0",
            "_model_name": "HBoxModel",
            "_view_count": null,
            "_view_module": "@jupyter-widgets/controls",
            "_view_module_version": "1.5.0",
            "_view_name": "HBoxView",
            "box_style": "",
            "children": [
              "IPY_MODEL_265664be21a64b6a9156700700eaf209",
              "IPY_MODEL_54f9797c6d2f456a8ee5788ed445eda5",
              "IPY_MODEL_6bc65b43179f43a882db63d25c1c1945"
            ],
            "layout": "IPY_MODEL_e658921501854067bac363f07dfcd629"
          }
        },
        "265664be21a64b6a9156700700eaf209": {
          "model_module": "@jupyter-widgets/controls",
          "model_name": "HTMLModel",
          "model_module_version": "1.5.0",
          "state": {
            "_dom_classes": [],
            "_model_module": "@jupyter-widgets/controls",
            "_model_module_version": "1.5.0",
            "_model_name": "HTMLModel",
            "_view_count": null,
            "_view_module": "@jupyter-widgets/controls",
            "_view_module_version": "1.5.0",
            "_view_name": "HTMLView",
            "description": "",
            "description_tooltip": null,
            "layout": "IPY_MODEL_50e06814dd0649e58db731fdeaffb7f3",
            "placeholder": "​",
            "style": "IPY_MODEL_0bcb22ca43ca46d49100fb470ea335b0",
            "value": "tokenizer.json: 100%"
          }
        },
        "54f9797c6d2f456a8ee5788ed445eda5": {
          "model_module": "@jupyter-widgets/controls",
          "model_name": "FloatProgressModel",
          "model_module_version": "1.5.0",
          "state": {
            "_dom_classes": [],
            "_model_module": "@jupyter-widgets/controls",
            "_model_module_version": "1.5.0",
            "_model_name": "FloatProgressModel",
            "_view_count": null,
            "_view_module": "@jupyter-widgets/controls",
            "_view_module_version": "1.5.0",
            "_view_name": "ProgressView",
            "bar_style": "success",
            "description": "",
            "description_tooltip": null,
            "layout": "IPY_MODEL_850e7caa3e574302a9fb38dd13d9aaa5",
            "max": 466247,
            "min": 0,
            "orientation": "horizontal",
            "style": "IPY_MODEL_c1cfb09bc07343819f27eb2d91547263",
            "value": 466247
          }
        },
        "6bc65b43179f43a882db63d25c1c1945": {
          "model_module": "@jupyter-widgets/controls",
          "model_name": "HTMLModel",
          "model_module_version": "1.5.0",
          "state": {
            "_dom_classes": [],
            "_model_module": "@jupyter-widgets/controls",
            "_model_module_version": "1.5.0",
            "_model_name": "HTMLModel",
            "_view_count": null,
            "_view_module": "@jupyter-widgets/controls",
            "_view_module_version": "1.5.0",
            "_view_name": "HTMLView",
            "description": "",
            "description_tooltip": null,
            "layout": "IPY_MODEL_e0fecca71c0a4a74881d51e82eff8d59",
            "placeholder": "​",
            "style": "IPY_MODEL_51fea3cbfd47465dab911943c7e47846",
            "value": " 466k/466k [00:00&lt;00:00, 10.9MB/s]"
          }
        },
        "e658921501854067bac363f07dfcd629": {
          "model_module": "@jupyter-widgets/base",
          "model_name": "LayoutModel",
          "model_module_version": "1.2.0",
          "state": {
            "_model_module": "@jupyter-widgets/base",
            "_model_module_version": "1.2.0",
            "_model_name": "LayoutModel",
            "_view_count": null,
            "_view_module": "@jupyter-widgets/base",
            "_view_module_version": "1.2.0",
            "_view_name": "LayoutView",
            "align_content": null,
            "align_items": null,
            "align_self": null,
            "border": null,
            "bottom": null,
            "display": null,
            "flex": null,
            "flex_flow": null,
            "grid_area": null,
            "grid_auto_columns": null,
            "grid_auto_flow": null,
            "grid_auto_rows": null,
            "grid_column": null,
            "grid_gap": null,
            "grid_row": null,
            "grid_template_areas": null,
            "grid_template_columns": null,
            "grid_template_rows": null,
            "height": null,
            "justify_content": null,
            "justify_items": null,
            "left": null,
            "margin": null,
            "max_height": null,
            "max_width": null,
            "min_height": null,
            "min_width": null,
            "object_fit": null,
            "object_position": null,
            "order": null,
            "overflow": null,
            "overflow_x": null,
            "overflow_y": null,
            "padding": null,
            "right": null,
            "top": null,
            "visibility": null,
            "width": null
          }
        },
        "50e06814dd0649e58db731fdeaffb7f3": {
          "model_module": "@jupyter-widgets/base",
          "model_name": "LayoutModel",
          "model_module_version": "1.2.0",
          "state": {
            "_model_module": "@jupyter-widgets/base",
            "_model_module_version": "1.2.0",
            "_model_name": "LayoutModel",
            "_view_count": null,
            "_view_module": "@jupyter-widgets/base",
            "_view_module_version": "1.2.0",
            "_view_name": "LayoutView",
            "align_content": null,
            "align_items": null,
            "align_self": null,
            "border": null,
            "bottom": null,
            "display": null,
            "flex": null,
            "flex_flow": null,
            "grid_area": null,
            "grid_auto_columns": null,
            "grid_auto_flow": null,
            "grid_auto_rows": null,
            "grid_column": null,
            "grid_gap": null,
            "grid_row": null,
            "grid_template_areas": null,
            "grid_template_columns": null,
            "grid_template_rows": null,
            "height": null,
            "justify_content": null,
            "justify_items": null,
            "left": null,
            "margin": null,
            "max_height": null,
            "max_width": null,
            "min_height": null,
            "min_width": null,
            "object_fit": null,
            "object_position": null,
            "order": null,
            "overflow": null,
            "overflow_x": null,
            "overflow_y": null,
            "padding": null,
            "right": null,
            "top": null,
            "visibility": null,
            "width": null
          }
        },
        "0bcb22ca43ca46d49100fb470ea335b0": {
          "model_module": "@jupyter-widgets/controls",
          "model_name": "DescriptionStyleModel",
          "model_module_version": "1.5.0",
          "state": {
            "_model_module": "@jupyter-widgets/controls",
            "_model_module_version": "1.5.0",
            "_model_name": "DescriptionStyleModel",
            "_view_count": null,
            "_view_module": "@jupyter-widgets/base",
            "_view_module_version": "1.2.0",
            "_view_name": "StyleView",
            "description_width": ""
          }
        },
        "850e7caa3e574302a9fb38dd13d9aaa5": {
          "model_module": "@jupyter-widgets/base",
          "model_name": "LayoutModel",
          "model_module_version": "1.2.0",
          "state": {
            "_model_module": "@jupyter-widgets/base",
            "_model_module_version": "1.2.0",
            "_model_name": "LayoutModel",
            "_view_count": null,
            "_view_module": "@jupyter-widgets/base",
            "_view_module_version": "1.2.0",
            "_view_name": "LayoutView",
            "align_content": null,
            "align_items": null,
            "align_self": null,
            "border": null,
            "bottom": null,
            "display": null,
            "flex": null,
            "flex_flow": null,
            "grid_area": null,
            "grid_auto_columns": null,
            "grid_auto_flow": null,
            "grid_auto_rows": null,
            "grid_column": null,
            "grid_gap": null,
            "grid_row": null,
            "grid_template_areas": null,
            "grid_template_columns": null,
            "grid_template_rows": null,
            "height": null,
            "justify_content": null,
            "justify_items": null,
            "left": null,
            "margin": null,
            "max_height": null,
            "max_width": null,
            "min_height": null,
            "min_width": null,
            "object_fit": null,
            "object_position": null,
            "order": null,
            "overflow": null,
            "overflow_x": null,
            "overflow_y": null,
            "padding": null,
            "right": null,
            "top": null,
            "visibility": null,
            "width": null
          }
        },
        "c1cfb09bc07343819f27eb2d91547263": {
          "model_module": "@jupyter-widgets/controls",
          "model_name": "ProgressStyleModel",
          "model_module_version": "1.5.0",
          "state": {
            "_model_module": "@jupyter-widgets/controls",
            "_model_module_version": "1.5.0",
            "_model_name": "ProgressStyleModel",
            "_view_count": null,
            "_view_module": "@jupyter-widgets/base",
            "_view_module_version": "1.2.0",
            "_view_name": "StyleView",
            "bar_color": null,
            "description_width": ""
          }
        },
        "e0fecca71c0a4a74881d51e82eff8d59": {
          "model_module": "@jupyter-widgets/base",
          "model_name": "LayoutModel",
          "model_module_version": "1.2.0",
          "state": {
            "_model_module": "@jupyter-widgets/base",
            "_model_module_version": "1.2.0",
            "_model_name": "LayoutModel",
            "_view_count": null,
            "_view_module": "@jupyter-widgets/base",
            "_view_module_version": "1.2.0",
            "_view_name": "LayoutView",
            "align_content": null,
            "align_items": null,
            "align_self": null,
            "border": null,
            "bottom": null,
            "display": null,
            "flex": null,
            "flex_flow": null,
            "grid_area": null,
            "grid_auto_columns": null,
            "grid_auto_flow": null,
            "grid_auto_rows": null,
            "grid_column": null,
            "grid_gap": null,
            "grid_row": null,
            "grid_template_areas": null,
            "grid_template_columns": null,
            "grid_template_rows": null,
            "height": null,
            "justify_content": null,
            "justify_items": null,
            "left": null,
            "margin": null,
            "max_height": null,
            "max_width": null,
            "min_height": null,
            "min_width": null,
            "object_fit": null,
            "object_position": null,
            "order": null,
            "overflow": null,
            "overflow_x": null,
            "overflow_y": null,
            "padding": null,
            "right": null,
            "top": null,
            "visibility": null,
            "width": null
          }
        },
        "51fea3cbfd47465dab911943c7e47846": {
          "model_module": "@jupyter-widgets/controls",
          "model_name": "DescriptionStyleModel",
          "model_module_version": "1.5.0",
          "state": {
            "_model_module": "@jupyter-widgets/controls",
            "_model_module_version": "1.5.0",
            "_model_name": "DescriptionStyleModel",
            "_view_count": null,
            "_view_module": "@jupyter-widgets/base",
            "_view_module_version": "1.2.0",
            "_view_name": "StyleView",
            "description_width": ""
          }
        },
        "8069a2634fd94b3a94d5defcbf284b15": {
          "model_module": "@jupyter-widgets/controls",
          "model_name": "HBoxModel",
          "model_module_version": "1.5.0",
          "state": {
            "_dom_classes": [],
            "_model_module": "@jupyter-widgets/controls",
            "_model_module_version": "1.5.0",
            "_model_name": "HBoxModel",
            "_view_count": null,
            "_view_module": "@jupyter-widgets/controls",
            "_view_module_version": "1.5.0",
            "_view_name": "HBoxView",
            "box_style": "",
            "children": [
              "IPY_MODEL_85e66f3912c34f20bc0cd875e634f48d",
              "IPY_MODEL_8f35295f2bd14b048ab16f469ee31f07",
              "IPY_MODEL_ff5c599aa50b4dfa9ced6081010d0c34"
            ],
            "layout": "IPY_MODEL_53d9edb010c948cd8b9016a5b450beba"
          }
        },
        "85e66f3912c34f20bc0cd875e634f48d": {
          "model_module": "@jupyter-widgets/controls",
          "model_name": "HTMLModel",
          "model_module_version": "1.5.0",
          "state": {
            "_dom_classes": [],
            "_model_module": "@jupyter-widgets/controls",
            "_model_module_version": "1.5.0",
            "_model_name": "HTMLModel",
            "_view_count": null,
            "_view_module": "@jupyter-widgets/controls",
            "_view_module_version": "1.5.0",
            "_view_name": "HTMLView",
            "description": "",
            "description_tooltip": null,
            "layout": "IPY_MODEL_c99e0233f6b648749aeee42cb9e3371e",
            "placeholder": "​",
            "style": "IPY_MODEL_6e59909fbf754db08ed5e50938b0e70e",
            "value": "special_tokens_map.json: 100%"
          }
        },
        "8f35295f2bd14b048ab16f469ee31f07": {
          "model_module": "@jupyter-widgets/controls",
          "model_name": "FloatProgressModel",
          "model_module_version": "1.5.0",
          "state": {
            "_dom_classes": [],
            "_model_module": "@jupyter-widgets/controls",
            "_model_module_version": "1.5.0",
            "_model_name": "FloatProgressModel",
            "_view_count": null,
            "_view_module": "@jupyter-widgets/controls",
            "_view_module_version": "1.5.0",
            "_view_name": "ProgressView",
            "bar_style": "success",
            "description": "",
            "description_tooltip": null,
            "layout": "IPY_MODEL_fb209acceb1a43bd84e55b61db3ee117",
            "max": 112,
            "min": 0,
            "orientation": "horizontal",
            "style": "IPY_MODEL_8956114c675741ba8ca81a4517482c33",
            "value": 112
          }
        },
        "ff5c599aa50b4dfa9ced6081010d0c34": {
          "model_module": "@jupyter-widgets/controls",
          "model_name": "HTMLModel",
          "model_module_version": "1.5.0",
          "state": {
            "_dom_classes": [],
            "_model_module": "@jupyter-widgets/controls",
            "_model_module_version": "1.5.0",
            "_model_name": "HTMLModel",
            "_view_count": null,
            "_view_module": "@jupyter-widgets/controls",
            "_view_module_version": "1.5.0",
            "_view_name": "HTMLView",
            "description": "",
            "description_tooltip": null,
            "layout": "IPY_MODEL_f76cfd2a053f4ed090783d44978277a3",
            "placeholder": "​",
            "style": "IPY_MODEL_64d66d6c063444ebb577320d9257d87f",
            "value": " 112/112 [00:00&lt;00:00, 5.94kB/s]"
          }
        },
        "53d9edb010c948cd8b9016a5b450beba": {
          "model_module": "@jupyter-widgets/base",
          "model_name": "LayoutModel",
          "model_module_version": "1.2.0",
          "state": {
            "_model_module": "@jupyter-widgets/base",
            "_model_module_version": "1.2.0",
            "_model_name": "LayoutModel",
            "_view_count": null,
            "_view_module": "@jupyter-widgets/base",
            "_view_module_version": "1.2.0",
            "_view_name": "LayoutView",
            "align_content": null,
            "align_items": null,
            "align_self": null,
            "border": null,
            "bottom": null,
            "display": null,
            "flex": null,
            "flex_flow": null,
            "grid_area": null,
            "grid_auto_columns": null,
            "grid_auto_flow": null,
            "grid_auto_rows": null,
            "grid_column": null,
            "grid_gap": null,
            "grid_row": null,
            "grid_template_areas": null,
            "grid_template_columns": null,
            "grid_template_rows": null,
            "height": null,
            "justify_content": null,
            "justify_items": null,
            "left": null,
            "margin": null,
            "max_height": null,
            "max_width": null,
            "min_height": null,
            "min_width": null,
            "object_fit": null,
            "object_position": null,
            "order": null,
            "overflow": null,
            "overflow_x": null,
            "overflow_y": null,
            "padding": null,
            "right": null,
            "top": null,
            "visibility": null,
            "width": null
          }
        },
        "c99e0233f6b648749aeee42cb9e3371e": {
          "model_module": "@jupyter-widgets/base",
          "model_name": "LayoutModel",
          "model_module_version": "1.2.0",
          "state": {
            "_model_module": "@jupyter-widgets/base",
            "_model_module_version": "1.2.0",
            "_model_name": "LayoutModel",
            "_view_count": null,
            "_view_module": "@jupyter-widgets/base",
            "_view_module_version": "1.2.0",
            "_view_name": "LayoutView",
            "align_content": null,
            "align_items": null,
            "align_self": null,
            "border": null,
            "bottom": null,
            "display": null,
            "flex": null,
            "flex_flow": null,
            "grid_area": null,
            "grid_auto_columns": null,
            "grid_auto_flow": null,
            "grid_auto_rows": null,
            "grid_column": null,
            "grid_gap": null,
            "grid_row": null,
            "grid_template_areas": null,
            "grid_template_columns": null,
            "grid_template_rows": null,
            "height": null,
            "justify_content": null,
            "justify_items": null,
            "left": null,
            "margin": null,
            "max_height": null,
            "max_width": null,
            "min_height": null,
            "min_width": null,
            "object_fit": null,
            "object_position": null,
            "order": null,
            "overflow": null,
            "overflow_x": null,
            "overflow_y": null,
            "padding": null,
            "right": null,
            "top": null,
            "visibility": null,
            "width": null
          }
        },
        "6e59909fbf754db08ed5e50938b0e70e": {
          "model_module": "@jupyter-widgets/controls",
          "model_name": "DescriptionStyleModel",
          "model_module_version": "1.5.0",
          "state": {
            "_model_module": "@jupyter-widgets/controls",
            "_model_module_version": "1.5.0",
            "_model_name": "DescriptionStyleModel",
            "_view_count": null,
            "_view_module": "@jupyter-widgets/base",
            "_view_module_version": "1.2.0",
            "_view_name": "StyleView",
            "description_width": ""
          }
        },
        "fb209acceb1a43bd84e55b61db3ee117": {
          "model_module": "@jupyter-widgets/base",
          "model_name": "LayoutModel",
          "model_module_version": "1.2.0",
          "state": {
            "_model_module": "@jupyter-widgets/base",
            "_model_module_version": "1.2.0",
            "_model_name": "LayoutModel",
            "_view_count": null,
            "_view_module": "@jupyter-widgets/base",
            "_view_module_version": "1.2.0",
            "_view_name": "LayoutView",
            "align_content": null,
            "align_items": null,
            "align_self": null,
            "border": null,
            "bottom": null,
            "display": null,
            "flex": null,
            "flex_flow": null,
            "grid_area": null,
            "grid_auto_columns": null,
            "grid_auto_flow": null,
            "grid_auto_rows": null,
            "grid_column": null,
            "grid_gap": null,
            "grid_row": null,
            "grid_template_areas": null,
            "grid_template_columns": null,
            "grid_template_rows": null,
            "height": null,
            "justify_content": null,
            "justify_items": null,
            "left": null,
            "margin": null,
            "max_height": null,
            "max_width": null,
            "min_height": null,
            "min_width": null,
            "object_fit": null,
            "object_position": null,
            "order": null,
            "overflow": null,
            "overflow_x": null,
            "overflow_y": null,
            "padding": null,
            "right": null,
            "top": null,
            "visibility": null,
            "width": null
          }
        },
        "8956114c675741ba8ca81a4517482c33": {
          "model_module": "@jupyter-widgets/controls",
          "model_name": "ProgressStyleModel",
          "model_module_version": "1.5.0",
          "state": {
            "_model_module": "@jupyter-widgets/controls",
            "_model_module_version": "1.5.0",
            "_model_name": "ProgressStyleModel",
            "_view_count": null,
            "_view_module": "@jupyter-widgets/base",
            "_view_module_version": "1.2.0",
            "_view_name": "StyleView",
            "bar_color": null,
            "description_width": ""
          }
        },
        "f76cfd2a053f4ed090783d44978277a3": {
          "model_module": "@jupyter-widgets/base",
          "model_name": "LayoutModel",
          "model_module_version": "1.2.0",
          "state": {
            "_model_module": "@jupyter-widgets/base",
            "_model_module_version": "1.2.0",
            "_model_name": "LayoutModel",
            "_view_count": null,
            "_view_module": "@jupyter-widgets/base",
            "_view_module_version": "1.2.0",
            "_view_name": "LayoutView",
            "align_content": null,
            "align_items": null,
            "align_self": null,
            "border": null,
            "bottom": null,
            "display": null,
            "flex": null,
            "flex_flow": null,
            "grid_area": null,
            "grid_auto_columns": null,
            "grid_auto_flow": null,
            "grid_auto_rows": null,
            "grid_column": null,
            "grid_gap": null,
            "grid_row": null,
            "grid_template_areas": null,
            "grid_template_columns": null,
            "grid_template_rows": null,
            "height": null,
            "justify_content": null,
            "justify_items": null,
            "left": null,
            "margin": null,
            "max_height": null,
            "max_width": null,
            "min_height": null,
            "min_width": null,
            "object_fit": null,
            "object_position": null,
            "order": null,
            "overflow": null,
            "overflow_x": null,
            "overflow_y": null,
            "padding": null,
            "right": null,
            "top": null,
            "visibility": null,
            "width": null
          }
        },
        "64d66d6c063444ebb577320d9257d87f": {
          "model_module": "@jupyter-widgets/controls",
          "model_name": "DescriptionStyleModel",
          "model_module_version": "1.5.0",
          "state": {
            "_model_module": "@jupyter-widgets/controls",
            "_model_module_version": "1.5.0",
            "_model_name": "DescriptionStyleModel",
            "_view_count": null,
            "_view_module": "@jupyter-widgets/base",
            "_view_module_version": "1.2.0",
            "_view_name": "StyleView",
            "description_width": ""
          }
        },
        "e7cba290d2ae4fc49e981390b9d54e91": {
          "model_module": "@jupyter-widgets/controls",
          "model_name": "HBoxModel",
          "model_module_version": "1.5.0",
          "state": {
            "_dom_classes": [],
            "_model_module": "@jupyter-widgets/controls",
            "_model_module_version": "1.5.0",
            "_model_name": "HBoxModel",
            "_view_count": null,
            "_view_module": "@jupyter-widgets/controls",
            "_view_module_version": "1.5.0",
            "_view_name": "HBoxView",
            "box_style": "",
            "children": [
              "IPY_MODEL_2956e5fb21714f7fb1e51f3e89be7aaa",
              "IPY_MODEL_7ae3a39e372448228e9e0bcf4ff70feb",
              "IPY_MODEL_de6015f75abe406680e8583f015a82d2"
            ],
            "layout": "IPY_MODEL_4c3f49152aa042848a5efc9767178c8f"
          }
        },
        "2956e5fb21714f7fb1e51f3e89be7aaa": {
          "model_module": "@jupyter-widgets/controls",
          "model_name": "HTMLModel",
          "model_module_version": "1.5.0",
          "state": {
            "_dom_classes": [],
            "_model_module": "@jupyter-widgets/controls",
            "_model_module_version": "1.5.0",
            "_model_name": "HTMLModel",
            "_view_count": null,
            "_view_module": "@jupyter-widgets/controls",
            "_view_module_version": "1.5.0",
            "_view_name": "HTMLView",
            "description": "",
            "description_tooltip": null,
            "layout": "IPY_MODEL_2c72832d51fa464c93e033a1d23baceb",
            "placeholder": "​",
            "style": "IPY_MODEL_9abae3a72d194fc09de2ff78fc9c7404",
            "value": "1_Pooling/config.json: 100%"
          }
        },
        "7ae3a39e372448228e9e0bcf4ff70feb": {
          "model_module": "@jupyter-widgets/controls",
          "model_name": "FloatProgressModel",
          "model_module_version": "1.5.0",
          "state": {
            "_dom_classes": [],
            "_model_module": "@jupyter-widgets/controls",
            "_model_module_version": "1.5.0",
            "_model_name": "FloatProgressModel",
            "_view_count": null,
            "_view_module": "@jupyter-widgets/controls",
            "_view_module_version": "1.5.0",
            "_view_name": "ProgressView",
            "bar_style": "success",
            "description": "",
            "description_tooltip": null,
            "layout": "IPY_MODEL_35eed846d45b4035a7225cddf819b3f3",
            "max": 190,
            "min": 0,
            "orientation": "horizontal",
            "style": "IPY_MODEL_c842cc740c424db78b769a6fc5a0e829",
            "value": 190
          }
        },
        "de6015f75abe406680e8583f015a82d2": {
          "model_module": "@jupyter-widgets/controls",
          "model_name": "HTMLModel",
          "model_module_version": "1.5.0",
          "state": {
            "_dom_classes": [],
            "_model_module": "@jupyter-widgets/controls",
            "_model_module_version": "1.5.0",
            "_model_name": "HTMLModel",
            "_view_count": null,
            "_view_module": "@jupyter-widgets/controls",
            "_view_module_version": "1.5.0",
            "_view_name": "HTMLView",
            "description": "",
            "description_tooltip": null,
            "layout": "IPY_MODEL_f92ccf2cd9bb4e8a8aabf3ddc4d98788",
            "placeholder": "​",
            "style": "IPY_MODEL_fcebe127c33a4ad6aa30ca0c6831672b",
            "value": " 190/190 [00:00&lt;00:00, 11.0kB/s]"
          }
        },
        "4c3f49152aa042848a5efc9767178c8f": {
          "model_module": "@jupyter-widgets/base",
          "model_name": "LayoutModel",
          "model_module_version": "1.2.0",
          "state": {
            "_model_module": "@jupyter-widgets/base",
            "_model_module_version": "1.2.0",
            "_model_name": "LayoutModel",
            "_view_count": null,
            "_view_module": "@jupyter-widgets/base",
            "_view_module_version": "1.2.0",
            "_view_name": "LayoutView",
            "align_content": null,
            "align_items": null,
            "align_self": null,
            "border": null,
            "bottom": null,
            "display": null,
            "flex": null,
            "flex_flow": null,
            "grid_area": null,
            "grid_auto_columns": null,
            "grid_auto_flow": null,
            "grid_auto_rows": null,
            "grid_column": null,
            "grid_gap": null,
            "grid_row": null,
            "grid_template_areas": null,
            "grid_template_columns": null,
            "grid_template_rows": null,
            "height": null,
            "justify_content": null,
            "justify_items": null,
            "left": null,
            "margin": null,
            "max_height": null,
            "max_width": null,
            "min_height": null,
            "min_width": null,
            "object_fit": null,
            "object_position": null,
            "order": null,
            "overflow": null,
            "overflow_x": null,
            "overflow_y": null,
            "padding": null,
            "right": null,
            "top": null,
            "visibility": null,
            "width": null
          }
        },
        "2c72832d51fa464c93e033a1d23baceb": {
          "model_module": "@jupyter-widgets/base",
          "model_name": "LayoutModel",
          "model_module_version": "1.2.0",
          "state": {
            "_model_module": "@jupyter-widgets/base",
            "_model_module_version": "1.2.0",
            "_model_name": "LayoutModel",
            "_view_count": null,
            "_view_module": "@jupyter-widgets/base",
            "_view_module_version": "1.2.0",
            "_view_name": "LayoutView",
            "align_content": null,
            "align_items": null,
            "align_self": null,
            "border": null,
            "bottom": null,
            "display": null,
            "flex": null,
            "flex_flow": null,
            "grid_area": null,
            "grid_auto_columns": null,
            "grid_auto_flow": null,
            "grid_auto_rows": null,
            "grid_column": null,
            "grid_gap": null,
            "grid_row": null,
            "grid_template_areas": null,
            "grid_template_columns": null,
            "grid_template_rows": null,
            "height": null,
            "justify_content": null,
            "justify_items": null,
            "left": null,
            "margin": null,
            "max_height": null,
            "max_width": null,
            "min_height": null,
            "min_width": null,
            "object_fit": null,
            "object_position": null,
            "order": null,
            "overflow": null,
            "overflow_x": null,
            "overflow_y": null,
            "padding": null,
            "right": null,
            "top": null,
            "visibility": null,
            "width": null
          }
        },
        "9abae3a72d194fc09de2ff78fc9c7404": {
          "model_module": "@jupyter-widgets/controls",
          "model_name": "DescriptionStyleModel",
          "model_module_version": "1.5.0",
          "state": {
            "_model_module": "@jupyter-widgets/controls",
            "_model_module_version": "1.5.0",
            "_model_name": "DescriptionStyleModel",
            "_view_count": null,
            "_view_module": "@jupyter-widgets/base",
            "_view_module_version": "1.2.0",
            "_view_name": "StyleView",
            "description_width": ""
          }
        },
        "35eed846d45b4035a7225cddf819b3f3": {
          "model_module": "@jupyter-widgets/base",
          "model_name": "LayoutModel",
          "model_module_version": "1.2.0",
          "state": {
            "_model_module": "@jupyter-widgets/base",
            "_model_module_version": "1.2.0",
            "_model_name": "LayoutModel",
            "_view_count": null,
            "_view_module": "@jupyter-widgets/base",
            "_view_module_version": "1.2.0",
            "_view_name": "LayoutView",
            "align_content": null,
            "align_items": null,
            "align_self": null,
            "border": null,
            "bottom": null,
            "display": null,
            "flex": null,
            "flex_flow": null,
            "grid_area": null,
            "grid_auto_columns": null,
            "grid_auto_flow": null,
            "grid_auto_rows": null,
            "grid_column": null,
            "grid_gap": null,
            "grid_row": null,
            "grid_template_areas": null,
            "grid_template_columns": null,
            "grid_template_rows": null,
            "height": null,
            "justify_content": null,
            "justify_items": null,
            "left": null,
            "margin": null,
            "max_height": null,
            "max_width": null,
            "min_height": null,
            "min_width": null,
            "object_fit": null,
            "object_position": null,
            "order": null,
            "overflow": null,
            "overflow_x": null,
            "overflow_y": null,
            "padding": null,
            "right": null,
            "top": null,
            "visibility": null,
            "width": null
          }
        },
        "c842cc740c424db78b769a6fc5a0e829": {
          "model_module": "@jupyter-widgets/controls",
          "model_name": "ProgressStyleModel",
          "model_module_version": "1.5.0",
          "state": {
            "_model_module": "@jupyter-widgets/controls",
            "_model_module_version": "1.5.0",
            "_model_name": "ProgressStyleModel",
            "_view_count": null,
            "_view_module": "@jupyter-widgets/base",
            "_view_module_version": "1.2.0",
            "_view_name": "StyleView",
            "bar_color": null,
            "description_width": ""
          }
        },
        "f92ccf2cd9bb4e8a8aabf3ddc4d98788": {
          "model_module": "@jupyter-widgets/base",
          "model_name": "LayoutModel",
          "model_module_version": "1.2.0",
          "state": {
            "_model_module": "@jupyter-widgets/base",
            "_model_module_version": "1.2.0",
            "_model_name": "LayoutModel",
            "_view_count": null,
            "_view_module": "@jupyter-widgets/base",
            "_view_module_version": "1.2.0",
            "_view_name": "LayoutView",
            "align_content": null,
            "align_items": null,
            "align_self": null,
            "border": null,
            "bottom": null,
            "display": null,
            "flex": null,
            "flex_flow": null,
            "grid_area": null,
            "grid_auto_columns": null,
            "grid_auto_flow": null,
            "grid_auto_rows": null,
            "grid_column": null,
            "grid_gap": null,
            "grid_row": null,
            "grid_template_areas": null,
            "grid_template_columns": null,
            "grid_template_rows": null,
            "height": null,
            "justify_content": null,
            "justify_items": null,
            "left": null,
            "margin": null,
            "max_height": null,
            "max_width": null,
            "min_height": null,
            "min_width": null,
            "object_fit": null,
            "object_position": null,
            "order": null,
            "overflow": null,
            "overflow_x": null,
            "overflow_y": null,
            "padding": null,
            "right": null,
            "top": null,
            "visibility": null,
            "width": null
          }
        },
        "fcebe127c33a4ad6aa30ca0c6831672b": {
          "model_module": "@jupyter-widgets/controls",
          "model_name": "DescriptionStyleModel",
          "model_module_version": "1.5.0",
          "state": {
            "_model_module": "@jupyter-widgets/controls",
            "_model_module_version": "1.5.0",
            "_model_name": "DescriptionStyleModel",
            "_view_count": null,
            "_view_module": "@jupyter-widgets/base",
            "_view_module_version": "1.2.0",
            "_view_name": "StyleView",
            "description_width": ""
          }
        }
      }
    }
  },
  "nbformat": 4,
  "nbformat_minor": 0
}