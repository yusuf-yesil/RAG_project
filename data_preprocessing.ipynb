{
 "cells": [
  {
   "cell_type": "code",
   "execution_count": 37,
   "id": "73242e6c-d40f-435f-8d80-30b7e58d389d",
   "metadata": {},
   "outputs": [
    {
     "name": "stdout",
     "output_type": "stream",
     "text": [
      "Desene uymayan satır: 199.58.86.206 - - [12/May/2022:01:29:16 +0000] \"GET /robots.txt HTTP/1.0\" 200 - \"-\" \"Mozilla/5.0 (compatible; MJ12bot/v1.4.4; http://www.majestic12.co.uk/bot.php?+)\"\n",
      "Desene uymayan satır: 195.248.32.227 - - [12/May/2022:01:29:23 +0000] \"GET /favicon.ico HTTP/1.1\" 304 - \"-\" \"Mozilla/4.0 (compatible;)\"\n",
      "Desene uymayan satır: 180.76.5.176 - - [12/May/2022:01:29:56 +0000] \"GET /robots.txt HTTP/1.1\" 200 - \"-\" \"Mozilla/5.0 (Windows NT 5.1; rv:6.0.2) Gecko/20100101 Firefox/6.0.2\"\n",
      "Desene uymayan satır: 79.161.22.161 - - [12/May/2022:01:39:20 +0000] \"GET /reset.css HTTP/1.1\" 304 - \"http://www.semicomplete.com/articles/dynamic-dns-with-dhcp/\" \"Mozilla/5.0 (Macintosh; Intel Mac OS X 10_9_1) AppleWebKit/537.73.11 (KHTML, like Gecko) Version/7.0.1 Safari/537.73.11\"\n",
      "Desene uymayan satır: 79.161.22.161 - - [12/May/2022:01:39:20 +0000] \"GET /style2.css HTTP/1.1\" 304 - \"http://www.semicomplete.com/articles/dynamic-dns-with-dhcp/\" \"Mozilla/5.0 (Macintosh; Intel Mac OS X 10_9_1) AppleWebKit/537.73.11 (KHTML, like Gecko) Version/7.0.1 Safari/537.73.11\"\n",
      "Desene uymayan satır: 79.161.22.161 - - [12/May/2022:01:39:20 +0000] \"GET /images/jordan-80.png HTTP/1.1\" 304 - \"http://www.semicomplete.com/articles/dynamic-dns-with-dhcp/\" \"Mozilla/5.0 (Macintosh; Intel Mac OS X 10_9_1) AppleWebKit/537.73.11 (KHTML, like Gecko) Version/7.0.1 Safari/537.73.11\"\n",
      "Desene uymayan satır: 170.148.69.141 - - [11/May/2022:22:13:56 +0000] \"GET /images/jordan-80.png HTTP/1.1\" 304 - \"http://www.semicomplete.com/blog/geekery/ssl-latency.html\" \"Mozilla/4.0 (compatible; MSIE 8.0; Windows NT 6.1; WOW64; Trident/4.0; chromeframe/32.0.1700.107; SLCC2; .NET CLR 2.0.50727; .NET CLR 3.5.30729; .NET CLR 3.0.30729; .NET4.0C; .NET4.0E; MS-RTC LM 8; InfoPath.2; MS-RTC EA 2)\"\n",
      "Desene uymayan satır: 170.148.69.141 - - [11/May/2022:22:13:56 +0000] \"GET /images/web/2009/banner.png HTTP/1.1\" 304 - \"http://www.semicomplete.com/blog/geekery/ssl-latency.html\" \"Mozilla/4.0 (compatible; MSIE 8.0; Windows NT 6.1; WOW64; Trident/4.0; chromeframe/32.0.1700.107; SLCC2; .NET CLR 2.0.50727; .NET CLR 3.5.30729; .NET CLR 3.0.30729; .NET4.0C; .NET4.0E; MS-RTC LM 8; InfoPath.2; MS-RTC EA 2)\"\n",
      "Desene uymayan satır: 218.30.103.62 - - [11/May/2022:22:16:35 +0000] \"GET /projects/keynav/keynav.html HTTP/1.1\" 304 - \"-\" \"Sogou web spider/4.0(+http://www.sogou.com/docs/help/webmasters.htm#07)\"\n",
      "Desene uymayan satır: 82.194.101.119 - - [11/May/2022:22:17:19 +0000] \"GET /reset.css HTTP/1.1\" 304 - \"http://www.semicomplete.com/projects/xdotool/\" \"Mozilla/5.0 (X11; Ubuntu; Linux x86_64; rv:26.0) Gecko/20100101 Firefox/26.0\"\n",
      "Desene uymayan satır: 82.194.101.119 - - [11/May/2022:22:17:19 +0000] \"GET /style2.css HTTP/1.1\" 304 - \"http://www.semicomplete.com/projects/xdotool/\" \"Mozilla/5.0 (X11; Ubuntu; Linux x86_64; rv:26.0) Gecko/20100101 Firefox/26.0\"\n",
      "Desene uymayan satır: 82.194.101.119 - - [11/May/2022:22:17:19 +0000] \"GET /images/jordan-80.png HTTP/1.1\" 304 - \"http://www.semicomplete.com/projects/xdotool/\" \"Mozilla/5.0 (X11; Ubuntu; Linux x86_64; rv:26.0) Gecko/20100101 Firefox/26.0\"\n",
      "Desene uymayan satır: 82.194.101.119 - - [11/May/2022:22:17:20 +0000] \"GET /images/web/2009/banner.png HTTP/1.1\" 304 - \"http://www.semicomplete.com/style2.css\" \"Mozilla/5.0 (X11; Ubuntu; Linux x86_64; rv:26.0) Gecko/20100101 Firefox/26.0\"\n",
      "Desene uymayan satır: 180.76.6.156 - - [11/May/2022:22:21:38 +0000] \"GET /robots.txt HTTP/1.1\" 200 - \"-\" \"Mozilla/5.0 (Windows NT 5.1; rv:6.0.2) Gecko/20100101 Firefox/6.0.2\"\n",
      "Desene uymayan satır: 70.194.143.83 - - [11/May/2022:22:21:49 +0000] \"HEAD /favicon.ico HTTP/1.1\" 200 - \"-\" \"Reeder/2.1.1 CFNetwork/672.0.8 Darwin/14.0.0\"\n",
      "Desene uymayan satır: 66.249.73.135 - - [11/May/2022:22:22:25 +0000] \"GET /presentations/logstash-hmmm/ HTTP/1.1\" 304 - \"-\" \"Mozilla/5.0 (compatible; Googlebot/2.1; +http://www.google.com/bot.html)\"\n",
      "Desene uymayan satır: 216.14.102.16 - - [11/May/2022:21:43:09 +0000] \"HEAD /projects/xboxproxy HTTP/1.1\" 301 - \"-\" \"distilator/0.1 (http://people.freebsd.org/~ehaupt/distilator/)\"\n",
      "Desene uymayan satır: 216.14.102.16 - - [11/May/2022:21:43:09 +0000] \"HEAD /projects/xboxproxy/ HTTP/1.1\" 200 - \"-\" \"distilator/0.1 (http://people.freebsd.org/~ehaupt/distilator/)\"\n",
      "Desene uymayan satır: 141.89.225.130 - - [11/May/2022:21:52:40 +0000] \"GET /robots.txt HTTP/1.0\" 200 - \"-\" \"HPI-BI-Crawler/0.1(+http://www.hpi.uni-potsdam.de/meinel/forschung/web_30/blog_intelligence.html)/Nutch-2.0-dev\"\n",
      "Desene uymayan satır: 180.76.6.213 - - [11/May/2022:21:58:04 +0000] \"GET /robots.txt HTTP/1.1\" 200 - \"-\" \"Mozilla/5.0 (Windows NT 5.1; rv:6.0.2) Gecko/20100101 Firefox/6.0.2\"\n"
     ]
    }
   ],
   "source": [
    "import re\n",
    "import pandas as pd\n",
    "\n",
    "input_file = 'PYTHON/weblog-sample.log'\n",
    "output_file = 'duzenli_log_dosyasi_400.csv'\n",
    "num_lines = 400\n",
    "\n",
    "# Log satırını parçalama için regex deseni\n",
    "pattern = re.compile(r'(\\S+) \\S+ \\S+ \\[(.*?)\\] \"(.*?)\" (\\d{3}) (\\d+) \"(.*?)\" \"(.*?)\"')\n",
    "\n",
    "# Veriyi işlemek için liste\n",
    "data = []\n",
    "\n",
    "try:\n",
    "    with open(input_file, 'r') as file:\n",
    "        for i, line in enumerate(file):\n",
    "            if i >= num_lines:\n",
    "                break\n",
    "            \n",
    "            # Satırı desene göre parçalama\n",
    "            match = pattern.match(line)\n",
    "            if match:\n",
    "                data.append(match.groups())\n",
    "            else:\n",
    "                # Desene uymayan satırlar için hata ayıklama\n",
    "                print(f\"Desene uymayan satır: {line.strip()}\")\n",
    "\n",
    "except FileNotFoundError:\n",
    "    print(f\"Dosya {input_file} bulunamadı.\")\n",
    "except Exception as e:\n",
    "    print(f\"Bir hata oluştu: {e}\")\n",
    "\n",
    "# DataFrame oluşturma ve CSV'ye yazma\n",
    "df = pd.DataFrame(data, columns=['IP Address', 'Timestamp', 'Request', 'Status Code', 'Response Size', 'Referer', 'User Agent'])\n",
    "df.to_csv(output_file, index=False, header=True)\n"
   ]
  },
  {
   "cell_type": "code",
   "execution_count": 38,
   "id": "4ded1256-4cca-40ff-a419-169cba10aa95",
   "metadata": {},
   "outputs": [],
   "source": [
    "data = pd.read_csv('duzenli_log_dosyasi_400.csv')"
   ]
  },
  {
   "cell_type": "code",
   "execution_count": 39,
   "id": "d8329fad-f35f-4f6b-b9a3-42104f7ccff6",
   "metadata": {},
   "outputs": [
    {
     "data": {
      "text/html": [
       "<div>\n",
       "<style scoped>\n",
       "    .dataframe tbody tr th:only-of-type {\n",
       "        vertical-align: middle;\n",
       "    }\n",
       "\n",
       "    .dataframe tbody tr th {\n",
       "        vertical-align: top;\n",
       "    }\n",
       "\n",
       "    .dataframe thead th {\n",
       "        text-align: right;\n",
       "    }\n",
       "</style>\n",
       "<table border=\"1\" class=\"dataframe\">\n",
       "  <thead>\n",
       "    <tr style=\"text-align: right;\">\n",
       "      <th></th>\n",
       "      <th>IP Address</th>\n",
       "      <th>Timestamp</th>\n",
       "      <th>Request</th>\n",
       "      <th>Status Code</th>\n",
       "      <th>Response Size</th>\n",
       "      <th>Referer</th>\n",
       "      <th>User Agent</th>\n",
       "    </tr>\n",
       "  </thead>\n",
       "  <tbody>\n",
       "    <tr>\n",
       "      <th>0</th>\n",
       "      <td>14.49.42.25</td>\n",
       "      <td>12/May/2022:01:24:44 +0000</td>\n",
       "      <td>GET /articles/ppp-over-ssh/ HTTP/1.1</td>\n",
       "      <td>200</td>\n",
       "      <td>18586</td>\n",
       "      <td>-</td>\n",
       "      <td>Mozilla/5.0 (Windows; U; Windows NT 6.1; en-US...</td>\n",
       "    </tr>\n",
       "    <tr>\n",
       "      <th>1</th>\n",
       "      <td>14.49.42.25</td>\n",
       "      <td>12/May/2022:01:24:15 +0000</td>\n",
       "      <td>GET /articles/openldap-with-saslauthd/ HTTP/1.1</td>\n",
       "      <td>200</td>\n",
       "      <td>12700</td>\n",
       "      <td>-</td>\n",
       "      <td>Mozilla/5.0 (Windows; U; Windows NT 6.1; en-US...</td>\n",
       "    </tr>\n",
       "    <tr>\n",
       "      <th>2</th>\n",
       "      <td>14.49.42.25</td>\n",
       "      <td>12/May/2022:01:24:06 +0000</td>\n",
       "      <td>GET /articles/dynamic-dns-with-dhcp/ HTTP/1.1</td>\n",
       "      <td>200</td>\n",
       "      <td>18848</td>\n",
       "      <td>-</td>\n",
       "      <td>Mozilla/5.0 (Windows; U; Windows NT 6.1; en-US...</td>\n",
       "    </tr>\n",
       "    <tr>\n",
       "      <th>3</th>\n",
       "      <td>14.49.42.25</td>\n",
       "      <td>12/May/2022:01:24:54 +0000</td>\n",
       "      <td>GET /articles/ssh-security/ HTTP/1.1</td>\n",
       "      <td>200</td>\n",
       "      <td>16543</td>\n",
       "      <td>-</td>\n",
       "      <td>Mozilla/5.0 (Windows; U; Windows NT 6.1; en-US...</td>\n",
       "    </tr>\n",
       "    <tr>\n",
       "      <th>4</th>\n",
       "      <td>14.49.42.25</td>\n",
       "      <td>12/May/2022:01:25:25 +0000</td>\n",
       "      <td>GET /articles/week-of-unix-tools/ HTTP/1.1</td>\n",
       "      <td>200</td>\n",
       "      <td>9313</td>\n",
       "      <td>-</td>\n",
       "      <td>Mozilla/5.0 (Windows; U; Windows NT 6.1; en-US...</td>\n",
       "    </tr>\n",
       "  </tbody>\n",
       "</table>\n",
       "</div>"
      ],
      "text/plain": [
       "    IP Address                   Timestamp  \\\n",
       "0  14.49.42.25  12/May/2022:01:24:44 +0000   \n",
       "1  14.49.42.25  12/May/2022:01:24:15 +0000   \n",
       "2  14.49.42.25  12/May/2022:01:24:06 +0000   \n",
       "3  14.49.42.25  12/May/2022:01:24:54 +0000   \n",
       "4  14.49.42.25  12/May/2022:01:25:25 +0000   \n",
       "\n",
       "                                           Request  Status Code  \\\n",
       "0             GET /articles/ppp-over-ssh/ HTTP/1.1          200   \n",
       "1  GET /articles/openldap-with-saslauthd/ HTTP/1.1          200   \n",
       "2    GET /articles/dynamic-dns-with-dhcp/ HTTP/1.1          200   \n",
       "3             GET /articles/ssh-security/ HTTP/1.1          200   \n",
       "4       GET /articles/week-of-unix-tools/ HTTP/1.1          200   \n",
       "\n",
       "   Response Size Referer                                         User Agent  \n",
       "0          18586       -  Mozilla/5.0 (Windows; U; Windows NT 6.1; en-US...  \n",
       "1          12700       -  Mozilla/5.0 (Windows; U; Windows NT 6.1; en-US...  \n",
       "2          18848       -  Mozilla/5.0 (Windows; U; Windows NT 6.1; en-US...  \n",
       "3          16543       -  Mozilla/5.0 (Windows; U; Windows NT 6.1; en-US...  \n",
       "4           9313       -  Mozilla/5.0 (Windows; U; Windows NT 6.1; en-US...  "
      ]
     },
     "execution_count": 39,
     "metadata": {},
     "output_type": "execute_result"
    }
   ],
   "source": [
    "data.head()"
   ]
  },
  {
   "cell_type": "code",
   "execution_count": 40,
   "id": "38951839-9dac-414e-b3a3-ce81ccafa34d",
   "metadata": {},
   "outputs": [
    {
     "data": {
      "text/plain": [
       "<bound method NDFrame.describe of           IP Address                   Timestamp  \\\n",
       "0        14.49.42.25  12/May/2022:01:24:44 +0000   \n",
       "1        14.49.42.25  12/May/2022:01:24:15 +0000   \n",
       "2        14.49.42.25  12/May/2022:01:24:06 +0000   \n",
       "3        14.49.42.25  12/May/2022:01:24:54 +0000   \n",
       "4        14.49.42.25  12/May/2022:01:25:25 +0000   \n",
       "..               ...                         ...   \n",
       "375  186.231.123.210  11/May/2022:21:24:22 +0000   \n",
       "376  186.231.123.210  11/May/2022:21:24:23 +0000   \n",
       "377    66.249.73.135  11/May/2022:21:24:24 +0000   \n",
       "378  186.231.123.210  11/May/2022:21:24:22 +0000   \n",
       "379  186.231.123.210  11/May/2022:21:24:25 +0000   \n",
       "\n",
       "                                               Request  Status Code  \\\n",
       "0                 GET /articles/ppp-over-ssh/ HTTP/1.1          200   \n",
       "1      GET /articles/openldap-with-saslauthd/ HTTP/1.1          200   \n",
       "2        GET /articles/dynamic-dns-with-dhcp/ HTTP/1.1          200   \n",
       "3                 GET /articles/ssh-security/ HTTP/1.1          200   \n",
       "4           GET /articles/week-of-unix-tools/ HTTP/1.1          200   \n",
       "..                                                 ...          ...   \n",
       "375  GET /presentations/logstash-scale11x/images/ah...          200   \n",
       "376  GET /presentations/logstash-scale11x/images/fr...          200   \n",
       "377                        GET /blog/tags/deb HTTP/1.1          200   \n",
       "378  GET /presentations/logstash-scale11x/images/xk...          200   \n",
       "379  GET /presentations/logstash-scale11x/images/Dr...          200   \n",
       "\n",
       "     Response Size                                            Referer  \\\n",
       "0            18586                                                  -   \n",
       "1            12700                                                  -   \n",
       "2            18848                                                  -   \n",
       "3            16543                                                  -   \n",
       "4             9313                                                  -   \n",
       "..             ...                                                ...   \n",
       "375         175208  http://semicomplete.com/presentations/logstash...   \n",
       "376          52878  http://semicomplete.com/presentations/logstash...   \n",
       "377          11275                                                  -   \n",
       "378          80663  http://semicomplete.com/presentations/logstash...   \n",
       "379           2126  http://semicomplete.com/presentations/logstash...   \n",
       "\n",
       "                                            User Agent  \n",
       "0    Mozilla/5.0 (Windows; U; Windows NT 6.1; en-US...  \n",
       "1    Mozilla/5.0 (Windows; U; Windows NT 6.1; en-US...  \n",
       "2    Mozilla/5.0 (Windows; U; Windows NT 6.1; en-US...  \n",
       "3    Mozilla/5.0 (Windows; U; Windows NT 6.1; en-US...  \n",
       "4    Mozilla/5.0 (Windows; U; Windows NT 6.1; en-US...  \n",
       "..                                                 ...  \n",
       "375  Mozilla/5.0 (Macintosh; Intel Mac OS X 10_9_0)...  \n",
       "376  Mozilla/5.0 (Macintosh; Intel Mac OS X 10_9_0)...  \n",
       "377  Mozilla/5.0 (iPhone; CPU iPhone OS 6_0 like Ma...  \n",
       "378  Mozilla/5.0 (Macintosh; Intel Mac OS X 10_9_0)...  \n",
       "379  Mozilla/5.0 (Macintosh; Intel Mac OS X 10_9_0)...  \n",
       "\n",
       "[380 rows x 7 columns]>"
      ]
     },
     "execution_count": 40,
     "metadata": {},
     "output_type": "execute_result"
    }
   ],
   "source": [
    "data.describe"
   ]
  },
  {
   "cell_type": "code",
   "execution_count": 41,
   "id": "c8d79265-78ec-4e8f-913a-9c75f9c75904",
   "metadata": {},
   "outputs": [
    {
     "data": {
      "text/plain": [
       "'Mozilla/5.0 (Windows; U; Windows NT 6.1; en-US; rv:1.9.2b1) Gecko/20091014 Firefox/3.6b1 GTB5'"
      ]
     },
     "execution_count": 41,
     "metadata": {},
     "output_type": "execute_result"
    }
   ],
   "source": [
    "data[\"User Agent\"][1]"
   ]
  },
  {
   "cell_type": "code",
   "execution_count": 42,
   "id": "a4fbb6eb-d13f-48a0-992d-452f7691544b",
   "metadata": {},
   "outputs": [
    {
     "data": {
      "text/plain": [
       "Index(['IP Address', 'Timestamp', 'Request', 'Status Code', 'Response Size',\n",
       "       'Referer', 'User Agent'],\n",
       "      dtype='object')"
      ]
     },
     "execution_count": 42,
     "metadata": {},
     "output_type": "execute_result"
    }
   ],
   "source": [
    "data.columns"
   ]
  },
  {
   "cell_type": "code",
   "execution_count": 43,
   "id": "ea194c2d-12c2-4b75-ba4e-513fcaec1c2c",
   "metadata": {},
   "outputs": [
    {
     "data": {
      "text/plain": [
       "IP Address                                          83.139.110.254\n",
       "Timestamp                               11/May/2022:22:10:21 +0000\n",
       "Request          GET /presentations/logstash-scale11x/images/si...\n",
       "Status Code                                                    200\n",
       "Response Size                                              1045663\n",
       "Referer          http://semicomplete.com/presentations/logstash...\n",
       "User Agent       Mozilla/5.0 (Macintosh; Intel Mac OS X 10.8; r...\n",
       "Name: 120, dtype: object"
      ]
     },
     "execution_count": 43,
     "metadata": {},
     "output_type": "execute_result"
    }
   ],
   "source": [
    "data.loc[120]"
   ]
  },
  {
   "cell_type": "code",
   "execution_count": null,
   "id": "7c0aee8b-577c-40f3-9522-ae6703c90fe6",
   "metadata": {},
   "outputs": [],
   "source": []
  }
 ],
 "metadata": {
  "kernelspec": {
   "display_name": "Python 3 (ipykernel)",
   "language": "python",
   "name": "python3"
  },
  "language_info": {
   "codemirror_mode": {
    "name": "ipython",
    "version": 3
   },
   "file_extension": ".py",
   "mimetype": "text/x-python",
   "name": "python",
   "nbconvert_exporter": "python",
   "pygments_lexer": "ipython3",
   "version": "3.8.0"
  }
 },
 "nbformat": 4,
 "nbformat_minor": 5
}
